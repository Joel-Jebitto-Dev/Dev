{
 "cells": [
  {
   "cell_type": "markdown",
   "metadata": {},
   "source": [
    "# 5天学ROS"
   ]
  },
  {
   "cell_type": "markdown",
   "metadata": {},
   "source": [
    "# 课程项目"
   ]
  },
  {
   "cell_type": "markdown",
   "metadata": {
    "caption": "Sphero Robot",
    "image": true,
    "name": "sphero_real_sim",
    "width": "12cm"
   },
   "source": [
    "<img src=\"img/sphero_real_sim.jpg\" width=\"600\" />"
   ]
  },
  {
   "cell_type": "markdown",
   "metadata": {},
   "source": [
    "<b>预计完成时间:</b> 10小时\n",
    "<br><br>\n",
    "<b>从本单元你将学到：</b>\n",
    "\n",
    "* 练习从本课程中学到的所有内容\n",
    "* 把所学内容整合到一个大的项目中\n",
    "* 创建一个主程序"
   ]
  },
  {
   "cell_type": "markdown",
   "metadata": {},
   "source": [
    "## 赢得 Sphero 机器人比赛!"
   ]
  },
  {
   "cell_type": "markdown",
   "metadata": {},
   "source": [
    "在这个项目中，你要让你的 <a href=\"http://www.sphero.com/sphero\">Sphero机器人</a> 比其他学生的更快通过迷宫。 最快者会获得奖励。<br>\n",
    "\n",
    "要达到这个目标，你必须应用在整个课程中学到的所有东西。 你为该项目创建的所有结构都会在我们的 <span class=\"ign_red\"> <b>官方考试</b></span>中被考到，所以完成这场比赛非常重要。\n",
    "<br><br>\n",
    "<b>注意:我们的官方考试目前仅适用于现场和虚拟课程。</b>\n",
    "\n",
    "尽快让机器人走出迷宫，你将赢得奖励。理想的做法当然是让Sphero机器人干净利落地出来，但你的机器人可能会与迷宫发生碰撞。 你可以使用碰撞检测来获取数据进而对你的方案产生帮助。\n",
    "\n",
    "基本上来说，在本项目中你将需要:<br>\n",
    "\n",
    "1. 应用本课程给出的所有理论\n",
    "2. 为解决问题确定一个方案\n",
    "3. 在模拟环境中应用此方案\n",
    "4. 在仿真环境中进行尽可能多的测试，直到其工作为止\n"
   ]
  },
  {
   "cell_type": "markdown",
   "metadata": {},
   "source": [
    "要取得该项目的成功，请遵照下面5个步骤的详细说明和解决方法。"
   ]
  },
  {
   "cell_type": "markdown",
   "metadata": {},
   "source": [
    "同时还要记住：\n",
    "\n",
    "* 在仿真环境中创建你的功能包和代码，就像你在课程学习过程中做的那样。\n",
    "* 使用控制台收集有关模拟机器人状态的信息。\n",
    "* 使用IDE创建程序并通过控制台来执行它们，观察仿真屏幕上的结果。您可以使用其他控制台观察对主题、服务或行为服务器的调用。\n",
    "* 在本单元创建的所有内容都将自动保存在你的空间中。 你可以随时回到此单元，从上次离开处继续进行下去。\n",
    "* <span class=\"ign_green\">每次需要重置机器人位置时，只需按下仿真窗口中的重启按钮即可。</span>\n",
    "* 使用调试工具尝试找出不工作的部分及原因（例如，rviz工具对此十分有用）。\n"
   ]
  },
  {
   "cell_type": "markdown",
   "metadata": {},
   "source": [
    "<b>最后一项注意</b>: 因为你创建的程序要给真正的机器人使用，如果需要的话，你不能在闭环中移动Sphero机器人。 这是因为在实际情况中，电路可能会不同，机器人可能不会迅速响应，读数可能有误差，等等。 所以在此项目中，你需要创建一个能够应对所有这些不确定性的程序。"
   ]
  },
  {
   "cell_type": "markdown",
   "metadata": {},
   "source": [
    "## Sphero机器人提供什么来编程？"
   ]
  },
  {
   "cell_type": "markdown",
   "metadata": {},
   "source": [
    "所以主要问题是，从ROS编程的角度来看Sphero可以做什么？ Sphero提供哪些传感器和执行器可以让你做迷宫测试？\n",
    "<br>\n",
    "\n",
    "好问题！ Sphero机器人提供以下传感器和执行器："
   ]
  },
  {
   "cell_type": "markdown",
   "metadata": {},
   "source": [
    "#### 传感器"
   ]
  },
  {
   "cell_type": "markdown",
   "metadata": {},
   "source": [
    "\n",
    "* **IMU传感器**: Sphero机器人有一个 <a href=\"https://en.wikipedia.org/wiki/Inertial_measurement_unit\">惯性测量单元</a> (IMU), 它提供有关加速度和方向的信息。此传感器的值通过 <span class=\"ign_green\"><i>/sphero/imu/data</i></span> 主题提供.\n",
    "* **测距仪**: 机器人测距可以通过 <span class=\"ign_green\"><i>/odom</i></span>主题来进行."
   ]
  },
  {
   "cell_type": "markdown",
   "metadata": {},
   "source": [
    "#### 执行器"
   ]
  },
  {
   "cell_type": "markdown",
   "metadata": {},
   "source": [
    "\n",
    "* **速度**: 你可以通过 <span class=\"ign_green\"><i>/cmd_vel</i></span> 主题发送速度命令来移动机器人.\n"
   ]
  },
  {
   "cell_type": "markdown",
   "metadata": {},
   "source": [
    "现在你已经知道了该机器人的相关主题，你的工作就是要找出消息类型并知道如何使用它们来让机器人做你想让它做的事。"
   ]
  },
  {
   "cell_type": "markdown",
   "metadata": {},
   "source": [
    "## 开始工作的一些想法"
   ]
  },
  {
   "cell_type": "markdown",
   "metadata": {},
   "source": [
    "这里有一些你刚开始可以做的事情。你不一定非要照它们来做。在这里提供给你只是为了以防你不知道如何开始。"
   ]
  },
  {
   "cell_type": "markdown",
   "metadata": {},
   "source": [
    "\n",
    "1. 开始观看传感器主题发布的一些消息。 尝试了解他们提供的信息。 在仿真中移动机器人并查看这些消息如何更改它们的值。 了解机器人的改变如何产生主题的改变是非常重要的。 \n",
    "2. 尝试通过发送消息到 <i>/cmd_vel</i> (通过控制台或通过python程序)。\n",
    "3. 观察机器人碰到障碍物时主题消息的改变。\n",
    "4. 测距仪可信吗？ 即使与某物碰撞时，你是否可以将机器人移动精确的距离？"
   ]
  },
  {
   "cell_type": "markdown",
   "metadata": {},
   "source": [
    "## 需要完成的步骤"
   ]
  },
  {
   "cell_type": "markdown",
   "metadata": {},
   "source": [
    "这些是你在整个项目期间应遵循的步骤。 这些步骤将确保你已经练习并创建了本课程期末考试中将要提到的所有结构。 如果执行了这里提到的所有步骤，你将会发现自己可以完成考试了。<br>"
   ]
  },
  {
   "cell_type": "markdown",
   "metadata": {},
   "source": [
    "\n",
    "1. <a href=\"#step1\">步骤1: 读写主题 (需要 2 小时)</a>\n",
    "2. <a href=\"#step2\">步骤2: 通过服务使用主题 (需要 3 小时)</a>\n",
    "3. <a href=\"#step3\">步骤3: 通过行为使用主题 (需要 4 小时)</a>\n",
    "4. <a href=\"#step4\">步骤4: 创建一个主程序来管理所有东西 (需要 1 小时)</a>\n",
    "5. <a href=\"#stepExtra\">额外的步骤: 如何使用不同包中的python模块(不需要，仅供参考)</a>\n"
   ]
  },
  {
   "cell_type": "markdown",
   "metadata": {},
   "source": [
    "<b>注1</b>:我们为每一个步骤提供解决方案。 但除非你陷入困境，否则不要看。"
   ]
  },
  {
   "cell_type": "markdown",
   "metadata": {},
   "source": [
    "<b>注2</b>: 第五步不是必需的，但我们发现有学生以需要这一步的方式来组织代码。 我们在这里提供只是以防万一需要，但你并不是必须使用它。"
   ]
  },
  {
   "cell_type": "markdown",
   "metadata": {},
   "source": [
    "<div id=\"step1\"></div>"
   ]
  },
  {
   "cell_type": "markdown",
   "metadata": {},
   "source": [
    "### 步骤1: 读写主题"
   ]
  },
  {
   "cell_type": "markdown",
   "metadata": {},
   "source": [
    "该步骤需要3个行为：<br>\n",
    "\n",
    "1. 创建一个名为<span class=\"ign_green\"><i>my_sphero_topics</i></span>的软件包，要包含所有主题有关的所有程序。\n",
    "2. 创建一个 <span class=\"ign_green\">主题发布器</span>允许移动Sphero机器人。\n",
    "3. 创建 <span class=\"ign_green\">两个主题订阅器</span>来提取你需要的测距和IMU数据。\n",
    "\n",
    "\n"
   ]
  },
  {
   "cell_type": "markdown",
   "metadata": {},
   "source": [
    "好了，咱们开始吧！"
   ]
  },
  {
   "cell_type": "markdown",
   "metadata": {},
   "source": [
    "<table style=\"float:left;background: #407EAF\">\n",
    "<tr>\n",
    "<th>\n",
    "<p class=\"transparent\">1. 创建my_sphero_topics软件包, 将 <i>rospy</i>作为依赖项。</p>\n",
    "</th>\n",
    "</tr>\n",
    "</table>"
   ]
  },
  {
   "cell_type": "markdown",
   "metadata": {},
   "source": [
    "<table style=\"float:left;background: #407EAF\">\n",
    "<tr>\n",
    "<th>\n",
    "<p class=\"transparent\">2.创建主题发布器来移动Sphero机器人。</p>\n",
    "</th>\n",
    "</tr>\n",
    "</table>"
   ]
  },
  {
   "cell_type": "markdown",
   "metadata": {},
   "source": [
    "要移动Sphero, 你需要在 **<i>/cmd_vel</i>**主题中发布。\n",
    "<br><br>\n",
    "很重要的一点是：要将主题订阅器和发布器封装在类中。 这将会使你存储值并轻松管理发布回收。<br>\n",
    "\n",
    "首先，你要看一下是否有类似 <i>/cmd_vel</i> 的主题在运行。 \n",
    "<br><br>\n",
    "<b>注意</b>: 不会总是这么简单的。使用真正的机器人时, 你需要访问代码来查看移动机器人的主题名称，甚至要使用<i>rostopic info /name_of_topic</i>来确定到底是哪一个。\n",
    "\n",
    "\n",
    "<table style=\"float:left;background: #407EAF\">\n",
    "<tr>\n",
    "<th>\n",
    "<p class=\"transparent\">在WebShell #1中运行</p>\n",
    "</th>\n",
    "</tr>\n",
    "</table>"
   ]
  },
  {
   "cell_type": "code",
   "execution_count": null,
   "metadata": {
    "collapsed": true
   },
   "outputs": [],
   "source": [
    "rostopic 列表"
   ]
  },
  {
   "cell_type": "markdown",
   "metadata": {},
   "source": [
    "如你所见, 有一个 /cmd_vel 主题。<br>\n",
    "然后，你要提取出 /cmd_vel 使用的消息类型。<br>\n",
    "\n",
    "<table style=\"float:left;background: #407EAF\">\n",
    "<tr>\n",
    "<th>\n",
    "<p class=\"transparent\">在WebShell #1中运行</p>\n",
    "</th>\n",
    "</tr>\n",
    "</table>"
   ]
  },
  {
   "cell_type": "code",
   "execution_count": null,
   "metadata": {
    "collapsed": true
   },
   "outputs": [],
   "source": [
    "rostopic info /cmd_vel"
   ]
  },
  {
   "cell_type": "markdown",
   "metadata": {},
   "source": [
    "测试一下，看它能否正常工作，是否会发布不同的值:<br>\n",
    "<table style=\"float:left;background: #407EAF\">\n",
    "<tr>\n",
    "<th>\n",
    "<p class=\"transparent\">在WebShell #1中运行</p>\n",
    "</th>\n",
    "</tr>\n",
    "</table>"
   ]
  },
  {
   "cell_type": "code",
   "execution_count": null,
   "metadata": {
    "collapsed": true
   },
   "outputs": [],
   "source": [
    "rostopic pub /cmd_vel message_type_of_cmd_vel [TAB][TAB]"
   ]
  },
  {
   "cell_type": "markdown",
   "metadata": {},
   "source": [
    "一旦有了这些信息，你就可以创建python类了。<br>\n",
    "在刚创建的包的src文件夹中创建一个python文件， \"my_sphero_topics\"。<br>\n",
    "这个文件不仅要有类，还要有一个测试类的工作方式。\n",
    "\n",
    "这里有一个可行的例子 (<b>尽量不看，除非你陷入困境</b>):"
   ]
  },
  {
   "cell_type": "code",
   "execution_count": null,
   "metadata": {
    "collapsed": true
   },
   "outputs": [],
   "source": [
    "#! /usr/bin/env python\n",
    "\n",
    "import rospy\n",
    "from geometry_msgs.msg import Twist\n",
    "\n",
    "\n",
    "class CmdVelPub(object):\n",
    "    def __init__(self):\n",
    "        self._cmd_vel_pub = rospy.Publisher('/cmd_vel', Twist, queue_size=1)\n",
    "        self._twist_object = Twist()\n",
    "        self.linearspeed = 0.2\n",
    "        self.angularspeed = 0.5\n",
    "        \n",
    "    def move_robot(self, direction):\n",
    "        if direction == \"forwards\":\n",
    "            self._twist_object.linear.x = self.linearspeed\n",
    "            self._twist_object.angular.z = 0.0\n",
    "        elif direction == \"right\":\n",
    "            self._twist_object.linear.x = 0.0\n",
    "            self._twist_object.angular.z = self.angularspeed\n",
    "        elif direction == \"left\":\n",
    "            self._twist_object.linear.x = 0.0\n",
    "            self._twist_object.angular.z = -self.angularspeed\n",
    "        elif direction == \"backwards\":\n",
    "            self._twist_object.linear.x = -self.linearspeed\n",
    "            self._twist_object.angular.z = 0.0\n",
    "        elif direction == \"stop\":\n",
    "            self._twist_object.linear.x = 0.0\n",
    "            self._twist_object.angular.z = 0.0\n",
    "        else:\n",
    "            pass\n",
    "        \n",
    "        self._cmd_vel_pub.publish(self._twist_object)\n",
    "\n",
    "\n",
    "if __name__ == \"__main__\":\n",
    "    rospy.init_node('cmd_vel__publisher_node')\n",
    "    cmd_publisher_object = CmdVelPub()\n",
    "    \n",
    "    rate = rospy.Rate(1)\n",
    "    \n",
    "    ctrl_c = False\n",
    "    def shutdownhook():\n",
    "        # 比rospy.is_shut_down()好\n",
    "        global ctrl_c\n",
    "        global twist_object\n",
    "        global pub\n",
    "        \n",
    "        rospy.loginfo(\"shutdown time!\")\n",
    "        \n",
    "        ctrl_c = True\n",
    "        cmd_publisher_object.move_robot(direction=\"stop\")\n",
    "    \n",
    "    rospy.on_shutdown(shutdownhook)\n",
    "    \n",
    "    while not ctrl_c:\n",
    "        cmd_publisher_object.move_robot(direction=\"forwards\")\n",
    "        rate.sleep()"
   ]
  },
  {
   "cell_type": "markdown",
   "metadata": {
    "collapsed": true
   },
   "source": [
    "<table style=\"float:left;background: #407EAF\">\n",
    "<tr>\n",
    "<th>\n",
    "<p class=\"transparent\">3. 创建两个主题订阅器从测距仪和IMU中提取你所需的数据。</p>\n",
    "</th>\n",
    "</tr>\n",
    "</table>"
   ]
  },
  {
   "cell_type": "markdown",
   "metadata": {},
   "source": [
    "要获取测距仪及IMU数据，你需要阅读相应主题。 尝试输入以下内容自行寻找:<br>\n",
    "\n",
    "<table style=\"float:left;background: #407EAF\">\n",
    "<tr>\n",
    "<th>\n",
    "<p class=\"transparent\">在WebShell #1中运行</p>\n",
    "</th>\n",
    "</tr>\n",
    "</table>"
   ]
  },
  {
   "cell_type": "code",
   "execution_count": null,
   "metadata": {
    "collapsed": true
   },
   "outputs": [],
   "source": [
    "rostopic 列表"
   ]
  },
  {
   "cell_type": "markdown",
   "metadata": {},
   "source": [
    "你找到了吗？ 它们使用什么类型的消息？ 它们和这里所列出的一样吗？<br>\n",
    "\n",
    "<span style=\"color:blue;\">/sphero/imu/data</span>, type = <span style=\"color:green;\">sensor_msgs/Imu</span><br>\n",
    "<span style=\"color:blue;\">/odom</span>, type = <span style=\"color:green;\">nav_msgs/Odometry</span><br>\n",
    "\n",
    "它们正在发布吗？ 数据是什么样的？<br>\n",
    "\n",
    "<table style=\"float:left;background: #407EAF\">\n",
    "<tr>\n",
    "<th>\n",
    "<p class=\"transparent\">在WebShell #1中运行</p>\n",
    "</th>\n",
    "</tr>\n",
    "</table>"
   ]
  },
  {
   "cell_type": "code",
   "execution_count": null,
   "metadata": {
    "collapsed": true
   },
   "outputs": [],
   "source": [
    "rostopic echo name_of_topic"
   ]
  },
  {
   "cell_type": "markdown",
   "metadata": {},
   "source": [
    "一旦有了这些信息，你就可以为每一个创建python类了。\n",
    "<br><br>\n",
    "在刚创建的包的src文件夹中创建两个不同的python文件，<b>\"my_sphero_topics。\"</b><br>\n",
    "这个文件不仅要有类，还要有一个测试类的工作方式。\n",
    "\n",
    "<span class=\"ign_red\">记住你要移动Sphero来查看<b>/odom</b>和 <b>/sphero/imu/data</b>主题的变化。使用之前创建的程序来移动它。</span>\n",
    "\n",
    "这里有一个可行的例子 (<b>尽量不看，除非你陷入困境</b>):"
   ]
  },
  {
   "cell_type": "code",
   "execution_count": null,
   "metadata": {},
   "outputs": [],
   "source": [
    "#! /usr/bin/env python\n",
    "\n",
    "import rospy\n",
    "from nav_msgs.msg import Odometry\n",
    "\n",
    "class OdomTopicReader(object):\n",
    "    def __init__(self, topic_name = '/odom'):\n",
    "        self._topic_name = topic_name\n",
    "        self._sub = rospy.Subscriber(self._topic_name, Odometry, self.topic_callback)\n",
    "        self._odomdata = Odometry()\n",
    "    \n",
    "    def topic_callback(self, msg):\n",
    "        self._odomdata = msg\n",
    "        rospy.logdebug(self._odomdata)\n",
    "    \n",
    "    def get_odomdata(self):\n",
    "        \"\"\"\n",
    "        Returns the newest odom data\n",
    "\n",
    "        std_msgs/Header header                                                                                                                 \n",
    "          uint32 seq                                                                                                                           \n",
    "          time stamp                                                                                                                           \n",
    "          string frame_id                                                                                                                      \n",
    "        string child_frame_id                                                                                                                  \n",
    "        geometry_msgs/PoseWithCovariance pose                                                                                                  \n",
    "          geometry_msgs/Pose pose                                                                                                              \n",
    "            geometry_msgs/Point position                                                                                                       \n",
    "              float64 x                                                                                                                        \n",
    "              float64 y                                                                                                                        \n",
    "              float64 z                                                                                                                        \n",
    "            geometry_msgs/Quaternion orientation                                                                                               \n",
    "              float64 x                                                                                                                        \n",
    "              float64 y                                                                                                                        \n",
    "              float64 z                                                                                                                        \n",
    "              float64 w                                                                                                                        \n",
    "          float64[36] covariance                                                                                                               \n",
    "        geometry_msgs/TwistWithCovariance twist                                                                                                \n",
    "          geometry_msgs/Twist twist                                                                                                            \n",
    "            geometry_msgs/Vector3 linear                                                                                                       \n",
    "              float64 x                                                                                                                        \n",
    "              float64 y                                                                                                                        \n",
    "              float64 z                                                                                                                        \n",
    "            geometry_msgs/Vector3 angular                                                                                                      \n",
    "              float64 x                                                                                                                        \n",
    "              float64 y                                                                                                                        \n",
    "              float64 z                                                                                                                        \n",
    "          float64[36] covariance                                                                                                               \n",
    "        \n",
    "        \"\"\"\n",
    "        return self._odomdata\n",
    "    \n",
    "if __name__ == \"__main__\":\n",
    "    rospy.init_node('odom_topic_subscriber', log_level=rospy.INFO)\n",
    "    odom_reader_object = OdomTopicReader()\n",
    "    rospy.loginfo(odom_reader_object.get_odomdata())\n",
    "    rate = rospy.Rate(0.5)\n",
    "    \n",
    "    ctrl_c = False\n",
    "    def shutdownhook():\n",
    "        # 比rospy.is_shut_down()好\n",
    "        global ctrl_c\n",
    "        print \"shutdown time!\"\n",
    "        ctrl_c = True\n",
    "\n",
    "    rospy.on_shutdown(shutdownhook)\n",
    "    \n",
    "    while not ctrl_c:\n",
    "        data = odom_reader_object.get_odomdata()\n",
    "        rospy.loginfo(data)\n",
    "        rate.sleep()"
   ]
  },
  {
   "cell_type": "markdown",
   "metadata": {},
   "source": [
    " **<i>/sphero/imu/data</i>** 主题可以用完全相同的方法来完成。 所以自己试一下!"
   ]
  },
  {
   "cell_type": "markdown",
   "metadata": {},
   "source": [
    "<div id=\"step2\"></div>"
   ]
  },
  {
   "cell_type": "markdown",
   "metadata": {},
   "source": [
    "### 步骤 2: 通过服务使用主题"
   ]
  },
  {
   "cell_type": "markdown",
   "metadata": {},
   "source": [
    "现在你需要进行下一步了。 你不必拥有主题订阅器/发布器，而是需要创建一个可以读取主题的服务。\n",
    "<br>\n",
    "你要执行以下操作:\n",
    "<br><br>\n",
    "创建一个服务，当被调用时，可通过imu数据告诉你机器人是否已经发生碰撞。 它还必须返回一些其它的信息，例如现在已经发生碰撞，要向哪个方向移动。\n"
   ]
  },
  {
   "cell_type": "markdown",
   "metadata": {},
   "source": [
    "我们将它分为3个任务:\n",
    "\n",
    "1. 确定数据\n",
    "2. 修改订阅器\n",
    "3. 创建服务器和客户端\n"
   ]
  },
  {
   "cell_type": "markdown",
   "metadata": {},
   "source": [
    "<table style=\"float:left;background: #407EAF\">\n",
    "<tr>\n",
    "<th>\n",
    "<p class=\"transparent\">1.确定数据</p>\n",
    "</th>\n",
    "</tr>\n",
    "</table>"
   ]
  },
  {
   "cell_type": "markdown",
   "metadata": {},
   "source": [
    "\n",
    "1. 确定你需要输入的数据 ( <span class=\"ign_blue\"><b>请求</b></span> )\n",
    "2. 确定你想要服务返回的数据 ( <span class=\"ign_blue\"><b>响应</b></span> )\n",
    "\n",
    "\n",
    "然后，搜索系统已完成的服务消息。你会在 <span class=\"ign_blue\">std_srvs</span> 或者 <span class=\"ign_blue\">rospy_tutorials</span>包中找到它们。 你还会找到非标准包创建的其它服务消息。 请记住，此时不推荐使用可能未安装在ROS系统或第三方软件包中的软件包。 在这种情况下，最好只生成自己的服务消息并使用 <i>std_msgs</i> 消息类型。<br>\n",
    "最好使用已完成的消息，因为速度更快且不必处理编译。"
   ]
  },
  {
   "cell_type": "markdown",
   "metadata": {},
   "source": [
    "在这种情况下，你需要一个具有以下结构的服务消息： (<b>除非陷入困境，否则请勿查看</b>):<br>"
   ]
  },
  {
   "cell_type": "code",
   "execution_count": null,
   "metadata": {
    "collapsed": true
   },
   "outputs": [],
   "source": [
    "# request, Empty because no data is needed\n",
    "---\n",
    "#response\n",
    "bool movement_successfull\n",
    "string extra_data"
   ]
  },
  {
   "cell_type": "markdown",
   "metadata": {},
   "source": [
    "在这种情况下，你有一个具有此确切结构的服务消息。<br>\n",
    "它位于 <span class=\"ign_blue\"><b>std_srvs</b> 包</span>中，名为 <span class=\"ign_blue\">Trigger.srv</span>。这不是巧合。这种服务结构非常有用，因为通常你会要求服务提供数据，而不提供任何输入。"
   ]
  },
  {
   "cell_type": "markdown",
   "metadata": {},
   "source": [
    "所以你只需要创建一个使用此<b>Trigger.srv</b>的服务，它从imu主题读取并告诉你机器人是否发生碰撞。 它还会在imu碰撞数据的基础上告诉你，现在该向哪个方向移动。<br><br>\n"
   ]
  },
  {
   "cell_type": "markdown",
   "metadata": {},
   "source": [
    "<table style=\"float:left;background: #407EAF\">\n",
    "<tr>\n",
    "<th>\n",
    "<p class=\"transparent\">2. 修改 /sphero/imu/data 主题订阅器</p>\n",
    "</th>\n",
    "</tr>\n",
    "</table>"
   ]
  },
  {
   "cell_type": "markdown",
   "metadata": {},
   "source": [
    "现在你必须修改 <b>/sphero/imu/data</b> 主题订阅器让它能告诉你碰撞是从哪个方向发生的。 这里有一个可实现的例子(<b>除非陷入困境，否则请勿查看</b>):"
   ]
  },
  {
   "cell_type": "markdown",
   "metadata": {},
   "source": [
    "<table style=\"float:left\">\n",
    "<tr>\n",
    "<th>\n",
    "<p style=\"background: red; color: white\"> 当你需要使用另一个python文件中的对象时，它必须位于同一个包中。 使用其他软件包中的python模块并不像看起来那么容易。</p>\n",
    "</th>\n",
    "</tr>\n",
    "</table>"
   ]
  },
  {
   "cell_type": "code",
   "execution_count": null,
   "metadata": {
    "collapsed": true
   },
   "outputs": [],
   "source": [
    "#! /usr/bin/env python\n",
    "\n",
    "import rospy\n",
    "from sensor_msgs.msg import Imu\n",
    "\n",
    "\n",
    "class ImuTopicReader(object):\n",
    "    def __init__(self, topic_name = '/sphero/imu/data'):\n",
    "        self._topic_name = topic_name\n",
    "        self._sub = rospy.Subscriber(self._topic_name, Imu, self.topic_callback)\n",
    "        self._imudata = Imu()\n",
    "        self._threshhold = 7.00\n",
    "    def topic_callback(self, msg):\n",
    "        self._imudata = msg\n",
    "        rospy.logdebug(self._imudata)\n",
    "    \n",
    "    def get_imudata(self):\n",
    "        \"\"\"\n",
    "        Returns the newest imu data\n",
    "\n",
    "        std_msgs/Header header                                                                                                          \n",
    "          uint32 seq                                                                                                                    \n",
    "          time stamp                                                                                                                    \n",
    "          string frame_id                                                                                                               \n",
    "        geometry_msgs/Quaternion orientation                                                                                            \n",
    "          float64 x                                                                                                                     \n",
    "          float64 y                                                                                                                     \n",
    "          float64 z                                                                                                                     \n",
    "          float64 w                                                                                                                     \n",
    "        float64[9] orientation_covariance                                                                                               \n",
    "        geometry_msgs/Vector3 angular_velocity                                                                                          \n",
    "          float64 x                                                                                                                     \n",
    "          float64 y                                                                                                                     \n",
    "          float64 z                                                                                                                     \n",
    "        float64[9] angular_velocity_covariance                                                                                          \n",
    "        geometry_msgs/Vector3 linear_acceleration                                                                                       \n",
    "          float64 x                                                                                                                     \n",
    "          float64 y                                                                                                                     \n",
    "          float64 z                                                                                                                     \n",
    "        float64[9] linear_acceleration_covariance                                                                                                              \n",
    "        \n",
    "        \"\"\"\n",
    "        return self._imudata\n",
    "    \n",
    "    def four_sector_detection(self):\n",
    "        \"\"\"\n",
    "        Detects in which four directions there is an obstacle that made the robot crash\n",
    "        Based on the imu data\n",
    "        Axis:\n",
    "         ^y\n",
    "         |\n",
    "        zO-->x\n",
    "        \n",
    "        \"\"\"\n",
    "        x_accel = self._imudata.linear_acceleration.x\n",
    "        y_accel = self._imudata.linear_acceleration.y\n",
    "        z_accel = self._imudata.linear_acceleration.z\n",
    "        \n",
    "        \n",
    "        axis_list = [x_accel, y_accel, z_accel]\n",
    "        \n",
    "        max_axis_index = axis_list.index(max(axis_list))\n",
    "        positive = axis_list[max_axis_index] >= 0\n",
    "        significative_value = axis_list[max_axis_index] > self._threshhold\n",
    "        \n",
    "        \n",
    "        if significative_value:\n",
    "            if max_axis_index == 0:\n",
    "                # 优胜者在x轴，因此它是侧面碰撞左/右\n",
    "                rospy.logwarn(\"[X=\"+str(x_accel))\n",
    "                rospy.loginfo(\"Y=\"+str(y_accel)+\", Z=\"+str(z_accel)+\"]\")\n",
    "                if positive:\n",
    "                    message = \"right\"\n",
    "                else:\n",
    "                    message = \"left\"\n",
    "            \n",
    "            elif max_axis_index == 1:\n",
    "                # 优胜者在Y轴，因此它是前/后碰撞\n",
    "                rospy.logwarn(\"[Y=\"+str(y_accel))\n",
    "                rospy.loginfo(\"X=\"+str(x_accel)+\", Z=\"+str(z_accel)+\"]\")\n",
    "                if positive:\n",
    "                    message = \"front\"\n",
    "                else:\n",
    "                    message = \"back\"\n",
    "            elif max_axis_index == 2:\n",
    "                # 优胜者在Z轴，因此它是一个使之跳跃的碰撞\n",
    "                rospy.logwarn(\"[Z=\"+str(z_accel))\n",
    "                rospy.loginfo(\"X=\"+str(x_accel)+\", Y=\"+str(y_accel)+\"]\")\n",
    "                \n",
    "                if positive:\n",
    "                    message = \"up\"\n",
    "                else:\n",
    "                    message = \"down\"\n",
    "            else:\n",
    "                message = \"unknown_direction\"\n",
    "        else:\n",
    "            rospy.loginfo(\"X=\"+str(x_accel)+\"Y=\"+str(y_accel)+\", Z=\"+str(z_accel)+\"]\")\n",
    "            message = \"nothing\"\n",
    "        \n",
    "        return self.convert_to_dict(message)\n",
    "        \n",
    "    def convert_to_dict(self, message):\n",
    "        \"\"\"\n",
    "        Converts the fiven message to a dictionary telling in which direction there is a detection\n",
    "        \"\"\"\n",
    "        detect_dict = {}\n",
    "        # 我们认为，当有很大的Z轴分量时，就表示发生了非常大的正面碰撞\n",
    "        detection_dict = {\"front\":(message==\"front\" or message==\"up\" or message==\"down\"),\n",
    "                          \"left\":message==\"left\",\n",
    "                          \"right\":message==\"right\",\n",
    "                          \"back\":message==\"back\"}\n",
    "        return detection_dict\n",
    "        \n",
    "    \n",
    "if __name__ == \"__main__\":\n",
    "    rospy.init_node('imu_topic_subscriber', log_level=rospy.INFO)\n",
    "    imu_reader_object = ImuTopicReader()\n",
    "    rospy.loginfo(imu_reader_object.get_imudata())\n",
    "    rate = rospy.Rate(0.5)\n",
    "    \n",
    "    ctrl_c = False\n",
    "    def shutdownhook():\n",
    "        # 比rospy.is_shut_down()好\n",
    "        global ctrl_c\n",
    "        print \"shutdown time!\"\n",
    "        ctrl_c = True\n",
    "\n",
    "    rospy.on_shutdown(shutdownhook)\n",
    "    \n",
    "    while not ctrl_c:\n",
    "        data = imu_reader_object.get_imudata()\n",
    "        rospy.loginfo(data)\n",
    "        rate.sleep()"
   ]
  },
  {
   "cell_type": "markdown",
   "metadata": {},
   "source": [
    "评估碰撞有关的阈值或轴的放置方式是通过运行代码，然后使用以下代码控制Sphero机器人："
   ]
  },
  {
   "cell_type": "code",
   "execution_count": null,
   "metadata": {
    "collapsed": true
   },
   "outputs": [],
   "source": [
    "roslaunch sphero_gazebo keyboard_teleop.launch"
   ]
  },
  {
   "cell_type": "markdown",
   "metadata": {},
   "source": [
    "<table style=\"float:left;background: #407EAF\">\n",
    "<tr>\n",
    "<th>\n",
    "<p class=\"transparent\">3. 创建服务器和客户端，以告知是否存在碰撞及移动方向</p>\n",
    "</th>\n",
    "</tr>\n",
    "</table>"
   ]
  },
  {
   "cell_type": "markdown",
   "metadata": {},
   "source": [
    "为什么还要创建一个客户端？哦，对于运行核心程序来说并不需要，但我仍要强烈推荐你使用，因为它能让你测试服务器。下面列举了一个可实现的例子。 请记住不只有这一种方法，这只是一个基本的例子。(<b>除非陷入困境，否则请勿查看</b>):"
   ]
  },
  {
   "cell_type": "markdown",
   "metadata": {},
   "source": [
    "<b>服务器</b>:"
   ]
  },
  {
   "cell_type": "code",
   "execution_count": null,
   "metadata": {
    "collapsed": true
   },
   "outputs": [],
   "source": [
    "#! /usr/bin/env python\n",
    "\n",
    "import rospy\n",
    "from std_srvs.srv import Trigger, TriggerResponse\n",
    "from imu_topic_susbcriber import ImuTopicReader\n",
    "import time\n",
    "\n",
    "\n",
    "class CrashDirectionService(object):\n",
    "    def __init__(self, srv_name='/crash_direction_service'):\n",
    "        self._srv_name = srv_name\n",
    "        self._imu_reader_object = ImuTopicReader()\n",
    "        self.detection_dict = {\"front\":False, \"left\":False, \"right\":False, \"back\":False}\n",
    "        self._my_service = rospy.Service(self._srv_name, Trigger , self.srv_callback)\n",
    "\n",
    "    def srv_callback(self, request):\n",
    "        self.detection_dict = self._imu_reader_object.four_sector_detection()\n",
    "        \n",
    "        message = self.direction_to_move()\n",
    "        \n",
    "        rospy.logdebug(\"[LEFT=\"+str(self.detection_dict[\"left\"])+\", FRONT=\"+str(self.detection_dict[\"front\"])+\", RIGHT=\"+str(self.detection_dict[\"right\"])+\"]\"+\", BACK=\"+str(self.detection_dict[\"back\"])+\"]\")\n",
    "        rospy.logdebug(\"DIRECTION ==>\"+message)\n",
    "        \n",
    "        response = TriggerResponse()\n",
    "        \"\"\"\n",
    "        ---                                                                                                 \n",
    "        bool success   # indicate if crashed                                       \n",
    "        string message # Direction\n",
    "        \"\"\"\n",
    "        response.success = self.has_crashed()\n",
    "        response.message = message\n",
    "        \n",
    "        return response\n",
    "\n",
    "    \n",
    "    def has_crashed(self):\n",
    "        for key, value in self.detection_dict.iteritems():\n",
    "            if value:\n",
    "                return True\n",
    "        \n",
    "        return False\n",
    "    \n",
    "    def direction_to_move(self):\n",
    "\n",
    "        if not self.detection_dict[\"front\"]:\n",
    "            message = \"forwards\"\n",
    "        \n",
    "        else:\n",
    "            if not self.detection_dict[\"back\"]:\n",
    "                    message = \"backwards\"\n",
    "            else:\n",
    "                if not self.detection_dict[\"left\"]:\n",
    "                    message = \"left\"\n",
    "                else:\n",
    "                    if not self.detection_dict[\"right\"]:\n",
    "                        message = \"right\"\n",
    "                    else:\n",
    "                        message = \"un_stuck\"\n",
    "\n",
    "        \n",
    "        return message\n",
    "\n",
    "if __name__ == \"__main__\":\n",
    "    rospy.init_node('crash_direction_service_server', log_level=rospy.INFO) \n",
    "    dir_serv_object = CrashDirectionService()\n",
    "    rospy.spin() # 保持服务器开启."
   ]
  },
  {
   "cell_type": "markdown",
   "metadata": {},
   "source": [
    "<b>客户端</b>:"
   ]
  },
  {
   "cell_type": "code",
   "execution_count": null,
   "metadata": {
    "collapsed": true
   },
   "outputs": [],
   "source": [
    "#! /usr/bin/env python\n",
    "\n",
    "import rospy\n",
    "from std_srvs.srv import Trigger, TriggerRequest\n",
    "import sys \n",
    "\n",
    "rospy.init_node('crash_direction_service_client') # 用service_client初始化ROS节点\n",
    "service_name = \"/crash_direction_service\"\n",
    "rospy.wait_for_service(service_name) # 等待服务客户端 /gazebo/delete_model 运行\n",
    "direction_service = rospy.ServiceProxy(service_name, Trigger) # 创建与服务的连接\n",
    "request_object = TriggerRequest()\n",
    "\n",
    "rate = rospy.Rate(5)\n",
    "\n",
    "ctrl_c = False\n",
    "def shutdownhook():\n",
    "    # 比rospy.is_shut_down()更好\n",
    "    global ctrl_c\n",
    "    print \"shutdown time!\"\n",
    "    ctrl_c = True\n",
    "\n",
    "rospy.on_shutdown(shutdownhook)\n",
    "\n",
    "while not ctrl_c:\n",
    "    result = direction_service(request_object) # 通过连接发送要由服务删除的对象的名称\n",
    "    \"\"\"\n",
    "    ---                             \n",
    "    bool success   # indicate succes\n",
    "    string message # informational, \n",
    "    \"\"\"\n",
    "    if result.success:\n",
    "        rospy.logwarn(\"Success ==\"+str(result.success)) # 打印所调用服务给出的结果\n",
    "        rospy.logwarn(\"Direction To Go==\"+str(result.message)) # 打印所调用服务给出的结果\n",
    "    else:\n",
    "        rospy.loginfo(\"Success ==\"+str(result.success)) # 打印所调用服务给出的结果\n",
    "        rospy.loginfo(\"Direction To Go==\"+str(result.message)) # 打印所调用服务给出的结果\n",
    "    rate.sleep()"
   ]
  },
  {
   "cell_type": "markdown",
   "metadata": {},
   "source": [
    "<div id=\"step3\"></div>"
   ]
  },
  {
   "cell_type": "markdown",
   "metadata": {},
   "source": [
    "### 步骤 3: 通过行为使用主题"
   ]
  },
  {
   "cell_type": "markdown",
   "metadata": {},
   "source": [
    "现在你需要创建一个行为，调用该行为时开始保存测距数据并检查机器人是否已走出迷宫。<br>\n",
    "要做到这一点，你必须测量从起点到当前位置的距离。 如果距离大于迷宫距离，那么你已走出迷宫了。 更精细的一个方法就是考虑矢量，这样能知道是否正确走出了迷宫，或者只是跳过了一堵墙。 <br><br>\n",
    "如果机器人在一段特定的时间之后没有走出迷宫，也应该停止行为。 那么此时的任务是："
   ]
  },
  {
   "cell_type": "markdown",
   "metadata": {},
   "source": [
    "<table style=\"float:left;background: #407EAF\">\n",
    "<tr>\n",
    "<th>\n",
    "<p class=\"transparent\">创建一个行为服务器，当它检测到机器人已经走出迷宫或已经工作了一段特定时间时结束。只使用/odom主题订阅器。</p>\n",
    "</th>\n",
    "</tr>\n",
    "</table>"
   ]
  },
  {
   "cell_type": "markdown",
   "metadata": {},
   "source": [
    "我们把它分为3个子任务：\n",
    "\n",
    "1. 定义行为消息\n",
    "2. 创建行为服务器，行为客户端，以及走出迷宫的算法\n",
    "3. 测试\n"
   ]
  },
  {
   "cell_type": "markdown",
   "metadata": {},
   "source": [
    "<table style=\"float:left;background: #407EAF\">\n",
    "<tr>\n",
    "<th>\n",
    "<p class=\"transparent\">1. 首先要考虑的是你需要什么样的消息才能使这一行为按预期进行。</p>\n",
    "</th>\n",
    "</tr>\n",
    "</table>"
   ]
  },
  {
   "cell_type": "markdown",
   "metadata": {},
   "source": [
    "你需要调用这个行为，不带任何输入。\n",
    "<br><br>\n",
    "不需要提供反馈，因为唯一重要的是它返回所需数据来评估距离。\n",
    "它需要返回用于计算距离的数据，以用于完成后计算。\n",
    "<br><br>\n",
    "所以此行为消息应该看起来像这样 (<b>除非陷入困境，否则请勿查看</b>):"
   ]
  },
  {
   "cell_type": "code",
   "execution_count": null,
   "metadata": {
    "collapsed": true
   },
   "outputs": [],
   "source": [
    "#goal, empty                \n",
    "---                             \n",
    "#result, Odometry array             \n",
    "nav_msgs/Odometry[] result_odom_array                \n",
    "---                             \n",
    "#feedback, empty"
   ]
  },
  {
   "cell_type": "markdown",
   "metadata": {},
   "source": [
    "如你所见，该消息是定制的。因此你需要编译该软件包。<br>\n",
    "执行此操作的步骤如下所示:<br>"
   ]
  },
  {
   "cell_type": "markdown",
   "metadata": {},
   "source": [
    "<span class=\"ign_green\">步骤 1</span>:创建一个名为 <i>my_sphero_actions</i>的新软件包用来存储所有行为服务器和消息。<br>\n",
    "<span class=\"ign_green\">步骤 2</span>: 创建一个<i>行为</i> 目录,内含一个名为 <span class=\"ign_blue\">record_odom.action</span>的行为消息。<br>\n",
    "<span class=\"ign_green\">步骤 3</span>:对package.xml和CMakeLists.txt文件进行所有必要的更改，以便正确编译行为消息。应该是这两个文件，如果你的 <i>my_sphero_actions 软件包</i>唯一的外部依赖是:<br>"
   ]
  },
  {
   "cell_type": "markdown",
   "metadata": {},
   "source": [
    "<table style=\"float:left;background: orange\">\n",
    "<tr>\n",
    "<th>\n",
    "<p class=\"transparent\">CMakeLists.txt</p>\n",
    "</th>\n",
    "</tr>\n",
    "</table>"
   ]
  },
  {
   "cell_type": "code",
   "execution_count": null,
   "metadata": {
    "collapsed": true
   },
   "outputs": [],
   "source": [
    "cmake_minimum_required(VERSION 2.8.3)\n",
    "project(my_sphero_actions)\n",
    "\n",
    "## 找到 catkin 宏和库\n",
    "## 如果 COMPONENTS 列表 例如 find_package(catkin REQUIRED COMPONENTS xyz)\n",
    "## 被使用, 同时找到其它catkin软件包\n",
    "## 用来编译主题、服务和行为消息的软件包\n",
    "## 在 package.xml中你必须将它们声明为build\n",
    "find_package(catkin REQUIRED COMPONENTS\n",
    "  actionlib_msgs\n",
    "  nav_msgs\n",
    ")\n",
    "\n",
    "## 在 'action'文件夹中生成行为\n",
    "add_action_files(\n",
    "   FILES\n",
    "   record_odom.action\n",
    ")\n",
    "\n",
    "## 使用此处列出的任何依赖项生成添加的消息和服务\n",
    "generate_messages(\n",
    "   DEPENDENCIES\n",
    "   actionlib_msgs\n",
    "   nav_msgs\n",
    " )\n",
    "\n",
    "###################################\n",
    "## catkin 特定配置 ##\n",
    "###################################\n",
    "## 声明要传递给依赖项目的事物\n",
    "## 在这里列出的所有软件包，为运行您软件包中某些东西的人所需要\n",
    "## 这里列出的所有软件包必须作为run_depend存在于package.xml中\n",
    "catkin_package(\n",
    "  CATKIN_DEPENDS rospy nav_msgs\n",
    ")\n",
    "\n",
    "###########\n",
    "## Build ##\n",
    "###########\n",
    "\n",
    "## 指定头文件的其他位置\n",
    "## 你的软件包位置应在其他位置之前列出\n",
    "# include_directories(include)\n",
    "include_directories(\n",
    "  ${catkin_INCLUDE_DIRS}\n",
    ")\n",
    "\n"
   ]
  },
  {
   "cell_type": "markdown",
   "metadata": {},
   "source": [
    "<table style=\"float:left;background: orange\">\n",
    "<tr>\n",
    "<th>\n",
    "<p class=\"transparent\">package.xml</p>\n",
    "</th>\n",
    "</tr>\n",
    "</table>"
   ]
  },
  {
   "cell_type": "code",
   "execution_count": null,
   "metadata": {
    "collapsed": true
   },
   "outputs": [],
   "source": [
    "<?xml version=\"1.0\"?>\n",
    "<package>\n",
    "  <name>my_sphero_actions</name>\n",
    "  <version>0.0.0</version>\n",
    "  <description>The my_sphero_actions package</description>\n",
    "\n",
    "  <maintainer email=\"user@todo.todo\">user</maintainer>\n",
    "  <license>TODO</license>\n",
    "\n",
    "  <buildtool_depend>catkin</buildtool_depend>\n",
    "  <build_depend>actionlib_msgs</build_depend>\n",
    "  <build_depend>nav_msgs</build_depend>\n",
    "  \n",
    "  <run_depend>rospy</run_depend>\n",
    "  <run_depend>nav_msgs</run_depend>\n",
    "\n",
    "  <export>\n",
    "  </export>\n",
    "</package>"
   ]
  },
  {
   "cell_type": "markdown",
   "metadata": {},
   "source": [
    "一旦您认为拥有它了，请在WebShell中运行以下命令："
   ]
  },
  {
   "cell_type": "markdown",
   "metadata": {},
   "source": [
    "<table style=\"float:left;background: #407EAF\">\n",
    "<tr>\n",
    "<th>\n",
    "<p class=\"transparent\">在WebShell #1中运行</p>\n",
    "</th>\n",
    "</tr>\n",
    "</table>"
   ]
  },
  {
   "cell_type": "code",
   "execution_count": null,
   "metadata": {
    "collapsed": true
   },
   "outputs": [],
   "source": [
    "roscd;cd ..\n",
    "catkin_make\n",
    "source deve/setup.bash\n",
    "rosmsg list | grep record_odom"
   ]
  },
  {
   "cell_type": "markdown",
   "metadata": {},
   "source": [
    "<table style=\"float:left;background: #407EAF\">\n",
    "<tr>\n",
    "<th>\n",
    "<p class=\"transparent\">WebShell #1输出</p>\n",
    "</th>\n",
    "</tr>\n",
    "</table>"
   ]
  },
  {
   "cell_type": "code",
   "execution_count": null,
   "metadata": {
    "collapsed": true
   },
   "outputs": [],
   "source": [
    "my_sphero_actions/record_odomAction\n",
    "my_sphero_actions/record_odomActionFeedback\n",
    "my_sphero_actions/record_odomActionGoal\n",
    "my_sphero_actions/record_odomActionResult\n",
    "my_sphero_actions/record_odomFeedback\n",
    "my_sphero_actions/record_odomGoal\n",
    "my_sphero_actions/record_odomResult"
   ]
  },
  {
   "cell_type": "markdown",
   "metadata": {},
   "source": [
    "<span class=\"ign_green\"><b>rosmsg list | grep record_odom</b></span>: 该命令列出了系统中和 <i>devel</i>文件夹中定义的所有rosmsgs，并且只使用 <i>grep</i>命令过滤名称为<i>record_odom</i>的命令。 从包中编译的所有消息都存储在devel文件夹中。<br>\n",
    "这是知道你的行为消息已被正确编译并可以访问你所有ROS系统的最好方法之一。"
   ]
  },
  {
   "cell_type": "markdown",
   "metadata": {},
   "source": [
    "<table style=\"float:left;background: #407EAF\">\n",
    "<tr>\n",
    "<th>\n",
    "<p class=\"transparent\">2. 创建行为服务器、客户端以及计算走出迷宫的程序。</p>\n",
    "</th>\n",
    "</tr>\n",
    "</table>"
   ]
  },
  {
   "cell_type": "markdown",
   "metadata": {},
   "source": [
    "该行为服务器必须开始记录 <i>/odom</i>主题，并在达到特定时间段或移动距离达到某个值时停止。"
   ]
  },
  {
   "cell_type": "markdown",
   "metadata": {},
   "source": [
    "<table style=\"float:left\">\n",
    "<tr>\n",
    "<th>\n",
    "<p style=\"background: red; color: white\"> 当你需要使用另一个python文件中的对象时，它必须位于同一个包中。 使用其他软件包中的python模块并不像看起来那么容易。</p>\n",
    "</th>\n",
    "</tr>\n",
    "</table>"
   ]
  },
  {
   "cell_type": "markdown",
   "metadata": {},
   "source": [
    "将你的 <span class=\"ign_blue\"><i>/odom</i></span> 主题订阅器移至 <span class=\"ign_blue\"><i>my_sphero_actions package</i></span>包中。 这样，你的服务器可以轻松使用它。<br>\n",
    "现在创建行为服务器和行为客户端。 它和服务中的一样：不需要客户端，但它对测试服务器非常有用，也为您提供了一个模板，用于稍后在核心程序中使用。"
   ]
  },
  {
   "cell_type": "markdown",
   "metadata": {},
   "source": [
    "<b>Note</b>:当你测试它时，可能会出现以下错误:\n",
    "\n",
    "<table style=\"float:left\">\n",
    "<tr>\n",
    "<th>\n",
    "<p style=\"background: red; color: white\">ImportError: No module named my_sphero_actions.msg</p>\n",
    "</th>\n",
    "</tr>\n",
    "</table>\n",
    "<br><br><br><br>\n",
    "\n",
    "当你生成自己的消息时，这项错误很常见。 它找不到<i>my_sphero_actions.msg</i>. 但是你已经编译了它，并且执行rosmsg列表返回了正确的输出。 那么这是为什么呢？ 因为，为了让你的程序能够找到消息，你必须编译它们并执行source devel / setup.bash。 该脚本不仅设置ROS环境，还设置与消息生成有关的其他系统。<br>\n",
    "因此，为了始终保持你的消息正常工作，请执行以下操作："
   ]
  },
  {
   "cell_type": "markdown",
   "metadata": {},
   "source": [
    "<table style=\"float:left;background: #407EAF\">\n",
    "<tr>\n",
    "<th>\n",
    "<p class=\"transparent\">在WebShell #1中运行</p>\n",
    "</th>\n",
    "</tr>\n",
    "</table>"
   ]
  },
  {
   "cell_type": "code",
   "execution_count": null,
   "metadata": {
    "collapsed": true
   },
   "outputs": [],
   "source": [
    "catkin_make\n",
    "source devel/setup.bash"
   ]
  },
  {
   "cell_type": "markdown",
   "metadata": {},
   "source": [
    "现在你已准备好在你的行为服务器上工作了。这里有一个可行的例子 (<b>除非陷入困境，否则请勿查看</b>):"
   ]
  },
  {
   "cell_type": "code",
   "execution_count": null,
   "metadata": {
    "collapsed": true
   },
   "outputs": [],
   "source": [
    "#! /usr/bin/env python\n",
    "\n",
    "import rospy\n",
    "import actionlib\n",
    "from my_sphero_actions.msg import record_odomFeedback, record_odomResult, record_odomAction\n",
    "from nav_msgs.msg import Odometry\n",
    "from odom_topic_subscriber import OdomTopicReader\n",
    "from odometry_analysis import check_if_out_maze\n",
    "\n",
    "\n",
    "class RecordOdomClass(object):\n",
    "    \n",
    "    def __init__(self, goal_distance):\n",
    "        \"\"\"\n",
    "        It starts an action Server. To test it was created correctly, just rostopic the list and search for /rec_odom_as/...\n",
    "        When launching, bear in mind that you should have:\n",
    "        $catkin_make\n",
    "        $source devel/setup.bash\n",
    "        \"\"\"\n",
    "        # 创建行为服务器\n",
    "        self._as = actionlib.SimpleActionServer(\"/rec_odom_as\", record_odomAction, self.goal_callback, False)\n",
    "        self._as.start()\n",
    "        \n",
    "        # 创建一个对象读取主题Odom\n",
    "        self._odom_reader_object = OdomTopicReader()\n",
    "        \n",
    "        # 创建用于发布结果的消息\n",
    "        self._result   = record_odomResult()\n",
    "        \n",
    "        self._seconds_recording = 120\n",
    "        self._goal_distance = goal_distance\n",
    "    \n",
    "    def goal_callback(self, goal):\n",
    "    \n",
    "        success = True\n",
    "        rate = rospy.Rate(1)\n",
    "        \n",
    "        for i in range(self._seconds_recording):\n",
    "            rospy.loginfo(\"Recording Odom index=\"+str(i))\n",
    "            # 检查行为客户端没有请求抢占（取消）\n",
    "            if self._as.is_preempt_requested():\n",
    "                rospy.logdebug('The goal has been cancelled/preempted')\n",
    "                # 下列行将客户端设置为抢占状态（取消目标）\n",
    "                self._as.set_preempted()\n",
    "                success = False\n",
    "                # 结束行为循环\n",
    "                break\n",
    "            \n",
    "            else:# 建立下一个要发送的反馈消息\n",
    "                if not self.reached_distance_goal():\n",
    "                    rospy.logdebug('Reading Odometry...')\n",
    "                    self._result.result_odom_array.append(self._odom_reader_object.get_odomdata())\n",
    "                else:\n",
    "                    rospy.logwarn('Reached distance Goal')\n",
    "                    # 结束行为循环\n",
    "                    break\n",
    "            rate.sleep()\n",
    "        \n",
    "        # 此时，或者目标已实现 (success==true)\n",
    "        # 或者客户端抢占目标 (success==false)\n",
    "        # 若成功，发布最终结果\n",
    "        # 若不成功，结果中不发布任何东西\n",
    "        if success:\n",
    "            self._as.set_succeeded(self._result)\n",
    "            # 清除结果变量\n",
    "        \n",
    "        self.clean_variables()\n",
    "    \n",
    "    def clean_variables(self):\n",
    "        \"\"\"\n",
    "        Cleans variables for the next call\n",
    "        \"\"\"\n",
    "        self._result   = record_odomResult()\n",
    "    \n",
    "    def reached_distance_goal(self):\n",
    "        \"\"\"\n",
    "        Returns True if the distance moved from the first instance of recording until now has reached the self._goal_distance\n",
    "        \"\"\"\n",
    "        return check_if_out_maze(self._goal_distance, self._result.result_odom_array)\n",
    "    \n",
    "    \n",
    "      \n",
    "if __name__ == '__main__':\n",
    "  rospy.init_node('record_odom_action_server_node')\n",
    "  RecordOdomClass(goal_distance=2.0)\n",
    "  rospy.spin()"
   ]
  },
  {
   "cell_type": "markdown",
   "metadata": {},
   "source": [
    "此处举例说明如何处理测距数据来获知Sphero机器人是否已走出迷宫:"
   ]
  },
  {
   "cell_type": "code",
   "execution_count": null,
   "metadata": {
    "collapsed": true
   },
   "outputs": [],
   "source": [
    "#! /usr/bin/env python\n",
    "\n",
    "import rospy\n",
    "from nav_msgs.msg import Odometry\n",
    "from geometry_msgs.msg import Vector3\n",
    "import math \n",
    "\n",
    "\n",
    "class OdometryAnalysis(object):\n",
    "    def __init__(self):\n",
    "        pass\n",
    "    \n",
    "    def get_distance_moved(self, odmetry_data_list):\n",
    "        \n",
    "        distance = None\n",
    "        \n",
    "        if len(odmetry_data_list) >= 2 :\n",
    "            start_odom = odmetry_data_list[0]\n",
    "            end_odom = odmetry_data_list[len(odmetry_data_list)-1]\n",
    "            \n",
    "            start_position = start_odom.pose.pose.position\n",
    "            end_position = end_odom.pose.pose.position\n",
    "            \n",
    "            rospy.loginfo(\"start_position ==>\"+str(start_position))\n",
    "            rospy.loginfo(\"end_position ==>\"+str(end_position))\n",
    "            \n",
    "            \n",
    "            distance_vector = self.create_vector(start_position, end_position)\n",
    "            rospy.loginfo(\"Distance Vector ==>\"+str(distance_vector))\n",
    "            \n",
    "            distance = self.calculate_legth_vector(distance_vector)\n",
    "            rospy.loginfo(\"Distance ==>\"+str(distance))\n",
    "        \n",
    "        else:\n",
    "            rospy.logerr(\"Odom array doesnt have the minimum number of elements = \"+str(len(odmetry_data_list)))\n",
    "        \n",
    "        return distance\n",
    "        \n",
    "    def create_vector(self, p1, p2):\n",
    "        \n",
    "        distance_vector = Vector3()\n",
    "        distance_vector.x = p2.x - p1.x\n",
    "        distance_vector.y = p2.y - p1.y\n",
    "        distance_vector.z = p2.z - p1.z\n",
    "        \n",
    "        return distance_vector\n",
    "    \n",
    "    def calculate_legth_vector(self,vector):\n",
    "        \n",
    "        length = math.sqrt(math.pow(vector.x,2)+math.pow(vector.y,2)+math.pow(vector.z,2))\n",
    "        return length\n",
    "\n",
    "\n",
    "def check_if_out_maze(goal_distance, odom_result_array):\n",
    "    odom_analysis_object = OdometryAnalysis()\n",
    "    distance = odom_analysis_object.get_distance_moved(odom_result_array)\n",
    "    rospy.loginfo(\"Distance Moved=\"+str(distance))\n",
    "    # 要走出迷宫，我们认为地板上的每个矩形都在0.5米左右，因此需要正确走出迷宫的话\n",
    "    # 距离必须是sqrt (6*5 + 5*4) = 7.8\n",
    "    return distance > goal_distance"
   ]
  },
  {
   "cell_type": "markdown",
   "metadata": {},
   "source": [
    "这是客户端的一个例子:"
   ]
  },
  {
   "cell_type": "code",
   "execution_count": null,
   "metadata": {},
   "outputs": [],
   "source": [
    "#! /usr/bin/env python\n",
    "\n",
    "import rospy\n",
    "import time\n",
    "import actionlib\n",
    "from my_sphero_actions.msg import record_odomGoal, record_odomFeedback, record_odomResult, record_odomAction\n",
    "from nav_msgs.msg import Odometry\n",
    "\n",
    "\n",
    "# 定义反馈回调。将在行为服务器收到反馈时被调用\n",
    "# 它会打印一条消息，表示收到一条新消息\n",
    "def feedback_callback(feedback):\n",
    "    rospy.loginfo(\"Rec Odom Feedback feedback ==>\"+str(feedback))\n",
    "\n",
    "\n",
    "def count_seconds(seconds):\n",
    "    for i in range(seconds):\n",
    "        rospy.loginfo(\"Seconds Passed =>\"+str(i))\n",
    "        time.sleep(1)\n",
    "\n",
    "# 初始化行为客户端节点\n",
    "rospy.init_node('record_odom_action_client_node')\n",
    "\n",
    "# 创建与行为服务器之间的连接\n",
    "client = actionlib.SimpleActionClient('/rec_odom_as', record_odomAction)\n",
    "\n",
    "rate = rospy.Rate(1)\n",
    "\n",
    "# 等待行为服务器启动并运行\n",
    "rospy.loginfo('Waiting for action Server')\n",
    "client.wait_for_server()\n",
    "rospy.loginfo('Action Server Found...')\n",
    "\n",
    "# 创建一个向行为服务器发送的目标\n",
    "goal = record_odomGoal()\n",
    "\n",
    "# 给行为服务器发送目标，指定收到反馈时要调用的反馈功能 \n",
    "client.send_goal(goal, feedback_cb=feedback_callback)\n",
    "\n",
    "\n",
    "\n",
    "# simple_state 在活跃时为 1，已完成时为 2。 它是一个变量，最好用一个函数，例如get_state。\n",
    "#state = client.simple_state\n",
    "# state_result将给出最终状态。1为活跃，2为无错误，3为出现警告，4为出现错误\n",
    "state_result = client.get_state()\n",
    "\n",
    "\"\"\"\n",
    "class SimpleGoalState:\n",
    "    PENDING = 0\n",
    "    ACTIVE = 1\n",
    "    DONE = 2\n",
    "    WARN = 3\n",
    "    ERROR = 4\n",
    "\n",
    "\"\"\"\n",
    "\n",
    "rospy.loginfo(\"state_result: \"+str(state_result))\n",
    "\n",
    "while state_result < 2:\n",
    "    rospy.loginfo(\"Waiting to finish: \")\n",
    "    rate.sleep()\n",
    "    state_result = client.get_state()\n",
    "    rospy.loginfo(\"state_result: \"+str(state_result))\n",
    "    \n",
    "\n",
    "state_result = client.get_state()\n",
    "rospy.loginfo(\"[Result] State: \"+str(state_result))\n",
    "if state_result == 4:\n",
    "    rospy.logerr(\"Something went wrong in the Server Side\")\n",
    "if state_result == 3:\n",
    "    rospy.logwarn(\"There is a warning in the Server Side\")\n",
    "\n",
    "rospy.loginfo(\"[Result] State: \"+str(client.get_result()))"
   ]
  },
  {
   "cell_type": "markdown",
   "metadata": {},
   "source": [
    "<table style=\"float:left;background: #407EAF\">\n",
    "<tr>\n",
    "<th>\n",
    "<p class=\"transparent\">3. 进行测试。</p>\n",
    "</th>\n",
    "</tr>\n",
    "</table>"
   ]
  },
  {
   "cell_type": "markdown",
   "metadata": {},
   "source": [
    "启动:"
   ]
  },
  {
   "cell_type": "code",
   "execution_count": null,
   "metadata": {
    "collapsed": true
   },
   "outputs": [],
   "source": [
    "rosrun my_sphero_actions rec_odom_action_server.py"
   ]
  },
  {
   "cell_type": "markdown",
   "metadata": {},
   "source": [
    "检查是否工作:"
   ]
  },
  {
   "cell_type": "code",
   "execution_count": null,
   "metadata": {
    "collapsed": true
   },
   "outputs": [],
   "source": [
    "rosnode 列表 | grep record_odom_action_server_node"
   ]
  },
  {
   "cell_type": "code",
   "execution_count": null,
   "metadata": {
    "collapsed": true
   },
   "outputs": [],
   "source": [
    "rostopic 列表 | grep rec_odom_as"
   ]
  },
  {
   "cell_type": "markdown",
   "metadata": {},
   "source": [
    "启动客户端检查是否真正工作。\n",
    "\n",
    "1. 保持运行直到时间耗尽。到那时它应该会将所有 <i>/odom</i>记录返回客户端。 \n",
    "2. 强制达到距离目标。使用 **<i>roslaunch sphero_gazebo keyboard_teleop.launch</i>** 移动机器人。 那时它同样应该返回所记录的<i>/odom</i>主题。"
   ]
  },
  {
   "cell_type": "markdown",
   "metadata": {},
   "source": [
    "<div id=\"step4\"></div>"
   ]
  },
  {
   "cell_type": "markdown",
   "metadata": {
    "collapsed": true
   },
   "source": [
    "### 步骤4: 创建一个主程序来管理所有东西"
   ]
  },
  {
   "cell_type": "markdown",
   "metadata": {},
   "source": [
    "现在，你终于拥有了创建一个主程序所需的所有工具，它可以执行以下操作：<br>\n",
    "\n",
    "1. 调用一个服务，告诉你它是否已经碰撞，以及应该向哪个方向移动。\n",
    "2. 根据服务响应移动sphero机器人。\n",
    "3. 检查它是否已走出迷宫或给定时间已耗尽。 如果是这样的话，结束程序。\n"
   ]
  },
  {
   "cell_type": "markdown",
   "metadata": {},
   "source": [
    "我们把它分为3个子步骤:"
   ]
  },
  {
   "cell_type": "markdown",
   "metadata": {},
   "source": [
    "<table style=\"float:left;background: #407EAF\">\n",
    "<tr>\n",
    "<th>\n",
    "<p class=\"transparent\">1.创建一个名为 <span class=\"ign_blue\"><i>my_sphero_main</i></span>的软件包。</p>\n",
    "</th>\n",
    "</tr>\n",
    "</table>"
   ]
  },
  {
   "cell_type": "markdown",
   "metadata": {},
   "source": [
    "这个包必须包含它所需要的主程序和python文件。 您可能需要从其他软件包中复制一些文件。"
   ]
  },
  {
   "cell_type": "markdown",
   "metadata": {},
   "source": [
    "<table style=\"float:left;background: #407EAF\">\n",
    "<tr>\n",
    "<th>\n",
    "<p class=\"transparent\">2.创建一个启动文件，用于启动行为服务器、服务服务器和主程序。</p>\n",
    "</th>\n",
    "</tr>\n",
    "</table>"
   ]
  },
  {
   "cell_type": "markdown",
   "metadata": {},
   "source": [
    "首先尝试使用 <i>节点</i> 标记，如果它可以正常工作，则为action_server和service_server生成启动并使用 <i>include</i> 标记。 这是一个可行的例子(<b>除非你陷入困境，否则不要查看</b>):"
   ]
  },
  {
   "cell_type": "code",
   "execution_count": null,
   "metadata": {
    "collapsed": true
   },
   "outputs": [],
   "source": [
    "<launch>\n",
    "\n",
    "  <node pkg =\"my_sphero_actions\"\n",
    "        type=\"rec_odom_action_server.py\"\n",
    "        name=\"record_odom_action_server_node\"\n",
    "        output=\"screen\">\n",
    "  </node>\n",
    "  \n",
    "  <node pkg =\"my_sphero_services\"\n",
    "        type=\"direction_service_server.py\"\n",
    "        name=\"crash_direction_service_server\"\n",
    "        output=\"screen\">\n",
    "  </node>\n",
    "\n",
    "  <node pkg =\"my_sphero_main\"\n",
    "        type=\"sphero_main.py\"\n",
    "        name=\"sphero_main_node\"\n",
    "        output=\"screen\">\n",
    "  </node>\n",
    "\n",
    "\n",
    "</launch>"
   ]
  },
  {
   "cell_type": "markdown",
   "metadata": {},
   "source": [
    "<table style=\"float:left;background: #407EAF\">\n",
    "<tr>\n",
    "<th>\n",
    "<p class=\"transparent\">3.创建主程序。</p>\n",
    "</th>\n",
    "</tr>\n",
    "</table>"
   ]
  },
  {
   "cell_type": "markdown",
   "metadata": {},
   "source": [
    "使用你从服务器的客户端和行为中提取的所有数据和知识，以尽可能多地重用代码。这是一个可行的例子(<b>除非你陷入困境，否则不要查看</b>):"
   ]
  },
  {
   "cell_type": "code",
   "execution_count": null,
   "metadata": {},
   "outputs": [],
   "source": [
    "#! /usr/bin/env python\n",
    "\n",
    "import rospy\n",
    "import actionlib\n",
    "from std_srvs.srv import Trigger, TriggerRequest\n",
    "from exam_action_rec_odom.msg import record_odomGoal, record_odomFeedback, record_odomResult, record_odomAction\n",
    "from cmd_vel_publisher import CmdVelPub\n",
    "from odometry_analysis import OdometryAnalysis\n",
    "from odometry_analysis import check_if_out_maze\n",
    "\n",
    "class ControlSphero(object):\n",
    "    def __init__(self, goal_distance):\n",
    "        self._goal_distance = goal_distance\n",
    "        self.init_direction_service_client()\n",
    "        self.init_rec_odom_action_client()\n",
    "        self.init_move_sphero_publisher()\n",
    "        \n",
    "    def init_direction_service_client(self, service_name = \"/crash_direction_service\"):\n",
    "        rospy.loginfo('Waiting for Service Server')\n",
    "        rospy.wait_for_service(service_name) # 等待服务客户端/gazebo/delete_model运行\n",
    "        rospy.loginfo('Service Server Found...')\n",
    "        self._direction_service = rospy.ServiceProxy(service_name, Trigger) # 创建与服务的连接\n",
    "        self._request_object = TriggerRequest()\n",
    "        \n",
    "    def make_direction_request(self):\n",
    "        \n",
    "        result = self._direction_service(self._request_object) # 通过连接发送服务要删除的对象名称\n",
    "        return result.message\n",
    "    \n",
    "    def init_rec_odom_action_client(self):\n",
    "        self._rec_odom_action_client = actionlib.SimpleActionClient('/rec_odom_as', record_odomAction)\n",
    "        # 等待行为服务器启动和运行\n",
    "        rospy.loginfo('Waiting for action Server')\n",
    "        self._rec_odom_action_client.wait_for_server()\n",
    "        rospy.loginfo('Action Server Found...')\n",
    "        self._rec_odom_action_goal = record_odomGoal()\n",
    "    \n",
    "    def send_goal_to_rec_odom_action_server(self):\n",
    "        self._rec_odom_action_client.send_goal(self._rec_odom_action_goal, feedback_cb=self.rec_odom_feedback_callback)\n",
    "        \n",
    "    def rec_odom_feedback_callback(self,feedback):\n",
    "        rospy.loginfo(\"Rec Odom Feedback feedback ==>\"+str(feedback))\n",
    "    \n",
    "    def rec_odom_finished(self):\n",
    "        \n",
    "        has_finished = ( self._rec_odom_action_client.get_state() >= 2 )\n",
    "        \n",
    "        return has_finished\n",
    "    \n",
    "    def get_result_rec_odom(self):\n",
    "        return self._rec_odom_action_client.get_result()\n",
    "        \n",
    "    def init_move_sphero_publisher(self):\n",
    "        self._cmdvelpub_object = CmdVelPub()\n",
    "\n",
    "    def move_sphero(self, direction):\n",
    "        self._cmdvelpub_object.move_robot(direction)\n",
    "\n",
    "    def got_out_maze(self, odom_result_array):\n",
    "        return check_if_out_maze(self._goal_distance, odom_result_array)\n",
    "\n",
    "rospy.init_node(\"sphero_main_node\", log_level=rospy.INFO)\n",
    "controlsphero_object = ControlSphero(goal_distance=2.0)\n",
    "rate = rospy.Rate(10)\n",
    "\n",
    "controlsphero_object.send_goal_to_rec_odom_action_server()\n",
    "\n",
    "while not controlsphero_object.rec_odom_finished():\n",
    "    direction_to_go = controlsphero_object.make_direction_request()\n",
    "    rospy.loginfo(direction_to_go)\n",
    "    controlsphero_object.move_sphero(direction_to_go)\n",
    "    rate.sleep()\n",
    "\n",
    "\n",
    "odom_result = controlsphero_object.get_result_rec_odom()\n",
    "odom_result_array = odom_result.result_odom_array\n",
    "\n",
    "if controlsphero_object.got_out_maze(odom_result_array):\n",
    "    rospy.loginfo(\"Out of Maze\")\n",
    "else:\n",
    "    rospy.loginfo(\"In Maze\")\n",
    "\n",
    "rospy.loginfo(\"Sphero Maze test Finished\")"
   ]
  },
  {
   "cell_type": "markdown",
   "metadata": {},
   "source": [
    "<div id=\"stepExtra\"></div>"
   ]
  },
  {
   "cell_type": "markdown",
   "metadata": {},
   "source": [
    "### 步骤 5: 如何使用不同包中的Python模块"
   ]
  },
  {
   "cell_type": "markdown",
   "metadata": {},
   "source": [
    "你可能已经注意到了，如果你想使用来自另一个包的python模块声明的东西，你必须将它复制到你的代码中。 这是因为在ROS系统中，从其他包中导入python模块并不像表面看起来的那么容易。"
   ]
  },
  {
   "cell_type": "markdown",
   "metadata": {},
   "source": [
    "要学习如何做到这一点，通过下面的例子，分成4个子步骤：\n",
    "\n",
    "1. 创建软件包\n",
    "2. 准备 <i>common_pkg</i>\n",
    "3. 输入<i>testing</i>\n",
    "4. 对所有进行测试\n"
   ]
  },
  {
   "cell_type": "markdown",
   "metadata": {},
   "source": [
    "假设您有一个名为 <i class=\"ign_green\">common_pkg</i> 的包和另一个名为 <i class=\"ign_green\">testing</i>的包。"
   ]
  },
  {
   "cell_type": "markdown",
   "metadata": {},
   "source": [
    "<table style=\"float:left;background: #407EAF\">\n",
    "<tr>\n",
    "<th>\n",
    "<p class=\"transparent\">1.创建这两个包。</p>\n",
    "</th>\n",
    "</tr>\n",
    "</table>"
   ]
  },
  {
   "cell_type": "markdown",
   "metadata": {},
   "source": [
    "完成后，编辑它们两个，以便能够使用位于 <i class=\"ign_blue\">testing</i>包的python程序中的<i class=\"ign_blue\">common_pkg</i>定义的python类。"
   ]
  },
  {
   "cell_type": "markdown",
   "metadata": {},
   "source": [
    "<table style=\"float:left;background: #407EAF\">\n",
    "<tr>\n",
    "<th>\n",
    "<p class=\"transparent\">2. 准备 common_pkg。</p>\n",
    "</th>\n",
    "</tr>\n",
    "</table>"
   ]
  },
  {
   "cell_type": "markdown",
   "metadata": {},
   "source": [
    "要准备<i>common_pkg</i>以使得任何人都可以使用其中的python文件，请按照下列步骤进行操作："
   ]
  },
  {
   "cell_type": "markdown",
   "metadata": {},
   "source": [
    "\n",
    "* 在 WebShell #1中运行下列命令:<br>\n",
    "<table style=\"float:left;background: #407EAF\">\n",
    "<tr>\n",
    "<th>\n",
    "<p class=\"transparent\">在WebShell #1中运行</p>\n",
    "</th>\n",
    "</tr>\n",
    "</table>"
   ]
  },
  {
   "cell_type": "code",
   "execution_count": null,
   "metadata": {},
   "outputs": [],
   "source": [
    "roscd; cd ..\n",
    "cd src/common_pkg\n",
    "mkdir src/common_dir\n",
    "touch src/common_dir/_\\_\\_init\\_\\_.py"
   ]
  },
  {
   "cell_type": "markdown",
   "metadata": {},
   "source": [
    "这将在特殊的python文件中生成一个名为<i class=\"ign_blue\">common_dir</i> 的额外目录，你可以通过名为 <i class=\"ign_blue\">__init__.py</i>的python找到该文件。"
   ]
  },
  {
   "cell_type": "markdown",
   "metadata": {},
   "source": [
    "\n",
    "*完成后，您可以在<i class=\"ign_blue\">common_dir</i> 文件夹内创建你的python文件。 <br>\n",
    "下面是你可以放入其中的一个示例：\n"
   ]
  },
  {
   "cell_type": "markdown",
   "metadata": {},
   "source": [
    "<p style=\"background:#3B8F10;color:white;\" id=\"common_things\">**Python Program {common_things.py}: common_things.py**</p><br>"
   ]
  },
  {
   "cell_type": "code",
   "execution_count": null,
   "metadata": {
    "collapsed": true
   },
   "outputs": [],
   "source": [
    "#! /usr/bin/env python\n",
    "\n",
    "import rospy\n",
    "from geometry_msgs.msg import Twist\n",
    "import time\n",
    "\n",
    "def cool(name):\n",
    "    print('Cool ' + name)\n",
    "\n",
    "class CmdVelPub(object):\n",
    "    def __init__(self):\n",
    "        self._cmd_vel_pub = rospy.Publisher('/cmd_vel', Twist, queue_size=1)\n",
    "        self._twist_object = Twist()\n",
    "        self.linearspeed = 0.2\n",
    "        self.angularspeed = 0.5\n",
    "        \n",
    "    def move_robot(self, direction):\n",
    "        if direction == \"forwards\":\n",
    "            self._twist_object.linear.x = self.linearspeed\n",
    "            self._twist_object.angular.z = 0.0\n",
    "        elif direction == \"right\":\n",
    "            self._twist_object.linear.x = 0.0\n",
    "            self._twist_object.angular.z = self.angularspeed\n",
    "        elif direction == \"left\":\n",
    "            self._twist_object.linear.x = 0.0\n",
    "            self._twist_object.angular.z = -self.angularspeed\n",
    "        elif direction == \"backwards\":\n",
    "            self._twist_object.linear.x = -self.linearspeed\n",
    "            self._twist_object.angular.z = 0.0\n",
    "        elif direction == \"stop\":\n",
    "            self._twist_object.linear.x = 0.0\n",
    "            self._twist_object.angular.z = 0.0\n",
    "        else:\n",
    "            pass\n",
    "        \n",
    "        self._cmd_vel_pub.publish(self._twist_object)"
   ]
  },
  {
   "cell_type": "markdown",
   "metadata": {},
   "source": [
    "<p style=\"background:#3B8F10;color:white;\" id=\"common_things\">**END Python Program {common_things.py}: common_things.py**</p><br>"
   ]
  },
  {
   "cell_type": "markdown",
   "metadata": {},
   "source": [
    "*转到 <i class=\"ign_green\">common_pkg</i><br>根目录\n",
    "\n",
    "<table style=\"float:left;background: #407EAF\">\n",
    "<tr>\n",
    "<th>\n",
    "<p class=\"transparent\">在WebShell #1中运行</p>\n",
    "</th>\n",
    "</tr>\n",
    "</table>"
   ]
  },
  {
   "cell_type": "code",
   "execution_count": null,
   "metadata": {
    "collapsed": true
   },
   "outputs": [],
   "source": [
    "roscd common_pkg"
   ]
  },
  {
   "cell_type": "markdown",
   "metadata": {},
   "source": [
    "* 创建一个名为 <i class=\"ign_green\">setup.py</i>的文件，其中包含以下内容："
   ]
  },
  {
   "cell_type": "code",
   "execution_count": null,
   "metadata": {},
   "outputs": [],
   "source": [
    "## ! 不要手动调用这个setup.py, 使用 CATKIN 来代替\n",
    "\n",
    "from distutils.core import setup\n",
    "from catkin_pkg.python_setup import generate_distutils_setup\n",
    "\n",
    "# 从package.xml中获取值\n",
    "setup_args = generate_distutils_setup(\n",
    "    packages=['common_dir'],\n",
    "    package_dir={'': 'src'},\n",
    ")\n",
    "\n",
    "setup(**setup_args)"
   ]
  },
  {
   "cell_type": "markdown",
   "metadata": {},
   "source": [
    "\n",
    "*现在编辑 <i class=\"ign_green\">CMakeLists.txt</i> 文件, 并取消以下行的注释:\n"
   ]
  },
  {
   "cell_type": "code",
   "execution_count": null,
   "metadata": {
    "collapsed": true
   },
   "outputs": [],
   "source": [
    "## 包内有setup.py时取消注释\n",
    "catkin_python_setup()"
   ]
  },
  {
   "cell_type": "markdown",
   "metadata": {},
   "source": [
    "\n",
    "* 编译并检查是否有错误:<br>\n",
    "<table style=\"float:left;background: #407EAF\">\n",
    "<tr>\n",
    "<th>\n",
    "<p class=\"transparent\">在WebShell #1中运行</p>\n",
    "</th>\n",
    "</tr>\n",
    "</table>"
   ]
  },
  {
   "cell_type": "code",
   "execution_count": null,
   "metadata": {
    "collapsed": true
   },
   "outputs": [],
   "source": [
    "roscd; cd ..\n",
    "catkin_make\n",
    "source devel/setup.bash"
   ]
  },
  {
   "cell_type": "markdown",
   "metadata": {},
   "source": [
    "<table style=\"float:left;background: #407EAF\">\n",
    "<tr>\n",
    "<th>\n",
    "<p class=\"transparent\">3. 输入测试。</p>\n",
    "</th>\n",
    "</tr>\n",
    "</table>"
   ]
  },
  {
   "cell_type": "markdown",
   "metadata": {},
   "source": [
    "一旦你设置了common_pkg，你只需要按照以下的方式导入元素:<br>"
   ]
  },
  {
   "cell_type": "code",
   "execution_count": null,
   "metadata": {
    "collapsed": true
   },
   "outputs": [],
   "source": [
    "from common_dir.common_things import cool, CmdVelPub"
   ]
  },
  {
   "cell_type": "markdown",
   "metadata": {},
   "source": [
    "请注意，您已经在<i class=\"ign_green\">软件包的src目录内</i>导入了目录名称。<br>\n",
    "name of the package = <i class=\"ign_green\">common_pkg</i><br>\n",
    "name of the directory and where you import = <i class=\"ign_green\">common_dir</i><br>\n",
    "这一点很重要，因为有可能会出现错误。"
   ]
  },
  {
   "cell_type": "markdown",
   "metadata": {},
   "source": [
    "所以在这里你可以在测试包的src目录下找到一个python文件的例子："
   ]
  },
  {
   "cell_type": "markdown",
   "metadata": {},
   "source": [
    "<p style=\"background:#3B8F10;color:white;\" id=\"test_import\">**Python Program {test_import.py}: test_import.py**</p><br>"
   ]
  },
  {
   "cell_type": "code",
   "execution_count": null,
   "metadata": {
    "collapsed": true
   },
   "outputs": [],
   "source": [
    "#! /usr/bin/env python\n",
    "import rospy\n",
    "import time\n",
    "\n",
    "from common_dir.common_things import cool, CmdVelPub\n",
    "\n",
    "\n",
    "if __name__ == '__main__':\n",
    "    cool('TheConstruct')\n",
    "    \n",
    "    stop_time = 1\n",
    "    move_time = 3\n",
    "    \n",
    "    rospy.init_node('test_import', log_level=rospy.INFO)\n",
    "    \n",
    "    move_object = CmdVelPub()\n",
    "    rospy.loginfo(\"Starting...\")\n",
    "    move_object.move_robot(direction=\"stop\")\n",
    "    time.sleep(stop_time)\n",
    "    \n",
    "    rospy.loginfo(\"Forwards...\")\n",
    "    move_object.move_robot(direction=\"forwards\")\n",
    "    time.sleep(move_time)\n",
    "    \n",
    "    rospy.loginfo(\"Stopping...\")\n",
    "    move_object.move_robot(direction=\"stop\")\n",
    "    time.sleep(stop_time)\n",
    "    \n",
    "    rospy.loginfo(\"Forwards...\")\n",
    "    move_object.move_robot(direction=\"backwards\")\n",
    "    time.sleep(move_time)\n",
    "    \n",
    "    rospy.loginfo(\"Stopping...\")\n",
    "    move_object.move_robot(direction=\"stop\")\n",
    "    "
   ]
  },
  {
   "cell_type": "markdown",
   "metadata": {},
   "source": [
    "<p style=\"background:#3B8F10;color:white;\" id=\"test_import\">**END Python Program {test_import.py}: test_import.py**</p><br>"
   ]
  },
  {
   "cell_type": "markdown",
   "metadata": {},
   "source": [
    "<table style=\"float:left;background: #407EAF\">\n",
    "<tr>\n",
    "<th>\n",
    "<p class=\"transparent\">4.对所有进行测试。</p>\n",
    "</th>\n",
    "</tr>\n",
    "</table>"
   ]
  },
  {
   "cell_type": "markdown",
   "metadata": {},
   "source": [
    "现在运行 **test_import.py** 文件:<br>\n",
    "<table style=\"float:left;background: #407EAF\">\n",
    "<tr>\n",
    "<th>\n",
    "<p class=\"transparent\">在WebShell #1中运行</p>\n",
    "</th>\n",
    "</tr>\n",
    "</table>\n",
    "<br><br>"
   ]
  },
  {
   "cell_type": "code",
   "execution_count": null,
   "metadata": {
    "collapsed": true
   },
   "outputs": [],
   "source": [
    "rosrun testing test_import.py"
   ]
  },
  {
   "cell_type": "markdown",
   "metadata": {},
   "source": [
    "你应该能看到机器人在移动了。"
   ]
  },
  {
   "cell_type": "markdown",
   "metadata": {},
   "source": [
    "### 结论"
   ]
  },
  {
   "cell_type": "markdown",
   "metadata": {},
   "source": [
    "现在尝试优化你的系统。调节速度和检测方案。调节移动以及用于决定做什么的\"AI\"。<br>\n",
    "你需要特别用心了解这个项目（除步骤5以外），因为 <span class=\"ign_red\">考试跟该项目非常接近</span>。 "
   ]
  }
 ],
 "metadata": {
  "anaconda-cloud": {},
  "kernelspec": {
   "display_name": "Python 3",
   "language": "python",
   "name": "python3"
  },
  "language_info": {
   "codemirror_mode": {
    "name": "ipython",
    "version": 3
   },
   "file_extension": ".py",
   "mimetype": "text/x-python",
   "name": "python",
   "nbconvert_exporter": "python",
   "pygments_lexer": "ipython3",
   "version": "3.6.4"
  },
  "latex_metadata": {
   "chapter": "Course Project",
   "chapter_title": "Course Project",
   "course_title": "ROS BASICS IN 5 DAYS"
  }
 },
 "nbformat": 4,
 "nbformat_minor": 1
}
