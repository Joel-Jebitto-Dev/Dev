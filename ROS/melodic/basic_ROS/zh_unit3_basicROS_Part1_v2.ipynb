{
 "cells": [
  {
   "cell_type": "markdown",
   "metadata": {},
   "source": [
    "# <font class='ign_color'>5天学ROS</font>"
   ]
  },
  {
   "cell_type": "markdown",
   "metadata": {},
   "source": [
    "# Unit 3: 服务"
   ]
  },
  {
   "cell_type": "markdown",
   "metadata": {
    "caption": "Iri Wam Robot",
    "image": true,
    "name": "iri_wam",
    "width": "8cm"
   },
   "source": [
    "<img src=\"img/iri_wam.jpg\" width=\"500\" />"
   ]
  },
  {
   "cell_type": "markdown",
   "metadata": {},
   "source": [
    "<b>预计完成时间:</b> 2.5 hours\n",
    "<br><br>\n",
    "<b>你将从本单元学到：</b>\n",
    "\n",
    "* 什么是服务？\n",
    "* 如何管理一个机器人的服务？\n",
    "* 如何调用一个服务？"
   ]
  },
  {
   "cell_type": "markdown",
   "metadata": {},
   "source": [
    "## Part 1"
   ]
  },
  {
   "cell_type": "markdown",
   "metadata": {},
   "source": [
    "恭喜！现在你已掌握了ROS基本概念中的**75%** 。\n",
    "\n",
    "\n",
    "理由是，使用主题，你差不多就可以做自己想做的以及你的宇航技工机器人需要做的任何事情。很多ROS功能包仅用到了主题就可以完美地工作。\n",
    "\n",
    "\n",
    "那么，为什么还需要学习 **服务** 呢?\n",
    "\n",
    "这是因为在某些情况下，主题是不够的，或者使用起来太过麻烦。当然，你可以使用一根棍棒毁掉 <i>死星</i>，但需要花费很长很长时间。更好的办法是，让天行者卢克替你去做这件事情，对吧？服务的作用正是如此，它们使工作变得更加简单。 "
   ]
  },
  {
   "cell_type": "markdown",
   "metadata": {},
   "source": [
    "## 主题 - 服务 - 行为"
   ]
  },
  {
   "cell_type": "markdown",
   "metadata": {},
   "source": [
    "要理解服务的概念和用法，必须把服务和主题与行为进行比较。\n",
    "\n",
    "假设你有个自己的BB-8机器人，它有一个激光传感器，一套人脸识别系统和一个导航系统。激光传感器将使用一个**主题**以20HZ的频率发布它的所有数据。我们使用主题是因为我们需要使它发布的那些信息时刻能被其他ROS系统（比如导航系统）使用。 \n",
    "\n",
    "\n",
    "人脸识别系统将提供一个 **服务**。你的ROS程序将调用该服务，然后一直**等着**，直到识别系统告诉你BB-8前面所站着的人的姓名。\n",
    "\n",
    "\n",
    "导航系统将提供一个 **行为**。你的ROS程序将调用该行为使机器人移动，并且**当**它在执行该任务时，你的程序还可以执行其他任务，比如抱怨C-3P0是多么的辛苦。行为会在移动的过程中给你 **反馈** 信息(例如，距离期望坐标的距离）。"
   ]
  },
  {
   "cell_type": "markdown",
   "metadata": {},
   "source": [
    "那么，**服务** 和 **行为**有什么不同呢?\n",
    "\n",
    "服务是 <b>同步的</b>。当你的程序调用一个服务时，从服务接收到一个结果前你的程序不能再做其他事情。 <br>\n",
    "行为是 <b>异步的</b>。就像启动了一个新线程。当你的ROS程序调用一个行为时，你的程序可以在该行为被执行的同时在另一线程执行其他任务。"
   ]
  },
  {
   "cell_type": "markdown",
   "metadata": {},
   "source": [
    "**结论: 当你的程序从服务接收到结果前不需要执行其他任务时使用服务。**"
   ]
  },
  {
   "cell_type": "markdown",
   "metadata": {},
   "source": [
    "## 服务介绍"
   ]
  },
  {
   "cell_type": "markdown",
   "metadata": {},
   "source": [
    "截至目前，讨论的够多了，让我们启动一个已经准备好的机器人的演示吧。"
   ]
  },
  {
   "cell_type": "markdown",
   "metadata": {},
   "source": [
    "<p style=\"background:#407EAF;color:white;\">**例 3.1**</p>"
   ]
  },
  {
   "cell_type": "markdown",
   "metadata": {},
   "source": [
    "在WebShell执行下面的操作："
   ]
  },
  {
   "cell_type": "markdown",
   "metadata": {},
   "source": [
    "<table style=\"float:left;background: #407EAF\">\n",
    "<tr>\n",
    "<th>\n",
    "<p class=\"transparent\">在WebShell #1运行</p>\n",
    "</th>\n",
    "</tr>\n",
    "</table>\n",
    "<br>"
   ]
  },
  {
   "cell_type": "code",
   "execution_count": null,
   "metadata": {
    "collapsed": true
   },
   "outputs": [],
   "source": [
    "roslaunch iri_wam_aff_demo start_demo.launch"
   ]
  },
  {
   "cell_type": "markdown",
   "metadata": {},
   "source": [
    "该命令将模拟移动WAM机器人手臂。你会看到类似下面的结果： "
   ]
  },
  {
   "cell_type": "markdown",
   "metadata": {},
   "source": [
    "<img src=\"img/basic_unit3_example1-1.gif\"/>"
   ]
  },
  {
   "cell_type": "markdown",
   "metadata": {},
   "source": [
    "<p style=\"background:#407EAF;color:white;\"> **例 3.1结束**</p>"
   ]
  },
  {
   "cell_type": "markdown",
   "metadata": {},
   "source": [
    "### 你刚才做了什么?"
   ]
  },
  {
   "cell_type": "markdown",
   "metadata": {},
   "source": [
    "launch文件启动了两个节点！ (是的！你可以使用一个launch文件启动多个节点）：\n",
    "\n",
    "* /iri_wam_reproduce_trajectory\n",
    "* /iri_wam_aff_demo\n",
    "\n",
    "\n",
    "第一个节点提供 **<i>/execute_trajectory</i>** 服务。 该节点是包含该**服务**的节点。\n",
    "第二个节点调用该服务。当该服务被调用时，机器人将按给定的轨迹执行。"
   ]
  },
  {
   "cell_type": "markdown",
   "metadata": {},
   "source": [
    "### 让我们了解更多关于服务的内容。"
   ]
  },
  {
   "cell_type": "markdown",
   "metadata": {},
   "source": [
    "<p style=\"background:#407EAF;color:white;\">**例 3.2**</p>"
   ]
  },
  {
   "cell_type": "markdown",
   "metadata": {},
   "source": [
    "让我们看一下Wam机器人中可用的服务列表。要做到这一点，打开另一个终端。<br>\n",
    "**不要结束 <i>start_demo.launch</i>，使其保持运行，否则我们看不到该服务。<br>**"
   ]
  },
  {
   "cell_type": "markdown",
   "metadata": {},
   "source": [
    "在不同的终端执行下面的操作。"
   ]
  },
  {
   "cell_type": "markdown",
   "metadata": {},
   "source": [
    "<table style=\"float:left;background: #407EAF\">\n",
    "<tr>\n",
    "<th>\n",
    "<p class=\"transparent\">在WebShell #2运行</p>\n",
    "</th>\n",
    "</tr>\n",
    "</table>\n",
    "<br>"
   ]
  },
  {
   "cell_type": "code",
   "execution_count": null,
   "metadata": {
    "collapsed": true
   },
   "outputs": [],
   "source": [
    "rosservice list"
   ]
  },
  {
   "cell_type": "markdown",
   "metadata": {},
   "source": [
    "你会看到所有可用的服务都列了出来，类似下面图像的结果，You should see something like the following image, listing all the services available:"
   ]
  },
  {
   "cell_type": "markdown",
   "metadata": {},
   "source": [
    "<p style=\"background: #407EAF\">WebShell #2 Output</p>"
   ]
  },
  {
   "cell_type": "code",
   "execution_count": null,
   "metadata": {
    "collapsed": true
   },
   "outputs": [],
   "source": [
    "user ~ $ rosservice list\n",
    "/camera/rgb/image_raw/compressed/set_parameters\n",
    "/camera/rgb/image_raw/compressedDepth/set_parameters\n",
    "/camera/rgb/image_raw/theora/set_parameters\n",
    "/camera/set_camera_info\n",
    "/camera/set_parameters\n",
    "/execute_trajectory\n",
    "/gazebo/apply_body_wrench\n",
    "..."
   ]
  },
  {
   "cell_type": "markdown",
   "metadata": {},
   "source": [
    "<font style=\"color:red;\"><b>警告: 如果 <i>/execute_trajectory</i>服务没有列出来，可能是由于你停止了<i>start_demo.launch</i>。如果是这样的话，重新启动它，然后再查看服务。</b></font>"
   ]
  },
  {
   "cell_type": "markdown",
   "metadata": {},
   "source": [
    "是不是有很多服务？一些是仿真器系统 (<i>/gazebo/...</i>)提供的, 其他的是Kinect Camera (<i>/camera/...</i>) 和机器人本身(<i>/iri_wam/...</i>)提供的。\n",
    "可以看到， <i>/execute_trajectory</i> 服务在这里列出了。<br>\n",
    "\n",
    "\n",
    "使用下面的命令可以获取关于任何服务的更多信息："
   ]
  },
  {
   "cell_type": "code",
   "execution_count": null,
   "metadata": {
    "collapsed": true
   },
   "outputs": [],
   "source": [
    "rosservice info /name_of_your_service"
   ]
  },
  {
   "cell_type": "markdown",
   "metadata": {},
   "source": [
    "运行下面的命令，了解更多关于服务 **<i>/execute_trajectory</i>**的信息。"
   ]
  },
  {
   "cell_type": "markdown",
   "metadata": {},
   "source": [
    "<table style=\"float:left;background: #407EAF\">\n",
    "<tr>\n",
    "<th>\n",
    "<p class=\"transparent\">在WebShell #2运行</p>\n",
    "</th>\n",
    "</tr>\n",
    "</table>\n",
    "<br>"
   ]
  },
  {
   "cell_type": "code",
   "execution_count": null,
   "metadata": {
    "collapsed": true
   },
   "outputs": [],
   "source": [
    "rosservice info /execute_trajectory"
   ]
  },
  {
   "cell_type": "markdown",
   "metadata": {},
   "source": [
    "<p style=\"background: #407EAF\">WebShell #2 Output</p>"
   ]
  },
  {
   "cell_type": "code",
   "execution_count": null,
   "metadata": {
    "collapsed": true
   },
   "outputs": [],
   "source": [
    "user ~ $ rosservice info /execute_trajectory\n",
    "Node: /iri_wam_reproduce_trajectory\n",
    "URI: rosrpc://ip-172-31-17-169:35175\n",
    "Type: iri_wam_reproduce_trajectory/ExecTraj\n",
    "Args: file"
   ]
  },
  {
   "cell_type": "markdown",
   "metadata": {},
   "source": [
    "各参数意义如下：\n",
    "\n",
    "* **Node**: 表示提供（或创建）该服务的节点。\n",
    "* **Type**: 指该服务使用的消息类型。其结构与主题相同。通常由 **<i>package_where_the_service_message_is_defined</i> /  <i>Name_of_the_File_where_Service_message_is_defined</i>** 构成。该例中，功能包是 **<i>iri_wam_reproduce_trajectory</i>**,定义服务消息的文件名为 **<i>ExecTraj</i>**。\n",
    "* **Args**: 从这里可以找到该服务被调用时所使用的参数。该例中，只有一个参数 **<i>trajectory file path</i>** ，它存在一个名为**<i>file</i>** 的变量中。\n"
   ]
  },
  {
   "cell_type": "markdown",
   "metadata": {},
   "source": [
    "<p style=\"background:#407EAF;color:white;\"> **例 3.2结束**</p>"
   ]
  },
  {
   "cell_type": "markdown",
   "metadata": {},
   "source": [
    "### 想知道 <i>/execute_trajectory</i> 服务是如何开始的吗?"
   ]
  },
  {
   "cell_type": "markdown",
   "metadata": {},
   "source": [
    "下面是一个通过WebShell查看 **start_demo.launch** 文件的例子。"
   ]
  },
  {
   "cell_type": "markdown",
   "metadata": {},
   "source": [
    "<p style=\"background:#407EAF;color:white;\" id=\"example3.3\">**例 3.3**</p>"
   ]
  },
  {
   "cell_type": "markdown",
   "metadata": {},
   "source": [
    "你还记得如何直接进入一个功能包吗？你还记得从哪里可以找到launch文件吗？<br>"
   ]
  },
  {
   "cell_type": "markdown",
   "metadata": {},
   "source": [
    "<table style=\"float:left;background: #407EAF\">\n",
    "<tr>\n",
    "<th>\n",
    "<p class=\"transparent\">在WebShell #2运行</p>\n",
    "</th>\n",
    "</tr>\n",
    "</table>"
   ]
  },
  {
   "cell_type": "code",
   "execution_count": null,
   "metadata": {
    "collapsed": true
   },
   "outputs": [],
   "source": [
    "roscd iri_wam_aff_demo\n",
    "cd launch/\n",
    "cat start_demo.launch"
   ]
  },
  {
   "cell_type": "markdown",
   "metadata": {},
   "source": [
    "你会得到类似下面的输出："
   ]
  },
  {
   "cell_type": "code",
   "execution_count": null,
   "metadata": {
    "collapsed": true
   },
   "outputs": [],
   "source": [
    "<launch>\n",
    "\n",
    "  <include file=\"$(find iri_wam_reproduce_trajectory)/launch/start_service.launch\"/>\n",
    "\n",
    "  <node pkg =\"iri_wam_aff_demo\"\n",
    "        type=\"iri_wam_aff_demo_node\"\n",
    "        name=\"iri_wam_aff_demo\"\n",
    "        output=\"screen\">\n",
    "  </node>\n",
    "\n",
    "</launch>"
   ]
  },
  {
   "cell_type": "markdown",
   "metadata": {},
   "source": [
    "<b>这里有一些有趣的东西</b>:\n",
    "<br><br>\n",
    "1) 该launch文件的第一部分调用另一个名为 **<i>start_service.launch</i>** 的launch文件。\n",
    "<br><br>\n",
    "start_service.launch文件启动提供<i>/execute_trajectory</i> 服务的节点。注意，它使用一个特殊的ROS launch文件函数查找指定功能包的路径。<br>"
   ]
  },
  {
   "cell_type": "code",
   "execution_count": null,
   "metadata": {
    "collapsed": true,
    "raw_mimetype": "text/html"
   },
   "outputs": [],
   "source": [
    "<include file=\"$(find package_where_launch_is)/launch/my_launch_file.launch\"/>"
   ]
  },
  {
   "cell_type": "markdown",
   "metadata": {},
   "source": [
    "2) 该launch文件的第二部分启动一个你刚在<b>ROS Basics Unit</b>学习过的节点。The second part launches a node just as you learned in the <b>ROS Basics Unit</b>。该节点调用 <i>/execute_trajectory</i> 服务来使机器人移动。"
   ]
  },
  {
   "cell_type": "markdown",
   "metadata": {},
   "source": [
    "3) 第二个节点不是一个Python节点，而是一个编译过的cpp节点（二进制）。你既可以用CPP也可以用Python来构建ROS程序。该课程主要使用Python。"
   ]
  },
  {
   "cell_type": "code",
   "execution_count": null,
   "metadata": {
    "collapsed": true,
    "raw_mimetype": "text/html"
   },
   "outputs": [],
   "source": [
    "<node pkg =\"package_where_cpp_is\"\n",
    "      type=\"name_of_binary_after_compiling_cpp\"\n",
    "      name=\"name_of_the_node_initialised_in_cpp\"\n",
    "      output=\"screen\">\n",
    "</node>"
   ]
  },
  {
   "cell_type": "markdown",
   "metadata": {},
   "source": [
    "<p style=\"background:#407EAF;color:white;\"> **例 3.3结束**</p>"
   ]
  },
  {
   "cell_type": "markdown",
   "metadata": {},
   "source": [
    "## 如何调用一个服务？"
   ]
  },
  {
   "cell_type": "markdown",
   "metadata": {},
   "source": [
    "你可以从控制台手动调用一个服务。这有助于测试，还有助于理解服务是如何工作的。 "
   ]
  },
  {
   "cell_type": "code",
   "execution_count": null,
   "metadata": {
    "collapsed": true
   },
   "outputs": [],
   "source": [
    "rosservice call /the_service_name TAB-TAB"
   ]
  },
  {
   "cell_type": "markdown",
   "metadata": {},
   "source": [
    "<font class=\"ign_green\"><b>提示: <i>TAB-TAB</i>表示快速按 <i>TAB</i> 键两次。它会自动为你完成将被发送的服务消息。接着，你只需把值填上即可。</b></font><br>"
   ]
  },
  {
   "cell_type": "markdown",
   "metadata": {},
   "source": [
    "<p style=\"background:#407EAF;color:white;\">**例3.4**</p>"
   ]
  },
  {
   "cell_type": "markdown",
   "metadata": {},
   "source": [
    "使用下面的命令来调用名为 **/gazebo/delete_model** 的服务。"
   ]
  },
  {
   "cell_type": "markdown",
   "metadata": {},
   "source": [
    "<table style=\"float:left;background: #407EAF\">\n",
    "<tr>\n",
    "<th>\n",
    "<p class=\"transparent\">在WebShell #2运行</p>\n",
    "</th>\n",
    "</tr>\n",
    "</table>\n",
    "<br>"
   ]
  },
  {
   "cell_type": "code",
   "execution_count": null,
   "metadata": {
    "collapsed": true
   },
   "outputs": [],
   "source": [
    "rosservice call /gazebo/delete_model [TAB]+[TAB]"
   ]
  },
  {
   "cell_type": "markdown",
   "metadata": {},
   "source": [
    "当你快速按下 [TAB]两次后,出现一个额外的信息。ROS自动补全输入/请求该服务的结构。<br>\n",
    "本例中，它给出下面的结构：\n",
    "<br><br>\n",
    "<b>\"model_name: '<span class=\"ign_blue\">the_name_of_the_object_you_want_to_delete</span>'\"</b>"
   ]
  },
  {
   "cell_type": "markdown",
   "metadata": {},
   "source": [
    " **/gazebo/delete_model** 是一个由Gazebo仿真器提供的服务，允许你来 **检测场景中的任何对象**。"
   ]
  },
  {
   "cell_type": "markdown",
   "metadata": {},
   "source": [
    "使用该服务来移除桌子。在该仿真中桌子的model_name是**cafe_table** 。"
   ]
  },
  {
   "cell_type": "markdown",
   "metadata": {},
   "source": [
    "<table style=\"float:left;background: #407EAF\">\n",
    "<tr>\n",
    "<th>\n",
    "<p class=\"transparent\">在ebShell #2运行</p>\n",
    "</th>\n",
    "</tr>\n",
    "</table>\n",
    "<br>"
   ]
  },
  {
   "cell_type": "code",
   "execution_count": null,
   "metadata": {
    "collapsed": true
   },
   "outputs": [],
   "source": [
    "rosservice call /gazebo/delete_model \"model_name: 'cafe_table'\""
   ]
  },
  {
   "cell_type": "markdown",
   "metadata": {},
   "source": [
    "桌子消失了吗？你会看到类似下面的结果："
   ]
  },
  {
   "cell_type": "markdown",
   "metadata": {},
   "source": [
    "<img src=\"img/basic_unit3_example3-4.gif\"/>"
   ]
  },
  {
   "cell_type": "markdown",
   "metadata": {},
   "source": [
    "现在，如果你想对仿真中的任何对象进行操作的话，你必须学会如何获取场景中的对象列表。<br>\n",
    "进行下面的操作："
   ]
  },
  {
   "cell_type": "markdown",
   "metadata": {},
   "source": [
    "<table style=\"float:left;background: #407EAF\">\n",
    "<tr>\n",
    "<th>\n",
    "<p class=\"transparent\">在WebShell #2运行</p>\n",
    "</th>\n",
    "</tr>\n",
    "</table>\n",
    "<br>"
   ]
  },
  {
   "cell_type": "code",
   "execution_count": null,
   "metadata": {
    "collapsed": true
   },
   "outputs": [],
   "source": [
    "rostopic echo /gazebo/model_states -n1"
   ]
  },
  {
   "cell_type": "markdown",
   "metadata": {},
   "source": [
    "你会得到类似下面的列表："
   ]
  },
  {
   "cell_type": "code",
   "execution_count": null,
   "metadata": {
    "collapsed": true
   },
   "outputs": [],
   "source": [
    "user:~$ rostopic echo /gazebo/model_states -n1\n",
    "name: ['ground_plane', 'kinect', 'bowl_2', 'bowl_1', 'unit_box_1', 'iri_wam']\n",
    "pose:\n",
    "    ...(the poses of each one of the models in the list in order)"
   ]
  },
  {
   "cell_type": "markdown",
   "metadata": {},
   "source": [
    "<font class=\"ign_red\"><b>但是，千万不要激动得把所有对象都删掉，这样做的话，最后你什么都没剩下！</b></font>"
   ]
  },
  {
   "cell_type": "markdown",
   "metadata": {},
   "source": [
    "<p style=\"background:#407EAF;color:white;\">**例 3.4结束**</p>"
   ]
  },
  {
   "cell_type": "markdown",
   "metadata": {},
   "source": [
    "### 如何通过程序与服务交互？"
   ]
  },
  {
   "cell_type": "markdown",
   "metadata": {},
   "source": [
    "<p style=\"background:#407EAF;color:white;\" id=\"example3.5\">**例 3.5**</p>"
   ]
  },
  {
   "cell_type": "markdown",
   "metadata": {},
   "source": [
    "点击IPython notebook右上角的“play”按钮，运行下面的Python代码 <a href=\"#prg-3-1\">simple_service_client.py</a> 。<br> "
   ]
  },
  {
   "cell_type": "markdown",
   "metadata": {},
   "source": [
    "<div class='white_bg'><img src=\"img/font-awesome_step-forward.png\" style=\"float:left\"/><br><br></div>"
   ]
  },
  {
   "cell_type": "markdown",
   "metadata": {},
   "source": [
    "你也可以按下 **[CTRL]+[Enter]** 组合键运行它。"
   ]
  },
  {
   "cell_type": "markdown",
   "metadata": {},
   "source": [
    "你认为它会做什么?<br>"
   ]
  },
  {
   "cell_type": "markdown",
   "metadata": {},
   "source": [
    "<p style=\"background:#3B8F10;color:white;\" id=\"prg-3-5\">**Python 程序 {3.5}: simple_service_client.py** </p><br>"
   ]
  },
  {
   "cell_type": "code",
   "execution_count": null,
   "metadata": {
    "collapsed": true
   },
   "outputs": [],
   "source": [
    "#! /usr/bin/env python\n",
    "\n",
    "import rospy\n",
    "from gazebo_msgs.srv import DeleteModel, DeleteModelRequest # 导入服务 /gazebo/delete_model使用的服务消息\n",
    "import sys \n",
    "\n",
    "rospy.init_node('service_client') # 初始化一个名为 service_client的ROS节点\n",
    "rospy.wait_for_service('/gazebo/delete_model') # 等待服务客户端 /gazebo/delete_model 运行\n",
    "delete_model_service = rospy.ServiceProxy('/gazebo/delete_model', DeleteModel) # 创建与服务的连接\n",
    "kk = DeleteModelRequest() # 创建一个类型为 DeleteModelRequest的对象\n",
    "kk.model_name = \"bowl_1\" # 为该对象的model_name变量赋值\n",
    "result = delete_model_service(kk) # 通过连接发送要被服务删除的对象名称\n",
    "print result # 打印被调用的服务给出的结果"
   ]
  },
  {
   "cell_type": "markdown",
   "metadata": {},
   "source": [
    "<p style=\"background:#3B8F10;color:white;\">**Python程序 {3.5}: simple_service_client.py结束** </p>"
   ]
  },
  {
   "cell_type": "markdown",
   "metadata": {},
   "source": [
    "你会发现，执行完这段代码后，bowl_1消失了。<br>"
   ]
  },
  {
   "cell_type": "markdown",
   "metadata": {},
   "source": [
    "<img src=\"img/basic_unit3_example3-5.gif\"/>"
   ]
  },
  {
   "cell_type": "markdown",
   "metadata": {},
   "source": [
    "<p style=\"background:#407EAF;color:white;\"> **例3.5结束**</p>"
   ]
  },
  {
   "cell_type": "markdown",
   "metadata": {},
   "source": [
    "### 如何查看服务所使用的消息结构？"
   ]
  },
  {
   "cell_type": "markdown",
   "metadata": {},
   "source": [
    "<p style=\"background:#407EAF;color:white;\" id=\"example3.6\">**例 3.6**</p>"
   ]
  },
  {
   "cell_type": "markdown",
   "metadata": {},
   "source": [
    "使用 **rosservice info** 命令可以查看它所使用的消息类型。"
   ]
  },
  {
   "cell_type": "code",
   "execution_count": null,
   "metadata": {
    "collapsed": true
   },
   "outputs": [],
   "source": [
    "rosservice info /name_of_the_service"
   ]
  },
  {
   "cell_type": "markdown",
   "metadata": {},
   "source": [
    "该语句将会返回 **name_of_the_package/Name_of_Service_message**。"
   ]
  },
  {
   "cell_type": "markdown",
   "metadata": {},
   "source": [
    "然后，你可以使用下面的命令查看该服务消息的结构："
   ]
  },
  {
   "cell_type": "code",
   "execution_count": null,
   "metadata": {
    "collapsed": true
   },
   "outputs": [],
   "source": [
    "rossrv show name_of_the_package/Name_of_Service_message"
   ]
  },
  {
   "cell_type": "markdown",
   "metadata": {},
   "source": [
    "执行下面的命令，看一下 **/gazebo/delete_model** 服务使用的是什么服务消息："
   ]
  },
  {
   "cell_type": "markdown",
   "metadata": {},
   "source": [
    "<table style=\"float:left;background: #407EAF\">\n",
    "<tr>\n",
    "<th>\n",
    "<p class=\"transparent\">在WebShell #2运行</p>\n",
    "</th>\n",
    "</tr>\n",
    "</table>\n",
    "<br>"
   ]
  },
  {
   "cell_type": "code",
   "execution_count": null,
   "metadata": {
    "collapsed": true
   },
   "outputs": [],
   "source": [
    "rosservice info /gazebo/delete_model"
   ]
  },
  {
   "cell_type": "markdown",
   "metadata": {},
   "source": [
    "你会看到类似下面的输出："
   ]
  },
  {
   "cell_type": "markdown",
   "metadata": {},
   "source": [
    "<p style=\"background: #407EAF\">WebShell #2 输出</p>"
   ]
  },
  {
   "cell_type": "code",
   "execution_count": null,
   "metadata": {
    "collapsed": true
   },
   "outputs": [],
   "source": [
    "Node: /gazebo\n",
    "URI: rosrpc://ip-172-31-35-239:50272\n",
    "Type: gazebo_msgs/DeleteModel\n",
    "Args: model_name"
   ]
  },
  {
   "cell_type": "markdown",
   "metadata": {},
   "source": [
    "现在，执行下面的命令查看消息 **DeleteModel** 的结构："
   ]
  },
  {
   "cell_type": "markdown",
   "metadata": {},
   "source": [
    "<table style=\"float:left;background: #407EAF\">\n",
    "<tr>\n",
    "<th>\n",
    "<p class=\"transparent\">在WebShell #2运行</p>\n",
    "</th>\n",
    "</tr>\n",
    "</table>\n",
    "<br>"
   ]
  },
  {
   "cell_type": "code",
   "execution_count": null,
   "metadata": {
    "collapsed": true
   },
   "outputs": [],
   "source": [
    "rossrv show gazebo_msgs/DeleteModel"
   ]
  },
  {
   "cell_type": "markdown",
   "metadata": {},
   "source": [
    "你会看到类似下面的输出："
   ]
  },
  {
   "cell_type": "markdown",
   "metadata": {},
   "source": [
    "<p style=\"background: #407EAF\">WebShell #2 输出</p>"
   ]
  },
  {
   "cell_type": "code",
   "execution_count": null,
   "metadata": {
    "collapsed": true
   },
   "outputs": [],
   "source": [
    "user catkin_ws $ rossrv show gazebo_msgs/DeleteModel\n",
    "string model_name\n",
    "---\n",
    "bool success\n",
    "string status_message"
   ]
  },
  {
   "cell_type": "markdown",
   "metadata": {},
   "source": [
    "看起来是不是有些熟悉？应该是，因为它和主题消息的结构相同，只是多了一些内容。"
   ]
  },
  {
   "cell_type": "markdown",
   "metadata": {},
   "source": [
    "#### 1- 服务消息文件扩展名为 **<i>.srv</i>**。主题消息扩展名为 **<i>.msg</i>**"
   ]
  },
  {
   "cell_type": "markdown",
   "metadata": {},
   "source": [
    "#### 2- 服务消息文件定义在一个 **<i>srv</i>** 目录中。主题消息文件定义在一个 **<i>msg</i>** 目录中。"
   ]
  },
  {
   "cell_type": "markdown",
   "metadata": {},
   "source": [
    "输入下面的命令进行查看。"
   ]
  },
  {
   "cell_type": "markdown",
   "metadata": {},
   "source": [
    "<table style=\"float:left;background: #407EAF\">\n",
    "<tr>\n",
    "<th>\n",
    "<p class=\"transparent\">在WebShell #2运行</p>\n",
    "</th>\n",
    "</tr>\n",
    "</table>"
   ]
  },
  {
   "cell_type": "code",
   "execution_count": null,
   "metadata": {
    "collapsed": true
   },
   "outputs": [],
   "source": [
    "roscd gazebo_msgs; ls srv"
   ]
  },
  {
   "cell_type": "markdown",
   "metadata": {},
   "source": [
    "#### 3- 服务消息有 **2** 部分："
   ]
  },
  {
   "cell_type": "markdown",
   "metadata": {},
   "source": [
    "<p style=\"color: blue;\">**请求**</p><br>\n",
    "\n",
    "---<br>\n",
    "\n",
    "<p style=\"color: green;\">**响应**</p>"
   ]
  },
  {
   "cell_type": "markdown",
   "metadata": {},
   "source": [
    "对于DeleteModel 服务这个例子, <span style=\"color: blue;\">**请求**</span> 包含了一个名为 **<i>model_name</i>** 的字符串， <span style=\"color: green;\">**响应**</span> 则由一个名为 **<i>success</i>** 的布尔值和一个名为 **<i>status_message</i>** 的字符串组成。\n",
    "<br><br>\n",
    "服务消息中每部分元素的数量各不相同，具体数量取决于所需要的服务。如果你觉得它与你的服务不相关，你甚至可以把它设置成“无”。消息中最重要的部分是三个破折号<b>---</b>, 它们表示该消息的类型为服务消息。"
   ]
  },
  {
   "cell_type": "markdown",
   "metadata": {},
   "source": [
    "总结：\n",
    "\n",
    "<span style=\"color: blue;\">**请求**</span> 是服务消息中定义 **如何调用你的服务** 的那一部分。它给出了你必须向消息服务器传送哪些变量才能使它完成任务。\n",
    "\n",
    "<span style=\"color: green;\">**响应**</span> 是服务消息中定义完成任务后 **你的服务如何响应** 的那一部分。例如，如果一切运行正常，它将返回一串带有特定消息的字符串；如果运行错误，它将什么都不返回。"
   ]
  },
  {
   "cell_type": "markdown",
   "metadata": {},
   "source": [
    "<p style=\"background:#407EAF;color:white;\"> **例 3.6**结束</p>"
   ]
  },
  {
   "cell_type": "markdown",
   "metadata": {},
   "source": [
    "<p id=\"ex-2.3\" style=\"background:#EE9023;color:white;\">**练习 3.1**</p>"
   ]
  },
  {
   "cell_type": "markdown",
   "metadata": {},
   "source": [
    "* 首先，创建一个功能包放置所有的代码。为了将来参考方便，可将其命名为**unit_3_services**，依赖项为 **rospy** 和 **iri_wam_reproduce_trajectory**。\n",
    "* 创建一个名为 **my_robot_arm_demo.launch** 的launch文件 用来启动 **/execute_trajectory** 服务。如在 <a href=\"#example3.3\">例 3.3中解释的那样</a>, 该服务由位于功能包**iri_wam_reproduce_trajectory**中的launch文件 **start_service.launch** 启动。\n",
    "* 按照<a href=\"#example3.6\">例 3.6</a>中的方法，获取**/execute_trajectory** 服务使用的服务消息类型。\n",
    "* 使机器人臂按照文件中规定的轨迹运动。<br>\n",
    "更改 <a href=\"#example3.5\">例 3.5</a>中的代码,这些代码用来调用 **/gazebo/delete_model** 服务。这里应改为 **/execute_trajectory** 服务。为将来参考方便，新的Python文件可命名为 **exercise_3_1.py**。\n",
    "* 现在，你已完成从该功能包的轨迹文件中获取路径所需要的代码。这里选择的轨迹文件为 **get_food.txt**，你可以选用**iri_wam_reproduce_trajectory**功能包的**config**文件夹中可用的任一轨迹文件。"
   ]
  },
  {
   "cell_type": "code",
   "execution_count": null,
   "metadata": {
    "collapsed": true
   },
   "outputs": [],
   "source": [
    "import rospkg\n",
    "rospack = rospkg.RosPack()\n",
    "# This rospack.get_path() works in the same way as $(find name_of_package) in the launch files.\n",
    "traj = rospack.get_path('iri_wam_reproduce_trajectory') + \"/config/get_food.txt\""
   ]
  },
  {
   "cell_type": "markdown",
   "metadata": {},
   "source": [
    "* 修改主launch文件 **my_robot_arm_demo.launch**，以便它启动你刚在**exercise_3_1.py**中创建的Python代码。\n",
    "* 最后，执行**my_robot_arm_demo.launch** 文件，看一下机器人是如何按轨迹运动的。"
   ]
  },
  {
   "cell_type": "markdown",
   "metadata": {},
   "source": [
    "<p id=\"ex-2.3\" style=\"background:#EE9023;color:white;\"> **练习 3.1**结束</p>"
   ]
  },
  {
   "cell_type": "markdown",
   "metadata": {},
   "source": [
    "<p style=\"background:green;color:white;\">练习 3.1解决方案</p>"
   ]
  },
  {
   "cell_type": "markdown",
   "metadata": {},
   "source": [
    "请尽量独自完成，除非你陷入困境或需要一些灵感。如果每一个练习你都认真对待的话，你会学到更多！"
   ]
  },
  {
   "cell_type": "markdown",
   "metadata": {},
   "source": [
    "<img src=\"img/robotignite_logo_text.png\"/>"
   ]
  },
  {
   "cell_type": "markdown",
   "metadata": {},
   "source": [
    "按照下面的链接打开解决方案笔记本:[solutions_unit3_services_part1](extra_files/zh_solutions_unit3_services_part1.ipynb)"
   ]
  },
  {
   "cell_type": "markdown",
   "metadata": {},
   "source": [
    "<p style=\"background:green;color:white;\">练习 3.1解决方案结束</p>"
   ]
  },
  {
   "cell_type": "markdown",
   "metadata": {},
   "source": [
    "## 总结"
   ]
  },
  {
   "cell_type": "markdown",
   "metadata": {},
   "source": [
    "服务为其他程序提供特定功能。如果一个节点知道如何在仿真中删除一个对象，那么它可以通过一个服务为其他节点提供该功能，以便其他节点需要删除对象时调用该服务。\n",
    "<br><br>\n"
   ]
  }
 ],
 "metadata": {
  "anaconda-cloud": {},
  "kernelspec": {
   "display_name": "Python 3",
   "language": "python",
   "name": "python3"
  },
  "language_info": {
   "codemirror_mode": {
    "name": "ipython",
    "version": 3
   },
   "file_extension": ".py",
   "mimetype": "text/x-python",
   "name": "python",
   "nbconvert_exporter": "python",
   "pygments_lexer": "ipython3",
   "version": "3.6.4"
  },
  "latex_metadata": {
   "chapter": "3 - Services in ROS",
   "chapter_title": "Unit 3. Services in ROS Part 1",
   "course_title": "ROS BASICS IN 5 DAYS"
  }
 },
 "nbformat": 4,
 "nbformat_minor": 1
}
