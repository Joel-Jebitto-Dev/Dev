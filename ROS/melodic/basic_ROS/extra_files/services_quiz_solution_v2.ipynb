{
 "cells": [
  {
   "cell_type": "markdown",
   "metadata": {},
   "source": [
    "# Solutions for Services Quiz"
   ]
  },
  {
   "cell_type": "markdown",
   "metadata": {},
   "source": [
    "<img src=\"../img/robotignite_logo_text.png\"/>"
   ]
  },
  {
   "cell_type": "markdown",
   "metadata": {},
   "source": [
    "## Solution for Services Quiz"
   ]
  },
  {
   "cell_type": "markdown",
   "metadata": {},
   "source": [
    "* Upgrade the Python file called **bb8_move_custom_service_server.py**. Modify the code you used in **Exercise 3.3**, which contained a Service Server that accepted a custom Service message to activate the circle movement (with a defined duration). This new service will be called **/move_bb8_in_square_custom**. This new service will have to use service messages of the **BB8CustomServiceMessage** type, which is defined here:"
   ]
  },
  {
   "cell_type": "markdown",
   "metadata": {},
   "source": [
    "The first thing to do is create the <a href=\"#BB8CustomServiceMessage_srv\">BB8CustomServiceMessage.srv</a>, creating a **srv** folder inside the package **services_quiz**."
   ]
  },
  {
   "cell_type": "markdown",
   "metadata": {},
   "source": [
    "<p style=\"background:#3B8F10;color:white;\" id=\"BB8CustomServiceMessage_srv\">**Service Message: BB8CustomServiceMessage.srv** </p>"
   ]
  },
  {
   "cell_type": "code",
   "execution_count": null,
   "metadata": {
    "collapsed": true
   },
   "outputs": [],
   "source": [
    "float64 side       # The distance of each side of the square\n",
    "int32 repetitions    # The number of times BB-8 has to execute the square movement when the service is called\n",
    "---\n",
    "bool success         # Did it achieve it?"
   ]
  },
  {
   "cell_type": "markdown",
   "metadata": {},
   "source": [
    "<p style=\"background:#3B8F10;color:white;\" id=\"BB8CustomServiceMessage_srv\">END **Service Message: BB8CustomServiceMessage.srv** </p>"
   ]
  },
  {
   "cell_type": "markdown",
   "metadata": {},
   "source": [
    "We have to also modify the <a href=\"#CMakelists_txt\">CMakelists.txt</a> and the <a href=\"#package_xml\">package.xml</a>"
   ]
  },
  {
   "cell_type": "markdown",
   "metadata": {},
   "source": [
    "<p style=\"background:#3B8F10;color:white;\" id=\"CMakelists_txt\">**CMakelists.txt** </p>"
   ]
  },
  {
   "cell_type": "code",
   "execution_count": 1,
   "metadata": {
    "collapsed": false
   },
   "outputs": [
    {
     "ename": "SyntaxError",
     "evalue": "invalid syntax (<ipython-input-1-19b8bcfe64a9>, line 1)",
     "output_type": "error",
     "traceback": [
      "\u001b[1;36m  File \u001b[1;32m\"<ipython-input-1-19b8bcfe64a9>\"\u001b[1;36m, line \u001b[1;32m1\u001b[0m\n\u001b[1;33m    cmake_minimum_required(VERSION 2.8.3)\u001b[0m\n\u001b[1;37m                                     ^\u001b[0m\n\u001b[1;31mSyntaxError\u001b[0m\u001b[1;31m:\u001b[0m invalid syntax\n"
     ]
    }
   ],
   "source": [
    "cmake_minimum_required(VERSION 2.8.3)\n",
    "project(services_quiz)\n",
    "\n",
    "\n",
    "## Here go all the packages needed to COMPILE the messages of topic, services and actions.\n",
    "## It's only getting its paths, and not really importing them to be used in the compilation.\n",
    "## It's only for further functions in CMakeLists.txt to be able to find those packages.\n",
    "## In package.xml you have to state them as build\n",
    "find_package(catkin REQUIRED COMPONENTS\n",
    "  std_msgs\n",
    "  message_generation\n",
    ")\n",
    "\n",
    "## Generate services in the 'srv' folder\n",
    "## In this function will be all the action messages of this package ( in the action folder ) to be compiled.\n",
    "## You can state that it gets all the actions inside the action directory: DIRECTORY action\n",
    "## Or just the action messages stated explicitly: FILES my_custom_action.action\n",
    "## In your case, you only need to do one of two things, as you wish.\n",
    "add_service_files(\n",
    "  FILES\n",
    "  BB8CustomServiceMessage.srv\n",
    ")\n",
    "\n",
    "## Here is where the packages needed for the action messages compilation are imported.\n",
    "generate_messages(\n",
    "  DEPENDENCIES\n",
    "  std_msgs\n",
    ")\n",
    "\n",
    "## State here all the packages that will be needed by someone that executes something from your package.\n",
    "## All the packages stated here must be in the package.xml as exec_depend\n",
    "catkin_package(\n",
    "  CATKIN_DEPENDS rospy\n",
    ")\n",
    "\n",
    "\n",
    "include_directories(\n",
    "  ${catkin_INCLUDE_DIRS}\n",
    ")"
   ]
  },
  {
   "cell_type": "markdown",
   "metadata": {},
   "source": [
    "<p style=\"background:#3B8F10;color:white;\" id=\"package_xml\">**package.xml** </p>"
   ]
  },
  {
   "cell_type": "code",
   "execution_count": null,
   "metadata": {
    "collapsed": true
   },
   "outputs": [],
   "source": [
    "<?xml version=\"1.0\"?>\n",
    "<package format=\"2\">\n",
    "  <name>services_quiz</name>\n",
    "  <version>0.0.0</version>\n",
    "  <description>The services_quiz package</description>\n",
    "\n",
    "  <maintainer email=\"user@todo.todo\">user</maintainer>\n",
    "\n",
    "  <license>TODO</license>\n",
    "\n",
    "  <buildtool_depend>catkin</buildtool_depend>\n",
    "  <build_depend>rospy</build_depend>\n",
    "  <build_depend>std_msgs</build_depend>\n",
    "  <build_depend>message_generation</build_depend>\n",
    "  <build_export_depend>rospy</build_export_depend>\n",
    "  <exec_depend>rospy</exec_depend>\n",
    "  <build_export_depend>std_msgs</build_export_depend>\n",
    "  <exec_depend>std_msgs</exec_depend>\n",
    "  <build_export_depend>message_runtime</build_export_depend>\n",
    "  <exec_depend>message_runtime</exec_depend>\n",
    "\n",
    "  <export>\n",
    "  </export>\n",
    "</package>"
   ]
  },
  {
   "cell_type": "markdown",
   "metadata": {},
   "source": [
    "Once you have it, just compile and source in **ALL the webshells** that you are going to use so that ROS can find the new Messages."
   ]
  },
  {
   "cell_type": "code",
   "execution_count": null,
   "metadata": {
    "collapsed": true
   },
   "outputs": [],
   "source": [
    "roscd;cd ..\n",
    "catkin_make\n",
    "source devel/setup.bash"
   ]
  },
  {
   "cell_type": "markdown",
   "metadata": {},
   "source": [
    "And check that it finds the messages:"
   ]
  },
  {
   "cell_type": "code",
   "execution_count": null,
   "metadata": {
    "collapsed": true
   },
   "outputs": [],
   "source": [
    "rossrv list | grep BB8CustomServiceMessage"
   ]
  },
  {
   "cell_type": "markdown",
   "metadata": {},
   "source": [
    "You should get:"
   ]
  },
  {
   "cell_type": "code",
   "execution_count": null,
   "metadata": {
    "collapsed": true
   },
   "outputs": [],
   "source": [
    "services_quiz/BB8CustomServiceMessage"
   ]
  },
  {
   "cell_type": "markdown",
   "metadata": {},
   "source": [
    "* In the previous exercises, you were triggering a circle movement when calling to your service. In this new service, the movement triggered will have to be a square, like in the image below:"
   ]
  },
  {
   "cell_type": "markdown",
   "metadata": {},
   "source": [
    "<figure>\n",
    "  <img id=\"fig-3.1\" src=\"../img/bb8_excercice.png\" width=\"400\"></img>\n",
    "   <center> <figcaption>Fig.3.1 - BB-8 Square Movement Diagram</figcaption></center>\n",
    "</figure>"
   ]
  },
  {
   "cell_type": "markdown",
   "metadata": {},
   "source": [
    "* Use the data passed to this new **/move_bb8_in_square_custom** to change the way BB-8 moves.<br>\n",
    "Depending on the **side** value, the service must move the BB-8 robot in a square movement based on the **side** given.<br>\n",
    "Also, the BB-8 must repeat the shape as many times as indicated in the **repetitions** variable of the message.<br> Finally, it must return **True** if everything went OK in the **success** variable. "
   ]
  },
  {
   "cell_type": "markdown",
   "metadata": {},
   "source": [
    "Now its time to create the <a href=\"#bb8_move_custom_service_server.py\">bb8_move_custom_service_server.py</a>, using the new service messages **BB8CustomServiceMessage**."
   ]
  },
  {
   "cell_type": "markdown",
   "metadata": {},
   "source": [
    "<p style=\"background:#3B8F10;color:white;\" id=\"bb8_move_custom_service_server.py\">**Python File: bb8_move_custom_service_server.py** </p>"
   ]
  },
  {
   "cell_type": "code",
   "execution_count": null,
   "metadata": {
    "collapsed": true
   },
   "outputs": [],
   "source": [
    "#! /usr/bin/env python\n",
    "\n",
    "import rospy\n",
    "from std_srvs.srv import Empty, EmptyResponse # you import the service message python classes generated from Empty.srv.\n",
    "from services_quiz.srv import BB8CustomServiceMessage, BB8CustomServiceMessageResponse\n",
    "from geometry_msgs.msg import Twist\n",
    "import time\n",
    "\n",
    "def my_callback(request):\n",
    "    \n",
    "    rospy.loginfo(\"The Service move_bb8_in_square_custom has been called\")\n",
    "    \n",
    "    radius = request.side\n",
    "    for i in range(request.repetitions):\n",
    "        rospy.loginfo(\"Moving forward...\")\n",
    "        move_circle.linear.x = 0.2\n",
    "        move_circle.angular.z = 0\n",
    "        my_pub.publish(move_circle)\n",
    "        time.sleep(radius)\n",
    "        rospy.loginfo(\"Rotating...\")\n",
    "        move_circle.linear.x = 0\n",
    "        move_circle.angular.z = 0.2\n",
    "        my_pub.publish(move_circle)\n",
    "        time.sleep(4)\n",
    "        rospy.loginfo(\"Moving forward...\")\n",
    "        move_circle.linear.x = 0.2\n",
    "        move_circle.angular.z = 0\n",
    "        my_pub.publish(move_circle)\n",
    "        time.sleep(radius)\n",
    "        rospy.loginfo(\"Rotating...\")\n",
    "        move_circle.linear.x = 0\n",
    "        move_circle.angular.z = 0.2\n",
    "        my_pub.publish(move_circle)\n",
    "        time.sleep(4)\n",
    "        rospy.loginfo(\"Moving forward...\")\n",
    "        move_circle.linear.x = 0.2\n",
    "        move_circle.angular.z = 0\n",
    "        my_pub.publish(move_circle)\n",
    "        time.sleep(radius)\n",
    "        rospy.loginfo(\"Rotating...\")\n",
    "        move_circle.linear.x = 0\n",
    "        move_circle.angular.z = 0.2\n",
    "        my_pub.publish(move_circle)\n",
    "        time.sleep(4)\n",
    "        rospy.loginfo(\"Moving forward...\")\n",
    "        move_circle.linear.x = 0.2\n",
    "        move_circle.angular.z = 0\n",
    "        my_pub.publish(move_circle)\n",
    "        time.sleep(radius)\n",
    "        rospy.loginfo(\"Rotating...\")\n",
    "        move_circle.linear.x = 0\n",
    "        move_circle.angular.z = 0.2\n",
    "        my_pub.publish(move_circle)\n",
    "        time.sleep(4)\n",
    "        rospy.loginfo(\"Stopping...\")\n",
    "        move_circle.linear.x = 0\n",
    "        move_circle.angular.z = 0\n",
    "        my_pub.publish(move_circle)\n",
    "        time.sleep(2)\n",
    "        \n",
    "    rospy.loginfo(\"Finished service move_bb8_in_square_custom\")\n",
    "    response = BB8CustomServiceMessageResponse()\n",
    "    response.success = True\n",
    "    return response # the service Response class, in this case EmptyResponse\n",
    "\n",
    "rospy.init_node('service_move_bb8_in_square_server') \n",
    "my_service = rospy.Service('/move_bb8_in_square_custom', BB8CustomServiceMessage , my_callback) # create the Service called move_bb8_in_circle with the defined callback\n",
    "my_pub = rospy.Publisher('/cmd_vel', Twist, queue_size=1)\n",
    "move_circle = Twist()\n",
    "rospy.loginfo(\"Service /move_bb8_in_square_custom Ready\")\n",
    "rospy.spin() # mantain the service open."
   ]
  },
  {
   "cell_type": "markdown",
   "metadata": {},
   "source": [
    "<p style=\"background:#3B8F10;color:white;\">END **Python File: bb8_move_custom_service_server.py** </p>"
   ]
  },
  {
   "cell_type": "code",
   "execution_count": null,
   "metadata": {
    "collapsed": true
   },
   "outputs": [],
   "source": [
    "rospy.loginfo(\"Moving forward...\")\n",
    "move_circle.linear.x = 0.2\n",
    "move_circle.angular.z = 0\n",
    "my_pub.publish(move_circle)\n",
    "time.sleep(radius)"
   ]
  },
  {
   "cell_type": "markdown",
   "metadata": {},
   "source": [
    "Note that we are using the **side** variable of the message as the value for the time that the robot will be moving forward. This means, then, that the bigger this **side** variable is, the bigger the square made by the BB-8 robot will be."
   ]
  },
  {
   "cell_type": "markdown",
   "metadata": {},
   "source": [
    "* Create a new launch called **start_bb8_move_custom_service_server.launch** that launches the server that was launched in the python file **bb8_move_custom_service_server.py**.\n",
    "* Test that when calling this new service **/move_bb8_in_square_custom**, BB8 moves accordingly."
   ]
  },
  {
   "cell_type": "markdown",
   "metadata": {},
   "source": [
    "This **start_bb8_move_custom_service_server.launch** is the same as the one made in Exercise 3.3, just changing the package name and node name."
   ]
  },
  {
   "cell_type": "markdown",
   "metadata": {},
   "source": [
    "<p style=\"background:#3B8F10;color:white;\">**Launch File: start_bb8_move_custom_service_server.launch** </p>"
   ]
  },
  {
   "cell_type": "code",
   "execution_count": null,
   "metadata": {
    "collapsed": true
   },
   "outputs": [],
   "source": [
    "<launch>\n",
    "    <!-- Start Service Server for move_bb8_in_square service -->\n",
    "    <node pkg=\"services_quiz\" type=\"bb8_move_custom_service_server.py\" name=\"service_move_bb8_in_square_custom_server\"  output=\"screen\">\n",
    "    </node>\n",
    "</launch>"
   ]
  },
  {
   "cell_type": "markdown",
   "metadata": {},
   "source": [
    "<p style=\"background:#3B8F10;color:white;\">END **Launch File: start_bb8_move_custom_service_server.launch** </p>"
   ]
  },
  {
   "cell_type": "markdown",
   "metadata": {},
   "source": [
    "* Create a new service client that calls the service **/move_bb8_in_square_custom** and makes BB-8 move in a small square **twice** and in a big square **once**. It could be called **bb8_move_custom_service_client.py** and the launch that starts it **call_bb8_move_in_square_custom_service_server.launch**."
   ]
  },
  {
   "cell_type": "markdown",
   "metadata": {},
   "source": [
    "We first create the <a href=\"#bb8_move_custom_service_client_py\">bb8_move_custom_service_client.py</a> that will execute a call to perform the two small squares and one big square."
   ]
  },
  {
   "cell_type": "markdown",
   "metadata": {},
   "source": [
    "<p style=\"background:#3B8F10;color:white;\" id=\"bb8_move_custom_service_client_py\">**Python File: bb8_move_custom_service_client.py** </p>"
   ]
  },
  {
   "cell_type": "code",
   "execution_count": null,
   "metadata": {
    "collapsed": true
   },
   "outputs": [],
   "source": [
    "#! /usr/bin/env python\n",
    "import rospkg\n",
    "import rospy\n",
    "from services_quiz.srv import BB8CustomServiceMessage, BB8CustomServiceMessageRequest\n",
    "\n",
    "\n",
    "rospy.init_node('service_move_bb8_in_square_custom_client') # Initialise a ROS node with the name service_client\n",
    "rospy.wait_for_service('/move_bb8_in_square_custom') # Wait for the service client /move_bb8_in_square to be running\n",
    "move_bb8_in_square_service_client = rospy.ServiceProxy('/move_bb8_in_square_custom', BB8CustomServiceMessage) # Create the connection to the service\n",
    "move_bb8_in_square_request_object = BB8CustomServiceMessageRequest() # Create an object of type EmptyRequest\n",
    "\n",
    "\n",
    "\"\"\"\n",
    "# BB8CustomServiceMessage\n",
    "float64 side       # The distance of each side of the square\n",
    "int32 repetitions    # The number of times BB-8 has to execute the square movement when the service is called\n",
    "---\n",
    "bool success         # Did it achieve it?\n",
    "\"\"\"\n",
    "move_bb8_in_square_request_object.side = 2\n",
    "move_bb8_in_square_request_object.repetitions = 2\n",
    "\n",
    "rospy.loginfo(\"Start Two Small Squares...\")\n",
    "result = move_bb8_in_square_service_client(move_bb8_in_square_request_object) # Send through the connection the path to the trajectory file to be executed\n",
    "rospy.loginfo(str(result)) # Print the result given by the service called\n",
    "\n",
    "move_bb8_in_square_request_object.side = 4\n",
    "move_bb8_in_square_request_object.repetitions = 1\n",
    "\n",
    "rospy.loginfo(\"Start One Big Square...\")\n",
    "result = move_bb8_in_square_service_client(move_bb8_in_square_request_object) # Send through the connection the path to the trajectory file to be executed\n",
    "rospy.loginfo(str(result))\n",
    "\n",
    "rospy.loginfo(\"END of Service call...\")"
   ]
  },
  {
   "cell_type": "markdown",
   "metadata": {},
   "source": [
    "<p style=\"background:#3B8F10;color:white;\">END **Python File: bb8_move_custom_service_client.py** </p>"
   ]
  },
  {
   "cell_type": "markdown",
   "metadata": {},
   "source": [
    "And now we have to create a launch that launches this python node, called <a href=\"#call_bb8_move_in_square_custom_service_server_launch\">call_bb8_move_in_square_custom_service_server.launch</a>:"
   ]
  },
  {
   "cell_type": "markdown",
   "metadata": {},
   "source": [
    "<p style=\"background:#3B8F10;color:white;\" id=\"call_bb8_move_in_square_custom_service_server_launch\">**Launch File: call_bb8_move_in_square_custom_service_server.launch** </p>"
   ]
  },
  {
   "cell_type": "code",
   "execution_count": null,
   "metadata": {
    "collapsed": true
   },
   "outputs": [],
   "source": [
    "<launch>\n",
    "    <!-- Start Service Server for move_bb8_in_square service -->\n",
    "    <node pkg=\"services_quiz\" type=\"bb8_move_custom_service_client.py\" name=\"service_move_bb8_in_square_custom_client\"  output=\"screen\">\n",
    "    </node>\n",
    "</launch>"
   ]
  },
  {
   "cell_type": "markdown",
   "metadata": {},
   "source": [
    "<p style=\"background:#3B8F10;color:white;\">END **Launch File: call_bb8_move_in_square_custom_service_server.launch** </p>"
   ]
  },
  {
   "cell_type": "markdown",
   "metadata": {},
   "source": [
    "Finally, you just have to test the entire pipeline, so you have to launch the server launch in one webshell and the client in another. It should make the robot move as desired."
   ]
  },
  {
   "cell_type": "markdown",
   "metadata": {},
   "source": [
    "<table style=\"float:left;background: #407EAF\">\n",
    "<tr>\n",
    "<th>\n",
    "<p class=\"transparent\">Execute in WebShell #1</p>\n",
    "</th>\n",
    "</tr>\n",
    "</table>\n",
    "<br>"
   ]
  },
  {
   "cell_type": "code",
   "execution_count": null,
   "metadata": {
    "collapsed": true
   },
   "outputs": [],
   "source": [
    "roslaunch services_quiz start_bb8_move_custom_service_server.launch"
   ]
  },
  {
   "cell_type": "markdown",
   "metadata": {},
   "source": [
    "<table style=\"float:left;background: #407EAF\">\n",
    "<tr>\n",
    "<th>\n",
    "<p class=\"transparent\">Execute in WebShell #2</p>\n",
    "</th>\n",
    "</tr>\n",
    "</table>\n",
    "<br>"
   ]
  },
  {
   "cell_type": "code",
   "execution_count": null,
   "metadata": {
    "collapsed": true
   },
   "outputs": [],
   "source": [
    "roslaunch services_quiz call_bb8_move_in_square_custom_service_server.launch"
   ]
  },
  {
   "cell_type": "markdown",
   "metadata": {},
   "source": [
    "You should get something similar to this, but slower, because this has been accelerated for practical reasons:"
   ]
  },
  {
   "cell_type": "markdown",
   "metadata": {},
   "source": [
    "<img src=\"../img/basic_unit3_exercise3-3_final.gif\"/>"
   ]
  },
  {
   "cell_type": "code",
   "execution_count": null,
   "metadata": {
    "collapsed": true
   },
   "outputs": [],
   "source": []
  }
 ],
 "metadata": {
  "anaconda-cloud": {},
  "kernelspec": {
   "display_name": "Python [Root]",
   "language": "python",
   "name": "Python [Root]"
  },
  "language_info": {
   "codemirror_mode": {
    "name": "ipython",
    "version": 2
   },
   "file_extension": ".py",
   "mimetype": "text/x-python",
   "name": "python",
   "nbconvert_exporter": "python",
   "pygments_lexer": "ipython2",
   "version": "2.7.12"
  }
 },
 "nbformat": 4,
 "nbformat_minor": 1
}
