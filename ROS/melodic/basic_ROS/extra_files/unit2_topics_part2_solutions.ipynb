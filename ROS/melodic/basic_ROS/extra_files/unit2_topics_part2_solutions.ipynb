{
 "cells": [
  {
   "cell_type": "markdown",
   "metadata": {},
   "source": [
    "## Solutions for Unit 2 Topics Part 2"
   ]
  },
  {
   "cell_type": "markdown",
   "metadata": {},
   "source": [
    "<img src=\"../img/robotignite_logo_text.png\"/>"
   ]
  },
  {
   "cell_type": "markdown",
   "metadata": {},
   "source": [
    "## Index: "
   ]
  },
  {
   "cell_type": "markdown",
   "metadata": {},
   "source": [
    "* <a href=\"#SolutionExercise2-2\">Solution Exercise 3.2</a>\n",
    "* <a href=\"#SolutionExercise2-3\">Solution Exercise 3.3</a>"
   ]
  },
  {
   "cell_type": "markdown",
   "metadata": {},
   "source": [
    "## Solution Exercise 3.2 <p id=\"SolutionExercise2-2\"></p>"
   ]
  },
  {
   "cell_type": "markdown",
   "metadata": {},
   "source": [
    "<p style=\"background:#EE9023;color:white;\">**Exercise 3.2**</p>"
   ]
  },
  {
   "cell_type": "markdown",
   "metadata": {},
   "source": [
    "For this exercise, we will assume that our package is called **read_odometry**, our launch file is called **odom_subscriber.launch** and our Python file is called **odom_subscriber.py**."
   ]
  },
  {
   "cell_type": "markdown",
   "metadata": {},
   "source": [
    "<p style=\"background:#3B8F10;color:white;\" id=\"prg-2-1\">**Launch File: odom_subscriber.launch** </p>"
   ]
  },
  {
   "cell_type": "code",
   "execution_count": null,
   "metadata": {
    "collapsed": true
   },
   "outputs": [],
   "source": [
    "<launch>\n",
    "    <node pkg=\"read_odometry\" type=\"odom_subscriber.py\" name=\"odom_sub_node\" output=\"screen\" />\n",
    "</launch>"
   ]
  },
  {
   "cell_type": "markdown",
   "metadata": {},
   "source": [
    "<p style=\"background:#3B8F10;color:white;\" id=\"prg-2-1\">**Python File: odom_subscriber.py** </p>"
   ]
  },
  {
   "cell_type": "code",
   "execution_count": null,
   "metadata": {
    "collapsed": true
   },
   "outputs": [],
   "source": [
    "#! /usr/bin/env python\n",
    "\n",
    "import rospy\n",
    "from nav_msgs.msg import Odometry\n",
    "\n",
    "def callback(msg): \n",
    "  print msg #This will print the whole Odometry message\n",
    "# print msg.header #This will print the header section of the Odometry message\n",
    "# print msg.pose # #This will print the pose section of the Odometry message\n",
    "    \n",
    "rospy.init_node('odom_sub_node')\n",
    "sub = rospy.Subscriber('/odom', Odometry, callback)\n",
    "rospy.spin()"
   ]
  },
  {
   "cell_type": "markdown",
   "metadata": {},
   "source": [
    "Summarizing, you need to take into account that the **msg** variable that is recevied by the **callback** function will contain the whole Odometry message. So, if you want to acces any specific value of the message, you will have to do it like it is shown in the comments inside the function."
   ]
  },
  {
   "cell_type": "markdown",
   "metadata": {},
   "source": [
    "So, for instance, by printing the whole **msg** variable, you will get something like this:"
   ]
  },
  {
   "cell_type": "code",
   "execution_count": null,
   "metadata": {
    "collapsed": true
   },
   "outputs": [],
   "source": [
    "print msg"
   ]
  },
  {
   "cell_type": "markdown",
   "metadata": {},
   "source": [
    "<img src=\"../img/odom_msg_sol.png\" width=\"1000\" />"
   ]
  },
  {
   "cell_type": "markdown",
   "metadata": {},
   "source": [
    "And by printing just the **header** section, you will get something like this:"
   ]
  },
  {
   "cell_type": "code",
   "execution_count": null,
   "metadata": {
    "collapsed": true
   },
   "outputs": [],
   "source": [
    "print msg.header"
   ]
  },
  {
   "cell_type": "markdown",
   "metadata": {},
   "source": [
    "<img src=\"../img/header_msg_sol.png\" width=\"300\" />"
   ]
  },
  {
   "cell_type": "markdown",
   "metadata": {},
   "source": [
    "## Solution Exercise 3.3 <p id=\"SolutionExercise2-3\"></p>"
   ]
  },
  {
   "cell_type": "markdown",
   "metadata": {},
   "source": [
    "<p style=\"background:#EE9023;color:white;\">**Exercise 3.3**</p>"
   ]
  },
  {
   "cell_type": "markdown",
   "metadata": {},
   "source": [
    "For this exercise, we will assume that our package is called **exercise_33**, for future references"
   ]
  },
  {
   "cell_type": "markdown",
   "metadata": {},
   "source": [
    "So, for the exercise 3.3, we will have to create a custom message that defines an age of the robot in years, months, and days. For that, the first you will have to do is to create a folder called **msg** inside the **exercise_33** package."
   ]
  },
  {
   "cell_type": "code",
   "execution_count": null,
   "metadata": {
    "collapsed": true
   },
   "outputs": [],
   "source": [
    "roscd exercise_33\n",
    "mkdir msg"
   ]
  },
  {
   "cell_type": "markdown",
   "metadata": {},
   "source": [
    "Then, isnide this **msg** folder, you will have to create a file called **Age.msg**, with the following content inside it:"
   ]
  },
  {
   "cell_type": "markdown",
   "metadata": {},
   "source": [
    "<p style=\"background:#3B8F10;color:white;\" id=\"prg-2-1\">**Message File: Age.msg** </p>"
   ]
  },
  {
   "cell_type": "code",
   "execution_count": null,
   "metadata": {
    "collapsed": true
   },
   "outputs": [],
   "source": [
    "float32 years\n",
    "float32 months\n",
    "float32 days"
   ]
  },
  {
   "cell_type": "markdown",
   "metadata": {},
   "source": [
    "<p style=\"background:#3B8F10;color:white;\" id=\"prg-2-1\">**END Message File: Age.msg** </p>"
   ]
  },
  {
   "cell_type": "markdown",
   "metadata": {},
   "source": [
    "Then, you will also have to modify the **CMakeLists.txt** and **package.xml** files, as it is described in the Topics Notebook. If you are lost and don't know how to proceed, below you can check working examples of this files:"
   ]
  },
  {
   "cell_type": "markdown",
   "metadata": {},
   "source": [
    "<p style=\"background:#3B8F10;color:white;\" id=\"prg-2-1\">**CMakeLists.txt** </p>"
   ]
  },
  {
   "cell_type": "code",
   "execution_count": null,
   "metadata": {
    "collapsed": true
   },
   "outputs": [],
   "source": [
    "cmake_minimum_required(VERSION 2.8.3)\n",
    "project(exercise_33)\n",
    "\n",
    "## Here go all the packages needed to COMPILE the messages of topic, services and actions.\n",
    "## Its only geting its paths, and not really importing them to be used in the compilation.\n",
    "## Its only for further functions in CMakeLists.txt to be able to find those packages.\n",
    "## In package.xml you have to state them as build\n",
    "find_package(catkin REQUIRED COMPONENTS\n",
    "  std_msgs\n",
    "  message_generation\n",
    ")\n",
    "\n",
    "## Generate topic messages in the 'msg' folder\n",
    "## In this function will be placed all the topic messages files of this package ( in the msg folder ) to be compiled.\n",
    "add_message_files(\n",
    "  FILES\n",
    "  Age.msg\n",
    ")\n",
    "\n",
    "## Here is where the packages needed for the topic messages compilation are imported.\n",
    "generate_messages(\n",
    "  DEPENDENCIES\n",
    "  std_msgs\n",
    ")\n",
    "\n",
    "## State here all the packages that will be needed by someone that executes something from your package.\n",
    "## All the packages stated here must be in the package.xml as exec_depend\n",
    "catkin_package(\n",
    "  CATKIN_DEPENDS rospy message_runtime\n",
    ")\n",
    "\n",
    "include_directories(\n",
    "  ${catkin_INCLUDE_DIRS}\n",
    ")"
   ]
  },
  {
   "cell_type": "markdown",
   "metadata": {},
   "source": [
    "<p style=\"background:#3B8F10;color:white;\" id=\"prg-2-1\">**END CMakeLists.txt** </p>"
   ]
  },
  {
   "cell_type": "markdown",
   "metadata": {},
   "source": [
    "<p style=\"background:#3B8F10;color:white;\" id=\"prg-2-1\">**package.xml** </p>"
   ]
  },
  {
   "cell_type": "code",
   "execution_count": null,
   "metadata": {
    "collapsed": true
   },
   "outputs": [],
   "source": [
    "<?xml version=\"1.0\"?>\n",
    "<package format=\"2\">\n",
    "  <name>exercise_33</name>\n",
    "  <version>0.0.0</version>\n",
    "  <description>The topic_ex package</description>\n",
    "\n",
    "\n",
    "  <maintainer email=\"user@todo.todo\">user</maintainer>\n",
    "\n",
    "  <license>TODO</license>\n",
    "\n",
    "  <buildtool_depend>catkin</buildtool_depend>\n",
    "  <build_depend>rospy</build_depend>\n",
    "  <build_depend>std_msgs</build_depend>\n",
    "  <build_depend>message_generation</build_depend>\n",
    "  <build_export_depend>rospy</build_export_depend>\n",
    "  <exec_depend>rospy</exec_depend>\n",
    "  <build_export_depend>std_msgs</build_export_depend>\n",
    "  <exec_depend>std_msgs</exec_depend>\n",
    "  <build_export_depend>message_runtime</build_export_depend>\n",
    "  <exec_depend>message_runtime</exec_depend>\n",
    "  <export>\n",
    "\n",
    "  </export>\n",
    "</package>"
   ]
  },
  {
   "cell_type": "markdown",
   "metadata": {},
   "source": [
    "<p style=\"background:#3B8F10;color:white;\" id=\"prg-2-1\">**END package.xml** </p>"
   ]
  },
  {
   "cell_type": "markdown",
   "metadata": {},
   "source": [
    "Once all of these is done, you will need to compile your package and source **ALL the webwhells** that you are going to use so that ROS can find the new Messages."
   ]
  },
  {
   "cell_type": "code",
   "execution_count": null,
   "metadata": {
    "collapsed": true
   },
   "outputs": [],
   "source": [
    "roscd\n",
    "cd ..\n",
    "catkin_make\n",
    "source devel/setup.bash"
   ]
  },
  {
   "cell_type": "markdown",
   "metadata": {},
   "source": [
    "And finally, check if you can find your new message:"
   ]
  },
  {
   "cell_type": "code",
   "execution_count": null,
   "metadata": {
    "collapsed": true
   },
   "outputs": [],
   "source": [
    "rosmsg list | grep Age"
   ]
  },
  {
   "cell_type": "markdown",
   "metadata": {},
   "source": [
    "You should see something like this:"
   ]
  },
  {
   "cell_type": "code",
   "execution_count": null,
   "metadata": {
    "collapsed": true
   },
   "outputs": [],
   "source": [
    "exercise_33/Age"
   ]
  },
  {
   "cell_type": "markdown",
   "metadata": {},
   "source": [
    "Once this is done and working, all you have to do is to create Publisher that publishes this message into a topic. Below you can check both the launch file and the Python file:"
   ]
  },
  {
   "cell_type": "markdown",
   "metadata": {},
   "source": [
    "<p style=\"background:#3B8F10;color:white;\" id=\"prg-2-1\">**Launch File: publish_age.launch** </p>"
   ]
  },
  {
   "cell_type": "code",
   "execution_count": null,
   "metadata": {
    "collapsed": true
   },
   "outputs": [],
   "source": [
    "<launch>\n",
    "    <node pkg=\"exercise_33\" type=\"publish_age.py\" name=\"publish_age_node\" output=\"screen\" />\n",
    "</launch>"
   ]
  },
  {
   "cell_type": "markdown",
   "metadata": {},
   "source": [
    "<p style=\"background:#3B8F10;color:white;\" id=\"prg-2-1\">**END Launch File: publish_age.launch** </p>"
   ]
  },
  {
   "cell_type": "markdown",
   "metadata": {},
   "source": [
    "<p style=\"background:#3B8F10;color:white;\" id=\"prg-2-1\">**Python File: publish_age.py** </p>"
   ]
  },
  {
   "cell_type": "code",
   "execution_count": null,
   "metadata": {
    "collapsed": true
   },
   "outputs": [],
   "source": [
    "#! /usr/bin/env python\n",
    "\n",
    "import rospy\n",
    "from exercise_33.msg import Age #Import Age message from the exercise_33 package\n",
    "\n",
    "rospy.init_node('publish_age_node')\n",
    "pub = rospy.Publisher('/age_info', Age, queue_size=1) #Create a Publisher that will publish in the /age_info topic\n",
    "rate = rospy.Rate(2)\n",
    "age = Age() #Create an Age message object\n",
    "age.years = 5 #Fill the values of the message\n",
    "age.months = 10 #Fill the values of the message\n",
    "age.days = 21 #Fill the values of the message\n",
    "\n",
    "while not rospy.is_shutdown(): \n",
    "  pub.publish(age) #Publish the message into the defined topic /age_info\n",
    "  rate.sleep()"
   ]
  },
  {
   "cell_type": "markdown",
   "metadata": {},
   "source": [
    "<p style=\"background:#3B8F10;color:white;\" id=\"prg-2-1\">**END Python File: publish_age.py** </p>"
   ]
  },
  {
   "cell_type": "markdown",
   "metadata": {},
   "source": [
    "Finally, you can launch your Publisher:"
   ]
  },
  {
   "cell_type": "code",
   "execution_count": null,
   "metadata": {
    "collapsed": true
   },
   "outputs": [],
   "source": [
    "roslaunch exercise_33 publish_age.launch"
   ]
  },
  {
   "cell_type": "markdown",
   "metadata": {},
   "source": [
    "In order to check the published message, you will need to listen to the specified topic. Remember that you will need to **source ALL the webshells** where you will use or visualize the Age message."
   ]
  },
  {
   "cell_type": "code",
   "execution_count": null,
   "metadata": {
    "collapsed": true
   },
   "outputs": [],
   "source": [
    "rostopic echo /age_info"
   ]
  },
  {
   "cell_type": "markdown",
   "metadata": {},
   "source": [
    "You will get something like this:"
   ]
  },
  {
   "cell_type": "markdown",
   "metadata": {},
   "source": [
    "<img src=\"../img/echo_age_info.png\" width=\"500\" />"
   ]
  }
 ],
 "metadata": {
  "anaconda-cloud": {},
  "kernelspec": {
   "display_name": "Python [Root]",
   "language": "python",
   "name": "Python [Root]"
  },
  "language_info": {
   "codemirror_mode": {
    "name": "ipython",
    "version": 2
   },
   "file_extension": ".py",
   "mimetype": "text/x-python",
   "name": "python",
   "nbconvert_exporter": "python",
   "pygments_lexer": "ipython2",
   "version": "2.7.12"
  }
 },
 "nbformat": 4,
 "nbformat_minor": 0
}
