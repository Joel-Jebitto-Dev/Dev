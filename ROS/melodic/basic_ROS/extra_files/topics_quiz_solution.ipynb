{
 "cells": [
  {
   "cell_type": "markdown",
   "metadata": {},
   "source": [
    "## Solution Topics Quiz"
   ]
  },
  {
   "cell_type": "markdown",
   "metadata": {},
   "source": [
    "<img src=\"../img/robotignite_logo_text.png\"/>"
   ]
  },
  {
   "cell_type": "markdown",
   "metadata": {},
   "source": [
    "## Solution Quiz <p id=\"SolutionMiniProject\"></p>"
   ]
  },
  {
   "cell_type": "markdown",
   "metadata": {},
   "source": [
    "<p style=\"background:#EE9023;color:white;\">**Topics Quiz**</p>"
   ]
  },
  {
   "cell_type": "markdown",
   "metadata": {},
   "source": [
    "<p style=\"background:#3B8F10;color:white;\" id=\"prg-2-1\">**Launch File: topics_quiz.launch** </p>"
   ]
  },
  {
   "cell_type": "code",
   "execution_count": null,
   "metadata": {
    "collapsed": true
   },
   "outputs": [],
   "source": [
    "<launch>\n",
    "    <node pkg=\"topics_quiz\" type=\"topics_quiz.py\" name=\"topics_quiz_node\" output=\"screen\" />\n",
    "</launch>"
   ]
  },
  {
   "cell_type": "markdown",
   "metadata": {},
   "source": [
    "<p style=\"background:#3B8F10;color:white;\" id=\"prg-2-1\">**END Launch File: topics_quiz.launch** </p>"
   ]
  },
  {
   "cell_type": "markdown",
   "metadata": {},
   "source": [
    "<p style=\"background:#3B8F10;color:white;\" id=\"prg-2-1\">**Python File: topics_quiz.py** </p>"
   ]
  },
  {
   "cell_type": "code",
   "execution_count": null,
   "metadata": {
    "collapsed": true
   },
   "outputs": [],
   "source": [
    "#! /usr/bin/env python\n",
    "\n",
    "import rospy\n",
    "from sensor_msgs.msg import LaserScan \n",
    "from geometry_msgs.msg import Twist\n",
    "\n",
    "def callback(msg): \n",
    "  print msg.ranges[360] #We print the distance to an obstacle in front of the robot\n",
    "\n",
    "#If the distance to an obstacle in front of the robot is bigger than 1 meter, the robot will move forward\n",
    "  if msg.ranges[360] > 1:\n",
    "      move.linear.x = 0.1\n",
    "      move.angular.z = 0.0\n",
    "\n",
    "#If the distance to an obstacle in front of the robot is smaller than 1 meter, the robot will turn left\n",
    "  if msg.ranges[360] < 1: \n",
    "      move.linear.x = 0.0\n",
    "      move.angular.z = 0.2\n",
    "        \n",
    "#If the distance to an obstacle at the left side of the robot is smaller than 0.3 meters, the robot will turn right\n",
    "  if msg.ranges[719] < 0.3:\n",
    "      move.linear.x = 0.0\n",
    "      move.angular.z = -0.2\n",
    "        \n",
    "#If the distance to an obstacle at the right side of the robot is smaller than 0.3 meters, the robot will turn left\n",
    "  if msg.ranges[0] < 0.3:\n",
    "      move.linear.x = 0.0\n",
    "      move.angular.z = 0.2\n",
    "      \n",
    "  pub.publish(move)\n",
    "\n",
    "rospy.init_node('topics_quiz_node')\n",
    "sub = rospy.Subscriber('/kobuki/laser/scan', LaserScan, callback) #We subscribe to the laser's topic\n",
    "pub = rospy.Publisher('/cmd_vel', Twist)\n",
    "move = Twist()\n",
    "\n",
    "rospy.spin()"
   ]
  },
  {
   "cell_type": "markdown",
   "metadata": {},
   "source": [
    "<p style=\"background:#3B8F10;color:white;\" id=\"prg-2-1\">**END Python File: topics_quiz.py** </p>"
   ]
  },
  {
   "cell_type": "markdown",
   "metadata": {},
   "source": [
    "So, in the above Python script, we are generating a very simple logic:\n",
    "\n",
    "* If there's no obstacle closer than 1 meter in front of the robot: **move forward**\n",
    "* If there's an obstacle closer than 1 meter in front of the robot: **turn left**\n",
    "* If there's an obstacle closer than 1 meter at the right side of the robot: **turn left**\n",
    "* If there's an obstacle closer than 1 meter at the left side of the robot: **turn right**"
   ]
  },
  {
   "cell_type": "markdown",
   "metadata": {},
   "source": [
    "So, at the end, you will get something like this:"
   ]
  },
  {
   "cell_type": "markdown",
   "metadata": {},
   "source": [
    "The robot moves forward until it detects an obstacle in front of it which is closer than 1 meter, so it begins to turn left in order to avoid it."
   ]
  },
  {
   "cell_type": "markdown",
   "metadata": {},
   "source": [
    "<img src=\"../img/mini_project_1.gif\" width=\"600\" />"
   ]
  },
  {
   "cell_type": "markdown",
   "metadata": {},
   "source": [
    "The robot keeps turning left and moving forward until it detects that it has an obstacle at the right side which is closer than 1 meter, so it stops and turns left in order to avoid it."
   ]
  },
  {
   "cell_type": "markdown",
   "metadata": {},
   "source": [
    "<img src=\"../img/mini_project_2.gif\" width=\"600\" />"
   ]
  }
 ],
 "metadata": {
  "anaconda-cloud": {},
  "kernelspec": {
   "display_name": "Python 2",
   "language": "python",
   "name": "python2"
  },
  "language_info": {
   "codemirror_mode": {
    "name": "ipython",
    "version": 2
   },
   "file_extension": ".py",
   "mimetype": "text/x-python",
   "name": "python",
   "nbconvert_exporter": "python",
   "pygments_lexer": "ipython2",
   "version": "2.7.16"
  }
 },
 "nbformat": 4,
 "nbformat_minor": 1
}
