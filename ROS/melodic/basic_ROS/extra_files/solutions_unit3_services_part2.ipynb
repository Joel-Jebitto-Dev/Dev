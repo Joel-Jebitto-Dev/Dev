{
 "cells": [
  {
   "cell_type": "markdown",
   "metadata": {},
   "source": [
    "# Solutions for Unit 3 Services Part 2"
   ]
  },
  {
   "cell_type": "markdown",
   "metadata": {},
   "source": [
    "<img src=\"../img/robotignite_logo_text.png\"/>"
   ]
  },
  {
   "cell_type": "markdown",
   "metadata": {},
   "source": [
    "## Index: \n",
    "* <a href=\"#SolutionExercise3-2\">Solution Exercise 3.2</a>"
   ]
  },
  {
   "cell_type": "markdown",
   "metadata": {},
   "source": [
    "<p id=\"SolutionExercise3-2\"></p>"
   ]
  },
  {
   "cell_type": "markdown",
   "metadata": {},
   "source": [
    "## Solution Exercise 3.2"
   ]
  },
  {
   "cell_type": "markdown",
   "metadata": {},
   "source": [
    "* The objective of this exercise 3.2 is to create a service that when called, BB8 robot moves in a square like trajectory."
   ]
  },
  {
   "cell_type": "markdown",
   "metadata": {},
   "source": [
    "Nothing to comment."
   ]
  },
  {
   "cell_type": "markdown",
   "metadata": {},
   "source": [
    "* You can work on a new package or use the one you created for exercise 3.1, called **unit_3_services**."
   ]
  },
  {
   "cell_type": "markdown",
   "metadata": {},
   "source": [
    "In this case, we are going to work on the package **unit_3_services**. ALthough note that you could work on a new package, or even separate the **service server** into one package, and the **service client** into another package. As you wish. We work on the same package for be clear in the explanation."
   ]
  },
  {
   "cell_type": "markdown",
   "metadata": {},
   "source": [
    "* Create a python file that has a class inside that allows the movement of the BB8 in a square  <a href=\"#fig-3.1\">{Fig-3.1}</a>. This class could be called, for reference, **MoveBB8**. And the python code that contains it, could called <a href=\"#move_bb8_py\">move_bb8.py</a>.<br>\n",
    "To move BB-8, you just have to write in the **/cmd_vel** Topic, as you did in Unit1 Topics.<br>\n",
    "Bear in mind that although this is a simulation, BB-8 has weight and, therefore, it won't stop immediately due to inertia.<br>\n",
    "Also, when turning, friction and inertia will be playing a role. Bear in mind that by only moving through /cmd_vel, you don't have a way of checking if it turned the way you wanted (it's called an open loop system).\n",
    "Unless, of course, you find a way to have some positional feedback information. That's a challenge for advanced AstroMech builders (if you want to try, think about using the /odom topic).<br>\n",
    "But for considering the movement Ok, you just have to more or less move in a square, doesnt have to be perfect."
   ]
  },
  {
   "cell_type": "markdown",
   "metadata": {},
   "source": [
    "So first of all we create the python file **move_bb8.py** in the package **unit_3_services**. You can put it inside the **scripts** folder or inside the **src** folder. This depends on whether you intend to use this class as a python module that will be accessed outside this package by other packages or not.<br>\n",
    "If you want it to be used outside this **unit_3_services**, it's advisibale to put it inside the src folder, inside a folder called like the package, with a **__init__.py** file. Because this is outside the scope of this unit, we will stick to the basic **scripts** location. You will learn how to do the more complex method in the **sphero project**."
   ]
  },
  {
   "cell_type": "markdown",
   "metadata": {},
   "source": [
    "Here you have the python file with the class **MoveBB8**, that moves the BB8 in a square in open loop."
   ]
  },
  {
   "cell_type": "markdown",
   "metadata": {},
   "source": [
    "<p style=\"background:#3B8F10;color:white;\" id=\"move_bb8_py\">**Python Program: move_bb8.py** </p><br>"
   ]
  },
  {
   "cell_type": "code",
   "execution_count": null,
   "metadata": {
    "collapsed": true
   },
   "outputs": [],
   "source": [
    "#!/usr/bin/env python\n",
    "import rospy\n",
    "from geometry_msgs.msg import Twist\n",
    "import time\n",
    "\n",
    "class MoveBB8():\n",
    "    \n",
    "    def __init__(self):\n",
    "        self.bb8_vel_publisher = rospy.Publisher('/cmd_vel', Twist, queue_size=1)\n",
    "        self.ctrl_c = False\n",
    "        rospy.on_shutdown(self.shutdownhook)\n",
    "        self.rate = rospy.Rate(10) # 10hz\n",
    "    \n",
    "    \n",
    "    \n",
    "    def publish_once_in_cmd_vel(self, cmd):\n",
    "        \"\"\"\n",
    "        This is because publishing in topics sometimes fails teh first time you publish.\n",
    "        In continuos publishing systems there is no big deal but in systems that publish only\n",
    "        once it IS very important.\n",
    "        \"\"\"\n",
    "        while not self.ctrl_c:\n",
    "            connections = self.bb8_vel_publisher.get_num_connections()\n",
    "            if connections > 0:\n",
    "                self.bb8_vel_publisher.publish(cmd)\n",
    "                rospy.loginfo(\"Cmd Published\")\n",
    "                break\n",
    "            else:\n",
    "                self.rate.sleep()\n",
    "    \n",
    "    \n",
    "    def shutdownhook(self):\n",
    "            # works better than the rospy.is_shut_down()\n",
    "            self.stop_bb8()\n",
    "            self.ctrl_c = True\n",
    "\n",
    "    def stop_bb8(self):\n",
    "        rospy.loginfo(\"shutdown time! Stop the robot\")\n",
    "        cmd = Twist()\n",
    "        cmd.linear.x = 0.0\n",
    "        cmd.angular.z = 0.0\n",
    "        self.publish_once_in_cmd_vel(cmd)\n",
    "\n",
    "\n",
    "    def move_x_time(self, moving_time, linear_speed=0.2, angular_speed=0.2):\n",
    "        \n",
    "        cmd = Twist()\n",
    "        cmd.linear.x = linear_speed\n",
    "        cmd.angular.z = angular_speed\n",
    "        \n",
    "        rospy.loginfo(\"Moving Forwards\")\n",
    "        self.publish_once_in_cmd_vel(cmd)\n",
    "        time.sleep(moving_time)\n",
    "        self.stop_bb8()\n",
    "        rospy.loginfo(\"######## Finished Moving Forwards\")\n",
    "    \n",
    "    def move_square(self):\n",
    "        \n",
    "        i = 0\n",
    "        while not self.ctrl_c and i < 4:\n",
    "            # Move Forwards\n",
    "            self.move_x_time(moving_time=2.0, linear_speed=0.2, angular_speed=0.0)\n",
    "            # Stop\n",
    "            self.move_x_time(moving_time=4.0, linear_speed=0.0, angular_speed=0.0)\n",
    "            # Turn \n",
    "            self.move_x_time(moving_time=3.5, linear_speed=0.0, angular_speed=0.2)\n",
    "            # Stop\n",
    "            self.move_x_time(moving_time=0.1, linear_speed=0.0, angular_speed=0.0)\n",
    "            \n",
    "            i += 1\n",
    "        rospy.loginfo(\"######## Finished Moving in a Square\")\n",
    "        \n",
    "\n",
    "            \n",
    "if __name__ == '__main__':\n",
    "    rospy.init_node('move_bb8_test', anonymous=True)\n",
    "    movebb8_object = MoveBB8()\n",
    "    try:\n",
    "        movebb8_object.move_square()\n",
    "    except rospy.ROSInterruptException:\n",
    "        pass\n"
   ]
  },
  {
   "cell_type": "markdown",
   "metadata": {},
   "source": [
    "<p style=\"background:#3B8F10;color:white;\" id=\"move_bb8_py\">END **Python Program: move_bb8.py** </p><br>"
   ]
  },
  {
   "cell_type": "markdown",
   "metadata": {},
   "source": [
    "* Add a service server that accepts an <b>Empty</b> Service messages and activates the square movement. This service could be called **/move_bb8_in_square**<br>\n",
    "This activation will be done through a call to the Class **MoveBB8**.<br>\n",
    "For that, you have to create a very similar python file as <a href=\"#prg-3-7\">simple_service_server.py</a>. You could call it **bb8_move_in_square_service_server.py**."
   ]
  },
  {
   "cell_type": "markdown",
   "metadata": {},
   "source": [
    "So the first step is to create a python file called <a href=\"#bb8_move_in_square_service_server_py\">bb8_move_in_square_service_server.py</a>, which will be a modified version of the example given in **example 3.7**."
   ]
  },
  {
   "cell_type": "markdown",
   "metadata": {},
   "source": [
    "<p style=\"background:#3B8F10;color:white;\" id=\"bb8_move_in_square_service_server_py\">**Python Program: bb8_move_in_square_service_server.py** </p>"
   ]
  },
  {
   "cell_type": "code",
   "execution_count": null,
   "metadata": {
    "collapsed": true
   },
   "outputs": [],
   "source": [
    "#! /usr/bin/env python\n",
    "\n",
    "import rospy\n",
    "from std_srvs.srv import Empty, EmptyResponse # you import the service message python classes generated from Empty.srv.\n",
    "from move_bb8 import MoveBB8\n",
    "\n",
    "def my_callback(request):\n",
    "    rospy.loginfo(\"The Service move_bb8_in_square has been called\")\n",
    "    movebb8_object = MoveBB8()\n",
    "    movebb8_object.move_square()\n",
    "    rospy.loginfo(\"Finished service move_bb8_in_square that was called called\")\n",
    "    return EmptyResponse() # the service Response class, in this case EmptyResponse\n",
    "    #return MyServiceResponse(len(request.words.split())) \n",
    "\n",
    "rospy.init_node('service_move_bb8_in_square_server') \n",
    "my_service = rospy.Service('/move_bb8_in_square', Empty , my_callback) # create the Service called move_bb8_in_square with the defined callback\n",
    "rospy.loginfo(\"Service /move_bb8_in_square Ready\")\n",
    "rospy.spin() # mantain the service open."
   ]
  },
  {
   "cell_type": "markdown",
   "metadata": {},
   "source": [
    "<p style=\"background:#3B8F10;color:white;\">END **Python Program: bb8_move_in_square_service_server.py** </p>"
   ]
  },
  {
   "cell_type": "markdown",
   "metadata": {},
   "source": [
    "Once you have it , test it through a **call** in the WebConsole to the service **/move_bb8_in_square**."
   ]
  },
  {
   "cell_type": "markdown",
   "metadata": {},
   "source": [
    "<table style=\"float:left;background: #407EAF\">\n",
    "<tr>\n",
    "<th>\n",
    "<p class=\"transparent\">Execute in WebShell #1</p>\n",
    "</th>\n",
    "</tr>\n",
    "</table>\n",
    "<br>"
   ]
  },
  {
   "cell_type": "code",
   "execution_count": null,
   "metadata": {
    "collapsed": true
   },
   "outputs": [],
   "source": [
    "rosservice call /move_bb8_in_square [TAB]+[TAB]"
   ]
  },
  {
   "cell_type": "markdown",
   "metadata": {},
   "source": [
    "You should get BB8 moving like so:"
   ]
  },
  {
   "cell_type": "markdown",
   "metadata": {},
   "source": [
    "<img src=\"../img/basic_unit3_exercise3-2.gif\"/>"
   ]
  },
  {
   "cell_type": "markdown",
   "metadata": {},
   "source": [
    "* Create a launch file called **start_bb8_move_in_square_service_server.launch**. Inside it you have to start a node that launches the **bb8_move_in_square_service_server.py**. "
   ]
  },
  {
   "cell_type": "markdown",
   "metadata": {},
   "source": [
    "So this is the <a href=\"#start_bb8_move_in_square_service_server_launch\">start_bb8_move_in_square_service_server.launch</a> that launches the **bb8_move_in_square_service_server.py**."
   ]
  },
  {
   "cell_type": "markdown",
   "metadata": {},
   "source": [
    "<p style=\"background:#3B8F10;color:white;\" id=\"start_bb8_move_in_square_service_server_launch\">**Launch Program: start_bb8_move_in_square_service_server.launch** </p>"
   ]
  },
  {
   "cell_type": "code",
   "execution_count": null,
   "metadata": {
    "collapsed": true
   },
   "outputs": [],
   "source": [
    "<launch>\n",
    "    <!-- Start Service Server for move_bb8_in_square service -->\n",
    "    <node pkg=\"unit_3_services\" type=\"bb8_move_in_square_service_server.py\" name=\"service_move_bb8_in_square_server\"  output=\"screen\">\n",
    "    </node>\n",
    "</launch>"
   ]
  },
  {
   "cell_type": "markdown",
   "metadata": {},
   "source": [
    "<p style=\"background:#3B8F10;color:white;\">END **Launch Program: start_bb8_move_in_square_service_server.launch** </p>"
   ]
  },
  {
   "cell_type": "markdown",
   "metadata": {},
   "source": [
    "Test it by launching this launch **start_bb8_move_in_square_service_server.launch** and calling the service as before. Is the exact same procedure , only that we are launching the service server through a launch file, instead of directly through a python file."
   ]
  },
  {
   "cell_type": "markdown",
   "metadata": {},
   "source": [
    "* Create a new python code, called **bb8_move_in_square_service_client.py**, that calls the service **/move_bb8_in_square**. Remember how it was done in **Unit3 Services Part1**.<br>\n",
    "Then generate a new launch file, called **call_bb8_move_in_square_service_server.launch**, that executes the **bb8_move_in_square_service_client.py** through a node."
   ]
  },
  {
   "cell_type": "markdown",
   "metadata": {},
   "source": [
    "The <a href=\"#bb8_move_in_square_service_client_py\">bb8_move_in_square_service_client.py</a> should be similar to this:"
   ]
  },
  {
   "cell_type": "markdown",
   "metadata": {},
   "source": [
    "<p style=\"background:#3B8F10;color:white;\" id=\"bb8_move_in_square_service_client_py\">**Python Program: bb8_move_in_square_service_client.py** </p>"
   ]
  },
  {
   "cell_type": "code",
   "execution_count": null,
   "metadata": {
    "collapsed": true
   },
   "outputs": [],
   "source": [
    "#! /usr/bin/env python\n",
    "import rospkg\n",
    "import rospy\n",
    "from std_srvs.srv import Empty, EmptyRequest # you import the service message python classes generated from Empty.srv.\n",
    "\n",
    "rospy.init_node('service_move_bb8_in_square_client') # Initialise a ROS node with the name service_client\n",
    "rospy.wait_for_service('/move_bb8_in_square') # Wait for the service client /move_bb8_in_square to be running\n",
    "move_bb8_in_square_service_client = rospy.ServiceProxy('/move_bb8_in_square', Empty) # Create the connection to the service\n",
    "move_bb8_in_square_request_object = EmptyRequest() # Create an object of type EmptyRequest\n",
    "\n",
    "result = move_bb8_in_square_service_client(move_bb8_in_square_request_object) # Send through the connection the path to the trajectory file to be executed\n",
    "print result # Print the result given by the service called"
   ]
  },
  {
   "cell_type": "markdown",
   "metadata": {},
   "source": [
    "<p style=\"background:#3B8F10;color:white;\">END **Python Program: bb8_move_in_square_service_client.py** </p>"
   ]
  },
  {
   "cell_type": "markdown",
   "metadata": {},
   "source": [
    "The <a href=\"#call_bb8_move_in_square_service_server_launch\">call_bb8_move_in_square_service_server.launch</a> should be like this:"
   ]
  },
  {
   "cell_type": "markdown",
   "metadata": {},
   "source": [
    "<p style=\"background:#3B8F10;color:white;\" id=\"call_bb8_move_in_square_service_server_launch\">**Launch Program: call_bb8_move_in_square_service_server.launch** </p>"
   ]
  },
  {
   "cell_type": "code",
   "execution_count": null,
   "metadata": {
    "collapsed": true
   },
   "outputs": [],
   "source": [
    "<launch>\n",
    "    <!-- Start Service Server for move_bb8_in_square service -->\n",
    "    <node pkg=\"unit_3_services\" type=\"bb8_move_in_square_service_client.py\" name=\"service_move_bb8_in_square_client\"  output=\"screen\">\n",
    "    </node>\n",
    "</launch>"
   ]
  },
  {
   "cell_type": "markdown",
   "metadata": {},
   "source": [
    "<p style=\"background:#3B8F10;color:white;\" id=\"start_bb8_move_in_square_service_server_launch\">**Launch Program: call_bb8_move_in_square_service_server.launch** </p>"
   ]
  },
  {
   "cell_type": "markdown",
   "metadata": {},
   "source": [
    "* When launched **call_bb8_move_in_square_service_server.launch**, bb8 should move in a square."
   ]
  },
  {
   "cell_type": "markdown",
   "metadata": {},
   "source": [
    "This should works exactly thesame way as the other calls you have performed. But in this case you launch **start_bb8_move_in_square_service_server.launch** and the in another terminal you launch **call_bb8_move_in_square_service_server.launch**."
   ]
  },
  {
   "cell_type": "markdown",
   "metadata": {},
   "source": [
    "<p id=\"SolutionExercise3-3\"></p>"
   ]
  }
 ],
 "metadata": {
  "anaconda-cloud": {},
  "kernelspec": {
   "display_name": "Python [Root]",
   "language": "python",
   "name": "Python [Root]"
  },
  "language_info": {
   "codemirror_mode": {
    "name": "ipython",
    "version": 2
   },
   "file_extension": ".py",
   "mimetype": "text/x-python",
   "name": "python",
   "nbconvert_exporter": "python",
   "pygments_lexer": "ipython2",
   "version": "2.7.12"
  }
 },
 "nbformat": 4,
 "nbformat_minor": 1
}
