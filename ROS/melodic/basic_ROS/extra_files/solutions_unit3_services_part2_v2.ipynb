{
 "cells": [
  {
   "cell_type": "markdown",
   "metadata": {},
   "source": [
    "# Solutions for Unit 4 Services Part 2"
   ]
  },
  {
   "cell_type": "markdown",
   "metadata": {},
   "source": [
    "<img src=\"../img/robotignite_logo_text.png\"/>"
   ]
  },
  {
   "cell_type": "markdown",
   "metadata": {},
   "source": [
    "## Index: \n",
    "* <a href=\"#SolutionExercise3-2\">Solution Exercise 4.2</a>\n",
    "* <a href=\"#SolutionExercise3-3\">Solution Exercise 4.3</a>"
   ]
  },
  {
   "cell_type": "markdown",
   "metadata": {},
   "source": [
    "<p id=\"SolutionExercise3-2\"></p>"
   ]
  },
  {
   "cell_type": "markdown",
   "metadata": {},
   "source": [
    "## Solution to Exercise 4.2"
   ]
  },
  {
   "cell_type": "markdown",
   "metadata": {},
   "source": [
    "* The objective of Exercise 4.2 is to create a service that, when called, mpves BB8 robot in a circle-like trajectory."
   ]
  },
  {
   "cell_type": "markdown",
   "metadata": {},
   "source": [
    "Nothing to comment."
   ]
  },
  {
   "cell_type": "markdown",
   "metadata": {},
   "source": [
    "* You can work on a new package or use the one you created for Exercise 4.1, called **unit_4_services**."
   ]
  },
  {
   "cell_type": "markdown",
   "metadata": {},
   "source": [
    "In this case, we are going to work on the **unit_4_services** package. Although, note that you could work on a new package, or even separate the **service server** into one package and the **service client** into another package. As you wish. We will work on the same package for clarity in the explanation."
   ]
  },
  {
   "cell_type": "markdown",
   "metadata": {},
   "source": [
    "* Create a Service Server that accepts an <b>Empty</b> Service message and activates the circle movement. This service could be called **/move_bb8_in_circle**<br>\n",
    "\n",
    "You will place the necessary code into a new Python file named **bb8_move_in_circle_service_server.py**.\n",
    "You can use the Python file <a href=\"#prg-3-7\">simple_service_server.py</a> as an example."
   ]
  },
  {
   "cell_type": "markdown",
   "metadata": {},
   "source": [
    "So, the first step is to create a python file called <a href=\"#bb8_move_in_circle_service_server_py\">bb8_move_in_circle_service_server.py</a>, which will be a modified version of the code provided in **Example 4.7**."
   ]
  },
  {
   "cell_type": "markdown",
   "metadata": {},
   "source": [
    "<p style=\"background:#3B8F10;color:white;\" id=\"bb8_move_in_circle_service_server_py\">**Python Program: bb8_move_in_circle_service_server.py** </p>"
   ]
  },
  {
   "cell_type": "code",
   "execution_count": null,
   "metadata": {
    "collapsed": true
   },
   "outputs": [],
   "source": [
    "#! /usr/bin/env python\n",
    "\n",
    "import rospy\n",
    "from std_srvs.srv import Empty, EmptyResponse # you import the service message python classes generated from Empty.srv.\n",
    "from geometry_msgs.msg import Twist\n",
    "\n",
    "def my_callback(request):\n",
    "    rospy.loginfo(\"The Service move_bb8_in_circle has been called\")\n",
    "    move_circle.linear.x = 0.2\n",
    "    move_circle.angular.z = 0.2\n",
    "    my_pub.publish(move_circle)\n",
    "    rospy.loginfo(\"Finished service move_bb8_in_circle\")\n",
    "    return EmptyResponse() # the service Response class, in this case EmptyResponse\n",
    "\n",
    "rospy.init_node('service_move_bb8_in_circle_server') \n",
    "my_service = rospy.Service('/move_bb8_in_circle', Empty , my_callback) # create the Service called move_bb8_in_circle with the defined callback\n",
    "my_pub = rospy.Publisher('/cmd_vel', Twist, queue_size=1)\n",
    "move_circle = Twist()\n",
    "rospy.loginfo(\"Service /move_bb8_in_circle Ready\")\n",
    "rospy.spin() # mantain the service open."
   ]
  },
  {
   "cell_type": "markdown",
   "metadata": {},
   "source": [
    "<p style=\"background:#3B8F10;color:white;\">END **Python Program: bb8_move_in_circle_service_server.py** </p>"
   ]
  },
  {
   "cell_type": "markdown",
   "metadata": {},
   "source": [
    "Once you have it , test it through a **call** in the WebConsole to the service **/move_bb8_in_circle**."
   ]
  },
  {
   "cell_type": "markdown",
   "metadata": {},
   "source": [
    "<table style=\"float:left;background: #407EAF\">\n",
    "<tr>\n",
    "<th>\n",
    "<p class=\"transparent\">Execute in WebShell #1</p>\n",
    "</th>\n",
    "</tr>\n",
    "</table>\n",
    "<br>"
   ]
  },
  {
   "cell_type": "code",
   "execution_count": null,
   "metadata": {
    "collapsed": true
   },
   "outputs": [],
   "source": [
    "rosservice call /move_bb8_in_circle [TAB]+[TAB]"
   ]
  },
  {
   "cell_type": "markdown",
   "metadata": {},
   "source": [
    "You should get BB8 moving like so:"
   ]
  },
  {
   "cell_type": "markdown",
   "metadata": {},
   "source": [
    "<img src=\"../img/bb8_circle.gif\" width=\"600\"/>"
   ]
  },
  {
   "cell_type": "markdown",
   "metadata": {},
   "source": [
    "* Create a launch file called **start_bb8_move_in_circle_service_server.launch**. Inside it, you have to start a node that launches the **bb8_move_in_circle_service_server.py**. "
   ]
  },
  {
   "cell_type": "markdown",
   "metadata": {},
   "source": [
    "So, this is the <a href=\"#start_bb8_move_in_circle_service_server_launch\">start_bb8_move_in_circle_service_server.launch</a> that launches the **bb8_move_in_circle_service_server.py**."
   ]
  },
  {
   "cell_type": "markdown",
   "metadata": {},
   "source": [
    "<p style=\"background:#3B8F10;color:white;\" id=\"start_bb8_move_in_circle_service_server_launch\">**Launch Program: start_bb8_move_in_circle_service_server.launch** </p>"
   ]
  },
  {
   "cell_type": "code",
   "execution_count": null,
   "metadata": {
    "collapsed": true
   },
   "outputs": [],
   "source": [
    "<launch>\n",
    "    <!-- Start Service Server for move_bb8_in_circle service -->\n",
    "    <node pkg=\"unit_4_services\" type=\"bb8_move_in_circle_service_server.py\" name=\"service_move_bb8_in_circle_server\"  output=\"screen\">\n",
    "    </node>\n",
    "</launch>"
   ]
  },
  {
   "cell_type": "markdown",
   "metadata": {},
   "source": [
    "<p style=\"background:#3B8F10;color:white;\">END **Launch Program: start_bb8_move_in_circle_service_server.launch** </p>"
   ]
  },
  {
   "cell_type": "markdown",
   "metadata": {},
   "source": [
    "Test it by launching this launch, **start_bb8_move_in_circle_service_server.launch**, and calling the service as before. It is the exact same procedure, only we are launching the service server through a launch file instead of directly through a python file."
   ]
  },
  {
   "cell_type": "markdown",
   "metadata": {},
   "source": [
    "* Create a new python code called **bb8_move_in_circle_service_client.py** that calls the service **/move_bb8_in_circle**. Remember how it was done in **Unit 4 Services Part 1**.<br>\n",
    "Then, generate a new launch file called **call_bb8_move_in_circle_service_server.launch** that executes the **bb8_move_in_circle_service_client.py** through a node."
   ]
  },
  {
   "cell_type": "markdown",
   "metadata": {},
   "source": [
    "The <a href=\"#bb8_move_in_circle_service_client_py\">bb8_move_in_circle_service_client.py</a> should be similar to this:"
   ]
  },
  {
   "cell_type": "markdown",
   "metadata": {},
   "source": [
    "<p style=\"background:#3B8F10;color:white;\" id=\"bb8_move_in_circle_service_client_py\">**Python Program: bb8_move_in_circle_service_client.py** </p>"
   ]
  },
  {
   "cell_type": "code",
   "execution_count": null,
   "metadata": {
    "collapsed": true
   },
   "outputs": [],
   "source": [
    "#! /usr/bin/env python\n",
    "import rospkg\n",
    "import rospy\n",
    "from std_srvs.srv import Empty, EmptyRequest # you import the service message python classes generated from Empty.srv.\n",
    "\n",
    "rospy.init_node('service_move_bb8_in_circle_client') # Initialise a ROS node with the name service_client\n",
    "rospy.wait_for_service('/move_bb8_in_circle') # Wait for the service client /move_bb8_in_circle to be running\n",
    "move_bb8_in_circle_service_client = rospy.ServiceProxy('/move_bb8_in_circle', Empty) # Create the connection to the service\n",
    "move_bb8_in_circle_request_object = EmptyRequest() # Create an object of type EmptyRequest\n",
    "\n",
    "result = move_bb8_in_circle_service_client(move_bb8_in_circle_request_object) # Send through the connection the path to the trajectory file to be executed\n",
    "print result # Print the result given by the service called"
   ]
  },
  {
   "cell_type": "markdown",
   "metadata": {},
   "source": [
    "<p style=\"background:#3B8F10;color:white;\">END **Python Program: bb8_move_in_circle_service_client.py** </p>"
   ]
  },
  {
   "cell_type": "markdown",
   "metadata": {},
   "source": [
    "The <a href=\"#call_bb8_move_in_circle_service_server_launch\">call_bb8_move_custom_service_server.launch</a> should be like this:"
   ]
  },
  {
   "cell_type": "markdown",
   "metadata": {},
   "source": [
    "<p style=\"background:#3B8F10;color:white;\" id=\"call_bb8_move_in_circle_service_server_launch\">**Launch Program: call_bb8_move_in_circle_service_server.launch** </p>"
   ]
  },
  {
   "cell_type": "code",
   "execution_count": null,
   "metadata": {
    "collapsed": true
   },
   "outputs": [],
   "source": [
    "<launch>\n",
    "    <!-- Start Service Client for move_bb8_in_circle service -->\n",
    "    <node pkg=\"unit_4_services\" type=\"bb8_move_in_circle_service_client.py\" name=\"service_move_bb8_in_circle_client\"  output=\"screen\">\n",
    "    </node>\n",
    "</launch>"
   ]
  },
  {
   "cell_type": "markdown",
   "metadata": {},
   "source": [
    "<p style=\"background:#3B8F10;color:white;\" id=\"start_bb8_move_in_circle_service_server_launch\">**Launch Program: call_bb8_move_in_circle_service_server.launch** </p>"
   ]
  },
  {
   "cell_type": "markdown",
   "metadata": {},
   "source": [
    "* When **call_bb8_move_in_circle_service_server.launch** is launched, BB-8 should move in a circle."
   ]
  },
  {
   "cell_type": "markdown",
   "metadata": {},
   "source": [
    "This should work exactly the same way as the other calls you have performed. But in this case, you launch **start_bb8_move_in_circle_service_server.launch**, and in another terminal, you launch **call_bb8_move_in_circle_service_server.launch**."
   ]
  },
  {
   "cell_type": "markdown",
   "metadata": {},
   "source": [
    "<p id=\"SolutionExercise3-3\"></p>"
   ]
  },
  {
   "cell_type": "markdown",
   "metadata": {},
   "source": [
    "## Solution to Exercise 4.3"
   ]
  },
  {
   "cell_type": "markdown",
   "metadata": {},
   "source": [
    "* Create a new Python file, called **bb8_move_custom_service_server.py**. Inside this file, modify the code you used in **Exercise 4.2**, which contained a Service Server that accepted an Empty Service message to activate the circle movement. This new service will be called **/move_bb8_in_circle_custom**. This new service will have to be called through a custom service message. The structure of this custom message is presented below:"
   ]
  },
  {
   "cell_type": "code",
   "execution_count": null,
   "metadata": {
    "collapsed": true
   },
   "outputs": [],
   "source": [
    "int32 duration    # The time (in seconds) during which BB-8 will keep moving in circles\n",
    "---\n",
    "bool success      # Did it achieve it?"
   ]
  },
  {
   "cell_type": "markdown",
   "metadata": {},
   "source": [
    "So, the first thing here will be to make sure that we have created our custom message. You may have noted from the structure of the message that it is exactly the same message as the one you created in **Example 4.8**. So, since the work is already done, we are going to use this message."
   ]
  },
  {
   "cell_type": "markdown",
   "metadata": {},
   "source": [
    "If you haven't created the custom message, go back to **Example 4.8** and follow all the steps described there in order to create your custom service message."
   ]
  },
  {
   "cell_type": "markdown",
   "metadata": {},
   "source": [
    "Now, the next step will be to create the <a href=\"#bb8_move_custom_service_server_py\">bb8_move_custom_service_server.py</a>, which uses our custom message."
   ]
  },
  {
   "cell_type": "markdown",
   "metadata": {},
   "source": [
    "* Use the data passed to this new **/move_bb8_in_circle_custom** to change the BB-8's behavior.<br>\n",
    "During the specified duration time, BB-8 will keep moving in circles. Once this time has ended, BB-8 will then stop its movements. Keep in mind that even after BB-8 stops moving, there might still be some rotation on the robot, due to inertia."
   ]
  },
  {
   "cell_type": "markdown",
   "metadata": {},
   "source": [
    "<p style=\"background:#3B8F10;color:white;\" id=\"bb8_move_custom_service_server_py\">**Python Program: bb8_move_custom_service_server.py** </p>"
   ]
  },
  {
   "cell_type": "code",
   "execution_count": null,
   "metadata": {
    "collapsed": true
   },
   "outputs": [],
   "source": [
    "#! /usr/bin/env python\n",
    "\n",
    "import rospy\n",
    "from my_custom_srv_msg_pkg.srv import MyCustomServiceMessage, MyCustomServiceMessageResponse\n",
    "from geometry_msgs.msg import Twist\n",
    "\n",
    "def my_callback(request):\n",
    "    rospy.loginfo(\"The Service move_bb8_in_circle_custom has been called\")\n",
    "    move_circle.linear.x = 0.2\n",
    "    move_circle.angular.z = 0.2\n",
    "    i = 0\n",
    "    while i <= request.duration: \n",
    "        my_pub.publish(move_circle)\n",
    "        rate.sleep()\n",
    "        i=i+1\n",
    "        \n",
    "    move_circle.linear.x = 0\n",
    "    move_circle.angular.z = 0\n",
    "    my_pub.publish(move_circle)\n",
    "    rospy.loginfo(\"Finished service move_bb8_in_circle_custom\")\n",
    "    \n",
    "    response = MyCustomServiceMessageResponse()\n",
    "    response.success = True\n",
    "    return response # the service Response class, in this case EmptyResponse\n",
    "\n",
    "rospy.init_node('service_move_bb8_in_circle_custom_server') \n",
    "my_service = rospy.Service('/move_bb8_in_circle_custom', MyCustomServiceMessage , my_callback) # create the Service called move_bb8_in_circle with the defined callback\n",
    "my_pub = rospy.Publisher('/cmd_vel', Twist, queue_size=1)\n",
    "move_circle = Twist()\n",
    "rate = rospy.Rate(1)\n",
    "rospy.loginfo(\"Service /move_bb8_in_circle_custom Ready\")\n",
    "rospy.spin() # mantain the service open."
   ]
  },
  {
   "cell_type": "markdown",
   "metadata": {},
   "source": [
    "<p style=\"background:#3B8F10;color:white;\">END **Python Program: bb8_move_custom_service_server.py** </p>"
   ]
  },
  {
   "cell_type": "markdown",
   "metadata": {},
   "source": [
    "* Create a new launch file called **start_bb8_move_custom_service_server.launch** that launches the new **bb8_move_custom_service_server.py** file."
   ]
  },
  {
   "cell_type": "markdown",
   "metadata": {},
   "source": [
    "So, this is the <a href=\"#start_bb8_move_custom_service_server_launch\">start_bb8_move_custom_service_server.launch</a> that launches the **bb8_move_custom_service_server.py**."
   ]
  },
  {
   "cell_type": "markdown",
   "metadata": {},
   "source": [
    "<p style=\"background:#3B8F10;color:white;\" id=\"start_bb8_move_custom_service_server_launch\">**Launch Program: start_bb8_move_custom_service_server.launch** </p>"
   ]
  },
  {
   "cell_type": "code",
   "execution_count": null,
   "metadata": {
    "collapsed": true
   },
   "outputs": [],
   "source": [
    "<launch>\n",
    "    <!-- Start Service Server for move_bb8_in_circle service -->\n",
    "    <node pkg=\"unit_4_services\" type=\"bb8_move_custom_service_server.py\" name=\"service_move_bb8_in_circle_custom_server\"  output=\"screen\">\n",
    "    </node>\n",
    "</launch>"
   ]
  },
  {
   "cell_type": "markdown",
   "metadata": {},
   "source": [
    "<p style=\"background:#3B8F10;color:white;\">END **Launch Program: start_bb8_move_custom_service_server.launch** </p>"
   ]
  },
  {
   "cell_type": "markdown",
   "metadata": {},
   "source": [
    "Test it by launching this launch, **start_bb8_move_custom_service_server.launch**, and calling the service as before. It is the exact same procedure, only we are launching the service server through a launch file instead of directly through a python file."
   ]
  },
  {
   "cell_type": "markdown",
   "metadata": {},
   "source": [
    "* Create a new python code called **bb8_move_custom_service_client.py** that calls the service **/move_bb8_in_circle_custom**. Remember how it was done in **Unit 4 Services Part 1**.<br>\n",
    "Then, generate a new launch file called **call_bb8_move_custom_service_server.launch** that executes the **bb8_move_custom_service_client.py** through a node."
   ]
  },
  {
   "cell_type": "markdown",
   "metadata": {},
   "source": [
    "The <a href=\"#bb8_move_custom_service_client_py\">bb8_move_custom_service_client.py</a> should be similar to this:"
   ]
  },
  {
   "cell_type": "markdown",
   "metadata": {},
   "source": [
    "<p style=\"background:#3B8F10;color:white;\" id=\"bb8_move_custom_service_client_py\">**Python Program: bb8_move_custom_service_client.py** </p>"
   ]
  },
  {
   "cell_type": "code",
   "execution_count": null,
   "metadata": {
    "collapsed": true
   },
   "outputs": [],
   "source": [
    "#! /usr/bin/env python\n",
    "import rospkg\n",
    "import rospy\n",
    "from my_custom_srv_msg_pkg.srv import MyCustomServiceMessage, MyCustomServiceMessageRequest\n",
    "\n",
    "\n",
    "rospy.init_node('service_move_bb8_in_circle_custom_client') # Initialise a ROS node with the name service_client\n",
    "rospy.wait_for_service('/move_bb8_in_circle_custom') # Wait for the service client /move_bb8_in_circle_custom to be running\n",
    "move_bb8_in_circle_service_client = rospy.ServiceProxy('/move_bb8_in_circle_custom', MyCustomServiceMessage) # Create the connection to the service\n",
    "move_bb8_in_circle_request_object = MyCustomServiceMessageRequest() # Create an object of type EmptyRequest\n",
    "\n",
    "\n",
    "\"\"\"\n",
    "# BB8CustomServiceMessage\n",
    "float64 side       # The distance of each side of the circle\n",
    "int32 repetitions    # The number of times BB-8 has to execute the circle movement when the service is called\n",
    "---\n",
    "bool success         # Did it achieve it?\n",
    "\"\"\"\n",
    "\n",
    "move_bb8_in_circle_request_object.duration = 4\n",
    "\n",
    "rospy.loginfo(\"Doing Service Call...\")\n",
    "result = move_bb8_in_circle_service_client(move_bb8_in_circle_request_object) # Send through the connection the path to the trajectory file to be executed\n",
    "rospy.loginfo(str(result)) # Print the result given by the service called\n",
    "\n",
    "rospy.loginfo(\"END of Service call...\")"
   ]
  },
  {
   "cell_type": "markdown",
   "metadata": {},
   "source": [
    "<p style=\"background:#3B8F10;color:white;\">END **Python Program: bb8_move_custom_service_client.py** </p>"
   ]
  },
  {
   "cell_type": "markdown",
   "metadata": {},
   "source": [
    "The <a href=\"#call_bb8_move_custom_service_server_launch\">call_bb8_move_custom_service_server.launch</a> should be like this:"
   ]
  },
  {
   "cell_type": "markdown",
   "metadata": {},
   "source": [
    "<p style=\"background:#3B8F10;color:white;\" id=\"call_bb8_move_custom_service_server_launch\">**Launch Program: call_bb8_move_custom_service_server.launch** </p>"
   ]
  },
  {
   "cell_type": "code",
   "execution_count": null,
   "metadata": {
    "collapsed": true
   },
   "outputs": [],
   "source": [
    "<launch>\n",
    "    <node pkg=\"unit_4_services\" type=\"bb8_move_custom_service_client.py\" name=\"service_move_bb8_in_circle_custom_client\" output=\"screen\">\n",
    "        \n",
    "    </node>\n",
    "</launch>"
   ]
  },
  {
   "cell_type": "markdown",
   "metadata": {},
   "source": [
    "<p style=\"background:#3B8F10;color:white;\" id=\"start_bb8_move_custom_service_server_launch\">**Launch Program: call_bb8_move_in_circle_service_server.launch** </p>"
   ]
  },
  {
   "cell_type": "markdown",
   "metadata": {},
   "source": [
    "* When **call_bb8_move_custom_service_server.launch** is launched, BB-8 should move in a circle for a specified period of time, and then stop."
   ]
  },
  {
   "cell_type": "markdown",
   "metadata": {},
   "source": [
    "This should work exactly the same way as the other calls you have performed. But in this case, you launch **start_bb8_move_in_circle_service_server.launch**, and in another terminal, you launch **call_bb8_move_in_circle_service_server.launch**."
   ]
  }
 ],
 "metadata": {
  "anaconda-cloud": {},
  "kernelspec": {
   "display_name": "Python [Root]",
   "language": "python",
   "name": "Python [Root]"
  },
  "language_info": {
   "codemirror_mode": {
    "name": "ipython",
    "version": 2
   },
   "file_extension": ".py",
   "mimetype": "text/x-python",
   "name": "python",
   "nbconvert_exporter": "python",
   "pygments_lexer": "ipython2",
   "version": "2.7.12"
  }
 },
 "nbformat": 4,
 "nbformat_minor": 1
}
