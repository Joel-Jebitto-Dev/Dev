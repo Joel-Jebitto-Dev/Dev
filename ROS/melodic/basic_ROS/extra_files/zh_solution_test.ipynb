{
 "cells": [
  {
   "cell_type": "markdown",
   "metadata": {},
   "source": [
    "# <font class='ign_color'>5天学ROS </font>"
   ]
  },
  {
   "cell_type": "markdown",
   "metadata": {},
   "source": [
    "# 附录 B: 解决方案测试"
   ]
  },
  {
   "cell_type": "markdown",
   "metadata": {},
   "source": [
    "这是一个测试笔记本，目的是看看我们是否能把解决方案放在笔记本上。<br>"
   ]
  },
  {
   "cell_type": "markdown",
   "metadata": {},
   "source": [
    "索引: \n",
    "* <a href=\"#Solution1\">解决方案1</a>\n",
    "* <a href=\"#Solution2\">解决方案2</a>\n",
    "* <a href=\"#extra_exercises\">附加练习</a>"
   ]
  },
  {
   "cell_type": "markdown",
   "metadata": {},
   "source": [
    "## 解决方案1 <p id=\"Solution1\"></p>"
   ]
  },
  {
   "cell_type": "markdown",
   "metadata": {},
   "source": [
    "<img src=\"../img/RDS_logo.png\" width=\"400\"/>"
   ]
  },
  {
   "cell_type": "markdown",
   "metadata": {},
   "source": [
    "## 解决方案2 <p id=\"Solution2\"></p>"
   ]
  },
  {
   "cell_type": "markdown",
   "metadata": {},
   "source": [
    "<img src=\"../img/robotignite_logo_text.png\" width=\"500\"/>"
   ]
  },
  {
   "cell_type": "markdown",
   "metadata": {},
   "source": [
    "## 附加练习? <p id=\"extra_exercises\"></p>"
   ]
  },
  {
   "cell_type": "markdown",
   "metadata": {},
   "source": [
    "学完该课程后，仍有许多有趣的ROS内容需要学习。\n",
    "<ul>\n",
    "   <li>\n",
    "   参加我们在 <a href=\"http://www.robotigniteacademy.com/\">Robot Ignite Academy</a>提供的一些主要高级课程,如导航、感知和操控。\n",
    "   </li>\n",
    "   <li>\n",
    "   或者，你可以获取更具体更实用的知识，如如何使用TFs和URDFs，或者如何开始使用ROS Industrial。\n",
    "   </li>\n",
    "   <li>\n",
    "   你还可以从<a href=\"http://www.theconstructsim.com/shop-landing-page-default/\">Robository</a>下载仿真机器人模型，在本地计算机的ROS中进行实践。\n",
    "   </li> \n",
    "</ul>"
   ]
  }
 ],
 "metadata": {
  "anaconda-cloud": {},
  "kernelspec": {
   "display_name": "Python 3",
   "language": "python",
   "name": "python3"
  },
  "language_info": {
   "codemirror_mode": {
    "name": "ipython",
    "version": 3
   },
   "file_extension": ".py",
   "mimetype": "text/x-python",
   "name": "python",
   "nbconvert_exporter": "python",
   "pygments_lexer": "ipython3",
   "version": "3.6.4"
  }
 },
 "nbformat": 4,
 "nbformat_minor": 1
}
