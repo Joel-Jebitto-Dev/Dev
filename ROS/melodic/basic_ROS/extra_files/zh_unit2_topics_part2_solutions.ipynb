{
 "cells": [
  {
   "cell_type": "markdown",
   "metadata": {},
   "source": [
    "## Unit 2 主题 Part 2解决方案"
   ]
  },
  {
   "cell_type": "markdown",
   "metadata": {},
   "source": [
    "<img src=\"../img/robotignite_logo_text.png\"/>"
   ]
  },
  {
   "cell_type": "markdown",
   "metadata": {},
   "source": [
    "## 索引: "
   ]
  },
  {
   "cell_type": "markdown",
   "metadata": {},
   "source": [
    "* <a href=\"#SolutionExercise2-2\">Exercise 2.2解决方案</a>\n",
    "* <a href=\"#SolutionExercise2-3\">Exercise 2.3解决方案</a>\n",
    "* <a href=\"#SolutionMiniProject\">Mini Project解决方案</a>"
   ]
  },
  {
   "cell_type": "markdown",
   "metadata": {},
   "source": [
    "## Exercise 2.2 解决方案<p id=\"SolutionExercise2-2\"></p>"
   ]
  },
  {
   "cell_type": "markdown",
   "metadata": {},
   "source": [
    "<p style=\"background:#EE9023;color:white;\">**Exercise 2.2**</p>"
   ]
  },
  {
   "cell_type": "markdown",
   "metadata": {},
   "source": [
    "对于该练习，我们假设所使用功能包的名称为 **read_odometry**, 启动文件名为 **odom_subscriber.launch**，Python文件名为**odom_subscriber.py**。"
   ]
  },
  {
   "cell_type": "markdown",
   "metadata": {},
   "source": [
    "<p style=\"background:#3B8F10;color:white;\" id=\"prg-2-1\">**Launch File: odom_subscriber.launch** </p>"
   ]
  },
  {
   "cell_type": "code",
   "execution_count": null,
   "metadata": {
    "collapsed": true
   },
   "outputs": [],
   "source": [
    "<launch>\n",
    "    <node pkg=\"read_odometry\" type=\"odom_subscriber.py\" name=\"odom_sub_node\" output=\"screen\" />\n",
    "</launch>"
   ]
  },
  {
   "cell_type": "markdown",
   "metadata": {},
   "source": [
    "<p style=\"background:#3B8F10;color:white;\" id=\"prg-2-1\">**Python File: odom_subscriber.py** </p>"
   ]
  },
  {
   "cell_type": "code",
   "execution_count": null,
   "metadata": {
    "collapsed": true
   },
   "outputs": [],
   "source": [
    "#! /usr/bin/env python\n",
    "\n",
    "import rospy\n",
    "from nav_msgs.msg import Odometry\n",
    "\n",
    "def callback(msg): \n",
    "  print msg #This will print the whole Odometry message\n",
    "# print msg.header #This will print the header section of the Odometry message\n",
    "# print msg.pose # #This will print the pose section of the Odometry message\n",
    "    \n",
    "rospy.init_node('odom_sub_node')\n",
    "sub = rospy.Subscriber('/odom', Odometry, callback)\n",
    "rospy.spin()"
   ]
  },
  {
   "cell_type": "markdown",
   "metadata": {},
   "source": [
    "你需要考虑到，**callback**函数接收的**msg**变量将包含整个里程计消息。因此，如果你想访问该消息的任意具体值，你必须像函数中注释所说的那样做。"
   ]
  },
  {
   "cell_type": "markdown",
   "metadata": {},
   "source": [
    "例如，如果打印整个 **msg** 变量，你将得到类似下面的输出："
   ]
  },
  {
   "cell_type": "code",
   "execution_count": null,
   "metadata": {
    "collapsed": true
   },
   "outputs": [],
   "source": [
    "print msg"
   ]
  },
  {
   "cell_type": "markdown",
   "metadata": {},
   "source": [
    "<img src=\"../img/odom_msg_sol.png\" width=\"1000\" />"
   ]
  },
  {
   "cell_type": "markdown",
   "metadata": {},
   "source": [
    "只打印 **header** 部分的话, 你将得到类似下面的输出："
   ]
  },
  {
   "cell_type": "code",
   "execution_count": null,
   "metadata": {
    "collapsed": true
   },
   "outputs": [],
   "source": [
    "print msg.header"
   ]
  },
  {
   "cell_type": "markdown",
   "metadata": {},
   "source": [
    "<img src=\"../img/header_msg_sol.png\" width=\"300\" />"
   ]
  },
  {
   "cell_type": "markdown",
   "metadata": {},
   "source": [
    "## Exercise 2.3解决方案 <p id=\"SolutionExercise2-3\"></p>"
   ]
  },
  {
   "cell_type": "markdown",
   "metadata": {},
   "source": [
    "<p style=\"background:#EE9023;color:white;\">**Exercise 2.3**</p>"
   ]
  },
  {
   "cell_type": "markdown",
   "metadata": {},
   "source": [
    "对于该练习，我们假设所使用功能包的名称为 **exercise_23**。"
   ]
  },
  {
   "cell_type": "markdown",
   "metadata": {},
   "source": [
    "因此，对于exercise 2.3, 我们将创建一个自定义消息用来定义机器人的年龄（年，月，日）。要实现这一点，首先需要做就是在功能包**exercise_23**中创建一个名为**msg**的文件夹。"
   ]
  },
  {
   "cell_type": "code",
   "execution_count": null,
   "metadata": {
    "collapsed": true
   },
   "outputs": [],
   "source": [
    "roscd exercise_23\n",
    "mkdir msg"
   ]
  },
  {
   "cell_type": "markdown",
   "metadata": {},
   "source": [
    "接着，在 **msg** 文件夹中，你需要创建一个名为**Age.msg**的文件，在该文件中写入如下内容："
   ]
  },
  {
   "cell_type": "markdown",
   "metadata": {},
   "source": [
    "<p style=\"background:#3B8F10;color:white;\" id=\"prg-2-1\">**Message File: Age.msg** </p>"
   ]
  },
  {
   "cell_type": "code",
   "execution_count": null,
   "metadata": {
    "collapsed": true
   },
   "outputs": [],
   "source": [
    "float32 years\n",
    "float32 months\n",
    "float32 days"
   ]
  },
  {
   "cell_type": "markdown",
   "metadata": {},
   "source": [
    "<p style=\"background:#3B8F10;color:white;\" id=\"prg-2-1\">**END Message File: Age.msg** </p>"
   ]
  },
  {
   "cell_type": "markdown",
   "metadata": {},
   "source": [
    "然后，如在主题笔记本中描述的那样，修改 **CMakeLists.txt** 和 **package.xml** 文件。如果你忘记了怎么做，可查看下面的文件："
   ]
  },
  {
   "cell_type": "markdown",
   "metadata": {},
   "source": [
    "<p style=\"background:#3B8F10;color:white;\" id=\"prg-2-1\">**CMakeLists.txt** </p>"
   ]
  },
  {
   "cell_type": "code",
   "execution_count": null,
   "metadata": {
    "collapsed": true
   },
   "outputs": [],
   "source": [
    "cmake_minimum_required(VERSION 2.8.3)\n",
    "project(exercise_23)\n",
    "\n",
    "## Here go all the packages needed to COMPILE the messages of topic, services and actions.\n",
    "## Its only geting its paths, and not really importing them to be used in the compilation.\n",
    "## Its only for further functions in CMakeLists.txt to be able to find those packages.\n",
    "## In package.xml you have to state them as build\n",
    "find_package(catkin REQUIRED COMPONENTS\n",
    "  std_msgs\n",
    "  message_generation\n",
    ")\n",
    "\n",
    "## Generate topic messages in the 'msg' folder\n",
    "## In this function will be placed all the topic messages files of this package ( in the msg folder ) to be compiled.\n",
    "add_message_files(\n",
    "  FILES\n",
    "  Age.msg\n",
    ")\n",
    "\n",
    "## Here is where the packages needed for the topic messages compilation are imported.\n",
    "generate_messages(\n",
    "  DEPENDENCIES\n",
    "  std_msgs\n",
    ")\n",
    "\n",
    "## State here all the packages that will be needed by someone that executes something from your package.\n",
    "## All the packages stated here must be in the package.xml as run_depend\n",
    "catkin_package(\n",
    "  CATKIN_DEPENDS rospy message_runtime\n",
    ")\n",
    "\n",
    "include_directories(\n",
    "  ${catkin_INCLUDE_DIRS}\n",
    ")"
   ]
  },
  {
   "cell_type": "markdown",
   "metadata": {},
   "source": [
    "<p style=\"background:#3B8F10;color:white;\" id=\"prg-2-1\">**END CMakeLists.txt** </p>"
   ]
  },
  {
   "cell_type": "markdown",
   "metadata": {},
   "source": [
    "<p style=\"background:#3B8F10;color:white;\" id=\"prg-2-1\">**package.xml** </p>"
   ]
  },
  {
   "cell_type": "code",
   "execution_count": null,
   "metadata": {
    "collapsed": true
   },
   "outputs": [],
   "source": [
    "<?xml version=\"1.0\"?>\n",
    "<package>\n",
    "  <name>exercise_23</name>\n",
    "  <version>0.0.0</version>\n",
    "  <description>The exercise_23 package</description>\n",
    "\n",
    "\n",
    "  <maintainer email=\"user@todo.todo\">user</maintainer>\n",
    "\n",
    "  <license>TODO</license>\n",
    "\n",
    " <buildtool_depend>catkin</buildtool_depend>\n",
    "  <build_depend>rospy</build_depend>\n",
    "  <build_depend>message_generation</build_depend> \n",
    "  <run_depend>rospy</run_depend>\n",
    "  <run_depend>message_runtime</run_depend>\n",
    "\n",
    "  <export>\n",
    "\n",
    "  </export>\n",
    "</package>"
   ]
  },
  {
   "cell_type": "markdown",
   "metadata": {},
   "source": [
    "<p style=\"background:#3B8F10;color:white;\" id=\"prg-2-1\">**END package.xml** </p>"
   ]
  },
  {
   "cell_type": "markdown",
   "metadata": {},
   "source": [
    "所有这些完成后，编译你的功能包，source你将使用的**ALL the webwhells**，以便ROS能够找到该消息。"
   ]
  },
  {
   "cell_type": "code",
   "execution_count": null,
   "metadata": {
    "collapsed": true
   },
   "outputs": [],
   "source": [
    "roscd\n",
    "cd ..\n",
    "catkin_make\n",
    "source devel/setup.bash"
   ]
  },
  {
   "cell_type": "markdown",
   "metadata": {},
   "source": [
    "最后，检查一下是否能够找到你的消息："
   ]
  },
  {
   "cell_type": "code",
   "execution_count": null,
   "metadata": {
    "collapsed": true
   },
   "outputs": [],
   "source": [
    "rosmsg list | grep Age"
   ]
  },
  {
   "cell_type": "markdown",
   "metadata": {},
   "source": [
    "你将看到："
   ]
  },
  {
   "cell_type": "code",
   "execution_count": null,
   "metadata": {
    "collapsed": true
   },
   "outputs": [],
   "source": [
    "exercise_23/Age"
   ]
  },
  {
   "cell_type": "markdown",
   "metadata": {},
   "source": [
    "以上步骤成功后，接下来需要做的是创建一个发布器，将该消息发布到一个主题。该发布器对应的launch文件和Python文件如下："
   ]
  },
  {
   "cell_type": "markdown",
   "metadata": {},
   "source": [
    "<p style=\"background:#3B8F10;color:white;\" id=\"prg-2-1\">**Launch File: publish_age.launch** </p>"
   ]
  },
  {
   "cell_type": "code",
   "execution_count": null,
   "metadata": {
    "collapsed": true
   },
   "outputs": [],
   "source": [
    "<launch>\n",
    "    <node pkg=\"exerise_23\" type=\"publish_age.py\" name=\"publish_age_node\" output=\"screen\" />\n",
    "</launch>"
   ]
  },
  {
   "cell_type": "markdown",
   "metadata": {},
   "source": [
    "<p style=\"background:#3B8F10;color:white;\" id=\"prg-2-1\">**END Launch File: publish_age.launch** </p>"
   ]
  },
  {
   "cell_type": "markdown",
   "metadata": {},
   "source": [
    "<p style=\"background:#3B8F10;color:white;\" id=\"prg-2-1\">**Python File: publish_age.py** </p>"
   ]
  },
  {
   "cell_type": "code",
   "execution_count": null,
   "metadata": {
    "collapsed": true
   },
   "outputs": [],
   "source": [
    "#! /usr/bin/env python\n",
    "\n",
    "import rospy\n",
    "from exercise_23.msg import Age #Import Age message from the exercise_23 package\n",
    "\n",
    "rospy.init_node('publish_age_node')\n",
    "pub = rospy.Publisher('/age_info', Age, queue_size=1) #Create a Publisher that will publish in the /age_info topic\n",
    "rate = rospy.Rate(2)\n",
    "age = Age() #Create an Age message object\n",
    "age.years = 5 #Fill the values of the message\n",
    "age.months = 10 #Fill the values of the message\n",
    "age.days = 21 #Fill the values of the message\n",
    "\n",
    "while not rospy.is_shutdown(): \n",
    "  pub.publish(age) #Publish the message into the defined topic /age_info\n",
    "  rate.sleep()"
   ]
  },
  {
   "cell_type": "markdown",
   "metadata": {},
   "source": [
    "<p style=\"background:#3B8F10;color:white;\" id=\"prg-2-1\">**END Python File: publish_age.py** </p>"
   ]
  },
  {
   "cell_type": "markdown",
   "metadata": {},
   "source": [
    "现在，你可以启动发布器了："
   ]
  },
  {
   "cell_type": "code",
   "execution_count": null,
   "metadata": {
    "collapsed": true
   },
   "outputs": [],
   "source": [
    "roslaunch exercise_23 publish_age.launch"
   ]
  },
  {
   "cell_type": "markdown",
   "metadata": {},
   "source": [
    "为了检查发布的消息，你需要监听特定的主题。记住，在你要使用或可视化Age消息的地方需要**source ALL the webshells**。"
   ]
  },
  {
   "cell_type": "code",
   "execution_count": null,
   "metadata": {
    "collapsed": true
   },
   "outputs": [],
   "source": [
    "rostopic echo /age_info"
   ]
  },
  {
   "cell_type": "markdown",
   "metadata": {},
   "source": [
    "你将得到类似下面的输出："
   ]
  },
  {
   "cell_type": "markdown",
   "metadata": {},
   "source": [
    "<img src=\"../img/echo_age_info.png\" width=\"500\" />"
   ]
  },
  {
   "cell_type": "markdown",
   "metadata": {},
   "source": [
    "## Mini项目解决方案 <p id=\"SolutionMiniProject\"></p>"
   ]
  },
  {
   "cell_type": "markdown",
   "metadata": {},
   "source": [
    "<p style=\"background:#EE9023;color:white;\">**Mini 项目**</p>"
   ]
  },
  {
   "cell_type": "markdown",
   "metadata": {},
   "source": [
    "首先，我们要清楚，**有很多解决该Mini项目的方法**。我们给出的方案只是其中的一个，目的只是为了抛砖引玉。我们建议你在此基础上对其进行修改和完善。"
   ]
  },
  {
   "cell_type": "markdown",
   "metadata": {},
   "source": [
    "对于该练习，我们假设所使用的功能包名为 **topics_mini_project**, 启动文件名为 **mini_project.launch**, Python 文件名为 **mini_project.py**。"
   ]
  },
  {
   "cell_type": "markdown",
   "metadata": {},
   "source": [
    "<p style=\"background:#3B8F10;color:white;\" id=\"prg-2-1\">**Launch File: mini_project.launch** </p>"
   ]
  },
  {
   "cell_type": "code",
   "execution_count": null,
   "metadata": {
    "collapsed": true
   },
   "outputs": [],
   "source": [
    "<launch>\n",
    "    <node pkg=\"topics_mini_project\" type=\"mini_project.py\" name=\"mini_project_node\" output=\"screen\" />\n",
    "</launch>"
   ]
  },
  {
   "cell_type": "markdown",
   "metadata": {},
   "source": [
    "<p style=\"background:#3B8F10;color:white;\" id=\"prg-2-1\">**END Launch File: mini_project.launch** </p>"
   ]
  },
  {
   "cell_type": "markdown",
   "metadata": {},
   "source": [
    "<p style=\"background:#3B8F10;color:white;\" id=\"prg-2-1\">**Python File: mini_project.py** </p>"
   ]
  },
  {
   "cell_type": "code",
   "execution_count": null,
   "metadata": {
    "collapsed": true
   },
   "outputs": [],
   "source": [
    "#! /usr/bin/env python\n",
    "\n",
    "import rospy\n",
    "from sensor_msgs.msg import LaserScan \n",
    "from geometry_msgs.msg import Twist\n",
    "\n",
    "def callback(msg): \n",
    "  print msg.ranges[360] #We print the distance to an obstacle in front of the robot\n",
    "\n",
    "#If the distance to an obstacle in front of the robot is bigger than 1 meter, the robot will move forward\n",
    "  if msg.ranges[360] > 1:\n",
    "      move.linear.x = 0.1\n",
    "      move.angular.z = 0.0\n",
    "\n",
    "#If the distance to an obstacle in front of the robot is smaller than 1 meter, the robot will turn left\n",
    "  if msg.ranges[360] < 1: \n",
    "      move.linear.x = 0.0\n",
    "      move.angular.z = 0.2\n",
    "        \n",
    "#If the distance to an obstacle at the left side of the robot is smaller than 0.3 meters, the robot will turn right\n",
    "  if msg.ranges[719] < 0.3:\n",
    "      move.linear.x = 0.0\n",
    "      move.angular.z = -0.2\n",
    "        \n",
    "#If the distance to an obstacle at the right side of the robot is smaller than 0.3 meters, the robot will turn left\n",
    "  if msg.ranges[0] < 0.3:\n",
    "      move.linear.x = 0.0\n",
    "      move.angular.z = 0.2\n",
    "      \n",
    "  pub.publish(move)\n",
    "\n",
    "rospy.init_node('sub_node')\n",
    "sub = rospy.Subscriber('/kobuki/laser/scan', LaserScan, callback) #We subscribe to the laser's topic\n",
    "pub = rospy.Publisher('/cmd_vel', Twist)\n",
    "move = Twist()\n",
    "\n",
    "rospy.spin()"
   ]
  },
  {
   "cell_type": "markdown",
   "metadata": {},
   "source": [
    "<p style=\"background:#3B8F10;color:white;\" id=\"prg-2-1\">**END Python File: mini_project.py** </p>"
   ]
  },
  {
   "cell_type": "markdown",
   "metadata": {},
   "source": [
    "在上面的Python脚本中，我们生成一个非常简单的逻辑：\n",
    "* 如果机器人前方1米内没有障碍物： **向前移动**\n",
    "* 如果机器人前方1米内有一个障碍物：**左转**\n",
    "* 如果机器人右侧1米内有一个障碍物： **左转**\n",
    "* 如果机器人左侧1米内有一个障碍物： **右转**"
   ]
  },
  {
   "cell_type": "markdown",
   "metadata": {},
   "source": [
    "最后，你将得到类似下面的结果："
   ]
  },
  {
   "cell_type": "markdown",
   "metadata": {},
   "source": [
    "机器人向前移动，如果检测到前方1米内出现障碍物，它将左转以躲避障碍物。"
   ]
  },
  {
   "cell_type": "markdown",
   "metadata": {},
   "source": [
    "<img src=\"../img/mini_project_1.gif\" width=\"600\" />"
   ]
  },
  {
   "cell_type": "markdown",
   "metadata": {},
   "source": [
    "机器人保持左转和向前移动，如果检测到右侧1米内出现障碍物，停止前进，左转以躲避障碍物。"
   ]
  },
  {
   "cell_type": "markdown",
   "metadata": {},
   "source": [
    "<img src=\"../img/mini_project_2.gif\" width=\"600\" />"
   ]
  }
 ],
 "metadata": {
  "anaconda-cloud": {},
  "kernelspec": {
   "display_name": "Python 3",
   "language": "python",
   "name": "python3"
  },
  "language_info": {
   "codemirror_mode": {
    "name": "ipython",
    "version": 3
   },
   "file_extension": ".py",
   "mimetype": "text/x-python",
   "name": "python",
   "nbconvert_exporter": "python",
   "pygments_lexer": "ipython3",
   "version": "3.6.4"
  }
 },
 "nbformat": 4,
 "nbformat_minor": 1
}
