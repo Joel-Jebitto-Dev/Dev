{
 "cells": [
  {
   "cell_type": "markdown",
   "metadata": {},
   "source": [
    "## Unit 4 行为 Part 2解决方案"
   ]
  },
  {
   "cell_type": "markdown",
   "metadata": {},
   "source": [
    "<img src=\"../img/robotignite_logo_text.png\"/>"
   ]
  },
  {
   "cell_type": "markdown",
   "metadata": {},
   "source": [
    "## 索引: "
   ]
  },
  {
   "cell_type": "markdown",
   "metadata": {},
   "source": [
    "* <a href=\"#SolutionExercise4-13\">Exercise 4.13解决方案</a>\n",
    "* <a href=\"#SolutionExercise4-14\">Exercise 4.14解决方案</a>"
   ]
  },
  {
   "cell_type": "markdown",
   "metadata": {},
   "source": [
    "## Exercise 4.13 解决方案<p id=\"SolutionExercise4-13\"></p>"
   ]
  },
  {
   "cell_type": "markdown",
   "metadata": {},
   "source": [
    "<p style=\"background:#EE9023;color:white;\">**Exercise 4.13**</p>"
   ]
  },
  {
   "cell_type": "markdown",
   "metadata": {},
   "source": [
    "对于该练习，我们假设所使用功能包的名称为**exercise_413**, 启动文件名为 **move_drone_square.launch**, Python文件名为 **move_drone_square.py**。"
   ]
  },
  {
   "cell_type": "markdown",
   "metadata": {},
   "source": [
    "<p style=\"background:#3B8F10;color:white;\" id=\"prg-2-1\">**Launch File: move_drone_square.launch** </p>"
   ]
  },
  {
   "cell_type": "code",
   "execution_count": null,
   "metadata": {
    "collapsed": true
   },
   "outputs": [],
   "source": [
    "<launch>\n",
    "    <node pkg=\"exercise_413\" type=\"move_drone_square.py\" name=\"move_drone_square\" output=\"screen\" />\n",
    "</launch>"
   ]
  },
  {
   "cell_type": "markdown",
   "metadata": {},
   "source": [
    "<p style=\"background:#3B8F10;color:white;\" id=\"prg-2-1\">**END Launch File: move_drone_square.launch** </p>"
   ]
  },
  {
   "cell_type": "markdown",
   "metadata": {},
   "source": [
    "<p style=\"background:#3B8F10;color:white;\" id=\"prg-2-1\">**Python File: move_drone_square.py** </p>"
   ]
  },
  {
   "cell_type": "code",
   "execution_count": null,
   "metadata": {
    "collapsed": true
   },
   "outputs": [],
   "source": [
    "#! /usr/bin/env python\n",
    "import rospy\n",
    "import time\n",
    "import actionlib\n",
    "\n",
    "from actionlib.msg import TestFeedback, TestResult, TestAction\n",
    "from geometry_msgs.msg import Twist\n",
    "from std_msgs.msg import Empty\n",
    "\n",
    "class MoveSquareClass(object):\n",
    "    \n",
    "  # create messages that are used to publish feedback/result\n",
    "  _feedback = TestFeedback()\n",
    "  _result   = TestResult()\n",
    "\n",
    "  def __init__(self):\n",
    "    # creates the action server\n",
    "    self._as = actionlib.SimpleActionServer(\"move_drone_square_as\", TestAction, self.goal_callback, False)\n",
    "    self._as.start()\n",
    "    self.ctrl_c = False\n",
    "    self.rate = rospy.Rate(10)\n",
    "    \n",
    "  \n",
    "  def publish_once_in_cmd_vel(self, cmd):\n",
    "    \"\"\"\n",
    "    This is because publishing in topics sometimes fails teh first time you publish.\n",
    "    In continuos publishing systems there is no big deal but in systems that publish only\n",
    "    once it IS very important.\n",
    "    \"\"\"\n",
    "    while not self.ctrl_c:\n",
    "        connections = self._pub_cmd_vel.get_num_connections()\n",
    "        if connections > 0:\n",
    "            self._pub_cmd_vel.publish(cmd)\n",
    "            rospy.loginfo(\"Publish in cmd_vel...\")\n",
    "            break\n",
    "        else:\n",
    "            self.rate.sleep()\n",
    "            \n",
    "  # function that stops the drone from any movement\n",
    "  def stop_drone(self):\n",
    "    rospy.loginfo(\"Stopping...\")\n",
    "    self._move_msg.linear.x = 0.0\n",
    "    self._move_msg.angular.z = 0.0\n",
    "    self.publish_once_in_cmd_vel(self._move_msg)\n",
    "        \n",
    "  # function that makes the drone turn 90 degrees\n",
    "  def turn_drone(self):\n",
    "    rospy.loginfo(\"Turning...\")\n",
    "    self._move_msg.linear.x = 0.0\n",
    "    self._move_msg.angular.z = 1.0\n",
    "    self.publish_once_in_cmd_vel(self._move_msg)\n",
    "    \n",
    "  # function that makes the drone move forward\n",
    "  def move_forward_drone(self):\n",
    "    rospy.loginfo(\"Moving forward...\")\n",
    "    self._move_msg.linear.x = 1.0\n",
    "    self._move_msg.angular.z = 0.0\n",
    "    self.publish_once_in_cmd_vel(self._move_msg)\n",
    "    \n",
    "  def goal_callback(self, goal):\n",
    "    # this callback is called when the action server is called.\n",
    "    # this is the function that computes the Fibonacci sequence\n",
    "    # and returns the sequence to the node that called the action server\n",
    "    \n",
    "    # helper variables\n",
    "    r = rospy.Rate(1)\n",
    "    success = True\n",
    "    \n",
    "    # define the different publishers and messages that will be used\n",
    "    self._pub_cmd_vel = rospy.Publisher('/cmd_vel', Twist, queue_size=1)\n",
    "    self._move_msg = Twist()\n",
    "    self._pub_takeoff = rospy.Publisher('/drone/takeoff', Empty, queue_size=1)\n",
    "    self._takeoff_msg = Empty()\n",
    "    self._pub_land = rospy.Publisher('/drone/land', Empty, queue_size=1)\n",
    "    self._land_msg = Empty()\n",
    "    \n",
    "    # make the drone takeoff\n",
    "    i=0\n",
    "    while not i == 3:\n",
    "        self._pub_takeoff.publish(self._takeoff_msg)\n",
    "        rospy.loginfo('Taking off...')\n",
    "        time.sleep(1)\n",
    "        i += 1\n",
    "    \n",
    "    # define the seconds to move in each side of the square (which is taken from the goal) and the seconds to turn\n",
    "    sideSeconds = goal.goal\n",
    "    turnSeconds = 1.8\n",
    "    \n",
    "    i = 0\n",
    "    for i in xrange(0, 4):\n",
    "    \n",
    "      # check that preempt (cancelation) has not been requested by the action client\n",
    "      if self._as.is_preempt_requested():\n",
    "        rospy.loginfo('The goal has been cancelled/preempted')\n",
    "        # the following line, sets the client in preempted state (goal cancelled)\n",
    "        self._as.set_preempted()\n",
    "        success = False\n",
    "        # we end the calculation of the Fibonacci sequence\n",
    "        break\n",
    "    \n",
    "      # Logic that makes the robot move forward and turn\n",
    "      self.move_forward_drone()\n",
    "      time.sleep(sideSeconds)\n",
    "      self.turn_drone()\n",
    "      time.sleep(turnSeconds)\n",
    "      \n",
    "      # build and publish the feedback message\n",
    "      self._feedback.feedback = i\n",
    "      self._as.publish_feedback(self._feedback)\n",
    "      # the sequence is computed at 1 Hz frequency\n",
    "      r.sleep()\n",
    "    \n",
    "    # at this point, either the goal has been achieved (success==true)\n",
    "    # or the client preempted the goal (success==false)\n",
    "    # If success, then we publish the final result\n",
    "    # If not success, we do not publish anything in the result\n",
    "    if success:\n",
    "      self._result.result = (sideSeconds*4) + (turnSeconds*4)\n",
    "      rospy.loginfo('The total seconds it took the drone to perform the square was %i' % self._result.result )\n",
    "      self._as.set_succeeded(self._result)\n",
    "        \n",
    "      # make the drone stop and land\n",
    "      self.stop_drone()\n",
    "      i=0\n",
    "      while not i == 3:\n",
    "          self._pub_land.publish(self._land_msg)\n",
    "          rospy.loginfo('Landing...')\n",
    "          time.sleep(1)\n",
    "          i += 1\n",
    "      \n",
    "if __name__ == '__main__':\n",
    "  rospy.init_node('move_square')\n",
    "  MoveSquareClass()\n",
    "  rospy.spin()"
   ]
  },
  {
   "cell_type": "markdown",
   "metadata": {},
   "source": [
    "<p style=\"background:#3B8F10;color:white;\" id=\"prg-2-1\">**END Python File: move_drone_square.py** </p>"
   ]
  },
  {
   "cell_type": "markdown",
   "metadata": {},
   "source": [
    "如你所见，在上面的代码中，我们通过确定机器人沿正方形每一条边移动的时间（秒钟）来定义正方形是否更大或更小。因此，目标中定义的秒数越多，正方形将越大。这一点可通过多种方法实现，如通过检查里程计数据来识别无人机实际运动的距离等，但这相当复杂，且不是该练习的目的。该练习的目的是学习如何建立一个合适的行为服务器，并与行为的目标、反馈和结果进行交互。"
   ]
  },
  {
   "cell_type": "markdown",
   "metadata": {},
   "source": [
    "为了测试该代码，你必须首先启动行为服务器 (在上面的Python文件中的定义）。运行下面的命令："
   ]
  },
  {
   "cell_type": "code",
   "execution_count": null,
   "metadata": {
    "collapsed": true
   },
   "outputs": [],
   "source": [
    "roslaunch exercise_413 move_drone_saquare.launch"
   ]
  },
  {
   "cell_type": "markdown",
   "metadata": {},
   "source": [
    "现在，如果运行下面的命令："
   ]
  },
  {
   "cell_type": "code",
   "execution_count": null,
   "metadata": {
    "collapsed": true
   },
   "outputs": [],
   "source": [
    "rostopic list | grep move_drone_square"
   ]
  },
  {
   "cell_type": "markdown",
   "metadata": {},
   "source": [
    "你将看到类似下面的输出："
   ]
  },
  {
   "cell_type": "markdown",
   "metadata": {},
   "source": [
    "<img src=\"../img/move_drone_square_as.png\" width=\"600\" />"
   ]
  },
  {
   "cell_type": "markdown",
   "metadata": {},
   "source": [
    "这意味着你的行为服务器已经启动，做好了接收目标的准备。"
   ]
  },
  {
   "cell_type": "markdown",
   "metadata": {},
   "source": [
    "现在，向该行为服务器发布一个目标。有两种方法（如行为笔记本第1部分中的那样）可实现这一点："
   ]
  },
  {
   "cell_type": "markdown",
   "metadata": {},
   "source": [
    "* 创建一个行为客户端\n",
    "* 通过行为主题直接发布一个目标"
   ]
  },
  {
   "cell_type": "markdown",
   "metadata": {},
   "source": [
    "对于该例，我们使用第二种方法。你应发布一个消息至 **move_drone_square_as/goal** 主题，如下："
   ]
  },
  {
   "cell_type": "markdown",
   "metadata": {},
   "source": [
    "<img src=\"../img/goal_square_sol.png\" width=\"800\" />"
   ]
  },
  {
   "cell_type": "markdown",
   "metadata": {},
   "source": [
    "你将看到，无人机运动如下："
   ]
  },
  {
   "cell_type": "markdown",
   "metadata": {},
   "source": [
    "<img src=\"../img/drone_square_sol.gif\" width=\"600\" />"
   ]
  },
  {
   "cell_type": "markdown",
   "metadata": {},
   "source": [
    "最后，查看行为的**feedback** 和 **result**主题，看一下它们是否发布了我们想要的值。"
   ]
  },
  {
   "cell_type": "code",
   "execution_count": null,
   "metadata": {
    "collapsed": true
   },
   "outputs": [],
   "source": [
    "rostopic echo /move_drone_square_as/feedback"
   ]
  },
  {
   "cell_type": "markdown",
   "metadata": {},
   "source": [
    "<img src=\"../img/feedback_square_sol.png\" width=\"600\" />"
   ]
  },
  {
   "cell_type": "code",
   "execution_count": null,
   "metadata": {
    "collapsed": true
   },
   "outputs": [],
   "source": [
    "rostopic echo /move_drone_square_as/result"
   ]
  },
  {
   "cell_type": "markdown",
   "metadata": {},
   "source": [
    "<img src=\"../img/result_square_sol.png\" width=\"600\" />"
   ]
  },
  {
   "cell_type": "markdown",
   "metadata": {},
   "source": [
    "## Exercise 4.14解决方案 <p id=\"SolutionExercise4-14\"></p>"
   ]
  },
  {
   "cell_type": "markdown",
   "metadata": {},
   "source": [
    "<p style=\"background:#EE9023;color:white;\">**Exercise 4.14**</p>"
   ]
  },
  {
   "cell_type": "markdown",
   "metadata": {},
   "source": [
    "对于该练习，我们假设所使用的功能包为 **exercise_414**, 我们的启动文件为 **action_custom_msg.launch**, Python文件为 **action_custom_msg.py**。"
   ]
  },
  {
   "cell_type": "markdown",
   "metadata": {},
   "source": [
    "因此 ，对于Exercise 4.14, 我们将创建一个自定义行为消息，该消息使用一个字符串（可以是**UP** 或 **DOWN**）来定义无人机的运动。作为反馈，它将返回一个字符串表示当时无人机所发生的行为。对于结果，它将返回空。"
   ]
  },
  {
   "cell_type": "markdown",
   "metadata": {},
   "source": [
    "要实现该目的，首先需要做的是在**exercise_414** 功能包中创建一个名为**action**的文件夹。"
   ]
  },
  {
   "cell_type": "code",
   "execution_count": null,
   "metadata": {
    "collapsed": true
   },
   "outputs": [],
   "source": [
    "roscd exercise_414\n",
    "mkdir action"
   ]
  },
  {
   "cell_type": "markdown",
   "metadata": {},
   "source": [
    "接着，在 **action** 文件夹中, 你需要创建一个名为**CustomActionMsg.action**的文件, 内容如下："
   ]
  },
  {
   "cell_type": "markdown",
   "metadata": {},
   "source": [
    "<p style=\"background:#3B8F10;color:white;\" id=\"prg-2-1\">**Message File: CustomActionMsg.action** </p>"
   ]
  },
  {
   "cell_type": "code",
   "execution_count": null,
   "metadata": {
    "collapsed": true
   },
   "outputs": [],
   "source": [
    "string goal\n",
    "---\n",
    "---\n",
    "string feedback"
   ]
  },
  {
   "cell_type": "markdown",
   "metadata": {},
   "source": [
    "<p style=\"background:#3B8F10;color:white;\" id=\"prg-2-1\">**END Message File: CustomActionMsg.action** </p>"
   ]
  },
  {
   "cell_type": "markdown",
   "metadata": {},
   "source": [
    "如你所见，我们把目标和反馈定义为字符串，而结果则不定义。"
   ]
  },
  {
   "cell_type": "markdown",
   "metadata": {},
   "source": [
    "接着，按照行为笔记本中描述的方法那样修改 **CMakeLists.txt** 和 **package.xml** 文件。如果你忘记了，查看下面的文件："
   ]
  },
  {
   "cell_type": "markdown",
   "metadata": {},
   "source": [
    "<p style=\"background:#3B8F10;color:white;\" id=\"prg-2-1\">**CMakeLists.txt** </p>"
   ]
  },
  {
   "cell_type": "code",
   "execution_count": null,
   "metadata": {
    "collapsed": true
   },
   "outputs": [],
   "source": [
    "cmake_minimum_required(VERSION 2.8.3)\n",
    "project(custom_action)\n",
    "\n",
    "## Find catkin macros and libraries\n",
    "## if COMPONENTS list like find_package(catkin REQUIRED COMPONENTS xyz)\n",
    "## is used, also find other catkin packages\n",
    "find_package(catkin REQUIRED COMPONENTS\n",
    "  std_msgs \n",
    "  actionlib_msgs\n",
    ")\n",
    "\n",
    "## Generate actions in the 'action' folder\n",
    "add_action_files(\n",
    "   FILES\n",
    "   CustomActionMsg.action\n",
    " )\n",
    "\n",
    "## Generate added messages and services with any dependencies listed here\n",
    "generate_messages(\n",
    "   DEPENDENCIES\n",
    "   std_msgs actionlib_msgs\n",
    " )\n",
    "\n",
    "catkin_package(\n",
    " CATKIN_DEPENDS rospy\n",
    ")\n",
    "\n",
    "## Specify additional locations of header files\n",
    "## Your package locations should be listed before other locations\n",
    "# include_directories(include)\n",
    "include_directories(\n",
    "  ${catkin_INCLUDE_DIRS}\n",
    ")"
   ]
  },
  {
   "cell_type": "markdown",
   "metadata": {},
   "source": [
    "<p style=\"background:#3B8F10;color:white;\" id=\"prg-2-1\">**END CMakeLists.txt** </p>"
   ]
  },
  {
   "cell_type": "markdown",
   "metadata": {},
   "source": [
    "<p style=\"background:#3B8F10;color:white;\" id=\"prg-2-1\">**package.xml** </p>"
   ]
  },
  {
   "cell_type": "code",
   "execution_count": null,
   "metadata": {
    "collapsed": true
   },
   "outputs": [],
   "source": [
    "<?xml version=\"1.0\"?>\n",
    "<package>\n",
    "  <name>custom_action</name>\n",
    "  <version>0.0.0</version>\n",
    "  <description>The my_custom_action_msg_pkg package</description>\n",
    "  <maintainer email=\"user@todo.todo\">user</maintainer>\n",
    "  <license>TODO</license>\n",
    "\n",
    "  <buildtool_depend>catkin</buildtool_depend>\n",
    "  <build_depend>std_msgs</build_depend>\n",
    "  <build_depend>actionlib_msgs</build_depend>\n",
    "  \n",
    "  <run_depend>rospy</run_depend>\n",
    "\n",
    "  <export>\n",
    "  </export>\n",
    "</package>"
   ]
  },
  {
   "cell_type": "markdown",
   "metadata": {},
   "source": [
    "<p style=\"background:#3B8F10;color:white;\" id=\"prg-2-1\">**END package.xml** </p>"
   ]
  },
  {
   "cell_type": "markdown",
   "metadata": {},
   "source": [
    "所有这一切完成后，编译功能包，source你将使用的**ALL the webwhells**，以便ROS能够找到这个新的消息。"
   ]
  },
  {
   "cell_type": "markdown",
   "metadata": {},
   "source": [
    "roscd\n",
    "cd ..\n",
    "catkin_make\n",
    "source devel/setup.bash"
   ]
  },
  {
   "cell_type": "markdown",
   "metadata": {},
   "source": [
    "最后，查看一下你是否能够找到新的消息："
   ]
  },
  {
   "cell_type": "code",
   "execution_count": null,
   "metadata": {
    "collapsed": true
   },
   "outputs": [],
   "source": [
    "rosmsg list | grep CustomActionMsg"
   ]
  },
  {
   "cell_type": "markdown",
   "metadata": {},
   "source": [
    "你将看到类似下面的输出："
   ]
  },
  {
   "cell_type": "code",
   "execution_count": null,
   "metadata": {
    "collapsed": true
   },
   "outputs": [],
   "source": [
    "exercise_414/CustomActionMsgAction\n",
    "exercise_414/CustomActionMsgActionFeedback\n",
    "exercise_414/CustomActionMsgActionGoal\n",
    "exercise_414/CustomActionMsgActionResult\n",
    "exercise_414/CustomActionMsgFeedback\n",
    "exercise_414/CustomActionMsgGoal\n",
    "exercise_414/CustomActionMsgResult"
   ]
  },
  {
   "cell_type": "markdown",
   "metadata": {},
   "source": [
    "自定义消息创建成功后，你可以继续创建行为服务器来使用这个新的消息。下面是该行为服务器的launch文件和Python文件："
   ]
  },
  {
   "cell_type": "markdown",
   "metadata": {},
   "source": [
    "<p style=\"background:#3B8F10;color:white;\" id=\"prg-2-1\">**Launch File: action_custom_msg.launch** </p>"
   ]
  },
  {
   "cell_type": "code",
   "execution_count": null,
   "metadata": {
    "collapsed": true
   },
   "outputs": [],
   "source": [
    "<launch>\n",
    "    <node pkg=\"exercise_414\" type=\"action_custom_msg.py\" name=\"action_custom_msg\" output=\"screen\" />\n",
    "</launch>"
   ]
  },
  {
   "cell_type": "markdown",
   "metadata": {},
   "source": [
    "<p style=\"background:#3B8F10;color:white;\" id=\"prg-2-1\">**END Launch File: action_custom_msg.launch** </p>"
   ]
  },
  {
   "cell_type": "markdown",
   "metadata": {},
   "source": [
    "<p style=\"background:#3B8F10;color:white;\" id=\"prg-2-1\">**Python File: action_custom_msg.py** </p>"
   ]
  },
  {
   "cell_type": "code",
   "execution_count": null,
   "metadata": {
    "collapsed": true
   },
   "outputs": [],
   "source": [
    "#! /usr/bin/env python\n",
    "import rospy\n",
    "import time\n",
    "import actionlib\n",
    "\n",
    "from custom_action.msg import CustomActionMsgFeedback, CustomActionMsgResult, CustomActionMsgAction\n",
    "from geometry_msgs.msg import Twist\n",
    "from std_msgs.msg import Empty\n",
    "\n",
    "class CustomActionMsgClass(object):\n",
    "    \n",
    "  # create messages that are used to publish feedback/result\n",
    "  _feedback = CustomActionMsgFeedback()\n",
    "  _result   = CustomActionMsgResult()\n",
    "\n",
    "  def __init__(self):\n",
    "    # creates the action server\n",
    "    self._as = actionlib.SimpleActionServer(\"action_custom_msg_as\", CustomActionMsgAction, self.goal_callback, False)\n",
    "    self._as.start()\n",
    "\n",
    "    \n",
    "  def goal_callback(self, goal):\n",
    "    # this callback is called when the action server is called.\n",
    "    # this is the function that computes the Fibonacci sequence\n",
    "    # and returns the sequence to the node that called the action server\n",
    "    \n",
    "    # helper variables\n",
    "    success = True\n",
    "    r = rospy.Rate(1)\n",
    "    \n",
    "    # define the different publishers and messages that will be used\n",
    "    self._pub_takeoff = rospy.Publisher('/drone/takeoff', Empty, queue_size=1)\n",
    "    self._takeoff_msg = Empty()\n",
    "    self._pub_land = rospy.Publisher('/drone/land', Empty, queue_size=1)\n",
    "    self._land_msg = Empty()\n",
    "    \n",
    "    # Get the goal word: UP or DOWN\n",
    "    up_or_down = goal.goal\n",
    "    \n",
    "    i = 0\n",
    "    for i in xrange(0, 4):\n",
    "    \n",
    "      # check that preempt (cancelation) has not been requested by the action client\n",
    "      if self._as.is_preempt_requested():\n",
    "        rospy.loginfo('The goal has been cancelled/preempted')\n",
    "        # the following line, sets the client in preempted state (goal cancelled)\n",
    "        self._as.set_preempted()\n",
    "        success = False\n",
    "        # we end the calculation of the Fibonacci sequence\n",
    "        break\n",
    "    \n",
    "      # Logic that makes the robot move UP or DOWN\n",
    "      if up_or_down == 'UP':\n",
    "        \n",
    "        self._pub_takeoff.publish(self._takeoff_msg)\n",
    "        self._feedback.feedback = 'Going UP'\n",
    "        self._as.publish_feedback(self._feedback)\n",
    "    \n",
    "      if up_or_down == 'DOWN':\n",
    "        \n",
    "        self._pub_land.publish(self._land_msg)\n",
    "        self._feedback.feedback = 'Going DOWN'\n",
    "        self._as.publish_feedback(self._feedback)\n",
    "    \n",
    "      # the sequence is computed at 1 Hz frequency\n",
    "      r.sleep()\n",
    "    \n",
    "    # at this point, either the goal has been achieved (success==true)\n",
    "    # or the client preempted the goal (success==false)\n",
    "    # If success, then we publish the final result\n",
    "    # If not success, we do not publish anything in the result\n",
    "    if success:\n",
    "      self._result = Empty()\n",
    "      self._as.set_succeeded(self._result)\n",
    "      \n",
    "      \n",
    "if __name__ == '__main__':\n",
    "  rospy.init_node('action_custom_msg')\n",
    "  CustomActionMsgClass()\n",
    "  rospy.spin()"
   ]
  },
  {
   "cell_type": "markdown",
   "metadata": {},
   "source": [
    "<p style=\"background:#3B8F10;color:white;\" id=\"prg-2-1\">**END Python File: action_custom_msg.py** </p>"
   ]
  },
  {
   "cell_type": "markdown",
   "metadata": {},
   "source": [
    "如你所见，在上面的代码中，为了使无人机向上或向下运动，我们使用 **/drone/takeoff** 和 **/drone/land** 主题，该主题将使无人机移动至大约1米的高度。你也可以使用 **/cmd_vel** 主题，这取决于你自己。"
   ]
  },
  {
   "cell_type": "markdown",
   "metadata": {},
   "source": [
    "为了测试该代码，你必须首先启动行为服务器(上面的Python文件中进行了定义)。运行下面的命令："
   ]
  },
  {
   "cell_type": "code",
   "execution_count": null,
   "metadata": {
    "collapsed": true
   },
   "outputs": [],
   "source": [
    "roslaunch exercise_414 action_custom_msg.launch"
   ]
  },
  {
   "cell_type": "markdown",
   "metadata": {},
   "source": [
    "现在，如果运行下面的命令："
   ]
  },
  {
   "cell_type": "code",
   "execution_count": null,
   "metadata": {
    "collapsed": true
   },
   "outputs": [],
   "source": [
    "rostopic list | grep action_custom_msg"
   ]
  },
  {
   "cell_type": "markdown",
   "metadata": {},
   "source": [
    "你将会看到类似下面的结果："
   ]
  },
  {
   "cell_type": "markdown",
   "metadata": {},
   "source": [
    "<img src=\"../img/action_custom_msg_as.png\" width=\"600\" />"
   ]
  },
  {
   "cell_type": "markdown",
   "metadata": {},
   "source": [
    "这意味着你的行为服务器已经启动，做好了接收目标的准备。"
   ]
  },
  {
   "cell_type": "markdown",
   "metadata": {},
   "source": [
    "现在，让我们向该行为服务器发布一个主题。有两种方法（如行为笔记本第1部分中的那样）可实现这一点："
   ]
  },
  {
   "cell_type": "markdown",
   "metadata": {},
   "source": [
    "* 创建一个行为客户端\n",
    "* 通过行为主题直接发布一个目标"
   ]
  },
  {
   "cell_type": "markdown",
   "metadata": {},
   "source": [
    "对于该例，我们使用第二种方法。你应发布一个消息至 **action_custom_msg_as/goal**主题，如下："
   ]
  },
  {
   "cell_type": "markdown",
   "metadata": {},
   "source": [
    "<img src=\"../img/action_custom_msg_as_goal.png\" width=\"800\" />"
   ]
  },
  {
   "cell_type": "markdown",
   "metadata": {},
   "source": [
    "你将看到，无人机运动如下："
   ]
  },
  {
   "cell_type": "markdown",
   "metadata": {},
   "source": [
    "<img src=\"../img/up_or_down1.gif\" width=\"600\" />"
   ]
  },
  {
   "cell_type": "markdown",
   "metadata": {},
   "source": [
    "<img src=\"../img/up_or_down2.gif\" width=\"600\" />"
   ]
  },
  {
   "cell_type": "markdown",
   "metadata": {},
   "source": [
    "最后，查看行为的**feedback** 和 **result**主题，看一下它们是否发布了我们想要的值。"
   ]
  },
  {
   "cell_type": "code",
   "execution_count": null,
   "metadata": {
    "collapsed": true
   },
   "outputs": [],
   "source": [
    "rostopic echo /action_custom_msg_as/feedback"
   ]
  },
  {
   "cell_type": "markdown",
   "metadata": {},
   "source": [
    "<img src=\"../img/action_custom_msg_as_feedback.png\" width=\"600\" />"
   ]
  },
  {
   "cell_type": "markdown",
   "metadata": {},
   "source": [
    "<img src=\"../img/action_custom_msg_as_feedback2.png\" width=\"600\" />"
   ]
  },
  {
   "cell_type": "markdown",
   "metadata": {
    "collapsed": true
   },
   "source": [
    "该例中，没有结果要显示。"
   ]
  }
 ],
 "metadata": {
  "anaconda-cloud": {},
  "kernelspec": {
   "display_name": "Python 3",
   "language": "python",
   "name": "python3"
  },
  "language_info": {
   "codemirror_mode": {
    "name": "ipython",
    "version": 3
   },
   "file_extension": ".py",
   "mimetype": "text/x-python",
   "name": "python",
   "nbconvert_exporter": "python",
   "pygments_lexer": "ipython3",
   "version": "3.6.4"
  }
 },
 "nbformat": 4,
 "nbformat_minor": 1
}
