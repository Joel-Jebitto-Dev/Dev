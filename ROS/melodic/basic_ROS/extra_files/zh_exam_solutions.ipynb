{
 "cells": [
  {
   "cell_type": "markdown",
   "metadata": {},
   "source": [
    "## 考试解决方案"
   ]
  },
  {
   "cell_type": "markdown",
   "metadata": {},
   "source": [
    "<img src=\"../img/robotignite_logo_text.png\"/>"
   ]
  },
  {
   "cell_type": "markdown",
   "metadata": {},
   "source": [
    "## 索引: "
   ]
  },
  {
   "cell_type": "markdown",
   "metadata": {},
   "source": [
    "* <a href=\"#SolutionStep1\">解决方案步骤 1</a>\n",
    "* <a href=\"#SolutionStep2\">解决方案步骤 2</a>\n",
    "* <a href=\"#SolutionStep3\">解决方案步骤 3</a>\n",
    "* <a href=\"#SolutionSupport\">解决方案脚本</a>"
   ]
  },
  {
   "cell_type": "markdown",
   "metadata": {},
   "source": [
    "## 解决方案步骤 1 <p id=\"SolutionStep1\"></p>"
   ]
  },
  {
   "cell_type": "markdown",
   "metadata": {},
   "source": [
    "一个服务，当被调用时，必须提供的调用的方向。"
   ]
  },
  {
   "cell_type": "markdown",
   "metadata": {},
   "source": [
    "<p style=\"background:#3B8F10;color:white;\" id=\"prg-2-1\">**Python 文件: exam_service_server.py** </p>"
   ]
  },
  {
   "cell_type": "code",
   "execution_count": null,
   "metadata": {
    "collapsed": true
   },
   "outputs": [],
   "source": [
    "#! /usr/bin/env python\n",
    "\n",
    "import rospy\n",
    "from std_srvs.srv import Trigger, TriggerResponse\n",
    "from sensor_msgs.msg import LaserScan\n",
    "import time\n",
    "\n",
    "\n",
    "class CrashDirectionService(object):\n",
    "    def __init__(self, srv_name='/crash_direction_service'):\n",
    "        self._srv_name = srv_name\n",
    "        self.detection_dict = {\"front\":0.0, \"all_left\":0.0, \"all_right\":0.0, \"left\":0.0, \"right\":0.0}\n",
    "        self._my_service = rospy.Service(self._srv_name, Trigger , self.srv_callback)\n",
    "        self._laser_sub = rospy.Subscriber('/scan', LaserScan, self.topic_callback)\n",
    "        self._laserdata = LaserScan()\n",
    "\n",
    "    def srv_callback(self, request):\n",
    "        self.crash_detector()\n",
    "        \n",
    "        message = self.direction_to_move()\n",
    "        \n",
    "        rospy.logdebug(\"DIRECTION ==> \"+message)\n",
    "        \n",
    "        response = TriggerResponse()\n",
    "        \"\"\"\n",
    "        ---                                                                                                 \n",
    "        bool success   # indicate if crashed                                       \n",
    "        string message # Direction\n",
    "        \"\"\"\n",
    "        response.success = True\n",
    "        response.message = message\n",
    "        \n",
    "        return response\n",
    "        \n",
    "    def topic_callback(self, msg):\n",
    "        self._laserdata = msg\n",
    "        \n",
    "    def crash_detector(self):\n",
    "        \n",
    "        self._front = self._laserdata.ranges[360]\n",
    "        self._left = self._laserdata.ranges[0]\n",
    "        self._right = self._laserdata.ranges[719]\n",
    "        self._left2 = self._laserdata.ranges[300]\n",
    "        self._right2 = self._laserdata.ranges[420]\n",
    "        rospy.loginfo(\"Front Distance == \"+str(self._front))\n",
    "        rospy.loginfo(\"Left Distance == \"+str(self._left))\n",
    "        rospy.loginfo(\"Right Distance == \"+str(self._right))\n",
    "        rospy.loginfo(\"Left2 Distance == \"+str(self._left2))\n",
    "        rospy.loginfo(\"Right2 Distance == \"+str(self._right2))\n",
    "        \n",
    "        self.detection_dict = {\"front\":self._front,\n",
    "                          \"all_left\":self._left,\n",
    "                          \"all_right\":self._right,\n",
    "                          \"left\":self._left2,\n",
    "                          \"right\":self._right2}\n",
    "        \n",
    "    \n",
    "    def direction_to_move(self):\n",
    "\n",
    "        if self.detection_dict[\"front\"] > self.detection_dict[\"all_left\"] and self.detection_dict[\"front\"] > self.detection_dict[\"all_right\"]:\n",
    "            message = \"front\"\n",
    "        \n",
    "        elif self.detection_dict[\"all_right\"] > self.detection_dict[\"all_left\"]:\n",
    "            message = \"right\"\n",
    "        \n",
    "        elif self.detection_dict[\"all_left\"] > self.detection_dict[\"all_right\"]:\n",
    "            message = \"left\"\n",
    "        \n",
    "        if self.detection_dict[\"left\"] < 0.7 :\n",
    "            message = \"right\"\n",
    "            \n",
    "        elif self.detection_dict[\"right\"] < 0.7 :\n",
    "            message = \"left\"\n",
    "\n",
    "        \n",
    "        return message\n",
    "\n",
    "if __name__ == \"__main__\":\n",
    "    rospy.init_node('crash_direction_service_server', log_level=rospy.INFO) \n",
    "    dir_serv_object = CrashDirectionService()\n",
    "    rospy.spin() # mantain the service open."
   ]
  },
  {
   "cell_type": "markdown",
   "metadata": {},
   "source": [
    "<p style=\"background:#3B8F10;color:white;\" id=\"prg-2-1\">**Python 文件结束: exam_service_server.py** </p>"
   ]
  },
  {
   "cell_type": "markdown",
   "metadata": {},
   "source": [
    "<p style=\"background:#3B8F10;color:white;\" id=\"prg-2-1\">**Python 文件: exam_service_client.py** </p>"
   ]
  },
  {
   "cell_type": "code",
   "execution_count": null,
   "metadata": {
    "collapsed": true
   },
   "outputs": [],
   "source": [
    "#! /usr/bin/env python\n",
    "\n",
    "import rospy\n",
    "from std_srvs.srv import Trigger, TriggerResponse\n",
    "from sensor_msgs.msg import LaserScan\n",
    "import time\n",
    "\n",
    "\n",
    "class CrashDirectionService(object):\n",
    "    def __init__(self, srv_name='/crash_direction_service'):\n",
    "        self._srv_name = srv_name\n",
    "        self.detection_dict = {\"front\":0.0, \"all_left\":0.0, \"all_right\":0.0, \"left\":0.0, \"right\":0.0}\n",
    "        self._my_service = rospy.Service(self._srv_name, Trigger , self.srv_callback)\n",
    "        self._laser_sub = rospy.Subscriber('/scan', LaserScan, self.topic_callback)\n",
    "        self._laserdata = LaserScan()\n",
    "\n",
    "    def srv_callback(self, request):\n",
    "        self.crash_detector()\n",
    "        \n",
    "        message = self.direction_to_move()\n",
    "        \n",
    "        rospy.logdebug(\"DIRECTION ==> \"+message)\n",
    "        \n",
    "        response = TriggerResponse()\n",
    "        \"\"\"\n",
    "        ---                                                                                                 \n",
    "        bool success   # indicate if crashed                                       \n",
    "        string message # Direction\n",
    "        \"\"\"\n",
    "        response.success = True\n",
    "        response.message = message\n",
    "        \n",
    "        return response\n",
    "        \n",
    "    def topic_callback(self, msg):\n",
    "        self._laserdata = msg\n",
    "        \n",
    "    def crash_detector(self):\n",
    "        \n",
    "        self._front = self._laserdata.ranges[360]\n",
    "        self._left = self._laserdata.ranges[0]\n",
    "        self._right = self._laserdata.ranges[719]\n",
    "        self._left2 = self._laserdata.ranges[300]\n",
    "        self._right2 = self._laserdata.ranges[420]\n",
    "        rospy.loginfo(\"Front Distance == \"+str(self._front))\n",
    "        rospy.loginfo(\"Left Distance == \"+str(self._left))\n",
    "        rospy.loginfo(\"Right Distance == \"+str(self._right))\n",
    "        rospy.loginfo(\"Left2 Distance == \"+str(self._left2))\n",
    "        rospy.loginfo(\"Right2 Distance == \"+str(self._right2))\n",
    "        \n",
    "        self.detection_dict = {\"front\":self._front,\n",
    "                          \"all_left\":self._left,\n",
    "                          \"all_right\":self._right,\n",
    "                          \"left\":self._left2,\n",
    "                          \"right\":self._right2}\n",
    "        \n",
    "    \n",
    "    def direction_to_move(self):\n",
    "\n",
    "        if self.detection_dict[\"front\"] > self.detection_dict[\"all_left\"] and self.detection_dict[\"front\"] > self.detection_dict[\"all_right\"]:\n",
    "            message = \"front\"\n",
    "        \n",
    "        elif self.detection_dict[\"all_right\"] > self.detection_dict[\"all_left\"]:\n",
    "            message = \"right\"\n",
    "        \n",
    "        elif self.detection_dict[\"all_left\"] > self.detection_dict[\"all_right\"]:\n",
    "            message = \"left\"\n",
    "        \n",
    "        if self.detection_dict[\"left\"] < 0.7 :\n",
    "            message = \"right\"\n",
    "            \n",
    "        elif self.detection_dict[\"right\"] < 0.7 :\n",
    "            message = \"left\"\n",
    "\n",
    "        \n",
    "        return message\n",
    "\n",
    "if __name__ == \"__main__\":\n",
    "    rospy.init_node('crash_direction_service_server', log_level=rospy.INFO) \n",
    "    dir_serv_object = CrashDirectionService()\n",
    "    rospy.spin() # mantain the service open."
   ]
  },
  {
   "cell_type": "markdown",
   "metadata": {},
   "source": [
    "<p style=\"background:#3B8F10;color:white;\" id=\"prg-2-1\">**Python 文件结束: exam_service_client.py** </p>"
   ]
  },
  {
   "cell_type": "markdown",
   "metadata": {},
   "source": [
    "## 解决方案步骤 2 <p id=\"SolutionStep2\"></p>"
   ]
  },
  {
   "cell_type": "markdown",
   "metadata": {},
   "source": [
    "* 一个行为服务器，当被调用时，将开始记录机器人每秒所访问的所有里程计位置。\n",
    "    \n",
    " * **Goal**: 没有发送目标，只是发送了一个空消息，表明行为服务器必须启动。\n",
    " * **Feedback**: 无需提供反馈。\n",
    " * **Result**: 两分钟后它将提供整个列表。"
   ]
  },
  {
   "cell_type": "markdown",
   "metadata": {},
   "source": [
    "<p style=\"background:#3B8F10;color:white;\" id=\"prg-2-1\">**行为消息文件: record_odom.action** </p>"
   ]
  },
  {
   "cell_type": "code",
   "execution_count": null,
   "metadata": {
    "collapsed": true
   },
   "outputs": [],
   "source": [
    "#goal, empty                \n",
    "---                             \n",
    "#result, Odometry array             \n",
    "nav_msgs/Odometry[] result_odom_array                \n",
    "---                             \n",
    "#feedback, empty"
   ]
  },
  {
   "cell_type": "markdown",
   "metadata": {},
   "source": [
    "<p style=\"background:#3B8F10;color:white;\" id=\"prg-2-1\">**行为消息文件结束: record_odom.action** </p>"
   ]
  },
  {
   "cell_type": "markdown",
   "metadata": {},
   "source": [
    "<p style=\"background:#3B8F10;color:white;\" id=\"prg-2-1\">**Python 文件: exam_action_server.py** </p>"
   ]
  },
  {
   "cell_type": "code",
   "execution_count": null,
   "metadata": {
    "collapsed": true
   },
   "outputs": [],
   "source": [
    "#! /usr/bin/env python\n",
    "\n",
    "import rospy\n",
    "import actionlib\n",
    "from turtle_project_sol.msg import record_odomFeedback, record_odomResult, record_odomAction\n",
    "from nav_msgs.msg import Odometry\n",
    "from odom_topic_subscriber import OdomTopicReader\n",
    "from odometry_analysis import check_if_out_maze\n",
    "\n",
    "\n",
    "class RecordOdomClass(object):\n",
    "    \n",
    "    def __init__(self, goal_distance):\n",
    "        \"\"\"\n",
    "        It starts an action Server. To test it was created correctly, just rostopic the list and search for /rec_odom_as/...\n",
    "        When launching, bear in mind that you should have:\n",
    "        $catkin_make\n",
    "        $source devel/setup.bash\n",
    "        \"\"\"\n",
    "        # creates the action server\n",
    "        self._as = actionlib.SimpleActionServer(\"/rec_odom_as\", record_odomAction, self.goal_callback, False)\n",
    "        self._as.start()\n",
    "        \n",
    "        # Create an object that reads from the topic Odom\n",
    "        self._odom_reader_object = OdomTopicReader()\n",
    "        \n",
    "        # create messages that are used to publish result\n",
    "        self._result   = record_odomResult()\n",
    "        \n",
    "        self._seconds_recording = 120\n",
    "        self._goal_distance = goal_distance\n",
    "    \n",
    "    def goal_callback(self, goal):\n",
    "    \n",
    "        success = True\n",
    "        rate = rospy.Rate(1)\n",
    "        \n",
    "        for i in range(self._seconds_recording):\n",
    "            rospy.loginfo(\"Recording Odom index=\"+str(i))\n",
    "            # check that the preempt (cancelation) has not been requested by the action client\n",
    "            if self._as.is_preempt_requested():\n",
    "                rospy.logdebug('The goal has been cancelled/preempted')\n",
    "                # the following line sets the client in a preempted state (goal cancelled)\n",
    "                self._as.set_preempted()\n",
    "                success = False\n",
    "                # we end the action loop\n",
    "                break\n",
    "            \n",
    "            else:# builds the next feedback msg to be sent\n",
    "                if not self.reached_distance_goal():\n",
    "                    rospy.logdebug('Reading Odometry...')\n",
    "                    self._result.result_odom_array.append(self._odom_reader_object.get_odomdata())\n",
    "                else:\n",
    "                    rospy.logwarn('Reached distance Goal')\n",
    "                    # we end the action loop\n",
    "                    break\n",
    "            rate.sleep()\n",
    "        \n",
    "        # at this point, either the goal has been achieved (success==true)\n",
    "        # or the client preempted the goal (success==false)\n",
    "        # If successful, then we publish the final result\n",
    "        # If not successful, we do not publish anything in the result\n",
    "        if success:\n",
    "            self._as.set_succeeded(self._result)\n",
    "            # Clean the Result Variable\n",
    "        \n",
    "        self.clean_variables()\n",
    "    \n",
    "    def clean_variables(self):\n",
    "        \"\"\"\n",
    "        Cleans variables for the next call\n",
    "        \"\"\"\n",
    "        self._result   = record_odomResult()\n",
    "    \n",
    "    def reached_distance_goal(self):\n",
    "        \"\"\"\n",
    "        Returns True if the distance moved from the first instance of recording until now has reached the self._goal_distance\n",
    "        \"\"\"\n",
    "        return check_if_out_maze(self._goal_distance, self._result.result_odom_array)\n",
    "    \n",
    "    \n",
    "      \n",
    "if __name__ == '__main__':\n",
    "  rospy.init_node('record_odom_action_server_node')\n",
    "  RecordOdomClass(goal_distance=6.2)\n",
    "  rospy.spin()"
   ]
  },
  {
   "cell_type": "markdown",
   "metadata": {},
   "source": [
    "<p style=\"background:#3B8F10;color:white;\" id=\"prg-2-1\">**Python 文件结束: exam_action_server.py** </p>"
   ]
  },
  {
   "cell_type": "markdown",
   "metadata": {},
   "source": [
    "<p style=\"background:#3B8F10;color:white;\" id=\"prg-2-1\">**Python 文件: exam_action_client.py** </p>"
   ]
  },
  {
   "cell_type": "code",
   "execution_count": null,
   "metadata": {
    "collapsed": true
   },
   "outputs": [],
   "source": [
    "#! /usr/bin/env python\n",
    "\n",
    "import rospy\n",
    "import time\n",
    "import actionlib\n",
    "from turtle_project_sol.msg import record_odomGoal, record_odomFeedback, record_odomResult, record_odomAction\n",
    "from nav_msgs.msg import Odometry\n",
    "\n",
    "\n",
    "# definition of the feedback callback. This will be called when feedback\n",
    "# is received from the action server\n",
    "# it just prints a message indicating a new message has been received\n",
    "def feedback_callback(feedback):\n",
    "    rospy.loginfo(\"Rec Odom Feedback feedback ==>\"+str(feedback))\n",
    "\n",
    "\n",
    "def count_seconds(seconds):\n",
    "    for i in range(seconds):\n",
    "        rospy.loginfo(\"Seconds Passed =>\"+str(i))\n",
    "        time.sleep(1)\n",
    "\n",
    "# initializes the action client node\n",
    "rospy.init_node('record_odom_action_client_node')\n",
    "\n",
    "# create the connection to the action server\n",
    "client = actionlib.SimpleActionClient('/rec_odom_as', record_odomAction)\n",
    "\n",
    "rate = rospy.Rate(1)\n",
    "\n",
    "# waits until the action server is up and running\n",
    "rospy.loginfo('Waiting for action Server')\n",
    "client.wait_for_server()\n",
    "rospy.loginfo('Action Server Found...')\n",
    "\n",
    "# creates a goal to send to the action server\n",
    "goal = record_odomGoal()\n",
    "\n",
    "# sends the goal to the action server, specifying which feedback function\n",
    "# to call when feedback received\n",
    "client.send_goal(goal, feedback_cb=feedback_callback)\n",
    "\n",
    "\n",
    "\n",
    "# simple_state will be 1 if active, and 2 when finished. It's a variable, better use a function like get_state.\n",
    "#state = client.simple_state\n",
    "# state_result will give the FINAL STATE. Will be 1 when Active, and 2 if NO ERROR, 3 If Any Warning, and 3 if ERROR\n",
    "state_result = client.get_state()\n",
    "\n",
    "\"\"\"\n",
    "class SimpleGoalState:\n",
    "    PENDING = 0\n",
    "    ACTIVE = 1\n",
    "    DONE = 2\n",
    "    WARN = 3\n",
    "    ERROR = 4\n",
    "\n",
    "\"\"\"\n",
    "\n",
    "rospy.loginfo(\"state_result: \"+str(state_result))\n",
    "\n",
    "while state_result < 2:\n",
    "    rospy.loginfo(\"Waiting to finish: \")\n",
    "    rate.sleep()\n",
    "    state_result = client.get_state()\n",
    "    rospy.loginfo(\"state_result: \"+str(state_result))\n",
    "    \n",
    "\n",
    "state_result = client.get_state()\n",
    "rospy.loginfo(\"[Result] State: \"+str(state_result))\n",
    "if state_result == 4:\n",
    "    rospy.logerr(\"Something went wrong in the Server Side\")\n",
    "if state_result == 3:\n",
    "    rospy.logwarn(\"There is a warning in the Server Side\")\n",
    "\n",
    "rospy.loginfo(\"[Result] State: \"+str(client.get_result()))"
   ]
  },
  {
   "cell_type": "markdown",
   "metadata": {},
   "source": [
    "<p style=\"background:#3B8F10;color:white;\" id=\"prg-2-1\">**Python 文件结束: exam_action_client.py** </p>"
   ]
  },
  {
   "cell_type": "markdown",
   "metadata": {},
   "source": [
    "## 解决方案步骤 3 <p id=\"SolutionStep3\"></p>"
   ]
  },
  {
   "cell_type": "markdown",
   "metadata": {},
   "source": [
    "* 一个节点协调一切。它必须：\n",
    "    \n",
    " * 当机器人开始试图走出房间时，调用行为服务器，存储机器人所经过的所有位置\n",
    " * 调用该服务，以便知晓它要移动的下一个方向\n",
    " * 使机器人按照指定的方向移动\n",
    " * 两分钟后，机器人停止运动，结束一切\n",
    " * 如果机器人不在房间内，它必须输出一条消息，表明它走出了房间\n",
    "\n"
   ]
  },
  {
   "cell_type": "markdown",
   "metadata": {},
   "source": [
    "<p style=\"background:#3B8F10;color:white;\" id=\"prg-2-1\">**Python 文件: main_program.py** </p>"
   ]
  },
  {
   "cell_type": "code",
   "execution_count": null,
   "metadata": {
    "collapsed": true
   },
   "outputs": [],
   "source": [
    "#! /usr/bin/env python\n",
    "\n",
    "import rospy\n",
    "import time\n",
    "import actionlib\n",
    "from turtle_project_sol.msg import record_odomGoal, record_odomFeedback, record_odomResult, record_odomAction\n",
    "from nav_msgs.msg import Odometry\n",
    "\n",
    "\n",
    "# definition of the feedback callback. This will be called when feedback\n",
    "# is received from the action server\n",
    "# it just prints a message indicating a new message has been received\n",
    "def feedback_callback(feedback):\n",
    "    rospy.loginfo(\"Rec Odom Feedback feedback ==>\"+str(feedback))\n",
    "\n",
    "\n",
    "def count_seconds(seconds):\n",
    "    for i in range(seconds):\n",
    "        rospy.loginfo(\"Seconds Passed =>\"+str(i))\n",
    "        time.sleep(1)\n",
    "\n",
    "# initializes the action client node\n",
    "rospy.init_node('record_odom_action_client_node')\n",
    "\n",
    "# create the connection to the action server\n",
    "client = actionlib.SimpleActionClient('/rec_odom_as', record_odomAction)\n",
    "\n",
    "rate = rospy.Rate(1)\n",
    "\n",
    "# waits until the action server is up and running\n",
    "rospy.loginfo('Waiting for action Server')\n",
    "client.wait_for_server()\n",
    "rospy.loginfo('Action Server Found...')\n",
    "\n",
    "# creates a goal to send to the action server\n",
    "goal = record_odomGoal()\n",
    "\n",
    "# sends the goal to the action server, specifying which feedback function\n",
    "# to call when feedback received\n",
    "client.send_goal(goal, feedback_cb=feedback_callback)\n",
    "\n",
    "\n",
    "\n",
    "# simple_state will be 1 if active, and 2 when finished. It's a variable, better use a function like get_state.\n",
    "#state = client.simple_state\n",
    "# state_result will give the FINAL STATE. Will be 1 when Active, and 2 if NO ERROR, 3 If Any Warning, and 3 if ERROR\n",
    "state_result = client.get_state()\n",
    "\n",
    "\"\"\"\n",
    "class SimpleGoalState:\n",
    "    PENDING = 0\n",
    "    ACTIVE = 1\n",
    "    DONE = 2\n",
    "    WARN = 3\n",
    "    ERROR = 4\n",
    "\n",
    "\"\"\"\n",
    "\n",
    "rospy.loginfo(\"state_result: \"+str(state_result))\n",
    "\n",
    "while state_result < 2:\n",
    "    rospy.loginfo(\"Waiting to finish: \")\n",
    "    rate.sleep()\n",
    "    state_result = client.get_state()\n",
    "    rospy.loginfo(\"state_result: \"+str(state_result))\n",
    "    \n",
    "\n",
    "state_result = client.get_state()\n",
    "rospy.loginfo(\"[Result] State: \"+str(state_result))\n",
    "if state_result == 4:\n",
    "    rospy.logerr(\"Something went wrong in the Server Side\")\n",
    "if state_result == 3:\n",
    "    rospy.logwarn(\"There is a warning in the Server Side\")\n",
    "\n",
    "rospy.loginfo(\"[Result] State: \"+str(client.get_result()))"
   ]
  },
  {
   "cell_type": "markdown",
   "metadata": {},
   "source": [
    "<p style=\"background:#3B8F10;color:white;\" id=\"prg-2-1\">**Python 文件结束: main_program.py** </p>"
   ]
  },
  {
   "cell_type": "markdown",
   "metadata": {},
   "source": [
    "<p style=\"background:#3B8F10;color:white;\" id=\"prg-2-1\">**Launch 文件: exam_launch.launch** </p>"
   ]
  },
  {
   "cell_type": "code",
   "execution_count": null,
   "metadata": {
    "collapsed": true
   },
   "outputs": [],
   "source": [
    "<launch>\n",
    "    \n",
    "    <node pkg =\"exam_sol\"\n",
    "        type=\"exam_action_server.py\"\n",
    "        name=\"record_odom_action_server_node\"\n",
    "        output=\"screen\">\n",
    "  </node>\n",
    "  \n",
    "  <node pkg =\"exam_sol\"\n",
    "        type=\"exam_service_server.py\"\n",
    "        name=\"crash_direction_service_server\"\n",
    "        output=\"screen\">\n",
    "  </node>\n",
    "\n",
    "  <node pkg =\"exam_sol\"\n",
    "        type=\"main_program.py\"\n",
    "        name=\"husky_main_node\"\n",
    "        output=\"screen\">\n",
    "  </node>\n",
    "    \n",
    "</launch>"
   ]
  },
  {
   "cell_type": "markdown",
   "metadata": {},
   "source": [
    "<p style=\"background:#3B8F10;color:white;\" id=\"prg-2-1\">**Launch 文件结束: exam_launch.launch** </p>"
   ]
  },
  {
   "cell_type": "markdown",
   "metadata": {},
   "source": [
    "## 解决方案脚本 <p id=\"SolutionSupport\"></p>"
   ]
  },
  {
   "cell_type": "markdown",
   "metadata": {},
   "source": [
    "<p style=\"background:#3B8F10;color:white;\" id=\"prg-2-1\">**Python 文件: cmd_vel_publisher.py** </p>"
   ]
  },
  {
   "cell_type": "code",
   "execution_count": null,
   "metadata": {
    "collapsed": true
   },
   "outputs": [],
   "source": [
    "#! /usr/bin/env python\n",
    "\n",
    "import rospy\n",
    "from geometry_msgs.msg import Twist\n",
    "\n",
    "\n",
    "class CmdVelPub(object):\n",
    "    def __init__(self):\n",
    "        self._cmd_vel_pub = rospy.Publisher('/cmd_vel', Twist, queue_size=1)\n",
    "        self._twist_object = Twist()\n",
    "        self.linearspeed = 0.5\n",
    "        self.angularspeed = 1.0\n",
    "        \n",
    "    def move_robot(self, direction):\n",
    "        if direction == \"front\":\n",
    "            self._twist_object.linear.x = self.linearspeed\n",
    "            self._twist_object.angular.z = 0.0\n",
    "        elif direction == \"right\":\n",
    "            self._twist_object.linear.x = 0.0\n",
    "            self._twist_object.angular.z = -self.angularspeed\n",
    "        elif direction == \"left\":\n",
    "            self._twist_object.linear.x = 0.0\n",
    "            self._twist_object.angular.z = self.angularspeed\n",
    "        elif direction == \"backwards\":\n",
    "            self._twist_object.linear.x = -self.linearspeed\n",
    "            self._twist_object.angular.z = 0.0\n",
    "        elif direction == \"stop\":\n",
    "            self._twist_object.linear.x = 0.0\n",
    "            self._twist_object.angular.z = 0.0\n",
    "        else:\n",
    "            pass\n",
    "        \n",
    "        self._cmd_vel_pub.publish(self._twist_object)\n",
    "\n",
    "\n",
    "if __name__ == \"__main__\":\n",
    "    rospy.init_node('cmd_vel_publisher_node')\n",
    "    cmd_publisher_object = CmdVelPub()\n",
    "    \n",
    "    rate = rospy.Rate(1)\n",
    "    \n",
    "    ctrl_c = False\n",
    "    def shutdownhook():\n",
    "        # works better than the rospy.is_shut_down()\n",
    "        global ctrl_c\n",
    "        global twist_object\n",
    "        global pub\n",
    "        \n",
    "        rospy.loginfo(\"shutdown time!\")\n",
    "        \n",
    "        ctrl_c = True\n",
    "        cmd_publisher_object.move_robot(direction=\"stop\")\n",
    "    \n",
    "    rospy.on_shutdown(shutdownhook)\n",
    "    \n",
    "    while not ctrl_c:\n",
    "        cmd_publisher_object.move_robot(direction=\"front\")\n",
    "        rate.sleep()"
   ]
  },
  {
   "cell_type": "markdown",
   "metadata": {},
   "source": [
    "<p style=\"background:#3B8F10;color:white;\" id=\"prg-2-1\">**Python 文件结束: cmd_vel_publisher.py** </p>"
   ]
  },
  {
   "cell_type": "markdown",
   "metadata": {},
   "source": [
    "<p style=\"background:#3B8F10;color:white;\" id=\"prg-2-1\">**Python 文件: odom_topic_subscriber.py** </p>"
   ]
  },
  {
   "cell_type": "code",
   "execution_count": null,
   "metadata": {
    "collapsed": true
   },
   "outputs": [],
   "source": [
    "#! /usr/bin/env python\n",
    "\n",
    "import rospy\n",
    "from nav_msgs.msg import Odometry\n",
    "\n",
    "class OdomTopicReader(object):\n",
    "    def __init__(self, topic_name = '/odometry/filtered'):\n",
    "        self._topic_name = topic_name\n",
    "        self._sub = rospy.Subscriber(self._topic_name, Odometry, self.topic_callback)\n",
    "        self._odomdata = Odometry()\n",
    "    \n",
    "    def topic_callback(self, msg):\n",
    "        self._odomdata = msg\n",
    "        rospy.logdebug(self._odomdata)\n",
    "    \n",
    "    def get_odomdata(self):\n",
    "        \"\"\"\n",
    "        Returns the newest odom data\n",
    "\n",
    "        std_msgs/Header header                                                                                                                 \n",
    "          uint32 seq                                                                                                                           \n",
    "          time stamp                                                                                                                           \n",
    "          string frame_id                                                                                                                      \n",
    "        string child_frame_id                                                                                                                  \n",
    "        geometry_msgs/PoseWithCovariance pose                                                                                                  \n",
    "          geometry_msgs/Pose pose                                                                                                              \n",
    "            geometry_msgs/Point position                                                                                                       \n",
    "              float64 x                                                                                                                        \n",
    "              float64 y                                                                                                                        \n",
    "              float64 z                                                                                                                        \n",
    "            geometry_msgs/Quaternion orientation                                                                                               \n",
    "              float64 x                                                                                                                        \n",
    "              float64 y                                                                                                                        \n",
    "              float64 z                                                                                                                        \n",
    "              float64 w                                                                                                                        \n",
    "          float64[36] covariance                                                                                                               \n",
    "        geometry_msgs/TwistWithCovariance twist                                                                                                \n",
    "          geometry_msgs/Twist twist                                                                                                            \n",
    "            geometry_msgs/Vector3 linear                                                                                                       \n",
    "              float64 x                                                                                                                        \n",
    "              float64 y                                                                                                                        \n",
    "              float64 z                                                                                                                        \n",
    "            geometry_msgs/Vector3 angular                                                                                                      \n",
    "              float64 x                                                                                                                        \n",
    "              float64 y                                                                                                                        \n",
    "              float64 z                                                                                                                        \n",
    "          float64[36] covariance                                                                                                               \n",
    "        \n",
    "        \"\"\"\n",
    "        return self._odomdata\n",
    "    \n",
    "if __name__ == \"__main__\":\n",
    "    rospy.init_node('odom_topic_subscriber', log_level=rospy.INFO)\n",
    "    odom_reader_object = OdomTopicReader()\n",
    "    rospy.loginfo(odom_reader_object.get_odomdata())\n",
    "    rate = rospy.Rate(0.5)\n",
    "    \n",
    "    ctrl_c = False\n",
    "    def shutdownhook():\n",
    "        # works better than the rospy.is_shut_down()\n",
    "        global ctrl_c\n",
    "        print \"shutdown time!\"\n",
    "        ctrl_c = True\n",
    "\n",
    "    rospy.on_shutdown(shutdownhook)\n",
    "    \n",
    "    while not ctrl_c:\n",
    "        data = odom_reader_object.get_odomdata()\n",
    "        rospy.loginfo(data)\n",
    "        rate.sleep()"
   ]
  },
  {
   "cell_type": "markdown",
   "metadata": {},
   "source": [
    "<p style=\"background:#3B8F10;color:white;\" id=\"prg-2-1\">**Python文件结束: odom_topic_subscriber.py** </p>"
   ]
  },
  {
   "cell_type": "markdown",
   "metadata": {},
   "source": [
    "<p style=\"background:#3B8F10;color:white;\" id=\"prg-2-1\">**Python 文件: odometry_analysis.py** </p>"
   ]
  },
  {
   "cell_type": "code",
   "execution_count": null,
   "metadata": {
    "collapsed": true
   },
   "outputs": [],
   "source": [
    "#! /usr/bin/env python\n",
    "\n",
    "import rospy\n",
    "from nav_msgs.msg import Odometry\n",
    "from geometry_msgs.msg import Vector3\n",
    "import math \n",
    "\n",
    "\n",
    "class OdometryAnalysis(object):\n",
    "    def __init__(self):\n",
    "        pass\n",
    "    \n",
    "    def get_distance_moved(self, odmetry_data_list):\n",
    "        \n",
    "        distance = None\n",
    "        \n",
    "        if len(odmetry_data_list) >= 2 :\n",
    "            start_odom = odmetry_data_list[0]\n",
    "            end_odom = odmetry_data_list[len(odmetry_data_list)-1]\n",
    "            \n",
    "            start_position = start_odom.pose.pose.position\n",
    "            end_position = end_odom.pose.pose.position\n",
    "            \n",
    "            rospy.loginfo(\"start_position ==>\"+str(start_position))\n",
    "            rospy.loginfo(\"end_position ==>\"+str(end_position))\n",
    "            \n",
    "            \n",
    "            distance_vector = self.create_vector(start_position, end_position)\n",
    "            rospy.loginfo(\"Distance Vector ==>\"+str(distance_vector))\n",
    "            \n",
    "            distance = abs(distance_vector.y)\n",
    "            rospy.loginfo(\"Distance ==>\"+str(distance))\n",
    "        \n",
    "        else:\n",
    "            rospy.logerr(\"Odom array doesnt have the minimum number of elements = \"+str(len(odmetry_data_list)))\n",
    "        \n",
    "        return distance\n",
    "        \n",
    "    def create_vector(self, p1, p2):\n",
    "        \n",
    "        distance_vector = Vector3()\n",
    "        distance_vector.x = p2.x - p1.x\n",
    "        distance_vector.y = p2.y - p1.y\n",
    "        distance_vector.z = p2.z - p1.z\n",
    "        \n",
    "        return distance_vector\n",
    "    \n",
    "\n",
    "\n",
    "def check_if_out_maze(goal_distance, odom_result_array):\n",
    "    odom_analysis_object = OdometryAnalysis()\n",
    "    distance = odom_analysis_object.get_distance_moved(odom_result_array)\n",
    "    rospy.loginfo(\"Distance Moved=\"+str(distance))\n",
    "    \n",
    "    return distance > goal_distance"
   ]
  },
  {
   "cell_type": "markdown",
   "metadata": {},
   "source": [
    "<p style=\"background:#3B8F10;color:white;\" id=\"prg-2-1\">**Python 文件结束: odometry_analysis.py** </p>"
   ]
  }
 ],
 "metadata": {
  "anaconda-cloud": {},
  "kernelspec": {
   "display_name": "Python 3",
   "language": "python",
   "name": "python3"
  },
  "language_info": {
   "codemirror_mode": {
    "name": "ipython",
    "version": 3
   },
   "file_extension": ".py",
   "mimetype": "text/x-python",
   "name": "python",
   "nbconvert_exporter": "python",
   "pygments_lexer": "ipython3",
   "version": "3.6.4"
  }
 },
 "nbformat": 4,
 "nbformat_minor": 1
}
