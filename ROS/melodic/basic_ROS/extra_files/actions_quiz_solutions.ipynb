{
 "cells": [
  {
   "cell_type": "markdown",
   "metadata": {},
   "source": [
    "## Solutions Actions Quiz"
   ]
  },
  {
   "cell_type": "markdown",
   "metadata": {},
   "source": [
    "<img src=\"../img/robotignite_logo_text.png\"/>"
   ]
  },
  {
   "cell_type": "markdown",
   "metadata": {},
   "source": [
    "For this Quiz, we will assume that our package is called **actions_quiz**, our launch file is called **action_custom_msg.launch**, and our Python file is called **action_custom_msg.py**."
   ]
  },
  {
   "cell_type": "markdown",
   "metadata": {},
   "source": [
    "So, for the Quiz, we will have to create a custom action message that will defines the movement of the drone by using a string, that can be **UP** or **DOWN**. As feedback, it will also return a string indicating which action is taking place at the moment. As a result, it will return nothing."
   ]
  },
  {
   "cell_type": "markdown",
   "metadata": {},
   "source": [
    "For that, the first you will have to do is to create a folder called **action** inside the **actions_quiz** package."
   ]
  },
  {
   "cell_type": "code",
   "execution_count": null,
   "metadata": {
    "collapsed": true
   },
   "outputs": [],
   "source": [
    "roscd; cd ..; cd src;\n",
    "catkin_create_pkg actions_quiz;\n",
    "roscd actions_quiz;\n",
    "mkdir action;"
   ]
  },
  {
   "cell_type": "markdown",
   "metadata": {},
   "source": [
    "Then, isnide this **action** folder, you will have to create a file called **CustomActionMsg.action**, with the following content inside it:"
   ]
  },
  {
   "cell_type": "markdown",
   "metadata": {},
   "source": [
    "<p style=\"background:#3B8F10;color:white;\" id=\"prg-2-1\">**Message File: CustomActionMsg.action** </p>"
   ]
  },
  {
   "cell_type": "code",
   "execution_count": null,
   "metadata": {
    "collapsed": true
   },
   "outputs": [],
   "source": [
    "string goal\n",
    "---\n",
    "---\n",
    "string feedback"
   ]
  },
  {
   "cell_type": "markdown",
   "metadata": {},
   "source": [
    "<p style=\"background:#3B8F10;color:white;\" id=\"prg-2-1\">**END Message File: CustomActionMsg.action** </p>"
   ]
  },
  {
   "cell_type": "markdown",
   "metadata": {},
   "source": [
    "As you can see, we define both the goal and the feedback as strings, while we leave the result in blank."
   ]
  },
  {
   "cell_type": "markdown",
   "metadata": {},
   "source": [
    "Then, you will also have to modify the **CMakeLists.txt** and **package.xml** files, as it is described in the Actions Notebooks. If you are lost and don't know how to proceed, below you can check working examples of this files:"
   ]
  },
  {
   "cell_type": "markdown",
   "metadata": {},
   "source": [
    "<p style=\"background:#3B8F10;color:white;\" id=\"prg-2-1\">**CMakeLists.txt** </p>"
   ]
  },
  {
   "cell_type": "code",
   "execution_count": null,
   "metadata": {
    "collapsed": true
   },
   "outputs": [],
   "source": [
    "cmake_minimum_required(VERSION 2.8.3)\n",
    "project(actions_quiz)\n",
    "\n",
    "## Find catkin macros and libraries\n",
    "## if COMPONENTS list like find_package(catkin REQUIRED COMPONENTS xyz)\n",
    "## is used, also find other catkin packages\n",
    "find_package(catkin REQUIRED COMPONENTS\n",
    "  std_msgs \n",
    "  actionlib_msgs\n",
    ")\n",
    "\n",
    "## Generate actions in the 'action' folder\n",
    "add_action_files(\n",
    "   FILES\n",
    "   CustomActionMsg.action\n",
    " )\n",
    "\n",
    "## Generate added messages and services with any dependencies listed here\n",
    "generate_messages(\n",
    "   DEPENDENCIES\n",
    "   std_msgs actionlib_msgs\n",
    " )\n",
    "\n",
    "catkin_package(\n",
    " CATKIN_DEPENDS rospy\n",
    ")\n",
    "\n",
    "## Specify additional locations of header files\n",
    "## Your package locations should be listed before other locations\n",
    "# include_directories(include)\n",
    "include_directories(\n",
    "  ${catkin_INCLUDE_DIRS}\n",
    ")"
   ]
  },
  {
   "cell_type": "markdown",
   "metadata": {},
   "source": [
    "<p style=\"background:#3B8F10;color:white;\" id=\"prg-2-1\">**END CMakeLists.txt** </p>"
   ]
  },
  {
   "cell_type": "markdown",
   "metadata": {},
   "source": [
    "<p style=\"background:#3B8F10;color:white;\" id=\"prg-2-1\">**package.xml** </p>"
   ]
  },
  {
   "cell_type": "code",
   "execution_count": null,
   "metadata": {
    "collapsed": true
   },
   "outputs": [],
   "source": [
    "<?xml version=\"1.0\"?>\n",
    "<package format=\"2\">\n",
    "  <name>actions_quiz</name>\n",
    "  <version>0.0.0</version>\n",
    "  <description>The actions_quiz package</description>\n",
    "  <maintainer email=\"user@todo.todo\">user</maintainer>\n",
    "  <license>TODO</license>\n",
    "\n",
    "  <buildtool_depend>catkin</buildtool_depend>\n",
    "  <build_depend>actionlib</build_depend>\n",
    "  <build_depend>actionlib_msgs</build_depend>\n",
    "  <build_depend>rospy</build_depend>\n",
    "  <build_depend>std_msgs</build_depend>\n",
    "  <build_export_depend>actionlib</build_export_depend>\n",
    "  <build_export_depend>actionlib_msgs</build_export_depend>\n",
    "  <build_export_depend>rospy</build_export_depend>\n",
    "  <exec_depend>actionlib</exec_depend>\n",
    "  <exec_depend>actionlib_msgs</exec_depend>\n",
    "  <exec_depend>rospy</exec_depend>\n",
    "\n",
    "  <export>\n",
    "  </export>\n",
    "</package>"
   ]
  },
  {
   "cell_type": "markdown",
   "metadata": {},
   "source": [
    "<p style=\"background:#3B8F10;color:white;\" id=\"prg-2-1\">**END package.xml** </p>"
   ]
  },
  {
   "cell_type": "markdown",
   "metadata": {},
   "source": [
    "Once all of these is done, you will need to compile your package and source **ALL the webshells** that you are going to use so that ROS can find the new Messages."
   ]
  },
  {
   "cell_type": "code",
   "execution_count": null,
   "metadata": {
    "collapsed": true
   },
   "outputs": [],
   "source": [
    "roscd;\n",
    "cd ..;\n",
    "catkin_make;\n",
    "source devel/setup.bash;"
   ]
  },
  {
   "cell_type": "markdown",
   "metadata": {},
   "source": [
    "And finally, check if you can find your new message:"
   ]
  },
  {
   "cell_type": "code",
   "execution_count": null,
   "metadata": {
    "collapsed": true
   },
   "outputs": [],
   "source": [
    "rosmsg list | grep CustomActionMsg"
   ]
  },
  {
   "cell_type": "markdown",
   "metadata": {},
   "source": [
    "You should see something like this:"
   ]
  },
  {
   "cell_type": "code",
   "execution_count": null,
   "metadata": {
    "collapsed": true
   },
   "outputs": [],
   "source": [
    "actions_quiz/CustomActionMsgAction\n",
    "actions_quiz/CustomActionMsgActionFeedback\n",
    "actions_quiz/CustomActionMsgActionGoal\n",
    "actions_quiz/CustomActionMsgActionResult\n",
    "actions_quiz/CustomActionMsgFeedback\n",
    "actions_quiz/CustomActionMsgGoal\n",
    "actions_quiz/CustomActionMsgResult"
   ]
  },
  {
   "cell_type": "markdown",
   "metadata": {},
   "source": [
    "Once this is done and working, you can proceed to create the Action Server that will use this new message. Below you can check both the launch file and the Python file:"
   ]
  },
  {
   "cell_type": "markdown",
   "metadata": {},
   "source": [
    "<p style=\"background:#3B8F10;color:white;\" id=\"prg-2-1\">**Launch File: action_custom_msg.launch** </p>"
   ]
  },
  {
   "cell_type": "code",
   "execution_count": null,
   "metadata": {
    "collapsed": true
   },
   "outputs": [],
   "source": [
    "<launch>\n",
    "    <node pkg=\"actions_quiz\" type=\"action_custom_msg.py\" name=\"action_custom_msg\" output=\"screen\" />\n",
    "</launch>"
   ]
  },
  {
   "cell_type": "markdown",
   "metadata": {},
   "source": [
    "<p style=\"background:#3B8F10;color:white;\" id=\"prg-2-1\">**END Launch File: action_custom_msg.launch** </p>"
   ]
  },
  {
   "cell_type": "markdown",
   "metadata": {},
   "source": [
    "<p style=\"background:#3B8F10;color:white;\" id=\"prg-2-1\">**Python File: action_custom_msg.py** </p>"
   ]
  },
  {
   "cell_type": "code",
   "execution_count": null,
   "metadata": {
    "collapsed": true
   },
   "outputs": [],
   "source": [
    "#! /usr/bin/env python\n",
    "import rospy\n",
    "import time\n",
    "import actionlib\n",
    "\n",
    "from actions_quiz.msg import CustomActionMsgFeedback, CustomActionMsgResult, CustomActionMsgAction\n",
    "from geometry_msgs.msg import Twist\n",
    "from std_msgs.msg import Empty\n",
    "\n",
    "class CustomActionMsgClass(object):\n",
    "    \n",
    "  # create messages that are used to publish feedback/result\n",
    "  _feedback = CustomActionMsgFeedback()\n",
    "  _result   = CustomActionMsgResult()\n",
    "\n",
    "  def __init__(self):\n",
    "    # creates the action server\n",
    "    self._as = actionlib.SimpleActionServer(\"action_custom_msg_as\", CustomActionMsgAction, self.goal_callback, False)\n",
    "    self._as.start()\n",
    "\n",
    "    \n",
    "  def goal_callback(self, goal):\n",
    "    # this callback is called when the action server is called.\n",
    "    \n",
    "    # helper variables\n",
    "    success = True\n",
    "    r = rospy.Rate(1)\n",
    "    \n",
    "    # define the different publishers and messages that will be used\n",
    "    self._pub_takeoff = rospy.Publisher('/drone/takeoff', Empty, queue_size=1)\n",
    "    self._takeoff_msg = Empty()\n",
    "    self._pub_land = rospy.Publisher('/drone/land', Empty, queue_size=1)\n",
    "    self._land_msg = Empty()\n",
    "    \n",
    "    # Get the goal word: UP or DOWN\n",
    "    takeoff_or_land = goal.goal\n",
    "    \n",
    "    i = 0\n",
    "    for i in xrange(0, 4):\n",
    "    \n",
    "      # check that preempt (cancelation) has not been requested by the action client\n",
    "      if self._as.is_preempt_requested():\n",
    "        rospy.loginfo('The goal has been cancelled/preempted')\n",
    "        # the following line, sets the client in preempted state (goal cancelled)\n",
    "        self._as.set_preempted()\n",
    "        success = False\n",
    "        break\n",
    "    \n",
    "      # Logic that makes the robot move UP or DOWN\n",
    "      if takeoff_or_land == 'TAKEOFF':\n",
    "        \n",
    "        self._pub_takeoff.publish(self._takeoff_msg)\n",
    "        self._feedback.feedback = 'Taking Off...'\n",
    "        self._as.publish_feedback(self._feedback)\n",
    "    \n",
    "      if takeoff_or_land == 'LAND':\n",
    "        \n",
    "        self._pub_land.publish(self._land_msg)\n",
    "        self._feedback.feedback = 'Landing...'\n",
    "        self._as.publish_feedback(self._feedback)\n",
    "    \n",
    "      # the sequence is computed at 1 Hz frequency\n",
    "      r.sleep()\n",
    "    \n",
    "    # at this point, either the goal has been achieved (success==true)\n",
    "    # or the client preempted the goal (success==false)\n",
    "    # If success, then we publish the final result\n",
    "    # If not success, we do not publish anything in the result\n",
    "    if success:\n",
    "      self._result = Empty()\n",
    "      self._as.set_succeeded(self._result)\n",
    "      \n",
    "      \n",
    "if __name__ == '__main__':\n",
    "  rospy.init_node('action_custom_msg')\n",
    "  CustomActionMsgClass()\n",
    "  rospy.spin()"
   ]
  },
  {
   "cell_type": "markdown",
   "metadata": {},
   "source": [
    "<p style=\"background:#3B8F10;color:white;\" id=\"prg-2-1\">**END Python File: action_custom_msg.py** </p>"
   ]
  },
  {
   "cell_type": "markdown",
   "metadata": {},
   "source": [
    "As you can see, in the above code we are using the **/drone/takeoff** and **/drone/land** topics in order to move UP or DOWN, since they make the drone move aproximately 1 meter. You could also use the **/cmd_vel** topic, but that's up to you."
   ]
  },
  {
   "cell_type": "markdown",
   "metadata": {},
   "source": [
    "In order to test this code, you have to first launch the Action Server (which is defined in the above Python file). You can do that by using the following command:"
   ]
  },
  {
   "cell_type": "code",
   "execution_count": null,
   "metadata": {
    "collapsed": true
   },
   "outputs": [],
   "source": [
    "roslaunch actions_quiz action_custom_msg.launch"
   ]
  },
  {
   "cell_type": "markdown",
   "metadata": {},
   "source": [
    "Now, if you execute the following command:"
   ]
  },
  {
   "cell_type": "code",
   "execution_count": null,
   "metadata": {
    "collapsed": true
   },
   "outputs": [],
   "source": [
    "rostopic list | grep action_custom_msg"
   ]
  },
  {
   "cell_type": "markdown",
   "metadata": {},
   "source": [
    "You will see something like this:"
   ]
  },
  {
   "cell_type": "markdown",
   "metadata": {},
   "source": [
    "<img src=\"../img/action_custom_msg_as.png\" width=\"600\" />"
   ]
  },
  {
   "cell_type": "markdown",
   "metadata": {},
   "source": [
    "This means you Action Server is up and ready to receive a goal."
   ]
  },
  {
   "cell_type": "markdown",
   "metadata": {},
   "source": [
    "So now, let's publish a goal to this Action Server. You can do this by two methods (as you saw in the Part 1 of the Actions notebooks):"
   ]
  },
  {
   "cell_type": "markdown",
   "metadata": {},
   "source": [
    "* Creating an Action Client\n",
    "* Publishing a goal directly through the action topics"
   ]
  },
  {
   "cell_type": "markdown",
   "metadata": {},
   "source": [
    "For this case, let's use the 2nd method. You should then publish a message to the **action_custom_msg_as/goal** topic, just like this:"
   ]
  },
  {
   "cell_type": "code",
   "execution_count": null,
   "metadata": {
    "collapsed": true
   },
   "outputs": [],
   "source": [
    "rostopic pub /action_custom_msg_as/goal actions_quiz/CustomActionMsgActionGoal \"header:\n",
    "  seq: 0\n",
    "  stamp:\n",
    "    secs: 0\n",
    "    nsecs: 0\n",
    "  frame_id: ''\n",
    "goal_id:\n",
    "  stamp:\n",
    "    secs: 0\n",
    "    nsecs: 0\n",
    "  id: ''\n",
    "goal:\n",
    "  goal: 'TAKEOFF'\""
   ]
  },
  {
   "cell_type": "markdown",
   "metadata": {},
   "source": [
    "You will see the drone doing something like this:"
   ]
  },
  {
   "cell_type": "markdown",
   "metadata": {},
   "source": [
    "<img src=\"../img/up_or_down1.gif\" width=\"600\" />"
   ]
  },
  {
   "cell_type": "markdown",
   "metadata": {},
   "source": [
    "<img src=\"../img/up_or_down2.gif\" width=\"600\" />"
   ]
  },
  {
   "cell_type": "markdown",
   "metadata": {},
   "source": [
    "Finally, you can check the **feedback** and **result** topics of the Action, to check if they're publishing the desired values."
   ]
  },
  {
   "cell_type": "code",
   "execution_count": null,
   "metadata": {
    "collapsed": true
   },
   "outputs": [],
   "source": [
    "rostopic echo /action_custom_msg_as/feedback"
   ]
  },
  {
   "cell_type": "markdown",
   "metadata": {},
   "source": [
    "<img src=\"../img/actions_quiz_takeoff.png\" width=\"600\" />"
   ]
  },
  {
   "cell_type": "markdown",
   "metadata": {},
   "source": [
    "<img src=\"../img/actions_quiz_landing.png\" width=\"600\" />"
   ]
  },
  {
   "cell_type": "markdown",
   "metadata": {
    "collapsed": true
   },
   "source": [
    "In this case, there's no result to be shown."
   ]
  }
 ],
 "metadata": {
  "anaconda-cloud": {},
  "kernelspec": {
   "display_name": "Python 2",
   "language": "python",
   "name": "python2"
  },
  "language_info": {
   "codemirror_mode": {
    "name": "ipython",
    "version": 2
   },
   "file_extension": ".py",
   "mimetype": "text/x-python",
   "name": "python",
   "nbconvert_exporter": "python",
   "pygments_lexer": "ipython2",
   "version": "2.7.16"
  }
 },
 "nbformat": 4,
 "nbformat_minor": 1
}
