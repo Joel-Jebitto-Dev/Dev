{
 "cells": [
  {
   "cell_type": "markdown",
   "metadata": {},
   "source": [
    "# Unit 3 服务 Part 2解决方案"
   ]
  },
  {
   "cell_type": "markdown",
   "metadata": {},
   "source": [
    "<img src=\"../img/robotignite_logo_text.png\"/>"
   ]
  },
  {
   "cell_type": "markdown",
   "metadata": {},
   "source": [
    "## 索引: \n",
    "* <a href=\"#SolutionExercise3-2\"> Exercise 3.2解决方案</a>\n",
    "* <a href=\"#SolutionExercise3-3\"> Exercise 3.3解决方案</a>"
   ]
  },
  {
   "cell_type": "markdown",
   "metadata": {},
   "source": [
    "<p id=\"SolutionExercise3-2\"></p>"
   ]
  },
  {
   "cell_type": "markdown",
   "metadata": {},
   "source": [
    "## Exercise 3.2解决方案"
   ]
  },
  {
   "cell_type": "markdown",
   "metadata": {},
   "source": [
    "* Exercise 3.2 的目的是创建一个服务，当被调用时，BB8机器人绕正方形轨迹运动。"
   ]
  },
  {
   "cell_type": "markdown",
   "metadata": {},
   "source": [
    "Nothing to comment."
   ]
  },
  {
   "cell_type": "markdown",
   "metadata": {},
   "source": [
    "* 你可以创建并使用一个新的功能包，或者使用在Exercise 3.1中创建的那个名为**unit_3_services**的功能包。"
   ]
  },
  {
   "cell_type": "markdown",
   "metadata": {},
   "source": [
    "本例中，我们将使用**unit_3_services**。"
   ]
  },
  {
   "cell_type": "markdown",
   "metadata": {},
   "source": [
    "* 创建一个Python文件，内含一个允许BB8机器人在正方形内 <a href=\"#fig-3.1\">{Fig-3.1}</a>运动的类。这个类可以命名为，例如**MoveBB8**。包含该类的python代码命名为 <a href=\"#move_bb8_py\">move_bb8.py</a>。<br>\n",
    "要使BB8机器人移动，你需要在 **/cmd_vel** 主题中发布消息，如在Unit1 主题中所做的那样。\n",
    "需要注意的是，尽管这是仿真，但BB8机器人仍有重量，因此由于惯性它不能立即停下来。<br>\n",
    "另外，当转弯时，摩擦和惯性将起作用。因此需要注意，仅通过/cmd_vel使机器人移动时，你无法检验它是否在按照你期望的方向转弯（这称为一个开环系统）。\n",
    "当然，当你找到一种获取位置反馈信息的方法时，这则另当别论。这对先进的天文机械学家来说是一个挑战（如果你想尝试的话，可考虑使用/odom主题）。<br>\n",
    "对于本例，只要机器人能绕正方形内运动即可，无须追求完美。\n"
   ]
  },
  {
   "cell_type": "markdown",
   "metadata": {},
   "source": [
    "首先，我们在功能包**unit_3_services**中创建python文件 **move_bb8.py** 。你可以把它放在**scripts**文件夹或者 **src**文件夹中。这取决于你是否打算将这个类作为一个Python模块以便允许该功能包外的其他功能包访问它。<br>\n",
    "如果你想使它在功能包**unit_3_services**外被使用，建议把它放在src文件夹中。由于这些超出了本单元的讨论范围，我们仍把它放在**scripts**中。在 **sphero 项目**中你将会学到更加复杂的方法。"
   ]
  },
  {
   "cell_type": "markdown",
   "metadata": {},
   "source": [
    "下面是拥有**MoveBB8**类的python文件代码，该文件以开环的方式使BB8绕正方形轨迹移动。"
   ]
  },
  {
   "cell_type": "markdown",
   "metadata": {},
   "source": [
    "<p style=\"background:#3B8F10;color:white;\" id=\"move_bb8_py\">**Python Program: move_bb8.py** </p><br>"
   ]
  },
  {
   "cell_type": "code",
   "execution_count": null,
   "metadata": {
    "collapsed": true
   },
   "outputs": [],
   "source": [
    "#!/usr/bin/env python\n",
    "import rospy\n",
    "from geometry_msgs.msg import Twist\n",
    "import time\n",
    "\n",
    "class MoveBB8():\n",
    "    \n",
    "    def __init__(self):\n",
    "        self.bb8_vel_publisher = rospy.Publisher('/cmd_vel', Twist, queue_size=1)\n",
    "        self.ctrl_c = False\n",
    "        rospy.on_shutdown(self.shutdownhook)\n",
    "        self.rate = rospy.Rate(10) # 10hz\n",
    "    \n",
    "    \n",
    "    \n",
    "    def publish_once_in_cmd_vel(self, cmd):\n",
    "        \"\"\"\n",
    "        This is because publishing in topics sometimes fails teh first time you publish.\n",
    "        In continuos publishing systems there is no big deal but in systems that publish only\n",
    "        once it IS very important.\n",
    "        \"\"\"\n",
    "        while not self.ctrl_c:\n",
    "            connections = self.bb8_vel_publisher.get_num_connections()\n",
    "            if connections > 0:\n",
    "                self.bb8_vel_publisher.publish(cmd)\n",
    "                rospy.loginfo(\"Cmd Published\")\n",
    "                break\n",
    "            else:\n",
    "                self.rate.sleep()\n",
    "    \n",
    "    \n",
    "    def shutdownhook(self):\n",
    "            # works better than the rospy.is_shut_down()\n",
    "            self.stop_bb8()\n",
    "            self.ctrl_c = True\n",
    "\n",
    "    def stop_bb8(self):\n",
    "        rospy.loginfo(\"shutdown time! Stop the robot\")\n",
    "        cmd = Twist()\n",
    "        cmd.linear.x = 0.0\n",
    "        cmd.angular.z = 0.0\n",
    "        self.publish_once_in_cmd_vel(cmd)\n",
    "\n",
    "\n",
    "    def move_x_time(self, moving_time, linear_speed=0.2, angular_speed=0.2):\n",
    "        \n",
    "        cmd = Twist()\n",
    "        cmd.linear.x = linear_speed\n",
    "        cmd.angular.z = angular_speed\n",
    "        \n",
    "        rospy.loginfo(\"Moving Forwards\")\n",
    "        self.publish_once_in_cmd_vel(cmd)\n",
    "        time.sleep(moving_time)\n",
    "        self.stop_bb8()\n",
    "        rospy.loginfo(\"######## Finished Moving Forwards\")\n",
    "    \n",
    "    def move_square(self):\n",
    "        \n",
    "        i = 0\n",
    "        while not self.ctrl_c and i < 4:\n",
    "            # Move Forwards\n",
    "            self.move_x_time(moving_time=2.0, linear_speed=0.2, angular_speed=0.0)\n",
    "            # Stop\n",
    "            self.move_x_time(moving_time=4.0, linear_speed=0.0, angular_speed=0.0)\n",
    "            # Turn \n",
    "            self.move_x_time(moving_time=3.5, linear_speed=0.0, angular_speed=0.2)\n",
    "            # Stop\n",
    "            self.move_x_time(moving_time=0.1, linear_speed=0.0, angular_speed=0.0)\n",
    "            \n",
    "            i += 1\n",
    "        rospy.loginfo(\"######## Finished Moving in a Square\")\n",
    "        \n",
    "\n",
    "            \n",
    "if __name__ == '__main__':\n",
    "    rospy.init_node('move_bb8_test', anonymous=True)\n",
    "    movebb8_object = MoveBB8()\n",
    "    try:\n",
    "        movebb8_object.move_square()\n",
    "    except rospy.ROSInterruptException:\n",
    "        pass\n"
   ]
  },
  {
   "cell_type": "markdown",
   "metadata": {},
   "source": [
    "<p style=\"background:#3B8F10;color:white;\" id=\"move_bb8_py\">END **Python Program: move_bb8.py** </p><br>"
   ]
  },
  {
   "cell_type": "markdown",
   "metadata": {},
   "source": [
    "* 添加一个消息服务器接收一个 <b>Empty</b> 服务消息，激活正方形运动。该服务可以命名为 **/move_bb8_in_square**<br>\n",
    "激活通过调用类**MoveBB8**来完成。<br>\n",
    "要做到这一点，你需要创建一个类似的python文件 <a href=\"#prg-3-7\">simple_service_server.py</a>。你可以把它称为**bb8_move_in_square_service_server.py**。"
   ]
  },
  {
   "cell_type": "markdown",
   "metadata": {},
   "source": [
    "因此第一步是创建一个名为 <a href=\"#bb8_move_in_square_service_server_py\">bb8_move_in_square_service_server.py</a>的python文件, 它可以看做 **example 3.7**的一个修改版。"
   ]
  },
  {
   "cell_type": "markdown",
   "metadata": {},
   "source": [
    "<p style=\"background:#3B8F10;color:white;\" id=\"bb8_move_in_square_service_server_py\">**Python Program: bb8_move_in_square_service_server.py** </p>"
   ]
  },
  {
   "cell_type": "code",
   "execution_count": null,
   "metadata": {
    "collapsed": true
   },
   "outputs": [],
   "source": [
    "#! /usr/bin/env python\n",
    "\n",
    "import rospy\n",
    "from std_srvs.srv import Empty, EmptyResponse # you import the service message python classes generated from Empty.srv.\n",
    "from move_bb8 import MoveBB8\n",
    "\n",
    "def my_callback(request):\n",
    "    rospy.loginfo(\"The Service move_bb8_in_square has been called\")\n",
    "    movebb8_object = MoveBB8()\n",
    "    movebb8_object.move_square()\n",
    "    rospy.loginfo(\"Finished service move_bb8_in_square that was called called\")\n",
    "    return EmptyResponse() # the service Response class, in this case EmptyResponse\n",
    "    #return MyServiceResponse(len(request.words.split())) \n",
    "\n",
    "rospy.init_node('service_move_bb8_in_square_server') \n",
    "my_service = rospy.Service('/move_bb8_in_square', Empty , my_callback) # create the Service called move_bb8_in_square with the defined callback\n",
    "rospy.loginfo(\"Service /move_bb8_in_square Ready\")\n",
    "rospy.spin() # mantain the service open."
   ]
  },
  {
   "cell_type": "markdown",
   "metadata": {},
   "source": [
    "<p style=\"background:#3B8F10;color:white;\">END **Python Program: bb8_move_in_square_service_server.py** </p>"
   ]
  },
  {
   "cell_type": "markdown",
   "metadata": {},
   "source": [
    "完成后，在WebConsole中**调用** 服务 **/move_bb8_in_square** 进行测试。"
   ]
  },
  {
   "cell_type": "markdown",
   "metadata": {},
   "source": [
    "<table style=\"float:left;background: #407EAF\">\n",
    "<tr>\n",
    "<th>\n",
    "<p class=\"transparent\">Execute in WebShell #1</p>\n",
    "</th>\n",
    "</tr>\n",
    "</table>\n",
    "<br>"
   ]
  },
  {
   "cell_type": "code",
   "execution_count": null,
   "metadata": {
    "collapsed": true
   },
   "outputs": [],
   "source": [
    "rosservice call /move_bb8_in_square [TAB]+[TAB]"
   ]
  },
  {
   "cell_type": "markdown",
   "metadata": {},
   "source": [
    "BB8机器人运动如下："
   ]
  },
  {
   "cell_type": "markdown",
   "metadata": {},
   "source": [
    "<img src=\"../img/basic_unit3_exercise3-2.gif\"/>"
   ]
  },
  {
   "cell_type": "markdown",
   "metadata": {},
   "source": [
    "* 创建一个名为 **start_bb8_move_in_square_service_server.launch**的launch文件。在该文件中，开启一个启动**bb8_move_in_square_service_server.py** 的节点。"
   ]
  },
  {
   "cell_type": "markdown",
   "metadata": {},
   "source": [
    "下面是启动 **bb8_move_in_square_service_server.py** 的launch文件<a href=\"#start_bb8_move_in_square_service_server_launch\">start_bb8_move_in_square_service_server.launch</a> 。"
   ]
  },
  {
   "cell_type": "markdown",
   "metadata": {},
   "source": [
    "<p style=\"background:#3B8F10;color:white;\" id=\"start_bb8_move_in_square_service_server_launch\">**Launch Program: start_bb8_move_in_square_service_server.launch** </p>"
   ]
  },
  {
   "cell_type": "code",
   "execution_count": null,
   "metadata": {
    "collapsed": true
   },
   "outputs": [],
   "source": [
    "<launch>\n",
    "    <!-- Start Service Server for move_bb8_in_square service -->\n",
    "    <node pkg=\"unit_3_services\" type=\"bb8_move_in_square_service_server.py\" name=\"service_move_bb8_in_square_server\"  output=\"screen\">\n",
    "    </node>\n",
    "</launch>"
   ]
  },
  {
   "cell_type": "markdown",
   "metadata": {},
   "source": [
    "<p style=\"background:#3B8F10;color:white;\">END **Launch Program: start_bb8_move_in_square_service_server.launch** </p>"
   ]
  },
  {
   "cell_type": "markdown",
   "metadata": {},
   "source": [
    "如前面介绍的那样，启动**start_bb8_move_in_square_service_server.launch**并调用该服务进行测试。步骤完全相同，唯一不同的是这里我们是通过一个launch文件而非python文件来启动服务服务器的。"
   ]
  },
  {
   "cell_type": "markdown",
   "metadata": {},
   "source": [
    "* 创建一个新的python节点，命名为 **bb8_move_in_square_service_client.py**, 该节点调用服务 **/move_bb8_in_square**。回顾一下  **Unit3 服务 Part1** 中它是如何实现的。<br>\n",
    "然后生成一个新的名为 **call_bb8_move_in_square_service_server.launch** 的launch文件, 它通过一个节点运行**bb8_move_in_square_service_client.py** 。"
   ]
  },
  {
   "cell_type": "markdown",
   "metadata": {},
   "source": [
    "<a href=\"#bb8_move_in_square_service_client_py\">bb8_move_in_square_service_client.py</a> 看起来应该是这样的："
   ]
  },
  {
   "cell_type": "markdown",
   "metadata": {},
   "source": [
    "<p style=\"background:#3B8F10;color:white;\" id=\"bb8_move_in_square_service_client_py\">**Python Program: bb8_move_in_square_service_client.py** </p>"
   ]
  },
  {
   "cell_type": "code",
   "execution_count": null,
   "metadata": {
    "collapsed": true
   },
   "outputs": [],
   "source": [
    "#! /usr/bin/env python\n",
    "import rospkg\n",
    "import rospy\n",
    "from std_srvs.srv import Empty, EmptyRequest # you import the service message python classes generated from Empty.srv.\n",
    "\n",
    "rospy.init_node('service_move_bb8_in_square_client') # Initialise a ROS node with the name service_client\n",
    "rospy.wait_for_service('/move_bb8_in_square') # Wait for the service client /move_bb8_in_square to be running\n",
    "move_bb8_in_square_service_client = rospy.ServiceProxy('/move_bb8_in_square', Empty) # Create the connection to the service\n",
    "move_bb8_in_square_request_object = EmptyRequest() # Create an object of type EmptyRequest\n",
    "\n",
    "result = move_bb8_in_square_service_client(move_bb8_in_square_request_object) # Send through the connection the path to the trajectory file to be executed\n",
    "print result # Print the result given by the service called"
   ]
  },
  {
   "cell_type": "markdown",
   "metadata": {},
   "source": [
    "<p style=\"background:#3B8F10;color:white;\">END **Python Program: bb8_move_in_square_service_client.py** </p>"
   ]
  },
  {
   "cell_type": "markdown",
   "metadata": {},
   "source": [
    "<a href=\"#call_bb8_move_in_square_service_server_launch\">call_bb8_move_in_square_service_server.launch</a> 看起来应该是这样的："
   ]
  },
  {
   "cell_type": "markdown",
   "metadata": {},
   "source": [
    "<p style=\"background:#3B8F10;color:white;\" id=\"call_bb8_move_in_square_service_server_launch\">**Launch Program: call_bb8_move_in_square_service_server.launch** </p>"
   ]
  },
  {
   "cell_type": "code",
   "execution_count": null,
   "metadata": {
    "collapsed": true
   },
   "outputs": [],
   "source": [
    "<launch>\n",
    "    <!-- Start Service Server for move_bb8_in_square service -->\n",
    "    <node pkg=\"unit_3_services\" type=\"bb8_move_in_square_service_client.py\" name=\"service_move_bb8_in_square_client\"  output=\"screen\">\n",
    "    </node>\n",
    "</launch>"
   ]
  },
  {
   "cell_type": "markdown",
   "metadata": {},
   "source": [
    "<p style=\"background:#3B8F10;color:white;\" id=\"start_bb8_move_in_square_service_server_launch\">**Launch Program: call_bb8_move_in_square_service_server.launch** </p>"
   ]
  },
  {
   "cell_type": "markdown",
   "metadata": {},
   "source": [
    "* 当启动 **call_bb8_move_in_square_service_server.launch**时, BB8机器人将在一个正方形内移动。"
   ]
  },
  {
   "cell_type": "markdown",
   "metadata": {},
   "source": [
    "工作原理与你前面进行的其他调用完全相同。在本例中，启动 **start_bb8_move_in_square_service_server.launch** ，然后在另一个终端启动 **call_bb8_move_in_square_service_server.launch**。"
   ]
  },
  {
   "cell_type": "markdown",
   "metadata": {},
   "source": [
    "<p id=\"SolutionExercise3-3\"></p>"
   ]
  },
  {
   "cell_type": "markdown",
   "metadata": {},
   "source": [
    "## Exercise 3.3解决方案"
   ]
  },
  {
   "cell_type": "markdown",
   "metadata": {},
   "source": [
    "* 升级python文件 **move_bb8.py** ，使BB8绕一个大小变化的正方形轨迹移动。"
   ]
  },
  {
   "cell_type": "markdown",
   "metadata": {},
   "source": [
    "修改<a href=\"#move_bb8_py_mod\">move_bb8.py</a> 文件如下："
   ]
  },
  {
   "cell_type": "markdown",
   "metadata": {},
   "source": [
    "<p style=\"background:#3B8F10;color:white;\" id=\"move_bb8_py_mod\">**Python File: move_bb8.py** </p>"
   ]
  },
  {
   "cell_type": "code",
   "execution_count": null,
   "metadata": {
    "collapsed": true
   },
   "outputs": [],
   "source": [
    "#!/usr/bin/env python\n",
    "import rospy\n",
    "from geometry_msgs.msg import Twist\n",
    "import time\n",
    "import math\n",
    "\n",
    "class MoveBB8():\n",
    "    \n",
    "    def __init__(self):\n",
    "        self.bb8_vel_publisher = rospy.Publisher('/cmd_vel', Twist, queue_size=1)\n",
    "        self.ctrl_c = False\n",
    "        rospy.on_shutdown(self.shutdownhook)\n",
    "        self.rate = rospy.Rate(10) # 10hz\n",
    "    \n",
    "    \n",
    "    \n",
    "    def publish_once_in_cmd_vel(self, cmd):\n",
    "        \"\"\"\n",
    "        This is because publishing in topics sometimes fails teh first time you publish.\n",
    "        In continuos publishing systems there is no big deal but in systems that publish only\n",
    "        once it IS very important.\n",
    "        \"\"\"\n",
    "        while not self.ctrl_c:\n",
    "            connections = self.bb8_vel_publisher.get_num_connections()\n",
    "            if connections > 0:\n",
    "                self.bb8_vel_publisher.publish(cmd)\n",
    "                rospy.loginfo(\"Cmd Published\")\n",
    "                break\n",
    "            else:\n",
    "                self.rate.sleep()\n",
    "    \n",
    "    \n",
    "    def shutdownhook(self):\n",
    "            # works better than the rospy.is_shut_down()\n",
    "            self.stop_bb8()\n",
    "            self.ctrl_c = True\n",
    "\n",
    "    def stop_bb8(self):\n",
    "        rospy.loginfo(\"shutdown time! Stop the robot\")\n",
    "        cmd = Twist()\n",
    "        cmd.linear.x = 0.0\n",
    "        cmd.angular.z = 0.0\n",
    "        self.publish_once_in_cmd_vel(cmd)\n",
    "\n",
    "\n",
    "    def move_x_time(self, moving_time, linear_speed=0.2, angular_speed=0.2):\n",
    "        \n",
    "        cmd = Twist()\n",
    "        cmd.linear.x = linear_speed\n",
    "        cmd.angular.z = angular_speed\n",
    "        \n",
    "        rospy.loginfo(\"Moving Forwards\")\n",
    "        self.publish_once_in_cmd_vel(cmd)\n",
    "        time.sleep(moving_time)\n",
    "        self.stop_bb8()\n",
    "        rospy.loginfo(\"######## Finished Moving Forwards\")\n",
    "    \n",
    "    def move_square(self, side=0.2):\n",
    "        \n",
    "        i = 0\n",
    "        # More Speed, more time to stop\n",
    "        time_magnitude = side / 0.2\n",
    "        \n",
    "        while not self.ctrl_c and i < 4:\n",
    "            # Move Forwards\n",
    "            self.move_x_time(moving_time=2.0*time_magnitude, linear_speed=0.2, angular_speed=0.0)\n",
    "            # Stop\n",
    "            self.move_x_time(moving_time=4.0, linear_speed=0.0, angular_speed=0.0)\n",
    "            # Turn, the turning is not afected by the length of the side we want\n",
    "            self.move_x_time(moving_time=4.0, linear_speed=0.0, angular_speed=0.2)\n",
    "            # Stop\n",
    "            self.move_x_time(moving_time=0.1, linear_speed=0.0, angular_speed=0.0)\n",
    "            \n",
    "            i += 1\n",
    "        rospy.loginfo(\"######## Finished Moving in a Square\")\n",
    "        \n",
    "\n",
    "            \n",
    "if __name__ == '__main__':\n",
    "    rospy.init_node('move_bb8_test', anonymous=True)\n",
    "    movebb8_object = MoveBB8()\n",
    "    try:\n",
    "        movebb8_object.move_square(side=0.6)\n",
    "    except rospy.ROSInterruptException:\n",
    "        pass\n"
   ]
  },
  {
   "cell_type": "markdown",
   "metadata": {},
   "source": [
    "<p style=\"background:#3B8F10;color:white;\">END **Python File: move_bb8.py** </p>"
   ]
  },
  {
   "cell_type": "markdown",
   "metadata": {},
   "source": [
    "如你所见，代码的变动很少："
   ]
  },
  {
   "cell_type": "code",
   "execution_count": null,
   "metadata": {
    "collapsed": true
   },
   "outputs": [],
   "source": [
    "while not self.ctrl_c and i < 4:\n",
    "            # Move Forwards\n",
    "            self.move_x_time(moving_time=2.0*time_magnitude, linear_speed=0.2, angular_speed=0.0)\n",
    "            # Stop"
   ]
  },
  {
   "cell_type": "markdown",
   "metadata": {},
   "source": [
    "我们只是改变了BB8机器人向前移动的时间，以此来控制该机器人正方形运动轨迹的大小。当然，在没有校正和闭环控制的情况下，很难使BB8走出一个完美的方形。但这没有关系，我们的目的是改变正方形的大小，不要求很精确。"
   ]
  },
  {
   "cell_type": "markdown",
   "metadata": {},
   "source": [
    "* 创建一个新的名为 **bb8_move_custom_service_server.py** 的python文件, 修改你在Exercise 3.2中创建的接收空服务消息并激活正方形运动的服务服务器。这个新的服务可以命名为 **/move_bb8_in_square_custom**，它使用类型为**BB8CustomServiceMessage** 的服务消息。该服务消息定义如下： "
   ]
  },
  {
   "cell_type": "markdown",
   "metadata": {},
   "source": [
    "首先创建 <a href=\"#BB8CustomServiceMessage_srv\">BB8CustomServiceMessage.srv</a>, 在功能包 **unit_3_services** 中创建一个**srv** 文件夹。"
   ]
  },
  {
   "cell_type": "markdown",
   "metadata": {},
   "source": [
    "<p style=\"background:#3B8F10;color:white;\" id=\"BB8CustomServiceMessage_srv\">**Service Message: BB8CustomServiceMessage.srv** </p>"
   ]
  },
  {
   "cell_type": "code",
   "execution_count": null,
   "metadata": {
    "collapsed": true
   },
   "outputs": [],
   "source": [
    "float64 side       # The distance of each side of the square\n",
    "int32 repetitions    # The number of times BB-8 has to execute the square movement when the service is called\n",
    "---\n",
    "bool success         # Did it achieve it?"
   ]
  },
  {
   "cell_type": "markdown",
   "metadata": {},
   "source": [
    "<p style=\"background:#3B8F10;color:white;\" id=\"BB8CustomServiceMessage_srv\">END **Service Message: BB8CustomServiceMessage.srv** </p>"
   ]
  },
  {
   "cell_type": "markdown",
   "metadata": {},
   "source": [
    "修改 <a href=\"#CMakelists_txt\">CMakelists.txt</a> 和 <a href=\"#package_xml\">package.xml</a>"
   ]
  },
  {
   "cell_type": "markdown",
   "metadata": {},
   "source": [
    "<p style=\"background:#3B8F10;color:white;\" id=\"CMakelists_txt\">**CMakelists.txt** </p>"
   ]
  },
  {
   "cell_type": "code",
   "execution_count": null,
   "metadata": {
    "collapsed": true
   },
   "outputs": [],
   "source": [
    "cmake_minimum_required(VERSION 2.8.3)\n",
    "project(unit_3_services)\n",
    "\n",
    "\n",
    "## Here go all the packages needed to COMPILE the messages of topic, services and actions.\n",
    "## Its only geting its paths, and not really importing them to be used in the compilation.\n",
    "## Its only for further functions in CMakeLists.txt to be able to find those packages.\n",
    "## In package.xml you have to state them as build\n",
    "find_package(catkin REQUIRED COMPONENTS\n",
    "  std_msgs\n",
    "  message_generation\n",
    ")\n",
    "\n",
    "## Generate services in the 'srv' folder\n",
    "## In this function will be all the action messages of this package ( in the action folder ) to be compiled.\n",
    "## You can state that it gets all the actions inside the action directory: DIRECTORY action\n",
    "## Or just the action messages stated explicitly: FILES my_custom_action.action\n",
    "## In your case you only need to do one of two things, as you wish.\n",
    "add_service_files(\n",
    "  FILES\n",
    "  BB8CustomServiceMessage.srv\n",
    ")\n",
    "\n",
    "## Here is where the packages needed for the action messages compilation are imported.\n",
    "generate_messages(\n",
    "  DEPENDENCIES\n",
    "  std_msgs\n",
    ")\n",
    "\n",
    "## State here all the packages that will be needed by someone that executes something from your package.\n",
    "## All the packages stated here must be in the package.xml as run_depend\n",
    "catkin_package(\n",
    "  CATKIN_DEPENDS rospy\n",
    ")\n",
    "\n",
    "\n",
    "include_directories(\n",
    "  ${catkin_INCLUDE_DIRS}\n",
    ")"
   ]
  },
  {
   "cell_type": "markdown",
   "metadata": {},
   "source": [
    "<p style=\"background:#3B8F10;color:white;\" id=\"package_xml\">**package.xml** </p>"
   ]
  },
  {
   "cell_type": "code",
   "execution_count": null,
   "metadata": {
    "collapsed": true
   },
   "outputs": [],
   "source": [
    "<?xml version=\"1.0\"?>\n",
    "<package>\n",
    "  <name>unit_3_services</name>\n",
    "  <version>0.0.0</version>\n",
    "  <description>The unit_3_services package</description>\n",
    "\n",
    "  <maintainer email=\"user@todo.todo\">user</maintainer>\n",
    "\n",
    "  <license>TODO</license>\n",
    "\n",
    "  <buildtool_depend>catkin</buildtool_depend>\n",
    "  <build_depend>rospy</build_depend>\n",
    "  <build_depend>message_generation</build_depend>\n",
    "  <run_depend>rospy</run_depend>\n",
    "  <run_depend>message_runtime</run_depend>\n",
    "\n",
    "\n",
    "  <!-- The export tag contains other, unspecified, tags -->\n",
    "  <export>\n",
    "    <!-- Other tools can request additional information be placed here -->\n",
    "  </export>\n",
    "</package>"
   ]
  },
  {
   "cell_type": "markdown",
   "metadata": {},
   "source": [
    "完成后，进行编译和source，以便ROS能找到新的消息。"
   ]
  },
  {
   "cell_type": "code",
   "execution_count": null,
   "metadata": {
    "collapsed": true
   },
   "outputs": [],
   "source": [
    "roscd;cd ..\n",
    "catkin_make\n",
    "source devel/setup.bash"
   ]
  },
  {
   "cell_type": "markdown",
   "metadata": {},
   "source": [
    "检查是否能发现该消息："
   ]
  },
  {
   "cell_type": "code",
   "execution_count": null,
   "metadata": {
    "collapsed": true
   },
   "outputs": [],
   "source": [
    "rossrv list | grep BB8CustomServiceMessage"
   ]
  },
  {
   "cell_type": "markdown",
   "metadata": {},
   "source": [
    "你将得到："
   ]
  },
  {
   "cell_type": "code",
   "execution_count": null,
   "metadata": {
    "collapsed": true
   },
   "outputs": [],
   "source": [
    "unit_3_services/BB8CustomServiceMessage"
   ]
  },
  {
   "cell_type": "markdown",
   "metadata": {},
   "source": [
    "* 使用传递给新 **/move_bb8_in_square_custom** 的数据来改变BB8运动的方式。<br>\n",
    "根据 **side** 值，该服务将使BB8机器人绕一个大小为**side**的正方形轨迹运动。<br>\n",
    "另外，BB8机器人必须重复该方形运动，重复次数由该消息中**repetitions** 变量给出。<br> 最后，如果一切正常，它必须在**success**变量中返回真值。"
   ]
  },
  {
   "cell_type": "markdown",
   "metadata": {},
   "source": [
    "现在，使用新的服务消息**BB8CustomServiceMessage**创建 <a href=\"#bb8_move_custom_service_server.py\">bb8_move_custom_service_server.py</a>。"
   ]
  },
  {
   "cell_type": "markdown",
   "metadata": {},
   "source": [
    "<p style=\"background:#3B8F10;color:white;\" id=\"bb8_move_custom_service_server.py\">**Python File: bb8_move_custom_service_server.py** </p>"
   ]
  },
  {
   "cell_type": "code",
   "execution_count": null,
   "metadata": {
    "collapsed": true
   },
   "outputs": [],
   "source": [
    "#! /usr/bin/env python\n",
    "\n",
    "import rospy\n",
    "from unit_3_services.srv import BB8CustomServiceMessage, BB8CustomServiceMessageResponse\n",
    "from move_bb8 import MoveBB8\n",
    "\n",
    "\"\"\"\n",
    "# BB8CustomServiceMessage\n",
    "float64 side       # The distance of each side of the square\n",
    "int32 repetitions    # The number of times BB-8 has to execute the square movement when the service is called\n",
    "---\n",
    "bool success         # Did it achieve it?\n",
    "\"\"\"\n",
    "\n",
    "def my_callback(request):\n",
    "    rospy.loginfo(\"The Service move_bb8_in_square_custom has been called\")\n",
    "    \n",
    "    movebb8_object = MoveBB8()\n",
    "    \n",
    "    # We need to add because if we ask 0 repetitions means to execute once, not zero times.\n",
    "    repetitions_of_square = request.repetitions + 1\n",
    "    new_side = request.side\n",
    "    for i in range(repetitions_of_square):\n",
    "        rospy.loginfo(\"Start Movement with side = \"+str(new_side)+\"Repetition = \"+str(i))\n",
    "        movebb8_object.move_square(side=new_side)\n",
    "        \n",
    "    rospy.loginfo(\"Finished service move_bb8_in_square that was called called\")\n",
    "    response = BB8CustomServiceMessageResponse()\n",
    "    response.success = True\n",
    "    return response\n",
    "\n",
    "rospy.init_node('service_move_bb8_in_square_custom_server') \n",
    "my_service = rospy.Service('/move_bb8_in_square_custom', BB8CustomServiceMessage , my_callback) # create the Service called move_bb8_in_square with the defined callback\n",
    "rospy.loginfo(\"Service /move_bb8_in_square_custom Ready\")\n",
    "rospy.spin() # mantain the service open."
   ]
  },
  {
   "cell_type": "markdown",
   "metadata": {},
   "source": [
    "<p style=\"background:#3B8F10;color:white;\">END **Python File: bb8_move_custom_service_server.py** </p>"
   ]
  },
  {
   "cell_type": "markdown",
   "metadata": {},
   "source": [
    "* 创建一个新的名为**start_bb8_move_custom_service_server.launch**的launch文件，启动python文件**bb8_move_custom_service_server.py**中的服务器。\n",
    "* 测试一下，当调用这个新的服务 **/move_bb8_in_square_custom**时, BB8机器人进行相应地运动。 "
   ]
  },
  {
   "cell_type": "markdown",
   "metadata": {},
   "source": [
    "**start_bb8_move_custom_service_server.launch** 与Exercise 3.2中的那个相同，只是将启动的python文件改成了 **bb8_move_custom_service_server.py**。"
   ]
  },
  {
   "cell_type": "code",
   "execution_count": null,
   "metadata": {
    "collapsed": true
   },
   "outputs": [],
   "source": [
    "<launch>\n",
    "    <!-- Start Service Server for move_bb8_in_square service -->\n",
    "    <node pkg=\"unit_3_services\" type=\"bb8_move_custom_service_server.py\" name=\"service_move_bb8_in_square_custom_server\"  output=\"screen\">\n",
    "    </node>\n",
    "</launch>"
   ]
  },
  {
   "cell_type": "markdown",
   "metadata": {},
   "source": [
    "* 创建一个新的服务客户端，调用服务 **/move_bb8_in_square_custom** ，使BB8机器人绕一个小的正方形 **两次**，绕一个大的正方形 **一次**。该服务器客户端可以命名为 **bb8_move_custom_service_client.py** ，启动它的launch文件命名为**call_bb8_move_in_square_custom_service_server.launch**。"
   ]
  },
  {
   "cell_type": "markdown",
   "metadata": {},
   "source": [
    "创建执行两次小正方形运动和一次大正方形运动的 python文件<a href=\"#bb8_move_custom_service_client_py\">bb8_move_custom_service_client.py</a> 。"
   ]
  },
  {
   "cell_type": "markdown",
   "metadata": {},
   "source": [
    "<p style=\"background:#3B8F10;color:white;\" id=\"bb8_move_custom_service_client_py\">**Python File: bb8_move_custom_service_client.py** </p>"
   ]
  },
  {
   "cell_type": "code",
   "execution_count": null,
   "metadata": {
    "collapsed": true
   },
   "outputs": [],
   "source": [
    "#! /usr/bin/env python\n",
    "import rospkg\n",
    "import rospy\n",
    "from unit_3_services.srv import BB8CustomServiceMessage, BB8CustomServiceMessageRequest\n",
    "\n",
    "\n",
    "rospy.init_node('service_move_bb8_in_square_custom_client') # Initialise a ROS node with the name service_client\n",
    "rospy.wait_for_service('/move_bb8_in_square_custom') # Wait for the service client /move_bb8_in_square to be running\n",
    "move_bb8_in_square_service_client = rospy.ServiceProxy('/move_bb8_in_square_custom', BB8CustomServiceMessage) # Create the connection to the service\n",
    "move_bb8_in_square_request_object = BB8CustomServiceMessageRequest() # Create an object of type EmptyRequest\n",
    "\n",
    "\n",
    "\"\"\"\n",
    "# BB8CustomServiceMessage\n",
    "float64 side       # The distance of each side of the square\n",
    "int32 repetitions    # The number of times BB-8 has to execute the square movement when the service is called\n",
    "---\n",
    "bool success         # Did it achieve it?\n",
    "\"\"\"\n",
    "move_bb8_in_square_request_object.side = 0.1\n",
    "move_bb8_in_square_request_object.repetitions = 2\n",
    "\n",
    "rospy.loginfo(\"Start Two Small Squares...\")\n",
    "result = move_bb8_in_square_service_client(move_bb8_in_square_request_object) # Send through the connection the path to the trajectory file to be executed\n",
    "rospy.loginfo(str(result)) # Print the result given by the service called\n",
    "\n",
    "move_bb8_in_square_request_object.side = 0.6\n",
    "move_bb8_in_square_request_object.repetitions = 1\n",
    "\n",
    "rospy.loginfo(\"Start One Big Square...\")\n",
    "result = move_bb8_in_square_service_client(move_bb8_in_square_request_object) # Send through the connection the path to the trajectory file to be executed\n",
    "rospy.loginfo(str(result))\n",
    "\n",
    "rospy.loginfo(\"END of Service call...\")"
   ]
  },
  {
   "cell_type": "markdown",
   "metadata": {},
   "source": [
    "<p style=\"background:#3B8F10;color:white;\">END **Python File: bb8_move_custom_service_client.py** </p>"
   ]
  },
  {
   "cell_type": "markdown",
   "metadata": {},
   "source": [
    "现在，创建一个launch文件启动该python节点。该launch文件命名为 <a href=\"#call_bb8_move_in_square_custom_service_server_launch\">call_bb8_move_in_square_custom_service_server.launch</a>。"
   ]
  },
  {
   "cell_type": "markdown",
   "metadata": {},
   "source": [
    "<p style=\"background:#3B8F10;color:white;\" id=\"call_bb8_move_in_square_custom_service_server_launch\">**Launch File: call_bb8_move_in_square_custom_service_server.launch** </p>"
   ]
  },
  {
   "cell_type": "code",
   "execution_count": null,
   "metadata": {
    "collapsed": true
   },
   "outputs": [],
   "source": [
    "<launch>\n",
    "    <!-- Start Service Server for move_bb8_in_square service -->\n",
    "    <node pkg=\"unit_3_services\" type=\"bb8_move_custom_service_client.py\" name=\"service_move_bb8_in_square_custom_client\"  output=\"screen\">\n",
    "    </node>\n",
    "</launch>"
   ]
  },
  {
   "cell_type": "markdown",
   "metadata": {},
   "source": [
    "<p style=\"background:#3B8F10;color:white;\">END **Launch File: call_bb8_move_in_square_custom_service_server.launch** </p>"
   ]
  },
  {
   "cell_type": "markdown",
   "metadata": {},
   "source": [
    "最后，测试整个管线。在一个web终端启动服务器，在另一个终端启动客户端。BB8机器人将按照期望的方式运动。"
   ]
  },
  {
   "cell_type": "markdown",
   "metadata": {},
   "source": [
    "<table style=\"float:left;background: #407EAF\">\n",
    "<tr>\n",
    "<th>\n",
    "<p class=\"transparent\">Execute in WebShell #1</p>\n",
    "</th>\n",
    "</tr>\n",
    "</table>\n",
    "<br>"
   ]
  },
  {
   "cell_type": "code",
   "execution_count": null,
   "metadata": {
    "collapsed": true
   },
   "outputs": [],
   "source": [
    "roslaunch unit_3_services start_bb8_move_custom_service_server.launch"
   ]
  },
  {
   "cell_type": "markdown",
   "metadata": {},
   "source": [
    "<table style=\"float:left;background: #407EAF\">\n",
    "<tr>\n",
    "<th>\n",
    "<p class=\"transparent\">Execute in WebShell #2</p>\n",
    "</th>\n",
    "</tr>\n",
    "</table>\n",
    "<br>"
   ]
  },
  {
   "cell_type": "code",
   "execution_count": null,
   "metadata": {
    "collapsed": true
   },
   "outputs": [],
   "source": [
    "roslaunch unit_3_services call_bb8_move_in_square_custom_service_server.launch"
   ]
  },
  {
   "cell_type": "markdown",
   "metadata": {},
   "source": [
    "你将看到类似下面的结果，但是会慢一些，因为这里进行了快放处理："
   ]
  },
  {
   "cell_type": "markdown",
   "metadata": {},
   "source": [
    "<img src=\"../img/basic_unit3_exercise3-3_final.gif\"/>"
   ]
  },
  {
   "cell_type": "markdown",
   "metadata": {},
   "source": [
    "## 里程计解决方案:"
   ]
  },
  {
   "cell_type": "markdown",
   "metadata": {},
   "source": [
    "下面是一个如何基于里程计读数访问和移动机器人的例子。注意，里程计并不完美，因此存在一些不确定性，特别是在方向方面。但它的位置很精确。这也是为什么机器人需要其他定位系统的原因。如果你感兴趣，请学习**ROS navigation** 课程，或者 **Jackal robot** 或 **Summit XL** 的机器人课程。"
   ]
  },
  {
   "cell_type": "markdown",
   "metadata": {},
   "source": [
    "<p style=\"background:#3B8F10;color:white;\" id=\"UPGRADE_move_bb8_py\">UPGRADE **Python File: move_bb8.py** </p>"
   ]
  },
  {
   "cell_type": "code",
   "execution_count": null,
   "metadata": {
    "collapsed": true
   },
   "outputs": [],
   "source": [
    "#!/usr/bin/env python\n",
    "import rospy\n",
    "from geometry_msgs.msg import Twist\n",
    "import time\n",
    "import math\n",
    "from nav_msgs.msg import Odometry\n",
    "import tf\n",
    "\n",
    "\"\"\"\n",
    "rosmsg show nav_msgs/Odometry\n",
    "std_msgs/Header header\n",
    "  uint32 seq\n",
    "  time stamp\n",
    "  string frame_id\n",
    "string child_frame_id\n",
    "geometry_msgs/PoseWithCovariance pose\n",
    "  geometry_msgs/Pose pose\n",
    "    geometry_msgs/Point position\n",
    "      float64 x\n",
    "      float64 y\n",
    "      float64 z\n",
    "    geometry_msgs/Quaternion orientation\n",
    "      float64 x\n",
    "      float64 y\n",
    "      float64 z\n",
    "      float64 w\n",
    "  float64[36] covariance\n",
    "geometry_msgs/TwistWithCovariance twist\n",
    "  geometry_msgs/Twist twist\n",
    "    geometry_msgs/Vector3 linear\n",
    "      float64 x\n",
    "      float64 y\n",
    "      float64 z\n",
    "    geometry_msgs/Vector3 angular\n",
    "      float64 x\n",
    "      float64 y\n",
    "      float64 z\n",
    "  float64[36] covariance\n",
    "\"\"\"\n",
    "\n",
    "\n",
    "class OdomTools(object):\n",
    "    def __init__(self):\n",
    "        self.init_odom()\n",
    "        self.odom_subscriber = rospy.Subscriber(\"/odom\", Odometry, self.odom_callback)\n",
    "\n",
    "    def init_odom(self):\n",
    "        self._odometry = None\n",
    "        while self._odometry is None:\n",
    "            try:                \n",
    "                self._odometry = rospy.wait_for_message(\"/odom\", Odometry, timeout=1)\n",
    "            except:\n",
    "                rospy.loginfo(\"/odom topic is not ready yet, retrying\")\n",
    "        \n",
    "        rospy.loginfo(\"/odom topic READY\")\n",
    "        \n",
    "\n",
    "    def odom_callback(self,msg):\n",
    "        self._odometry = msg\n",
    "    \n",
    "    def get_odom_position(self):\n",
    "        return self._odometry.pose.pose.position\n",
    "        \n",
    "    def get_odom_orientation(self):\n",
    "        return self._odometry.pose.pose.orientation\n",
    "    \n",
    "    def calculate_distance_change(self,init_point, finish_point):\n",
    "        \n",
    "        delta_x = finish_point.x - init_point.x\n",
    "        delta_y = finish_point.y - init_point.y\n",
    "        delta_z = finish_point.z - init_point.z\n",
    "        \n",
    "        delta_x2 = pow(delta_x,2)\n",
    "        delta_y2 = pow(delta_y,2)\n",
    "        delta_z2 = pow(delta_z,2)\n",
    "        \n",
    "        distance = math.sqrt(delta_x2+delta_y2+delta_z2)\n",
    "        \n",
    "        return distance\n",
    "        \n",
    "    def calculate_yaw_angle_change(self,init_orientation, finish_orientation):\n",
    "\n",
    "        explicit_init_quat = [init_orientation.x, init_orientation.y, init_orientation.z, init_orientation.w]\n",
    "        explicit_finish_quat = [finish_orientation.x, finish_orientation.y, finish_orientation.z, finish_orientation.w]\n",
    "\n",
    "        init_euler = tf.transformations.euler_from_quaternion(explicit_init_quat)\n",
    "        finish_euler = tf.transformations.euler_from_quaternion(explicit_finish_quat)\n",
    "\n",
    "        delta_yaw=finish_euler[2]- init_euler[2]\n",
    "        \n",
    "        return delta_yaw\n",
    "\n",
    "class MoveBB8():\n",
    "    \n",
    "    def __init__(self):\n",
    "        self.odom_object = OdomTools()\n",
    "        self.bb8_vel_publisher = rospy.Publisher('/cmd_vel', Twist, queue_size=1)\n",
    "        self.ctrl_c = False\n",
    "        rospy.on_shutdown(self.shutdownhook)\n",
    "        self.rate = rospy.Rate(10) # 10hz\n",
    "    \n",
    "        \n",
    "    \n",
    "    def publish_once_in_cmd_vel(self, cmd):\n",
    "        \"\"\"\n",
    "        This is because publishing in topics sometimes fails teh first time you publish.\n",
    "        In continuos publishing systems there is no big deal but in systems that publish only\n",
    "        once it IS very important.\n",
    "        \"\"\"\n",
    "        while not self.ctrl_c:\n",
    "            connections = self.bb8_vel_publisher.get_num_connections()\n",
    "            if connections > 0:\n",
    "                self.bb8_vel_publisher.publish(cmd)\n",
    "                rospy.loginfo(\"Cmd Published\")\n",
    "                break\n",
    "            else:\n",
    "                self.rate.sleep()\n",
    "    \n",
    "    \n",
    "    def shutdownhook(self):\n",
    "            # works better than the rospy.is_shut_down()\n",
    "            self.stop_bb8()\n",
    "            self.ctrl_c = True\n",
    "\n",
    "    def stop_bb8(self):\n",
    "        rospy.loginfo(\"shutdown time! Stop the robot\")\n",
    "        cmd = Twist()\n",
    "        cmd.linear.x = 0.0\n",
    "        cmd.angular.z = 0.0\n",
    "        self.publish_once_in_cmd_vel(cmd)\n",
    "\n",
    "\n",
    "    def move_x_time(self, moving_time, linear_speed=0.2, angular_speed=0.2):\n",
    "        \n",
    "        cmd = Twist()\n",
    "        cmd.linear.x = linear_speed\n",
    "        cmd.angular.z = angular_speed\n",
    "        \n",
    "        rospy.loginfo(\"Moving Forwards\")\n",
    "        self.publish_once_in_cmd_vel(cmd)\n",
    "        time.sleep(moving_time)\n",
    "        self.stop_bb8()\n",
    "        rospy.loginfo(\"######## Finished Moving Forwards\")\n",
    "    \n",
    "    def move_square(self, side=0.2):\n",
    "        \n",
    "        i = 0\n",
    "        # More Speed, more time to stop\n",
    "        time_magnitude = side / 0.2\n",
    "        \n",
    "        while not self.ctrl_c and i < 4:\n",
    "            # Move Forwards\n",
    "            self.move_x_time(moving_time=2.0*time_magnitude, linear_speed=0.2, angular_speed=0.0)\n",
    "            # Stop\n",
    "            self.move_x_time(moving_time=4.0, linear_speed=0.0, angular_speed=0.0)\n",
    "            # Turn, the turning is not afected by the length of the side we want\n",
    "            self.move_x_time(moving_time=4.0, linear_speed=0.0, angular_speed=0.2)\n",
    "            # Stop\n",
    "            self.move_x_time(moving_time=0.1, linear_speed=0.0, angular_speed=0.0)\n",
    "            \n",
    "            i += 1\n",
    "        rospy.loginfo(\"######## Finished Moving in a Square\")\n",
    "        \n",
    "    def move_distance(self, distance_to_move,linear_speed=0.2):\n",
    "        \n",
    "        cmd = Twist()\n",
    "        cmd.linear.x = linear_speed\n",
    "        cmd.angular.z = 0.0\n",
    "        \n",
    "        \n",
    "        init_position = self.odom_object.get_odom_position()\n",
    "        final_position = self.odom_object.get_odom_position()\n",
    "        distance_moved = self.odom_object.calculate_distance_change(init_position,final_position)\n",
    "        \n",
    "        while distance_moved < distance_to_move:\n",
    "            rospy.loginfo(\"Moving\")\n",
    "            self.publish_once_in_cmd_vel(cmd)\n",
    "            self.rate.sleep()\n",
    "            final_position = self.odom_object.get_odom_position()\n",
    "            distance_moved = self.odom_object.calculate_distance_change(init_position,final_position)\n",
    "            rospy.loginfo(\"Distance Moved::>\"+str(distance_moved))\n",
    "        \n",
    "        rospy.loginfo(\"Stopping...\")\n",
    "        cmd.linear.x = 0.0\n",
    "        cmd.angular.z = 0.0\n",
    "        self.publish_once_in_cmd_vel(cmd)\n",
    "        \n",
    "    def move_angle(self, angle_to_turn, angular_speed=0.2):\n",
    "        \n",
    "        cmd = Twist()\n",
    "        cmd.linear.x = 0.0\n",
    "        cmd.angular.z = angular_speed\n",
    "        \n",
    "        init_orientation = self.odom_object.get_odom_orientation()\n",
    "        finish_orientation = self.odom_object.get_odom_orientation()\n",
    "        delta_yaw = self.odom_object.calculate_yaw_angle_change(init_orientation, finish_orientation)\n",
    "        \n",
    "        while delta_yaw < angle_to_turn:\n",
    "            rospy.loginfo(\"Turning\")\n",
    "            self.publish_once_in_cmd_vel(cmd)\n",
    "            self.rate.sleep()\n",
    "            finish_orientation = self.odom_object.get_odom_orientation()\n",
    "            delta_yaw = self.odom_object.calculate_yaw_angle_change(init_orientation, finish_orientation)\n",
    "            rospy.loginfo(\"Angle Moved::>\"+str(delta_yaw))\n",
    "        \n",
    "        rospy.loginfo(\"Stopping...\")\n",
    "        cmd.linear.x = 0.0\n",
    "        cmd.angular.z = 0.0\n",
    "        self.publish_once_in_cmd_vel(cmd)\n",
    "    \n",
    "    def calibrate_turning(self):\n",
    "        \n",
    "        init_orientation = self.odom_object.get_odom_orientation()\n",
    "        while not self.ctrl_c:\n",
    "            \n",
    "            finish_orientation = self.odom_object.get_odom_orientation()\n",
    "            delta_yaw = self.odom_object.calculate_yaw_angle_change(init_orientation, finish_orientation)\n",
    "            rospy.loginfo(\"Angle Moved::>\"+str(delta_yaw))\n",
    "            self.rate.sleep()\n",
    "        \n",
    "        \n",
    "            \n",
    "if __name__ == '__main__':\n",
    "    rospy.init_node('move_bb8_test', anonymous=True)\n",
    "    movebb8_object = MoveBB8()\n",
    "    try:\n",
    "        #movebb8_object.move_square(side=0.6)\n",
    "        #movebb8_object.move_cicle(radius=20.0)\n",
    "        movebb8_object.move_distance(distance_to_move=1.0,linear_speed=0.2)\n",
    "        \n",
    "    except rospy.ROSInterruptException:\n",
    "        pass\n"
   ]
  },
  {
   "cell_type": "markdown",
   "metadata": {},
   "source": [
    "<p style=\"background:#3B8F10;color:white;\" >END UPGRADE **Python File: move_bb8.py** </p>"
   ]
  },
  {
   "cell_type": "markdown",
   "metadata": {},
   "source": [
    "如你所见，BB8机器人运动和定位的精度不是很高。当然，使用PID控制来到达精确的位置和方位将会好一些，但这不是本课程所要讨论的。如果你感兴趣，请学习**Perception** 课程，该课程中将讨论使用**pid** ROS功能包来实现该目的。"
   ]
  },
  {
   "cell_type": "code",
   "execution_count": null,
   "metadata": {
    "collapsed": true
   },
   "outputs": [],
   "source": []
  }
 ],
 "metadata": {
  "anaconda-cloud": {},
  "kernelspec": {
   "display_name": "Python 3",
   "language": "python",
   "name": "python3"
  },
  "language_info": {
   "codemirror_mode": {
    "name": "ipython",
    "version": 3
   },
   "file_extension": ".py",
   "mimetype": "text/x-python",
   "name": "python",
   "nbconvert_exporter": "python",
   "pygments_lexer": "ipython3",
   "version": "3.6.4"
  }
 },
 "nbformat": 4,
 "nbformat_minor": 1
}
