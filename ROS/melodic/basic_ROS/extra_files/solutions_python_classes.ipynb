{
 "cells": [
  {
   "cell_type": "markdown",
   "metadata": {},
   "source": [
    "# Solutions for Python Classes"
   ]
  },
  {
   "cell_type": "markdown",
   "metadata": {},
   "source": [
    "<img src=\"../img/robotignite_logo_text.png\"/>"
   ]
  },
  {
   "cell_type": "markdown",
   "metadata": {},
   "source": [
    "## Index: \n",
    "* <a href=\"#SolutionExercise3-2\">Solution Exercise P1</a>"
   ]
  },
  {
   "cell_type": "markdown",
   "metadata": {},
   "source": [
    "<p id=\"SolutionExercise3-2\"></p>"
   ]
  },
  {
   "cell_type": "markdown",
   "metadata": {},
   "source": [
    "## Solution Exercise P1"
   ]
  },
  {
   "cell_type": "markdown",
   "metadata": {},
   "source": [
    "* You will need to modify the class so that now, BB-8 robot stops moving after the specified time in the message has passed."
   ]
  },
  {
   "cell_type": "markdown",
   "metadata": {},
   "source": [
    "Here you have the python file with the class **MoveBB8**, with the modifications:"
   ]
  },
  {
   "cell_type": "markdown",
   "metadata": {},
   "source": [
    "<p style=\"background:#3B8F10;color:white;\" id=\"move_bb8_py\">**Python Program: move_bb8.py** </p>"
   ]
  },
  {
   "cell_type": "code",
   "execution_count": null,
   "metadata": {
    "collapsed": true
   },
   "outputs": [],
   "source": [
    "#!/usr/bin/env python\n",
    "\n",
    "import rospy\n",
    "from geometry_msgs.msg import Twist\n",
    "\n",
    "class MoveBB8():\n",
    "    \n",
    "    def __init__(self):\n",
    "        self.bb8_vel_publisher = rospy.Publisher('/cmd_vel', Twist, queue_size=1)\n",
    "        self.cmd = Twist()\n",
    "        self.ctrl_c = False\n",
    "        self.rate = rospy.Rate(1)\n",
    "        rospy.on_shutdown(self.shutdownhook)\n",
    "        \n",
    "    def publish_once_in_cmd_vel(self):\n",
    "        \"\"\"\n",
    "        This is because publishing in topics sometimes fails the first time you publish.\n",
    "        In continuos publishing systems there is no big deal but in systems that publish only\n",
    "        once it IS very important.\n",
    "        \"\"\"\n",
    "        while not self.ctrl_c:\n",
    "            connections = self.bb8_vel_publisher.get_num_connections()\n",
    "            if connections > 0:\n",
    "                self.bb8_vel_publisher.publish(self.cmd)\n",
    "                rospy.loginfo(\"Cmd Published\")\n",
    "                break\n",
    "            else:\n",
    "                self.rate.sleep()\n",
    "        \n",
    "    def shutdownhook(self):\n",
    "        # works better than the rospy.is_shutdown()\n",
    "        self.stop_bb8()\n",
    "        self.ctrl_c = True\n",
    "        \n",
    "    def stop_bb8(self):\n",
    "        rospy.loginfo(\"shutdown time! Stop the robot\")\n",
    "        self.cmd.linear.x = 0.0\n",
    "        self.cmd.angular.z = 0.0\n",
    "        self.publish_once_in_cmd_vel()\n",
    "\n",
    "    def move_bb8(self, moving_time, linear_speed=0.2, angular_speed=0.2):\n",
    "        \n",
    "        self.cmd.linear.x = linear_speed\n",
    "        self.cmd.angular.z = angular_speed\n",
    "        i = 0\n",
    "        \n",
    "        rospy.loginfo(\"Moving BB8!\")\n",
    "        while not self.ctrl_c and i <= moving_time:\n",
    "            self.publish_once_in_cmd_vel()\n",
    "            i = i+1\n",
    "            self.rate.sleep()\n",
    "            \n",
    "        self.stop_bb8()\n",
    "            \n",
    "if __name__ == '__main__':\n",
    "    rospy.init_node('move_bb8_test', anonymous=True)\n",
    "    movebb8_object = MoveBB8()\n",
    "    try:\n",
    "        movebb8_object.move_bb8()\n",
    "    except rospy.ROSInterruptException:\n",
    "        pass"
   ]
  },
  {
   "cell_type": "markdown",
   "metadata": {},
   "source": [
    "<p style=\"background:#3B8F10;color:white;\" id=\"move_bb8_py\">END **Python Program: move_bb8.py** </p><br>"
   ]
  },
  {
   "cell_type": "markdown",
   "metadata": {},
   "source": [
    "* You will also need to modify the Service Server code, so that you pass the specified duration to the class."
   ]
  },
  {
   "cell_type": "markdown",
   "metadata": {},
   "source": [
    "<p style=\"background:#3B8F10;color:white;\">**Python Program:  bb8_move_circle_service_server.py** </p>"
   ]
  },
  {
   "cell_type": "code",
   "execution_count": null,
   "metadata": {
    "collapsed": true
   },
   "outputs": [],
   "source": [
    "#! /usr/bin/env python\n",
    "\n",
    "import rospy\n",
    "from my_custom_srv_msg_pkg.srv import MyCustomServiceMessage, MyCustomServiceMessageResponse\n",
    "from bb8_move_circle_class import MoveBB8\n",
    "\n",
    "def my_callback(request):\n",
    "    rospy.loginfo(\"The Service move_bb8_in_circle has been called\")\n",
    "    movebb8_object = MoveBB8()\n",
    "    movebb8_object.move_bb8(request.duration)\n",
    "    rospy.loginfo(\"Finished service move_bb8_in_circle\")\n",
    "    response = MyCustomServiceMessageResponse()\n",
    "    response.success = True\n",
    "    return response\n",
    "\n",
    "rospy.init_node('service_move_bb8_in_circle_server') \n",
    "my_service = rospy.Service('/move_bb8_in_circle', MyCustomServiceMessage , my_callback)\n",
    "rospy.loginfo(\"Service /move_bb8_in_circle Ready\")\n",
    "rospy.spin()"
   ]
  },
  {
   "cell_type": "markdown",
   "metadata": {},
   "source": [
    "<p style=\"background:#3B8F10;color:white;\">END **Python Program: bb8_move_circle_service_server.py** </p>"
   ]
  },
  {
   "cell_type": "markdown",
   "metadata": {},
   "source": [
    "Once you have it , test it through a **call** in the WebConsole to the service **/move_bb8_in_circle**."
   ]
  },
  {
   "cell_type": "markdown",
   "metadata": {},
   "source": [
    "<table style=\"float:left;background: #407EAF\">\n",
    "<tr>\n",
    "<th>\n",
    "<p class=\"transparent\">Execute in WebShell #1</p>\n",
    "</th>\n",
    "</tr>\n",
    "</table>\n",
    "<br>"
   ]
  },
  {
   "cell_type": "code",
   "execution_count": null,
   "metadata": {
    "collapsed": true
   },
   "outputs": [],
   "source": [
    "rosservice call /move_bb8_in_circle [TAB]+[TAB]"
   ]
  },
  {
   "cell_type": "markdown",
   "metadata": {},
   "source": [
    "You should get BB8 moving in circles, and stopping after the specified time has passed."
   ]
  },
  {
   "cell_type": "markdown",
   "metadata": {},
   "source": [
    "<p id=\"SolutionExercise3-3\"></p>"
   ]
  }
 ],
 "metadata": {
  "anaconda-cloud": {},
  "kernelspec": {
   "display_name": "Python [Root]",
   "language": "python",
   "name": "Python [Root]"
  },
  "language_info": {
   "codemirror_mode": {
    "name": "ipython",
    "version": 2
   },
   "file_extension": ".py",
   "mimetype": "text/x-python",
   "name": "python",
   "nbconvert_exporter": "python",
   "pygments_lexer": "ipython2",
   "version": "2.7.12"
  }
 },
 "nbformat": 4,
 "nbformat_minor": 1
}
