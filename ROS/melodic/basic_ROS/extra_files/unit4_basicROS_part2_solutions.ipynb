{
 "cells": [
  {
   "cell_type": "markdown",
   "metadata": {},
   "source": [
    "## Solutions for Unit 5 Actions Part 2"
   ]
  },
  {
   "cell_type": "markdown",
   "metadata": {},
   "source": [
    "<img src=\"../img/robotignite_logo_text.png\"/>"
   ]
  },
  {
   "cell_type": "markdown",
   "metadata": {},
   "source": [
    "## Index: "
   ]
  },
  {
   "cell_type": "markdown",
   "metadata": {},
   "source": [
    "* <a href=\"#SolutionExercise4-13\">Solution Exercise 5.13</a>"
   ]
  },
  {
   "cell_type": "markdown",
   "metadata": {},
   "source": [
    "## Solution Exercise 5.13 <p id=\"SolutionExercise4-13\"></p>"
   ]
  },
  {
   "cell_type": "markdown",
   "metadata": {},
   "source": [
    "<p style=\"background:#EE9023;color:white;\">**Exercise 5.13**</p>"
   ]
  },
  {
   "cell_type": "markdown",
   "metadata": {},
   "source": [
    "For this exercise, we will assume that our package is called **exercise_513**, our launch file is called **move_drone_square.launch**, and our Python file is called **move_drone_square.py**."
   ]
  },
  {
   "cell_type": "markdown",
   "metadata": {},
   "source": [
    "<p style=\"background:#3B8F10;color:white;\" id=\"prg-2-1\">**Launch File: move_drone_square.launch** </p>"
   ]
  },
  {
   "cell_type": "code",
   "execution_count": null,
   "metadata": {
    "collapsed": true
   },
   "outputs": [],
   "source": [
    "<launch>\n",
    "    <node pkg=\"exercise_513\" type=\"move_drone_square.py\" name=\"move_drone_square\" output=\"screen\" />\n",
    "</launch>"
   ]
  },
  {
   "cell_type": "markdown",
   "metadata": {},
   "source": [
    "<p style=\"background:#3B8F10;color:white;\" id=\"prg-2-1\">**END Launch File: move_drone_square.launch** </p>"
   ]
  },
  {
   "cell_type": "markdown",
   "metadata": {},
   "source": [
    "<p style=\"background:#3B8F10;color:white;\" id=\"prg-2-1\">**Python File: move_drone_square.py** </p>"
   ]
  },
  {
   "cell_type": "code",
   "execution_count": null,
   "metadata": {
    "collapsed": true
   },
   "outputs": [],
   "source": [
    "#! /usr/bin/env python\n",
    "import rospy\n",
    "import time\n",
    "import actionlib\n",
    "\n",
    "from actionlib.msg import TestFeedback, TestResult, TestAction\n",
    "from geometry_msgs.msg import Twist\n",
    "from std_msgs.msg import Empty\n",
    "\n",
    "class MoveSquareClass(object):\n",
    "    \n",
    "  # create messages that are used to publish feedback/result\n",
    "  _feedback = TestFeedback()\n",
    "  _result   = TestResult()\n",
    "\n",
    "  def __init__(self):\n",
    "    # creates the action server\n",
    "    self._as = actionlib.SimpleActionServer(\"move_drone_square_as\", TestAction, self.goal_callback, False)\n",
    "    self._as.start()\n",
    "    self.ctrl_c = False\n",
    "    self.rate = rospy.Rate(10)\n",
    "    \n",
    "  \n",
    "  def publish_once_in_cmd_vel(self, cmd):\n",
    "    \"\"\"\n",
    "    This is because publishing in topics sometimes fails teh first time you publish.\n",
    "    In continuos publishing systems there is no big deal but in systems that publish only\n",
    "    once it IS very important.\n",
    "    \"\"\"\n",
    "    while not self.ctrl_c:\n",
    "        connections = self._pub_cmd_vel.get_num_connections()\n",
    "        if connections > 0:\n",
    "            self._pub_cmd_vel.publish(cmd)\n",
    "            rospy.loginfo(\"Publish in cmd_vel...\")\n",
    "            break\n",
    "        else:\n",
    "            self.rate.sleep()\n",
    "            \n",
    "  # function that stops the drone from any movement\n",
    "  def stop_drone(self):\n",
    "    rospy.loginfo(\"Stopping...\")\n",
    "    self._move_msg.linear.x = 0.0\n",
    "    self._move_msg.angular.z = 0.0\n",
    "    self.publish_once_in_cmd_vel(self._move_msg)\n",
    "        \n",
    "  # function that makes the drone turn 90 degrees\n",
    "  def turn_drone(self):\n",
    "    rospy.loginfo(\"Turning...\")\n",
    "    self._move_msg.linear.x = 0.0\n",
    "    self._move_msg.angular.z = 1.0\n",
    "    self.publish_once_in_cmd_vel(self._move_msg)\n",
    "    \n",
    "  # function that makes the drone move forward\n",
    "  def move_forward_drone(self):\n",
    "    rospy.loginfo(\"Moving forward...\")\n",
    "    self._move_msg.linear.x = 1.0\n",
    "    self._move_msg.angular.z = 0.0\n",
    "    self.publish_once_in_cmd_vel(self._move_msg)\n",
    "    \n",
    "  def goal_callback(self, goal):\n",
    "    # this callback is called when the action server is called.\n",
    "    # this is the function that computes the Fibonacci sequence\n",
    "    # and returns the sequence to the node that called the action server\n",
    "    \n",
    "    # helper variables\n",
    "    r = rospy.Rate(1)\n",
    "    success = True\n",
    "    \n",
    "    # define the different publishers and messages that will be used\n",
    "    self._pub_cmd_vel = rospy.Publisher('/cmd_vel', Twist, queue_size=1)\n",
    "    self._move_msg = Twist()\n",
    "    self._pub_takeoff = rospy.Publisher('/drone/takeoff', Empty, queue_size=1)\n",
    "    self._takeoff_msg = Empty()\n",
    "    self._pub_land = rospy.Publisher('/drone/land', Empty, queue_size=1)\n",
    "    self._land_msg = Empty()\n",
    "    \n",
    "    # make the drone takeoff\n",
    "    i=0\n",
    "    while not i == 3:\n",
    "        self._pub_takeoff.publish(self._takeoff_msg)\n",
    "        rospy.loginfo('Taking off...')\n",
    "        time.sleep(1)\n",
    "        i += 1\n",
    "    \n",
    "    # define the seconds to move in each side of the square (which is taken from the goal) and the seconds to turn\n",
    "    sideSeconds = goal.goal\n",
    "    turnSeconds = 1.8\n",
    "    \n",
    "    i = 0\n",
    "    for i in xrange(0, 4):\n",
    "    \n",
    "      # check that preempt (cancelation) has not been requested by the action client\n",
    "      if self._as.is_preempt_requested():\n",
    "        rospy.loginfo('The goal has been cancelled/preempted')\n",
    "        # the following line, sets the client in preempted state (goal cancelled)\n",
    "        self._as.set_preempted()\n",
    "        success = False\n",
    "        # we end the calculation of the Fibonacci sequence\n",
    "        break\n",
    "    \n",
    "      # Logic that makes the robot move forward and turn\n",
    "      self.move_forward_drone()\n",
    "      time.sleep(sideSeconds)\n",
    "      self.turn_drone()\n",
    "      time.sleep(turnSeconds)\n",
    "      \n",
    "      # build and publish the feedback message\n",
    "      self._feedback.feedback = i\n",
    "      self._as.publish_feedback(self._feedback)\n",
    "      # the sequence is computed at 1 Hz frequency\n",
    "      r.sleep()\n",
    "    \n",
    "    # at this point, either the goal has been achieved (success==true)\n",
    "    # or the client preempted the goal (success==false)\n",
    "    # If success, then we publish the final result\n",
    "    # If not success, we do not publish anything in the result\n",
    "    if success:\n",
    "      self._result.result = (sideSeconds*4) + (turnSeconds*4)\n",
    "      rospy.loginfo('The total seconds it took the drone to perform the square was %i' % self._result.result )\n",
    "      self._as.set_succeeded(self._result)\n",
    "        \n",
    "      # make the drone stop and land\n",
    "      self.stop_drone()\n",
    "      i=0\n",
    "      while not i == 3:\n",
    "          self._pub_land.publish(self._land_msg)\n",
    "          rospy.loginfo('Landing...')\n",
    "          time.sleep(1)\n",
    "          i += 1\n",
    "      \n",
    "if __name__ == '__main__':\n",
    "  rospy.init_node('move_square')\n",
    "  MoveSquareClass()\n",
    "  rospy.spin()"
   ]
  },
  {
   "cell_type": "markdown",
   "metadata": {},
   "source": [
    "<p style=\"background:#3B8F10;color:white;\" id=\"prg-2-1\">**END Python File: move_drone_square.py** </p>"
   ]
  },
  {
   "cell_type": "markdown",
   "metadata": {},
   "source": [
    "As you can see, in the above code we are using the seconds to move in each side of the square in order to define if the square will be bigger or smaller. So, for more seconds defined in the goal, the square will be bigger. This could be done in many ways, like checking the odometry to identify the distance the drone is actually moving, but that's quite more complex, and it's not the purpose of the exercise. The purpose of this Exercise is that you learn how to build a proper Action Server, and interact with the goal, feedback and result of the Action."
   ]
  },
  {
   "cell_type": "markdown",
   "metadata": {},
   "source": [
    "In order to test this code, you have to first launch the Action Server (which is defined in the aboce Python file). You can do that by using the following command:"
   ]
  },
  {
   "cell_type": "code",
   "execution_count": null,
   "metadata": {
    "collapsed": true
   },
   "outputs": [],
   "source": [
    "roslaunch exercise_513 move_drone_saquare.launch"
   ]
  },
  {
   "cell_type": "markdown",
   "metadata": {},
   "source": [
    "Now, if you execute the following command:"
   ]
  },
  {
   "cell_type": "code",
   "execution_count": null,
   "metadata": {
    "collapsed": true
   },
   "outputs": [],
   "source": [
    "rostopic list | grep move_drone_square"
   ]
  },
  {
   "cell_type": "markdown",
   "metadata": {},
   "source": [
    "You will see something like this:"
   ]
  },
  {
   "cell_type": "markdown",
   "metadata": {},
   "source": [
    "<img src=\"../img/move_drone_square_as.png\" width=\"600\" />"
   ]
  },
  {
   "cell_type": "markdown",
   "metadata": {},
   "source": [
    "This means you Action Server is up and ready to receive a goal."
   ]
  },
  {
   "cell_type": "markdown",
   "metadata": {},
   "source": [
    "So now, let's publish a goal to this Action Server. You can do this by two methods (as you saw in the Part 1 of the Actions notebooks):"
   ]
  },
  {
   "cell_type": "markdown",
   "metadata": {},
   "source": [
    "* Creating an Action Client\n",
    "* Publishing a goal directly through the action topics"
   ]
  },
  {
   "cell_type": "markdown",
   "metadata": {},
   "source": [
    "For this case, let's use the 2nd method. You should then publish a message to the **move_drone_square_as/goal** topic, just like this:"
   ]
  },
  {
   "cell_type": "markdown",
   "metadata": {},
   "source": [
    "<img src=\"../img/goal_square_sol.png\" width=\"800\" />"
   ]
  },
  {
   "cell_type": "markdown",
   "metadata": {},
   "source": [
    "You will see the drone doing something like this:"
   ]
  },
  {
   "cell_type": "markdown",
   "metadata": {},
   "source": [
    "<img src=\"../img/drone_square_sol.gif\" width=\"600\" />"
   ]
  },
  {
   "cell_type": "markdown",
   "metadata": {},
   "source": [
    "Finally, you can check the **feedback** and **result** topics of the Action, to check if they're publishing the desired values."
   ]
  },
  {
   "cell_type": "code",
   "execution_count": null,
   "metadata": {
    "collapsed": true
   },
   "outputs": [],
   "source": [
    "rostopic echo /move_drone_square_as/feedback"
   ]
  },
  {
   "cell_type": "markdown",
   "metadata": {},
   "source": [
    "<img src=\"../img/feedback_square_sol.png\" width=\"600\" />"
   ]
  },
  {
   "cell_type": "code",
   "execution_count": null,
   "metadata": {
    "collapsed": true
   },
   "outputs": [],
   "source": [
    "rostopic echo /move_drone_square_as/result"
   ]
  },
  {
   "cell_type": "markdown",
   "metadata": {},
   "source": [
    "<img src=\"../img/result_square_sol.png\" width=\"600\" />"
   ]
  }
 ],
 "metadata": {
  "anaconda-cloud": {},
  "kernelspec": {
   "display_name": "Python [Root]",
   "language": "python",
   "name": "Python [Root]"
  },
  "language_info": {
   "codemirror_mode": {
    "name": "ipython",
    "version": 2
   },
   "file_extension": ".py",
   "mimetype": "text/x-python",
   "name": "python",
   "nbconvert_exporter": "python",
   "pygments_lexer": "ipython2",
   "version": "2.7.12"
  }
 },
 "nbformat": 4,
 "nbformat_minor": 1
}
