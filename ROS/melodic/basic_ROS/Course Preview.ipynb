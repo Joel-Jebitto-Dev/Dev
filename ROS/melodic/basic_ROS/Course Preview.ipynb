{
 "cells": [
  {
   "cell_type": "markdown",
   "metadata": {},
   "source": [
    "# ROS IN 5 DAYS"
   ]
  },
  {
   "cell_type": "markdown",
   "metadata": {},
   "source": [
    "# Chapter 0: Introduction"
   ]
  },
  {
   "cell_type": "markdown",
   "metadata": {},
   "source": [
    "<img src=\"img/Banner-ROS-Basics-Ignite-dreams.jpg\" width=\"800\" />"
   ]
  },
  {
   "cell_type": "markdown",
   "metadata": {},
   "source": [
    "## Ignite your robot dreams!"
   ]
  },
  {
   "cell_type": "markdown",
   "metadata": {},
   "source": [
    "Congratulations! You’re on the path to becoming a ROS Developer. \n",
    "\n",
    "The demand for robotics developers is growing, but there are not enough developers with the knowledge to program robots. This is your chance to stand out among the rest of the world’s engineers. If you jump on the wagon of robotics development now, you will have a clear advantage over other developers."
   ]
  },
  {
   "cell_type": "markdown",
   "metadata": {},
   "source": [
    "<img src=\"img/Banner-ROS-Basics-development.jpg\" width=\"800\" />"
   ]
  },
  {
   "cell_type": "markdown",
   "metadata": {},
   "source": [
    "(Further reading: <a href=\"https://www.theconstructsim.com/become-robotics-developer/\" target=\"_blank\">Why programming robots has a big future</a>.)"
   ]
  },
  {
   "cell_type": "markdown",
   "metadata": {},
   "source": [
    "## Why should you take this course?"
   ]
  },
  {
   "cell_type": "markdown",
   "metadata": {},
   "source": [
    "If you want to create the intelligent robot of the future, you need to learn the **robot programming standards**. At present, ROS is the way most service robots are programmed. **ROS is the standard for robotics programming**.\n",
    "\n",
    "**If you want to become a robotics developer, you need to learn ROS**!\n",
    "\n",
    "**If you want to make a difference and create an intelligent robot, you need to learn ROS**."
   ]
  },
  {
   "cell_type": "markdown",
   "metadata": {},
   "source": [
    "### Learning ROS is NOT an easy task"
   ]
  },
  {
   "cell_type": "markdown",
   "metadata": {},
   "source": [
    "We know from our own experience how difficult it is to learn ROS. **It requires a lot of time and effort to learn**. Also, learning from just the ROS official documentation, slides, posts, or videos is very frustrating because you don't get the chance to practice. This is not very helpful for a beginner and can even get you lost.\n",
    "\n",
    "That is why we have created this specific program to help you learn it with more efficiency and depth, but with less trouble.\n",
    "\n",
    "The main purpose of this platform is to help you learn ROS fast, in an easy, intuitive,\n",
    "and practice-based way. **Our method is called 30/70**. You are going to dedicate 30% of the time learning theory and 70% of the time practicing with simulated robots. \n",
    "\n",
    "Let’s see how this method works with your very first exercise."
   ]
  },
  {
   "cell_type": "markdown",
   "metadata": {},
   "source": [
    "## Hands-on right now!"
   ]
  },
  {
   "cell_type": "markdown",
   "metadata": {},
   "source": [
    "Start learning by doing right now. You are going to practice with simple ROS commands, the Linux shell, and the robot simulation. Go ahead!"
   ]
  },
  {
   "cell_type": "markdown",
   "metadata": {},
   "source": [
    "<p style=\"background:#EE9023;color:white;\">**Demo**</p>"
   ]
  },
  {
   "cell_type": "markdown",
   "metadata": {},
   "source": [
    "<img src=\"img/bb8_desert.png\" width=\"800\" />"
   ]
  },
  {
   "cell_type": "markdown",
   "metadata": {},
   "source": [
    "**Execute the following command** in **WebShell number #1** in order to start moving the BB-8 robot around the desert!.\n",
    "\n",
    "WebShells are like Linux shells, but on the web. They are located, by default, at the bottom right section of the screen. You can type Linux commands there."
   ]
  },
  {
   "cell_type": "markdown",
   "metadata": {},
   "source": [
    "<table style=\"float:left;background: #407EAF\">\n",
    "<tr>\n",
    "<th>\n",
    "<p class=\"transparent\">Execute in WebShell #1</p>\n",
    "</th>\n",
    "</tr>\n",
    "</table>"
   ]
  },
  {
   "cell_type": "code",
   "execution_count": null,
   "metadata": {
    "collapsed": true
   },
   "outputs": [],
   "source": [
    "roslaunch bb_8_teleop keyboard_teleop.launch"
   ]
  },
  {
   "cell_type": "markdown",
   "metadata": {},
   "source": [
    "With this command you are executing a simple ROS program which allows you to control the BB-8 robot with your keyboard. Quite interesting, right? Keep reading for further instructions!"
   ]
  },
  {
   "cell_type": "markdown",
   "metadata": {},
   "source": [
    "<table style=\"float:left;background: #407EAF\">\n",
    "<tr>\n",
    "<th>\n",
    "<p style=\"background: #407EAF; color:white\">WebShell #1 Output</p>\n",
    "</th>\n",
    "</tr>\n",
    "</table>"
   ]
  },
  {
   "cell_type": "code",
   "execution_count": null,
   "metadata": {
    "collapsed": true
   },
   "outputs": [],
   "source": [
    "Control Your BB 8!\n",
    "---------------------------\n",
    "Moving around:\n",
    "   u    i    o\n",
    "   j    k    l\n",
    "   m    ,    .\n",
    "\n",
    "q/z : increase/decrease max speeds by 10%\n",
    "w/x : increase/decrease only linear speed by 10%\n",
    "e/c : increase/decrease only angular speed by 10%\n",
    "space key, k : force stop\n",
    "anything else : stop smoothly\n",
    "\n",
    "CTRL-C to quit"
   ]
  },
  {
   "cell_type": "markdown",
   "metadata": {},
   "source": [
    "Now, you can use the keys indicated in the WebShell Output in order to move the robot around. The basic keys are the following:"
   ]
  },
  {
   "cell_type": "markdown",
   "metadata": {},
   "source": [
    "<img src=\"img/keys_move_turtle.png\" width=\"1000\" />"
   ]
  },
  {
   "cell_type": "markdown",
   "metadata": {},
   "source": [
    "Try it!! When you're done, you can press **Ctrl+C** to stop the execution of the program."
   ]
  },
  {
   "cell_type": "markdown",
   "metadata": {},
   "source": [
    "<p style=\"background:#EE9023;color:white;\">**End of Demo**</p>"
   ]
  },
  {
   "cell_type": "markdown",
   "metadata": {},
   "source": [
    "## What you will learn"
   ]
  },
  {
   "cell_type": "markdown",
   "metadata": {},
   "source": [
    "In this ROS BASICS IN 5 DAYS course, you are going to focus 100% on learning what really\n",
    "matters, avoiding all the unnecessary stuff. Also, you are going to practice with robots\n",
    "from the very beginning. No more only listening to long videos of someone talking, or watching very nice videos of a robot doing cool stuff, without learning anything. In this course, you will learn how to interact with robots, and YOU WILL actually DO IT."
   ]
  },
  {
   "cell_type": "markdown",
   "metadata": {},
   "source": [
    "<img src=\"img/Banner-ROS-Basics-robots.jpg\" width=\"800\" />"
   ]
  },
  {
   "cell_type": "markdown",
   "metadata": {},
   "source": [
    "### Main points"
   ]
  },
  {
   "cell_type": "markdown",
   "metadata": {},
   "source": [
    "* You are going to use different robots.\n",
    "* You will have access to our experts to ask them questions in the Forum.\n",
    "* You are going to have our full encouragement and support.\n",
    "* You are going to practice... a lot!"
   ]
  },
  {
   "cell_type": "markdown",
   "metadata": {},
   "source": [
    "It is going to be challenging, but with your perseverance and our guidance, you’re going to succeed and **become one of the few robotics developers in the world!** \n",
    "\n",
    "The robots of the future are waiting for you :). Welcome to the new adventure!"
   ]
  }
 ],
 "metadata": {
  "anaconda-cloud": {},
  "kernelspec": {
   "display_name": "Python [Root]",
   "language": "python",
   "name": "Python [Root]"
  },
  "language_info": {
   "codemirror_mode": {
    "name": "ipython",
    "version": 2
   },
   "file_extension": ".py",
   "mimetype": "text/x-python",
   "name": "python",
   "nbconvert_exporter": "python",
   "pygments_lexer": "ipython2",
   "version": "2.7.12"
  },
  "latex_metadata": {
   "chapter": "0 - Course Preview",
   "chapter_title": "Chapter 0. Course Preview",
   "course_title": "ROS BASICS IN 5 DAYS"
  }
 },
 "nbformat": 4,
 "nbformat_minor": 1
}
