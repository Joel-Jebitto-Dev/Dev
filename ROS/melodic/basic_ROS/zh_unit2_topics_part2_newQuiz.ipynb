{
 "cells": [
  {
   "cell_type": "markdown",
   "metadata": {},
   "source": [
    "# <font class='ign_color'>5天学ROS</font>"
   ]
  },
  {
   "cell_type": "markdown",
   "metadata": {},
   "source": [
    "# Unit 2: 主题"
   ]
  },
  {
   "cell_type": "markdown",
   "metadata": {
    "caption": "Kobuki",
    "image": true,
    "name": "kobuki_wall",
    "width": "15cm"
   },
   "source": [
    "<img src=\"img/kobuki_wall.png\" width=\"800\"/>"
   ]
  },
  {
   "cell_type": "markdown",
   "metadata": {},
   "source": [
    "<b>预计完成时间:</b> 2.5 hours\n",
    "<br><br>\n",
    "<b>你将从本单元学到：</b>\n",
    "\n",
    "* 什么是订阅器？如何创建一个消息订阅器？\n",
    "* 如何创建自己的消息？"
   ]
  },
  {
   "cell_type": "markdown",
   "metadata": {
    "caption": "Kobuki Robot",
    "image": true,
    "name": "kobuki",
    "width": "7cm"
   },
   "source": [
    "<img src=\"img/kobuki.jpg\" width=\"212\" height=\"236\" />"
   ]
  },
  {
   "cell_type": "markdown",
   "metadata": {},
   "source": [
    "## Part 2: 订阅器"
   ]
  },
  {
   "cell_type": "markdown",
   "metadata": {},
   "source": [
    "通过前面的学习，你已经知道主题是节点发布或读取信息的通道，你还知道可以使用发布器向主题发布数据。那么，是否也有类似的工具可以实现从一个主题读取信息的功能？ 答案是肯定的！该工具叫做订阅器。 <b>订阅器是一个从某一主题读取信息的节点</b>。\n",
    "让我们运行下面的代码："
   ]
  },
  {
   "cell_type": "markdown",
   "metadata": {},
   "source": [
    "<p style=\"background:#407EAF;color:white\">**例2.2**</p><br>\n",
    "点击IPython notebook右上角的“play”按钮运行下面的Python代码 <a href=\"#prg-2-2\">simple_topic_subscriber.py</a> <br> \n",
    "<div class='white_bg'><img src=\"img/font-awesome_step-forward.png\" style=\"float:left\"/><br><br></div>\n",
    "<br><br>\n",
    "也可以按下 **[CTRL]+[Enter]** 键运行它。"
   ]
  },
  {
   "cell_type": "markdown",
   "metadata": {},
   "source": [
    "<p style=\"background:#407EAF;color:white\">**例2.2结束**</p>"
   ]
  },
  {
   "cell_type": "markdown",
   "metadata": {},
   "source": [
    "<p style=\"background:#3B8F10;color:white;\" id=\"prg-2-2\">**Python 程序 {2.2}: simple_topic_subscriber.py** </p><br>"
   ]
  },
  {
   "cell_type": "code",
   "execution_count": null,
   "metadata": {
    "collapsed": true
   },
   "outputs": [],
   "source": [
    "#! /usr/bin/env python\n",
    "\n",
    "import rospy\n",
    "from std_msgs.msg import Int32 \n",
    "\n",
    "def callback(msg): \n",
    "  print msg.data\n",
    "\n",
    "rospy.init_node('topic_subscriber')\n",
    "sub = rospy.Subscriber('counter', Int32, callback)\n",
    "rospy.spin()"
   ]
  },
  {
   "cell_type": "markdown",
   "metadata": {},
   "source": [
    "<p style=\"background:#3B8F10;color:white;\">**Python程序 {2.2}: simple_topic_subscriber.py结束** </p><br>"
   ]
  },
  {
   "cell_type": "markdown",
   "metadata": {},
   "source": [
    "发生了什么？ 还是什么都没发生？事实并非如此...我们检查一下吧。"
   ]
  },
  {
   "cell_type": "markdown",
   "metadata": {},
   "source": [
    "在你的WebShell输入下面的指令："
   ]
  },
  {
   "cell_type": "markdown",
   "metadata": {},
   "source": [
    "<table style=\"float:left;background: #407EAF\">\n",
    "<tr>\n",
    "<th>\n",
    "<p class=\"transparent\">在WebShell #1运行</p>\n",
    "</th>\n",
    "</tr>\n",
    "</table>"
   ]
  },
  {
   "cell_type": "code",
   "execution_count": null,
   "metadata": {
    "collapsed": true
   },
   "outputs": [],
   "source": [
    "rostopic echo /counter"
   ]
  },
  {
   "cell_type": "markdown",
   "metadata": {},
   "source": [
    "你会看到类似下面的输出："
   ]
  },
  {
   "cell_type": "markdown",
   "metadata": {},
   "source": [
    "<table class=\"transparent float_l\">\n",
    "<tr>\n",
    "<th>\n",
    "<p style=\"background: #407EAF\">WebShell #1 输出</p>\n",
    "</th>\n",
    "</tr>\n",
    "</table>"
   ]
  },
  {
   "cell_type": "code",
   "execution_count": null,
   "metadata": {
    "collapsed": true
   },
   "outputs": [],
   "source": [
    "user ~ $ rostopic echo /counter\n",
    "WARNING: no messages received and simulated time is active.\n",
    "Is /clock being published?"
   ]
  },
  {
   "cell_type": "markdown",
   "metadata": {},
   "source": [
    "这是什么意思？这意味着 **没有人向/counter主题发布消息**, 因此没有信息可以读取。接下来，让我们向该主题发布一些信息，看看会发生什么。实现该功能需要一个新的命令："
   ]
  },
  {
   "cell_type": "code",
   "execution_count": null,
   "metadata": {
    "collapsed": true
   },
   "outputs": [],
   "source": [
    "rostopic pub <topic_name> <message_type> <value>"
   ]
  },
  {
   "cell_type": "markdown",
   "metadata": {},
   "source": [
    "该命令将向指定的主题发布具有特定数据的特定类型的消息。"
   ]
  },
  {
   "cell_type": "markdown",
   "metadata": {},
   "source": [
    "打开另一个webshell (使运行 **_rostopic echo_** 的WebShell保持运行状态) ，输入如下命令："
   ]
  },
  {
   "cell_type": "markdown",
   "metadata": {},
   "source": [
    "<table style=\"float:left;background: #407EAF\">\n",
    "<tr>\n",
    "<th>\n",
    "<p class=\"transparent\">在WebShell #2运行</p>\n",
    "</th>\n",
    "</tr>\n",
    "</table>"
   ]
  },
  {
   "cell_type": "code",
   "execution_count": null,
   "metadata": {
    "collapsed": true
   },
   "outputs": [],
   "source": [
    "rostopic pub /counter std_msgs/Int32 5"
   ]
  },
  {
   "cell_type": "markdown",
   "metadata": {},
   "source": [
    "现在，查看运行**_rostopic echo_** 的WebShell输出，你会看到类似下面的信息："
   ]
  },
  {
   "cell_type": "markdown",
   "metadata": {},
   "source": [
    "<table class=\"transparent float_l\">\n",
    "<tr>\n",
    "<th>\n",
    "<p style=\"background: #407EAF\">WebShell #1 输出</p>\n",
    "</th>\n",
    "</tr>\n",
    "</table>"
   ]
  },
  {
   "cell_type": "code",
   "execution_count": null,
   "metadata": {
    "collapsed": true
   },
   "outputs": [],
   "source": [
    "user ~ $ rostopic echo /counter\n",
    "WARNING: no messages received and simulated time is active.\n",
    "Is /clock being published?\n",
    "data:\n",
    "5\n",
    "---"
   ]
  },
  {
   "cell_type": "markdown",
   "metadata": {},
   "source": [
    "这表明你发布的数据已被你的订阅器程序（该数据值打印在屏幕上）接收。"
   ]
  },
  {
   "cell_type": "markdown",
   "metadata": {},
   "source": [
    "现在，查看你刚才在IPython notebook运行的代码输出，你会看到类似下面的信息："
   ]
  },
  {
   "cell_type": "markdown",
   "metadata": {
    "caption": "Notebook Output",
    "image": true,
    "name": "ipython_output",
    "width": "6cm"
   },
   "source": [
    "<img src=\"img/ipython_output.png\" />"
   ]
  },
  {
   "cell_type": "markdown",
   "metadata": {},
   "source": [
    "首先对运行的代码进行解释："
   ]
  },
  {
   "cell_type": "code",
   "execution_count": null,
   "metadata": {
    "collapsed": true
   },
   "outputs": [],
   "source": [
    "#! /usr/bin/env python\n",
    "\n",
    "import rospy                                          \n",
    "from std_msgs.msg import Int32 \n",
    "\n",
    "def callback(msg):                                    # 定义一个名为callback的函数用来接收msg参数\n",
    "  \n",
    "    print msg.data                                    # 输出\"msg\"参数中的\"data\"值\n",
    "\n",
    "rospy.init_node('topic_subscriber')                   # 初始化一个名为'topic_subscriber'的节点\n",
    "\n",
    "sub = rospy.Subscriber('/counter', Int32, callback)   # 创建一个订阅器对象，监听/counter主题。每当从该主题读取到消息时，调用\"callback\"函数\n",
    "                                                      \n",
    "                                                      \n",
    "rospy.spin()                                          # 创建一个使程序保持运行的循环。"
   ]
  },
  {
   "cell_type": "markdown",
   "metadata": {},
   "source": [
    "现在，我们可以解释发生了什么。概括来说，你创建了一个订阅器对象来监听/counter主题。每当它从该主题读取到消息时，它就调用一个打印msg的函数。刚开始时，由于没有向/counter主题发布消息，所以它什么都没做。当你运行<i>rostopic pub</i>命令后，你向/counter主题发布了一条消息，因此该订阅器在IPython的输出中打印了该消息中的数值，你还可以在 <i>rostopic echo</i>的输出中看到该消息。\n",
    "一切都解释通了，对不？"
   ]
  },
  {
   "cell_type": "markdown",
   "metadata": {},
   "source": [
    "接下来，让我们做一些练习，实践一下刚刚学过的内容！"
   ]
  },
  {
   "cell_type": "markdown",
   "metadata": {},
   "source": [
    "<p id=\"ex-2.2\" style=\"background:#EE9023;color:white;\">**练习2.2**</p><br>\n",
    "创建一个启动该代码的功能包。修改代码，以便能够打印机器人里程计的数据。<br>\n",
    "<p style=\"background:#3B8F10;color:white;\">**练习2.2数据**</p><br>\n",
    "<ol>\n",
    "<li><font class='ign_green'><b>机器人里程计数据由机器人发布到 <i>/odom</i> 主题。</b></font></li>\n",
    "<li><font class='ign_green'><b>你需要考虑一下哪些消息使用<i>/odom</i>主题, 该消息的结构是什么。</b></font></li>\n",
    "</ol>"
   ]
  },
  {
   "cell_type": "markdown",
   "metadata": {},
   "source": [
    "<p id=\"ex-2.2\" style=\"background:#EE9023;color:white;\">**练习2.2结束**</p>"
   ]
  },
  {
   "cell_type": "markdown",
   "metadata": {},
   "source": [
    "<p style=\"background:green;color:white;\">练习2.2解决方案</p>"
   ]
  },
  {
   "cell_type": "markdown",
   "metadata": {},
   "source": [
    "请尽量独自完成，除非你陷入困境或需要一些灵感。如果每一个练习你都认真对待的话，你会学到更多！"
   ]
  },
  {
   "cell_type": "markdown",
   "metadata": {},
   "source": [
    "<img src=\"img/robotignite_logo_text.png\"/>"
   ]
  },
  {
   "cell_type": "markdown",
   "metadata": {},
   "source": [
    "按照下面的链接打开解决方案笔记本:[Topics Part2 Solutions](extra_files/zh_unit2_topics_part2_solutions.ipynb)"
   ]
  },
  {
   "cell_type": "markdown",
   "metadata": {},
   "source": [
    "<p style=\"background:green;color:white;\">练习2.2解决方案结束</p>"
   ]
  },
  {
   "cell_type": "markdown",
   "metadata": {},
   "source": [
    "<p style=\"background:#EE9023;color:white;\">**练习2.3**</p><br>\n",
    "\n",
    "1. 向 <a href=\"#ex-2.2\">{Exercice 2.2}</a>中添加一个Python文件，用来创建一个表示机器人年龄的发布器<br>\n",
    "2. 首先，你需要创建一个名为 **Age.msg** 的新消息。不知道怎么做的话，请看一下这里的详细描述 <a href=\"#custom_topic_compilation\"> 如何准备CMakeLists.txt和package.xml 来进行自定义主题和消息的编译？</a>"
   ]
  },
  {
   "cell_type": "markdown",
   "metadata": {},
   "source": [
    "<p id=\"ex-2.2\" style=\"background:#EE9023;color:white;\">**练习2.3结束**</p>"
   ]
  },
  {
   "cell_type": "markdown",
   "metadata": {},
   "source": [
    "<p style=\"background:green;color:white;\">练习2.3解决方案</p>"
   ]
  },
  {
   "cell_type": "markdown",
   "metadata": {},
   "source": [
    "请尽量独自完成，除非你陷入困境或需要一些灵感。如果每一个练习你都认真对待的话，你会学到更多！"
   ]
  },
  {
   "cell_type": "markdown",
   "metadata": {},
   "source": [
    "<img src=\"img/robotignite_logo_text.png\"/>"
   ]
  },
  {
   "cell_type": "markdown",
   "metadata": {},
   "source": [
    "按照下面的链接打开解决方案笔记本::[Topics Part2 Solutions](extra_files/unit2_topics_part2_solutions.ipynb)"
   ]
  },
  {
   "cell_type": "markdown",
   "metadata": {},
   "source": [
    "<p style=\"background:green;color:white;\">练习2.3解决方案结束</p>"
   ]
  },
  {
   "cell_type": "markdown",
   "metadata": {},
   "source": [
    "<div id=\"custom_topic_compilation\"></div>"
   ]
  },
  {
   "cell_type": "markdown",
   "metadata": {},
   "source": [
    "## 如何准备CMakeLists.txt和package.xml 来进行自定义主题和消息的编译？"
   ]
  },
  {
   "cell_type": "markdown",
   "metadata": {},
   "source": [
    "现在你可能会想，如果我需要发布一些其他类型的数据（非int32），我该使用什么类型的消息？\n",
    "你可以使用ROS定义的所有消息(<i>**rosmsg list**</i>) 。如果这些消息都不能满足你的需要，你可以自己创建一个新的。"
   ]
  },
  {
   "cell_type": "markdown",
   "metadata": {},
   "source": [
    "创建一个新消息的步骤如下：\n",
    "\n",
    "1. 在你的功能包中创建一个名为\"msg\"的目录\n",
    "2. 在该目录中，创建一个名为Name_of_your_message.msg的文件（详见下面）\n",
    "3. 修改 CMakeLists.txt 文件 (详见下面)\n",
    "4. 修改Modify package.xml 文件 (详见下面)\n",
    "5. 编译\n",
    "6. 在程序中使用该消息\n"
   ]
  },
  {
   "cell_type": "markdown",
   "metadata": {},
   "source": [
    "例如，我们创建一个用年月日表示年龄的消息"
   ]
  },
  {
   "cell_type": "markdown",
   "metadata": {},
   "source": [
    "1) 在你的功能包中创建一个名为\"msg\"的目录"
   ]
  },
  {
   "cell_type": "code",
   "execution_count": null,
   "metadata": {
    "collapsed": true
   },
   "outputs": [],
   "source": [
    "roscd <package_name>\n",
    "mkdir msg"
   ]
  },
  {
   "cell_type": "markdown",
   "metadata": {},
   "source": [
    "2)  <b>Age.msg</b> 文件内容如下："
   ]
  },
  {
   "cell_type": "code",
   "execution_count": null,
   "metadata": {
    "collapsed": true
   },
   "outputs": [],
   "source": [
    "float32 years\n",
    "float32 months\n",
    "float32 days"
   ]
  },
  {
   "cell_type": "markdown",
   "metadata": {},
   "source": [
    "3) <b>In CMakeLists.txt</b>"
   ]
  },
  {
   "cell_type": "markdown",
   "metadata": {},
   "source": [
    "编辑CMakeLists.txt中的四个函数，如下：\n",
    "\n",
    "* <span class=\"ign_green\"><a href=\"#find_package\">find_package()</a></span>\n",
    "* <span class=\"ign_green\"><a href=\"#add_message_files\">add_message_files()</a></span>\n",
    "* <span class=\"ign_green\"><a href=\"#generate_messages\">generate_messages()</a></span>\n",
    "* <span class=\"ign_green\"><a href=\"#catkin_package\">catkin_package()</a></span>\n"
   ]
  },
  {
   "cell_type": "markdown",
   "metadata": {},
   "source": [
    "### <span style=\"color: green;\" id=\"find_package\">I. find_package()</span>"
   ]
  },
  {
   "cell_type": "markdown",
   "metadata": {},
   "source": [
    "为了编译主题、服务和行为的消息，所有功能包都需要该函数。\n",
    "在package.xml, 你必须把它们声明为 <b>build_depend</b>.\n"
   ]
  },
  {
   "cell_type": "markdown",
   "metadata": {},
   "source": [
    "<font class='ign_green'><b>提示 1: 如果你在IDE中打开CMakeLists.txt文件，你会发现该文件几乎都被注释了起来，其中包含了一些你需要修改的代码。如果不想拷贝和粘贴，你可以在文件中找到下面的代码并去掉前面的注释，然后把缺失的部分代码添加进去。</b></font>"
   ]
  },
  {
   "cell_type": "code",
   "execution_count": null,
   "metadata": {
    "collapsed": true
   },
   "outputs": [],
   "source": [
    "find_package(catkin REQUIRED COMPONENTS\n",
    "       rospy\n",
    "       std_msgs\n",
    "       message_generation   # 这里添加 message_generation,在其他功能包的后面 \n",
    ")"
   ]
  },
  {
   "cell_type": "markdown",
   "metadata": {},
   "source": [
    "### <span style=\"color: green;\" id=\"add_message_files\">II. add_message_files()</span>"
   ]
  },
  {
   "cell_type": "markdown",
   "metadata": {},
   "source": [
    "该函数包含了该功能包所要编译的全部消息（在msg文件夹中）。该文件看起来是这样的："
   ]
  },
  {
   "cell_type": "code",
   "execution_count": null,
   "metadata": {
    "collapsed": true
   },
   "outputs": [],
   "source": [
    "add_message_files(\n",
    "      FILES\n",
    "      Age.msg\n",
    "    ) # 别忘了去掉括号和add_message_files前面的注释符号"
   ]
  },
  {
   "cell_type": "markdown",
   "metadata": {},
   "source": [
    "### <span style=\"color: green;\" id=\"generate_messages\">III. generate_messages()</span>"
   ]
  },
  {
   "cell_type": "markdown",
   "metadata": {},
   "source": [
    "导入消息编译需要的功能包"
   ]
  },
  {
   "cell_type": "code",
   "execution_count": null,
   "metadata": {
    "collapsed": true
   },
   "outputs": [],
   "source": [
    "generate_messages(\n",
    "      DEPENDENCIES\n",
    "      std_msgs\n",
    ") # 别忘了去掉前面的注释"
   ]
  },
  {
   "cell_type": "markdown",
   "metadata": {},
   "source": [
    "### <span style=\"color: green;\" id=\"catkin_package\">IV. catkin_package()</span>"
   ]
  },
  {
   "cell_type": "markdown",
   "metadata": {},
   "source": [
    "这里声明所有需要的功能包。 这里声明的所有功能包必须在package.xml设置为<b>run_depend</b>。"
   ]
  },
  {
   "cell_type": "code",
   "execution_count": null,
   "metadata": {
    "collapsed": true
   },
   "outputs": [],
   "source": [
    "catkin_package(\n",
    "      CATKIN_DEPENDS rospy message_runtime   # This will NOT be the only thing here\n",
    ")"
   ]
  },
  {
   "cell_type": "markdown",
   "metadata": {},
   "source": [
    "这是最小的**CMakelists.txt** 文件。"
   ]
  },
  {
   "cell_type": "markdown",
   "metadata": {},
   "source": [
    "<p style=\"color: red;\"><b>注: </b>注意下面例子中功能包的名称为<b>topic_ex</b>, 你的功能包的名称可能不同。</p>"
   ]
  },
  {
   "cell_type": "code",
   "execution_count": null,
   "metadata": {
    "collapsed": true
   },
   "outputs": [],
   "source": [
    "cmake_minimum_required(VERSION 2.8.3)\n",
    "project(topic_ex)\n",
    "\n",
    "\n",
    "find_package(catkin REQUIRED COMPONENTS\n",
    "  std_msgs\n",
    "  message_generation\n",
    ")\n",
    "\n",
    "add_message_files(\n",
    "  FILES\n",
    "  Age.msg\n",
    ")\n",
    "\n",
    "generate_messages(\n",
    "  DEPENDENCIES\n",
    "  std_msgs\n",
    ")\n",
    "\n",
    "\n",
    "catkin_package(\n",
    "  CATKIN_DEPENDS rospy message_runtime\n",
    ")\n",
    "\n",
    "include_directories(\n",
    "  ${catkin_INCLUDE_DIRS}\n",
    ")"
   ]
  },
  {
   "cell_type": "markdown",
   "metadata": {},
   "source": [
    "4) <b>修改package.xml</b>"
   ]
  },
  {
   "cell_type": "markdown",
   "metadata": {},
   "source": [
    "将下面两行代码添加到package.xml文件中。"
   ]
  },
  {
   "cell_type": "code",
   "execution_count": null,
   "metadata": {
    "collapsed": true
   },
   "outputs": [],
   "source": [
    "<build_depend>message_generation</build_depend> \n",
    "<run_depend>message_runtime</run_depend>"
   ]
  },
  {
   "cell_type": "markdown",
   "metadata": {},
   "source": [
    "这是最小的package.xml文件。"
   ]
  },
  {
   "cell_type": "markdown",
   "metadata": {},
   "source": [
    "<p style=\"color: red;\"><b>注: </b>注意下面例子中功能包的名称为<b>topic_ex</b>, 你的功能包的名称可能不同。</p>"
   ]
  },
  {
   "cell_type": "code",
   "execution_count": null,
   "metadata": {
    "collapsed": true
   },
   "outputs": [],
   "source": [
    "<?xml version=\"1.0\"?>\n",
    "<package>\n",
    "  <name>topic_ex</name>\n",
    "  <version>0.0.0</version>\n",
    "  <description>The topic_ex package</description>\n",
    "\n",
    "\n",
    "  <maintainer email=\"user@todo.todo\">user</maintainer>\n",
    "\n",
    "  <license>TODO</license>\n",
    "\n",
    " <buildtool_depend>catkin</buildtool_depend>\n",
    "  <build_depend>rospy</build_depend>\n",
    "  <build_depend>message_generation</build_depend> \n",
    "  <run_depend>rospy</run_depend>\n",
    "  <run_depend>message_runtime</run_depend>\n",
    "\n",
    "  <export>\n",
    "\n",
    "  </export>\n",
    "</package>"
   ]
  },
  {
   "cell_type": "markdown",
   "metadata": {},
   "source": [
    "5) 现在编译该msg文件。在WebShell输入："
   ]
  },
  {
   "cell_type": "markdown",
   "metadata": {},
   "source": [
    "<table style=\"float:left;background: #407EAF\">\n",
    "<tr>\n",
    "<th>\n",
    "<p class=\"transparent\">在WebShell #1运行</p>\n",
    "</th>\n",
    "</tr>\n",
    "</table>"
   ]
  },
  {
   "cell_type": "code",
   "execution_count": null,
   "metadata": {
    "collapsed": true
   },
   "outputs": [],
   "source": [
    "roscd; cd ..\n",
    "catkin_make\n",
    "source devel/setup.bash"
   ]
  },
  {
   "cell_type": "markdown",
   "metadata": {},
   "source": [
    "<span style=\"color: red;\">\n",
    "**非常重要**: 当你编译新的消息时，使用这些消息之前还有一个额外的步骤。你必须在WebShell中切换到 **catkin_ws** 目录，然后输入命令 **<i>source devel/setup.bash</i>**。 <br><br>该命令运行bash文件，设置通过catkin_make创建的新消息。<br><br>\n",
    "如果不这样做，可能会出现python导入错误，说找不到生成的消息。\n",
    "</span>"
   ]
  },
  {
   "cell_type": "markdown",
   "metadata": {},
   "source": [
    "<font class='ign_green'><b>提示 2:要验证消息是否创建成功，在你的WebShell输入 <i>rosmsg show Age</i>。如果出现Age消息的结构，表明你的消息创建成功，可在ROS程序中使用它。</b></font>"
   ]
  },
  {
   "cell_type": "markdown",
   "metadata": {},
   "source": [
    "<table style=\"float:left;background: #407EAF\">\n",
    "<tr>\n",
    "<th>\n",
    "<p class=\"transparent\">在WebShell #1运行</p>\n",
    "</th>\n",
    "</tr>\n",
    "</table>"
   ]
  },
  {
   "cell_type": "code",
   "execution_count": null,
   "metadata": {
    "collapsed": true
   },
   "outputs": [],
   "source": [
    "rosmsg show Age"
   ]
  },
  {
   "cell_type": "markdown",
   "metadata": {},
   "source": [
    "<table class=\"transparent float_l\">\n",
    "<tr>\n",
    "<th>\n",
    "<p style=\"background: #407EAF\">WebShell #1 输出</p>\n",
    "</th>\n",
    "</tr>\n",
    "</table>"
   ]
  },
  {
   "cell_type": "code",
   "execution_count": null,
   "metadata": {
    "collapsed": true
   },
   "outputs": [],
   "source": [
    "user ~ $ rosmsg show Age\n",
    "[topic_ex/Age]:\n",
    "float32 years\n",
    "float32 months\n",
    "float32 days"
   ]
  },
  {
   "cell_type": "markdown",
   "metadata": {},
   "source": [
    "<table style=\"float:left;\" class=\"transparent\">\n",
    "<tr>\n",
    "<th>\n",
    "<p style=\"background: orange\">**警告**</p><br>\n",
    "当从msg目录导入msgs文件时，ROS中可能会出现一个问题。如果你的功能包名称与导入msg的Python文件名相同，将会出现错误，提示找不到msg。这是由Python的工作方式导致的。因此，你需要注意，避免Python文件和它所在的功能包的名称相同。<br><br>\n",
    "Example:<br>\n",
    "Package name = \"my_package\"\n",
    "<br>\n",
    "Python file name = \"my_package.py\"\n",
    "<br><br>\n",
    "这将会出现导入错误，因为它试图从<span style=\"color:orange\">一个不存在的目录中的my_package.py文件导入消息。\n",
    "</th>\n",
    "</tr>\n",
    "</table>\n",
    "<br>"
   ]
  },
  {
   "cell_type": "markdown",
   "metadata": {
    "collapsed": true
   },
   "source": [
    "## 关于主题的mini项目"
   ]
  },
  {
   "cell_type": "markdown",
   "metadata": {
    "caption": "Tultlebot2",
    "image": true,
    "name": "topics_mini_project",
    "width": "10cm"
   },
   "source": [
    "<img src=\"img/topics_mini_project.png\" width=\"500\"></img>"
   ]
  },
  {
   "cell_type": "markdown",
   "metadata": {},
   "source": [
    "学习了前面的知识，你现在可以通过一个小项目把它们融会贯通。订阅器，发布器，消息...，你需要用到所有这些概念才能成功！"
   ]
  },
  {
   "cell_type": "markdown",
   "metadata": {},
   "source": [
    "该项目中，你将创建一个程序，使机器人躲开位于它前面的墙壁。为了顺利完成该项目，我们可以将其分解成如下较小的任务：\n",
    "\n",
    "1. 创建一个发布器，向/cmd_vel主题发布消息，使机器人移动。\n",
    "2. 创建一个订阅器，从 /kobuki/laser/scan 主题读取数据。激光扫描仪通过该主题发布其数据。\n",
    "3. 根据从激光扫描仪主题接收的数据，更改发送给/cmd_vel主题的数据，从而避开撞到墙上。这意味着，是否躲避取决于激光扫描仪发布的数据。"
   ]
  },
  {
   "cell_type": "markdown",
   "metadata": {},
   "source": [
    "<font class='ign_green'><b>提示 1:发布到/kobuki/laser/scan主题的数据结构很大。对于该项目而言，你只需要注意'ranges' 数组即可。</b></font>"
   ]
  },
  {
   "cell_type": "markdown",
   "metadata": {},
   "source": [
    "<table style=\"float:left;background: #407EAF\">\n",
    "<tr>\n",
    "<th>\n",
    "<p class=\"transparent\">在WebShell #1运行</p>\n",
    "</th>\n",
    "</tr>\n",
    "</table>"
   ]
  },
  {
   "cell_type": "code",
   "execution_count": null,
   "metadata": {
    "collapsed": true
   },
   "outputs": [],
   "source": [
    "rosmsg show sensor_msgs/LaserScan"
   ]
  },
  {
   "cell_type": "markdown",
   "metadata": {},
   "source": [
    "<table class=\"transparent float_l\">\n",
    "<tr>\n",
    "<th>\n",
    "<p style=\"background: #407EAF\">WebShell #1 输出</p>\n",
    "</th>\n",
    "</tr>\n",
    "</table>"
   ]
  },
  {
   "cell_type": "code",
   "execution_count": null,
   "metadata": {
    "collapsed": true
   },
   "outputs": [],
   "source": [
    "user ~ $ rosmsg show sensor_msgs/LaserScan\n",
    "std_msgs/Header header\n",
    "  uint32 seq\n",
    "  time stamp\n",
    "  string frame_id\n",
    "float32 angle_min\n",
    "float32 angle_max\n",
    "float32 angle_increment\n",
    "float32 time_increment\n",
    "float32 scan_time\n",
    "float32 range_min\n",
    "float32 range_max\n",
    "float32[] ranges <-- Use only this one\n",
    "float32[] intensities"
   ]
  },
  {
   "cell_type": "markdown",
   "metadata": {},
   "source": [
    "<font class='ign_green'><b>提示 2:  'ranges'数组有很多值。数组中间的那些值表示激光扫描仪检测到的前方障碍物的距离。也就是说，数组中间的值用来检测墙壁到机器人的距离。因此，为了躲避墙壁，你只需要读取这些值即可。</b></font>"
   ]
  },
  {
   "cell_type": "markdown",
   "metadata": {},
   "source": [
    "<font class='ign_green'><b>提示 3: 激光扫描仪的探测距离是30m。当你读取的值在30左右时，表示激光扫描仪什么都没探测到。如果读取的值小于30，表示激光扫描仪在正前方探测到障碍物（比如墙）。</b></font>"
   ]
  },
  {
   "cell_type": "markdown",
   "metadata": {},
   "source": [
    "<font class='ign_green'><b>提示 4: 激光扫描仪的探测范围从右到左约为180度。这意味着'ranges'数组的首值和末值分别对应于激光扫描仪最左侧和最右侧的读数，数组的中间对应于激光扫描仪正前方的值。</b></font>"
   ]
  },
  {
   "cell_type": "markdown",
   "metadata": {},
   "source": [
    "<p style=\"background:green;color:white;\">Mini Project解决方案</p>"
   ]
  },
  {
   "cell_type": "markdown",
   "metadata": {},
   "source": [
    "请尽量独自完成，除非你陷入困境或需要一些灵感。如果每一个练习你都认真对待的话，你会学到更多！"
   ]
  },
  {
   "cell_type": "markdown",
   "metadata": {},
   "source": [
    "<img src=\"img/robotignite_logo_text.png\"/>"
   ]
  },
  {
   "cell_type": "markdown",
   "metadata": {},
   "source": [
    "按照下面的链接打开解决方案笔记本：[Topics Part2 Solutions](extra_files/unit2_topics_part2_solutions.ipynb)"
   ]
  },
  {
   "cell_type": "markdown",
   "metadata": {},
   "source": [
    "<p style=\"background:green;color:white;\">Mini Project解决方案结束</p>"
   ]
  },
  {
   "cell_type": "markdown",
   "metadata": {},
   "source": [
    "## 更多的学习材料"
   ]
  },
  {
   "cell_type": "markdown",
   "metadata": {},
   "source": [
    "ROS 主题: http://wiki.ros.org/Topics\n",
    "\n",
    "\n",
    "ROS 消息: http://wiki.ros.org/Messages\n",
    "\n",
    "\n",
    "msg 文件: http://wiki.ros.org/msg\n",
    "\n",
    "\n",
    "发布器和订阅器 1: http://wiki.ros.org/ROS/Tutorials/WritingPublisherSubscriber%28python%29\n",
    "\n",
    "\n",
    "发布器和订阅器 2: http://wiki.ros.org/ROS/Tutorials/ExaminingPublisherSubscriber"
   ]
  }
 ],
 "metadata": {
  "anaconda-cloud": {},
  "kernelspec": {
   "display_name": "Python 3",
   "language": "python",
   "name": "python3"
  },
  "language_info": {
   "codemirror_mode": {
    "name": "ipython",
    "version": 3
   },
   "file_extension": ".py",
   "mimetype": "text/x-python",
   "name": "python",
   "nbconvert_exporter": "python",
   "pygments_lexer": "ipython3",
   "version": "3.6.4"
  },
  "latex_metadata": {
   "chapter": "2 - Topics",
   "chapter_title": "Unit 2. Topics Part 2",
   "course_title": "ROS BASICS IN 5 DAYS"
  }
 },
 "nbformat": 4,
 "nbformat_minor": 1
}
