{
 "cells": [
  {
   "cell_type": "markdown",
   "metadata": {},
   "source": [
    "# 5天学ROS"
   ]
  },
  {
   "cell_type": "markdown",
   "metadata": {},
   "source": [
    "# Unit 0 课程预览"
   ]
  },
  {
   "cell_type": "markdown",
   "metadata": {
    "caption": "Kobuki",
    "image": true,
    "name": "kobuki_header",
    "width": "10cm"
   },
   "source": [
    "<img src=\"img/kobuki_header.png\" width=\"800\"></img>"
   ]
  },
  {
   "cell_type": "markdown",
   "metadata": {},
   "source": [
    "<p style=\"background:green;color:white;\">**概要**</p>"
   ]
  },
  {
   "cell_type": "code",
   "execution_count": null,
   "metadata": {},
   "outputs": [],
   "source": [
    "预计完成时间: <b>10分钟</b><br><br>\n",
    "该单元是“5天学ROS”课程的预览。通过该课程每一部分内容的介绍以及一些简单的实例，你会对该课程教将要学习的内容有个大概的了解。"
   ]
  },
  {
   "cell_type": "markdown",
   "metadata": {},
   "source": [
    "<p style=\"background:green;color:white;\">**概要结束**</p>"
   ]
  },
  {
   "cell_type": "markdown",
   "metadata": {},
   "source": [
    "你需要学习ROS，你希望快速掌握它，对不？我猜想这是你来这里学习该课程的原因。不用担心，我保证课程结束后，你会感觉你能用你的机器人做任何事情。但是，你必须得有思想准备，通向成功的道路不会一帆风顺，你必须得尽力！\n",
    "<br><br>\n",
    "本单元只是对该课程所涵盖的不同单元进行简单的介绍，并不打算在30分钟内教你掌握ROS。它没有那么简单！学习完本单元后，你会对该课程将要学的主要内容有个大概的了解。 学习完该课程的所有章节内容后，你才能学会怎么对机器人编程。\n",
    "<br>\n",
    "为了对任何机器人进行编程，你需要学什么？看一下该单元的内容，你就会明白！"
   ]
  },
  {
   "cell_type": "markdown",
   "metadata": {},
   "source": [
    "## 需要学什么才能使用ROS对机器人进行编程？"
   ]
  },
  {
   "cell_type": "markdown",
   "metadata": {},
   "source": [
    "### 首先，你需要学习一些基本概念"
   ]
  },
  {
   "cell_type": "markdown",
   "metadata": {},
   "source": [
    "学习任何东西之前，我们都需要了解一些基本概念。例如，<b>你在学会走之前是不可能学会跑的</b>。 你在学会说之前是不可能学会唱的。对不？ 因此，对于该课程而言，道理也是一样的。<br><br>\n",
    "该课程的第一单元（Unit1 基本概念）首先为你介绍一些ROS的基本概念，掌握这些基本概念是学习和使用更复杂概念的前提。"
   ]
  },
  {
   "cell_type": "markdown",
   "metadata": {},
   "source": [
    "### 其次，你需要掌握“主题”\n",
    "为了学习ROS，你首先需要知道的是如何使用 <b>主题</b>。主题也许是ROS中最重要的内容，因此你需要认真学习它们。\n",
    "<br><br>\n",
    "ROS通过主题处理几乎所有的通信。即使更复杂的通信系统，比如服务或行动，最终也依赖于主题。这就是为什么主题这么重要的原因！通过ROS主题，你可以与你的机器人进行通信以便使其移动，可以从你的机器人传感器读取数据，还可以做很多其他事情。"
   ]
  },
  {
   "cell_type": "markdown",
   "metadata": {},
   "source": [
    "你屏幕的右上角是仿真窗口。随着课程的进行，你会在该窗口看到不同的机器人（取决于你所学习的单元），这些机器人有助于你学习ROS。在课程预览这一章，你会用到可爱的Kobuki。我相信你们会相处的非常好！\n",
    "<br><br>\n",
    "我们已做了必要的介绍，下面我们就开始吧！"
   ]
  },
  {
   "cell_type": "markdown",
   "metadata": {},
   "source": [
    "<p style=\"background:#EE9023;color:white;\">**例 1.1**</p>\n",
    "<br>\n",
    "\n",
    "在**WebShell #1** *执行下面的命令** 使Kobuki机器人移动。<br><br>WebShells 类似于 Linux终端, 但是是在网页上的. 默认情况下，它们位于屏幕右下侧。你可以在那里输入Linux命令。\n",
    "\n",
    "<table style=\"float:left;background: #407EAF\">\n",
    "<tr>\n",
    "<th>\n",
    "<p class=\"transparent\">在 WebShell #1执行</p><br>\n",
    "</th>\n",
    "</tr>\n",
    "</table>\n",
    "<br>"
   ]
  },
  {
   "cell_type": "raw",
   "metadata": {
    "collapsed": true
   },
   "source": [
    "roslaunch publisher_example move.launch"
   ]
  },
  {
   "cell_type": "markdown",
   "metadata": {},
   "source": [
    "<p style=\"color:red;\"><b>注 1: 为了停止程序，在WebShell中按下Ctrl + C。</b></p>"
   ]
  },
  {
   "cell_type": "markdown",
   "metadata": {},
   "source": [
    "<p style=\"color:red;\"><b>注 2: 停止该程序后，机器人继续保持移动。要使它停止运动，必须运行另外一条指令。</b></p>"
   ]
  },
  {
   "cell_type": "markdown",
   "metadata": {},
   "source": [
    "现在选择 **WebShell #2** ，执行下面的命令来停止Kobuki的移动。<br>\n",
    "\n",
    "<table style=\"float:left;background: #407EAF\">\n",
    "<tr>\n",
    "<th>\n",
    "<p class=\"transparent\">在WebShell #2中运行</p><br>\n",
    "</th>\n",
    "</tr>\n",
    "</table>\n",
    "<br>\n"
   ]
  },
  {
   "cell_type": "raw",
   "metadata": {
    "collapsed": true
   },
   "source": [
    "roslaunch publisher_example stop.launch"
   ]
  },
  {
   "cell_type": "markdown",
   "metadata": {},
   "source": [
    "<p style=\"color:red;\"><b>重要:每个实例结束后，都会有一些注释，这些注释很有帮助，请留意一下它们！ </b></p>"
   ]
  },
  {
   "cell_type": "markdown",
   "metadata": {},
   "source": [
    "<p style=\"background:#AE0202;color:white;\">**例 1.1运行结果**</p>"
   ]
  },
  {
   "cell_type": "markdown",
   "metadata": {
    "caption": "Kobuki",
    "image": true,
    "name": "kobuki_circle",
    "width": "10cm"
   },
   "source": [
    "<img src=\"img/kobuki_circle.gif\" width=\"500\"></img>"
   ]
  },
  {
   "cell_type": "markdown",
   "metadata": {},
   "source": [
    "<table style=\"float:left;\">\n",
    "<tr>\n",
    "<th>\n",
    "<p style=\"background:#3B8F10;color:white;\">**例1.1数据**</p>\n",
    "<br>\n",
    "请查看下面的注释以完成该实例:\n",
    "<br><br>\n",
    "<span style=\"color:orange\">注 1: </span>即使使用“Ctrl+C”终止了命令，机器人仍将保持运动。这是由于机器人仍在监听你发布在该主题上的最后一条消息。后面你会明白这意味着什么。</i><br>\n",
    "</th>\n",
    "</tr>\n",
    "</table>"
   ]
  },
  {
   "cell_type": "markdown",
   "metadata": {},
   "source": [
    "<p style=\"background:#EE9023;color:white;\">**例1.1结束**</p>"
   ]
  },
  {
   "cell_type": "markdown",
   "metadata": {},
   "source": [
    "#### 整个课程中，你将在仿真机器人上进行ROS编程和测试。"
   ]
  },
  {
   "cell_type": "markdown",
   "metadata": {},
   "source": [
    "很棒，对不？整个过程是如何工作的？你可能会有一连串的问题。你实际上所做的是启动了一个发布器。发布器是一个ROS程序，它将一条消息写进一个主题（这里是<b>/cmd_vel</b>主题）。该主题用来向机器人底座发送速度命令。这样，通过该主题发送消息，你就可以使机器人动起来。<br><br>\n",
    "\n",
    "但是，为什么我停止了程序后机器人仍在保持运动？ 这是由于该主题仍在监听发布的最后一条消息，该消息告诉它继续移动机器人。因此，要停止机器人的运动，你只需要启动另一个发布器，发布一条告诉机器人停止运动的消息即可。<br><br>\n",
    "\n",
    "但是，等等，别忘了这只是课程预览。你会在<b>主题单元（Unit2）</b>学习到更多有关主题的内容。要有耐心！\n",
    "\n",
    "### 第三，你需要掌握“服务”"
   ]
  },
  {
   "cell_type": "markdown",
   "metadata": {},
   "source": [
    "现在，让我们继续。你已经看到，主题是ROS中一个非常重要的部分，它们使你能够与你的机器人进行通信。但，这是唯一的方式吗？\n",
    "<br><br>\n",
    "正如你能够想象的那样，答案是否定的。这是当然的！除了主题，ROS还提供了<b>服务</b>. 服务允许你为你的机器人编写特定功能的代码，然后供任何机器人调用。例如，你可以创建一个服务，使你的机器人移动一段时间，然后停止。<br><br>\n",
    "服务比主题稍微复杂一些，这是由于它包括两部分。一方面，你需要一个提供服务的服务器，它向任何想调用它的对象提供某项功能；另一方面，你需要一个客户端，它调用/请求服务功能。\n",
    "\n",
    "<br>让我们看一个如何调用先前创建的服务的例子，该服务使Kobuki机器人绕圆周运动4秒钟。"
   ]
  },
  {
   "cell_type": "markdown",
   "metadata": {},
   "source": [
    "<p style=\"background:#EE9023;color:white;\">**例1.2**</p>\n",
    "<br>\n",
    "<p style=\"color:red;\"><b>重要: 运行该例前，确保停止所有先前在WebShells运行的程序（按下Ctrl+C）。同时，确保Kobuki机器人不在运动。</b></p>\n",
    "<br><br>\n",
    "在WebShell number #1执行下面的命令，启动该服务。<br>\n",
    "\n",
    "<table style=\"float:left;background: #407EAF\">\n",
    "<tr>\n",
    "<th>\n",
    "<p class=\"transparent\">在WebShell #1运行</p><br>\n",
    "</th>\n",
    "</tr>\n",
    "</table>\n",
    "<br>\n"
   ]
  },
  {
   "cell_type": "raw",
   "metadata": {
    "collapsed": true
   },
   "source": [
    "roslaunch service_demo service_launch.launch"
   ]
  },
  {
   "cell_type": "markdown",
   "metadata": {},
   "source": [
    "在WebShell number #2 执行下面的命令，调用服务。<br>\n",
    "\n",
    "<table style=\"float:left;background: #407EAF\">\n",
    "<tr>\n",
    "<th>\n",
    "<p class=\"transparent\">在WebShell #2运行</p><br>\n",
    "</th>\n",
    "</tr>\n",
    "</table>"
   ]
  },
  {
   "cell_type": "raw",
   "metadata": {
    "collapsed": true
   },
   "source": [
    "rosservice call /service_demo \"{}\""
   ]
  },
  {
   "cell_type": "markdown",
   "metadata": {},
   "source": [
    "<p style=\"background:#AE0202;color:white;\">**例1.2运行结果**</p>"
   ]
  },
  {
   "cell_type": "markdown",
   "metadata": {
    "caption": "Kobuki",
    "image": true,
    "name": "kobuki_circle",
    "width": "10cm"
   },
   "source": [
    "<img src=\"img/kobuki_circle.gif\" width=\"500\"></img>"
   ]
  },
  {
   "cell_type": "markdown",
   "metadata": {},
   "source": [
    "<table style=\"float:left;\">\n",
    "<tr>\n",
    "<th>\n",
    "<p style=\"background:#3B8F10;color:white;\">**例1.2数据**</p>\n",
    "<br>\n",
    "请查看下面的注释以完成该实例:\n",
    "<br><br>\n",
    "<span style=\"color:orange\">注 1:</span> 在被调用之前，服务必须启动且在运行。因此，确保在被调用之前启动服务。<br>\n",
    "<span style=\"color:orange\">注 2:</span> 牢记，你的机器人将从上一个例子中停止的地方开始运动。 因此，你运行的结果可能和图中显示的不完全一致。\n",
    "<br>\n",
    "</th>\n",
    "</tr>\n",
    "</table>"
   ]
  },
  {
   "cell_type": "markdown",
   "metadata": {},
   "source": [
    "<p style=\"background:#EE9023;color:white;\">**例1.2结束**</p>"
   ]
  },
  {
   "cell_type": "markdown",
   "metadata": {},
   "source": [
    "我打赌你开始对这件事感到兴奋了，对吧？但我相信你还有更多的问题。<br><br>\n",
    "在上面的例子中，你做了两件事。首先，你 **启动了服务**以便使它能被任何想调用它的机器人调用。接着，你执行了一条命令 **调用那个服务**。该服务的目的是使Kobuki机器人绕圆周运动4秒钟，然后停止。 因此，当你调用服务时，机器人开始进行运动。<br><br>\n",
    "但是，别忘了，这只是预览单元。在 **服务单元 (Unit3),** 你将学习更多有关服务的内容！"
   ]
  },
  {
   "cell_type": "markdown",
   "metadata": {},
   "source": [
    "### 第四，你需要掌握“行为”"
   ]
  },
  {
   "cell_type": "markdown",
   "metadata": {},
   "source": [
    "是否认为自己已经了解ROS了？早着呢！为了使用ROS，仍有几件事情需要做。到现在为止，你已经“走马观花”地学习了 <b>主题</b>和<b>服务</b>，也知道了它们是如何让你和机器人进行通信的。\n",
    "<br><br>\n",
    "但是，这不是全部。ROS还提供了<b>行为</b>。行为与服务类似，它们都允许你为你的机器人编写特定功能的代码，然后供任何需要它的对象调用。行为和服务的主要区别是，当你调用服务时，机器人一直等着，直到服务结束才能做其他的事情；当你调用行为时，机器人在执行该行为的同时还可以做其他的事情。"
   ]
  },
  {
   "cell_type": "markdown",
   "metadata": {},
   "source": [
    "还有一些其他的区别，比如行为允许你在行为被执行时提供反馈。下面让我们看一个行为是如何工作的例子。"
   ]
  },
  {
   "cell_type": "markdown",
   "metadata": {},
   "source": [
    "<p style=\"background:#EE9023;color:white;\">**例1.3**</p>\n",
    "<br>\n",
    "<p style=\"color:red;\"><b>重要: 运行该例前，确保停止所有先前在WebShells运行的程序（按下Ctrl+C）。</b></p>\n",
    "<br><br>\n",
    "在WebShell number #1 执行下面的命令启动行为。<br>\n",
    "\n",
    "<table style=\"float:left;background: #407EAF\">\n",
    "<tr>\n",
    "<th>\n",
    "<p class=\"transparent\">在WebShell #1运行</p><br>\n",
    "</th>\n",
    "</tr>\n",
    "</table>\n",
    "<br>\n"
   ]
  },
  {
   "cell_type": "raw",
   "metadata": {
    "collapsed": true
   },
   "source": [
    "roslaunch action_demo action_launch.launch"
   ]
  },
  {
   "cell_type": "markdown",
   "metadata": {},
   "source": [
    "在WebShell number #2执行下面的命令，调用“行为”。<br>\n",
    "\n",
    "<table style=\"float:left;background: #407EAF\">\n",
    "<tr>\n",
    "<th>\n",
    "<p class=\"transparent\">在 WebShell #2运行</p><br>\n",
    "</th>\n",
    "</tr>\n",
    "</table>"
   ]
  },
  {
   "cell_type": "raw",
   "metadata": {
    "collapsed": true
   },
   "source": [
    "roslaunch action_demo_client client_launch.launch"
   ]
  },
  {
   "cell_type": "markdown",
   "metadata": {},
   "source": [
    "<p style=\"background:#AE0202;color:white;\">**例1.3运行结果**</p>"
   ]
  },
  {
   "cell_type": "markdown",
   "metadata": {
    "caption": "Kobuki",
    "image": true,
    "name": "kobuki_circle",
    "width": "10cm"
   },
   "source": [
    "<img src=\"img/kobuki_circle.gif\" width=\"500\"/>"
   ]
  },
  {
   "cell_type": "markdown",
   "metadata": {},
   "source": [
    "<table style=\"float:left;\">\n",
    "<tr>\n",
    "<th>\n",
    "<p style=\"background:#3B8F10;color:white;\">**例1.3数据**</p>\n",
    "<br>\n",
    "请查看下面的注释以完成该实例:\n",
    "<br><br>\n",
    "<span style=\"color:orange\">注 1:</span> 确保已执行第一条命令启动了行为服务器。否则，你没法调用它。<br>\n",
    "<span style=\"color:orange\">注 2:</span> 牢记，你的机器人将从上一个例子中停止的地方开始运动。 因此，你运行的结果可能和图中显示的不完全一致。</b><br>\n",
    "</th>\n",
    "</tr>\n",
    "</table>"
   ]
  },
  {
   "cell_type": "markdown",
   "metadata": {},
   "source": [
    "<p style=\"background:#EE9023;color:white;\">**例1.3结束**</p>"
   ]
  },
  {
   "cell_type": "markdown",
   "metadata": {},
   "source": [
    "我相信，现在你开始对自己正在学的东西感到迷惑了。不用担心，没有关系的！\n",
    "<br><br>\n",
    "在前面的例子中，你做了两件事。首先，你通过第一条指令 **启动了行为服务器** 。接着，你通过第二条指令 **调用那个行为** 。你可能在想，这岂不与前面例子中的服务一样？事实并非如此！两者之间有很大的不同，虽然你可能看不到它。 \n",
    "\n",
    "但是，你无需担心这一点。正如前面所告诉你的，这只是课程预览。当你学习了**行为单元（Unit4）**后，你会对行为有一个深入的理解。"
   ]
  },
  {
   "cell_type": "markdown",
   "metadata": {},
   "source": [
    "### 最后，你需要掌握如何使用调试工具"
   ]
  },
  {
   "cell_type": "markdown",
   "metadata": {},
   "source": [
    "如果你将要开始你的机器人工作，你需要明白这一点：**你不得不和错误打交道**。\n",
    "\n",
    "\n",
    "幸运的是，ROS提供了许多工具帮助你诊断错误。在下面的例子中，你将会接触到可能是ROS中最重要的工具<b>RViz</b>。按照下面的例子体验一下这个神奇的工具！"
   ]
  },
  {
   "cell_type": "markdown",
   "metadata": {},
   "source": [
    "<p style=\"background:#EE9023;color:white;\">**例1.4**</p>\n",
    "<br>\n",
    "<p style=\"color:red;\"><b>重要: 运行该例前，确保停止所有先前在WebShells运行的程序（按下Ctrl+C）。</b></p>\n",
    "<br><br>\n",
    "在WebShell number #1 执行下面的命令启动RViz。<br>\n",
    "\n",
    "<table style=\"float:left;background: #407EAF\">\n",
    "<tr>\n",
    "<th>\n",
    "<p class=\"transparent\">在WebShell #1运行</p><br>\n",
    "</th>\n",
    "</tr>\n",
    "</table>\n",
    "<br>\n"
   ]
  },
  {
   "cell_type": "raw",
   "metadata": {
    "collapsed": true
   },
   "source": [
    "rosrun rviz rviz"
   ]
  },
  {
   "cell_type": "markdown",
   "metadata": {},
   "source": [
    "现在，点击位于IDE窗口右上角的屏幕图标， \n",
    "<img src=\"img/font-awesome_desktop.png\"/> \n",
    "打开图形用户界面。"
   ]
  },
  {
   "cell_type": "markdown",
   "metadata": {},
   "source": [
    "这将在一个新的标签中打开图形用户界面。你会在这里看到RViz。"
   ]
  },
  {
   "cell_type": "markdown",
   "metadata": {
    "caption": "RViz",
    "image": true,
    "name": "rviz_init",
    "width": "10cm"
   },
   "source": [
    "<img src=\"img/rviz_init.png\" width=\"500\" />"
   ]
  },
  {
   "cell_type": "markdown",
   "metadata": {},
   "source": [
    "现在, 按照下面的步骤:"
   ]
  },
  {
   "cell_type": "markdown",
   "metadata": {},
   "source": [
    "a) 更改**base_link**的Fixed Frame。"
   ]
  },
  {
   "cell_type": "markdown",
   "metadata": {
    "caption": "Change Frame",
    "image": true,
    "name": "change_frame",
    "width": "10cm"
   },
   "source": [
    "<img src=\"img/change_frame.png\" width=\"400\"/ >"
   ]
  },
  {
   "cell_type": "markdown",
   "metadata": {},
   "source": [
    "b) 点击显示面板下面的 \"Add\" 按钮，选择RobotModel选项。"
   ]
  },
  {
   "cell_type": "markdown",
   "metadata": {
    "caption": "Select RobotModel Option",
    "image": true,
    "name": "robotmodel",
    "width": "10cm"
   },
   "source": [
    "<img src=\"img/robotmodel.png\" width=\"400\"/ >"
   ]
  },
  {
   "cell_type": "markdown",
   "metadata": {},
   "source": [
    "c) 重复上面的过程，选择LaserScan选项。"
   ]
  },
  {
   "cell_type": "markdown",
   "metadata": {},
   "source": [
    "d) 从LaserScan选项中选择 **/kobuki/laser/scan** 主题。"
   ]
  },
  {
   "cell_type": "markdown",
   "metadata": {
    "caption": "Change Topic",
    "image": true,
    "name": "change_topic",
    "width": "10cm"
   },
   "source": [
    "<img src=\"img/change_topic.png\" width=\"400\"/ >"
   ]
  },
  {
   "cell_type": "markdown",
   "metadata": {},
   "source": [
    "<p style=\"background:#AE0202;color:white;\">**例1.4运行结果**</p>"
   ]
  },
  {
   "cell_type": "markdown",
   "metadata": {
    "caption": "RViz",
    "image": true,
    "name": "rviz_end",
    "width": "10cm"
   },
   "source": [
    "<img src=\"img/rviz_end.png\" width=\"600\"></img>"
   ]
  },
  {
   "cell_type": "markdown",
   "metadata": {},
   "source": [
    "<table style=\"float:left;\">\n",
    "<tr>\n",
    "<th>\n",
    "<p style=\"background:#3B8F10;color:white;\">**例1.4数据**</p>\n",
    "<br>\n",
    "请查看下面的注释以完成该实例:\n",
    "<br><br>\n",
    "<span style=\"color:orange\">注 1:</span>在RViz的顶部双击，可以最大化RViz窗口。</b>.<br>\n",
    "</th>\n",
    "</tr>\n",
    "</table>"
   ]
  },
  {
   "cell_type": "markdown",
   "metadata": {},
   "source": [
    "<p style=\"background:#EE9023;color:white;\">**例1.4**</p>"
   ]
  },
  {
   "cell_type": "markdown",
   "metadata": {},
   "source": [
    "此时此刻，我相信你会有很多问题和疑惑...但是保持淡定！<br><br>\n",
    "\n",
    "你现在在RViz看到的正是你的Kobuki机器人。很显然，对不？但，Kobuki前面出现的红线是什么？你知道吗？\n",
    "<br><br>\n",
    "好吧，那是Kobuki机器人获取的激光读数。因此，正如你可能猜的那样，红线代表激光束，它检测到机器人前方有一堵墙。\n",
    "<br><br>\n",
    "很神奇，对吧？ 这仅仅是RViz的强大功能的一个很小应用. 在**调试工具单元(Unit5)** 你会对RViz了解更多。"
   ]
  },
  {
   "cell_type": "markdown",
   "metadata": {},
   "source": [
    "想知道这一切是如何工作的吗？ 想成为一个机器人大师吗？ 那就开始ROS之旅吧！"
   ]
  }
 ],
 "metadata": {
  "anaconda-cloud": {},
  "kernelspec": {
   "display_name": "Python 3",
   "language": "python",
   "name": "python3"
  },
  "language_info": {
   "codemirror_mode": {
    "name": "ipython",
    "version": 3
   },
   "file_extension": ".py",
   "mimetype": "text/x-python",
   "name": "python",
   "nbconvert_exporter": "python",
   "pygments_lexer": "ipython3",
   "version": "3.6.4"
  },
  "latex_metadata": {
   "chapter": "0 - Course Preview",
   "chapter_title": "Chapter 0. Course Preview",
   "course_title": "ROS BASICS IN 5 DAYS"
  }
 },
 "nbformat": 4,
 "nbformat_minor": 1
}
