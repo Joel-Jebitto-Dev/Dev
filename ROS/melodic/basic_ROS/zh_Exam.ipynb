{
 "cells": [
  {
   "cell_type": "markdown",
   "metadata": {},
   "source": [
    "# 5天学ROS"
   ]
  },
  {
   "cell_type": "markdown",
   "metadata": {},
   "source": [
    "# 考试"
   ]
  },
  {
   "cell_type": "markdown",
   "metadata": {},
   "source": [
    "该考试基于Clearpath公司生产的Husky机器人。\n",
    "机器人位于结构内部，必须自己想办法出去。你可以使用机器人自带的传感器来检测环境，并使用执行器来移动机器人。\n",
    "你可在下图查看机器人最接近的行为属性。"
   ]
  },
  {
   "cell_type": "markdown",
   "metadata": {
    "caption": "Fig.ex.1 - Husky exiting the room",
    "image": true,
    "name": "fig-ex.1 husky_solves",
    "width": "15cm"
   },
   "source": [
    "<figure>\n",
    "  <img id=\"fig-ex.1\" src=\"img/husky_solves.gif\"/>\n",
    "   <center> <figcaption>Fig.ex.1 - Husky退出房间</figcaption></center>\n",
    "</figure>"
   ]
  },
  {
   "cell_type": "markdown",
   "metadata": {},
   "source": [
    "要完成这项任务，你必须进行以下操作：\n",
    "\n",
    "* 服务被调用时，它必须给出进入的方向。\n",
    "* 行为服务器一旦被调用，要开始记录每一秒钟机器人访问过的所有测距位置。    \n",
    " * **目标**: 没有目标发送，只有一个空消息指示行为服务器必须启动。\n",
    " * **反馈**: 不必提供反馈。\n",
    " * **结果**: 两分钟后它会提供完整列表。\n",
    "    \n",
    "* 一个可协调一切的节点。它必须：\n",
    "    \n",
    " * 当机器人开始尝试离开房间时，调用行为服务器以开始储存机器人访问的所有位置。\n",
    " * 调用服务，以获知机器人要移动的下一个方向。\n",
    " * 按指定方向移动机器人。\n",
    " * 两分钟过后，机器人必须停止并结束一切。\n",
    " * 若机器人已离开房间，必须打印一条消息显示它已离开。\n",
    "    \n",
    "  \n"
   ]
  },
  {
   "cell_type": "markdown",
   "metadata": {},
   "source": [
    "<b>提示</b>: 你必须创建三个不同的节点（包）。要启动这三个节点，你必须创建一个启动文件，一个接一个地来启动这三个节点。"
   ]
  },
  {
   "cell_type": "markdown",
   "metadata": {},
   "source": [
    "### 如何继续考试"
   ]
  },
  {
   "cell_type": "markdown",
   "metadata": {},
   "source": [
    "\n",
    "* 你可以用学习环境来开发和测试代码。\n",
    "* 复习前面的课程或上网搜索信息进行咨询。\n",
    "* 你有两个小时的时间用来考试。\n",
    "* 一旦你的代码完成并工作，使用IDE下载所有的软件包并将它们以zip文件的形式发送到电子邮箱<i>certification@theconstructsim.com</i>, 显示你正在访问的级别(此处，2级，黄龟腰带Yellow Turtle Belt). 请在两小时结束前发送。\n",
    "* 我们会在下一周给你发送结果和证书(如果达到要求的话)。\n"
   ]
  },
  {
   "cell_type": "markdown",
   "metadata": {},
   "source": [
    "### 评分"
   ]
  },
  {
   "cell_type": "markdown",
   "metadata": {},
   "source": [
    "评分取决于以下阶段你所完成的数量：\n",
    "\n",
    "* 阶段 1. <b>你能阅读相关主题</b> (解决问题所需的主题): 0.5 分\n",
    "* 阶段 2. <b>你会写入相关主题</b>: 0.5 分\n",
    "* 阶段 3. <b>你创建了恰当的服务</b>: 1 分\n",
    "* 阶段 4. <b>你适当地调用了服务</b>: 1 分\n",
    "* 阶段 5. <b>你创建了一个合适的行为服务器</b>: 1.5 分\n",
    "* 阶段 6. <b>你正确调用了行为服务器</b>: 1.5 分\n",
    "* 阶段 7. <b>在从主题阅读和向主题写入时、调用服务时、调用行为时，机器人会尝试解决问题。</b>: 2 分\n",
    "* 阶段 8. <b>从随机位置和方向开始，机器人解决了问题，离开了环境。</b>: 2 分\n",
    "\n",
    "<br>\n",
    "<b>满分为10分，只有得到8分以上才会有证书</b>. 这说明你已经正确理解了这些概念并知道如何使用它们来解决机器人问题。\n",
    "\n",
    "获得满分10分，说明你还知道怎样应用这些概念来完成某项任务。你应该以此为目标。"
   ]
  },
  {
   "cell_type": "code",
   "execution_count": null,
   "metadata": {
    "collapsed": true
   },
   "outputs": [],
   "source": []
  }
 ],
 "metadata": {
  "anaconda-cloud": {},
  "celltoolbar": "Edit Metadata",
  "kernelspec": {
   "display_name": "Python 3",
   "language": "python",
   "name": "python3"
  },
  "language_info": {
   "codemirror_mode": {
    "name": "ipython",
    "version": 3
   },
   "file_extension": ".py",
   "mimetype": "text/x-python",
   "name": "python",
   "nbconvert_exporter": "python",
   "pygments_lexer": "ipython3",
   "version": "3.6.4"
  },
  "latex_metadata": {
   "chapter": "Exam",
   "chapter_title": "Exam",
   "course_title": "ROS BASICS IN 5 DAYS"
  }
 },
 "nbformat": 4,
 "nbformat_minor": 1
}
