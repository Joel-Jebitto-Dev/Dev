{
 "cells": [
  {
   "cell_type": "markdown",
   "metadata": {},
   "source": [
    "# <font class='ign_color'>5天学ROS </font>"
   ]
  },
  {
   "cell_type": "markdown",
   "metadata": {},
   "source": [
    "# 附录 A: 现在做什么?"
   ]
  },
  {
   "cell_type": "markdown",
   "metadata": {},
   "source": [
    "现在你已完成了该课程的学习，接下来该做什么？<br>\n",
    "是继续通过仿真进行实践，还是开发自己的项目？<br>\n",
    "你想继续学习不同的内容吗？<br>\n",
    "来这里就对了！<br>"
   ]
  },
  {
   "cell_type": "markdown",
   "metadata": {},
   "source": [
    "<table style=\"width:100%\">\n",
    "  <tr>\n",
    "    <th>\n",
    "     <ul>\n",
    "  <li><a href=\"#where_to_launch\">在哪里继续进行仿真？</a></li>\n",
    "  <li><a href=\"#how_to_launch\">在哪里继续学习？</a></li>\n",
    "</ul>\n",
    "\n",
    "   </th>\n",
    "  </tr>\n",
    "</table>"
   ]
  },
  {
   "cell_type": "markdown",
   "metadata": {},
   "source": [
    "## 哪里启动仿真？ <p id=\"where_to_launch\"></p>"
   ]
  },
  {
   "cell_type": "markdown",
   "metadata": {},
   "source": [
    "<img src=\"img/RDS_logo.png\" width=\"400\"/>"
   ]
  },
  {
   "cell_type": "markdown",
   "metadata": {},
   "source": [
    "当然是在ROS开发工作室 <a href=\"http://www.theconstructsim.com/rds-ros-development-studio/\"></a>! 这里有多种选择可以继续你的工作，也可以开发你从该课程中所学到的一切。<br>\n",
    "<ul>\n",
    "    <li>\n",
    "    你可以从零开始创建自己的仿真。 \n",
    "    <br><br>\n",
    "    <div style=\"text-align: left\">\n",
    "    <img src=\"img/create_sim1.png\" width=\"400\" style=\"float: left; margin: 0px 0px 15px 15px;\"/>\n",
    "    <img src=\"img/create_sim2.png\" width=\"400\" style=\"float: left; margin: 0px 0px 15px 15px;\"/>\n",
    "    </div>\n",
    "    <br>\n",
    "    </li>\n",
    "    <br><br><br><br><br><br><br><br><br><br><br><br><br><br><br><br>\n",
    "    <li>如果你没有现有的仿真，并且也不想创建新的仿真，那么我们可以提供即插即用的仿真（包括该课程中的那些），这些仿真可以用到你新学到的知识。<br>\n",
    "    <img src=\"img/rds_examples.png\" width=\"800\"/>\n",
    "    <br>\n",
    "    </li>\n",
    "</ul>"
   ]
  },
  {
   "cell_type": "markdown",
   "metadata": {},
   "source": [
    "##你想继续学习吗? <p id=\"how_to_launch\"></p>"
   ]
  },
  {
   "cell_type": "markdown",
   "metadata": {},
   "source": [
    "<img src=\"img/robotignite_logo_text.png\" width=\"500\"/>"
   ]
  },
  {
   "cell_type": "markdown",
   "metadata": {},
   "source": [
    "学完该课程后，仍有许多有趣的ROS课程需要学习。\n",
    "<ul>\n",
    "   <li>\n",
    "   你可以在<a href=\"http://www.robotigniteacademy.com/\">Robot Ignite Academy</a>学习更多的高级课程 , 比如导航、感知和操控。\n",
    "   </li>\n",
    "   <li>\n",
    "   你可以获取很多具体且非常有用的知识，比如如何使用TFs或URDFs，如何开启ROS工业之旅。\n",
    "   </li>\n",
    "   <li>\n",
    "   你还可以下载仿真机器人模型，在安装有ROS的本地计算机上进行实践.\n",
    "   </li> \n",
    "</ul>"
   ]
  }
 ],
 "metadata": {
  "anaconda-cloud": {},
  "kernelspec": {
   "display_name": "Python 3",
   "language": "python",
   "name": "python3"
  },
  "language_info": {
   "codemirror_mode": {
    "name": "ipython",
    "version": 3
   },
   "file_extension": ".py",
   "mimetype": "text/x-python",
   "name": "python",
   "nbconvert_exporter": "python",
   "pygments_lexer": "ipython3",
   "version": "3.6.4"
  }
 },
 "nbformat": 4,
 "nbformat_minor": 1
}
