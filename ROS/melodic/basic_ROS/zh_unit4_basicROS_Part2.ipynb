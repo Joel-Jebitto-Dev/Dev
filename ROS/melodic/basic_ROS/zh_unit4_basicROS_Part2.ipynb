{
 "cells": [
  {
   "cell_type": "markdown",
   "metadata": {},
   "source": [
    "# <font class='ign_color'>5天学ROS</font>"
   ]
  },
  {
   "cell_type": "markdown",
   "metadata": {},
   "source": [
    "# Unit 4: ROS 行为"
   ]
  },
  {
   "cell_type": "markdown",
   "metadata": {
    "caption": "Drone",
    "image": true,
    "name": "drone",
    "width": "8cm"
   },
   "source": [
    "<img src=\"img/drone.jpg\" width=\"450\" />"
   ]
  },
  {
   "cell_type": "markdown",
   "metadata": {},
   "source": [
    "<b>预计完成时间:</b> 2.5 hours\n",
    "<br><br>\n",
    "<b>从本单元你将学到：</b>\n",
    "\n",
    "* 如何创建一个行为服务器？\n",
    "* 如何构建自己的行为消息？"
   ]
  },
  {
   "cell_type": "markdown",
   "metadata": {},
   "source": [
    "## Part 2"
   ]
  },
  {
   "cell_type": "markdown",
   "metadata": {},
   "source": [
    "在前面的课程中，你学习了如何创建一个行为客户端来<b>调用</b> 一个行为服务器。在这一节的课程中，你将学习如何<b>创建</b>你自己的行为服务器。"
   ]
  },
  {
   "cell_type": "markdown",
   "metadata": {
    "caption": "Action Interface Diagram Copy 2",
    "image": true,
    "name": "action_interface",
    "width": "10cm"
   },
   "source": [
    "<figure>\n",
    "  <img id=\"fig-4.5\" src=\"img/action_interface.png\"/>\n",
    "  <br>\n",
    "   <center> <figcaption>图.4.5 - 行为界面图 2</figcaption></center>\n",
    "</figure>"
   ]
  },
  {
   "cell_type": "markdown",
   "metadata": {},
   "source": [
    "## 编写一个行为服务器"
   ]
  },
  {
   "cell_type": "markdown",
   "metadata": {},
   "source": [
    "<p style=\"background:#EE9023;color:white;\">**练习 4.11: 使用Noteb测试 Fibonacci 行为服务器**</p><br>\n",
    "点击IPython notebook右上角的“play”按钮运行下面的Python代码。\n",
    "<br><br> \n",
    "<div class='white_bg'><img src=\"img/font-awesome_step-forward.png\" style=\"float:left\"/><br><br></div>\n",
    "<br>\n",
    "你也可以按下 **<i>[CTRL]+[Enter]</i>** 组合键运行它。<br>\n",
    "<br>\n",
    "\n",
    "当程序完成后，别忘了 <span class=\"ign_red\">重启内核</span>。该操作将清除所有ROS通过该python程序生成的节点。这是很必要的，因为python程序只能启动<b>一个</b> rospy 节点。由于该notebook只是一个分割的python脚本，如果你尝试在不重新启动内核的情况下连续执行两个程序，这将给出rospy Exception 错误。\n",
    "你可以按下该图标执行它。\n",
    "<br><br>\n",
    "<div class='white_bg'><img src=\"img/refresh_icon.png\" style=\"float:left\"/><br><br></div>\n",
    "<br>\n",
    "\n",
    "\n",
    "下面是一个ROS行为服务器例子的代码。被调用时，该行为服务器将生成一个给定阶数的Fibonacci序列。行为服务器的目标消息必须指定要被计算的序列的阶数，序列被计算时的反馈和最终Fibonacci序列的结果。"
   ]
  },
  {
   "cell_type": "markdown",
   "metadata": {},
   "source": [
    "<p style=\"background:#EE9023;color:white;\">**练习 4.11结束**</p>"
   ]
  },
  {
   "cell_type": "markdown",
   "metadata": {},
   "source": [
    "<p style=\"background:#3B8F10;color:white;\" id=\"prg-4.11a\">**Python Program {4.11a}: fibonacci_action_server.py** </p>"
   ]
  },
  {
   "cell_type": "code",
   "execution_count": 1,
   "metadata": {
    "collapsed": true
   },
   "outputs": [],
   "source": [
    "#! /usr/bin/env python\n",
    "import rospy\n",
    "\n",
    "import actionlib\n",
    "\n",
    "from actionlib_tutorials.msg import FibonacciFeedback, FibonacciResult, FibonacciAction\n",
    "\n",
    "class FibonacciClass(object):\n",
    "    \n",
    "  # create messages that are used to publish feedback/result\n",
    "  _feedback = FibonacciFeedback()\n",
    "  _result   = FibonacciResult()\n",
    "\n",
    "  def __init__(self):\n",
    "    # creates the action server\n",
    "    self._as = actionlib.SimpleActionServer(\"fibonacci_as\", FibonacciAction, self.goal_callback, False)\n",
    "    self._as.start()\n",
    "    \n",
    "  def goal_callback(self, goal):\n",
    "    # this callback is called when the action server is called.\n",
    "    # this is the function that computes the Fibonacci sequence\n",
    "    # and returns the sequence to the node that called the action server\n",
    "    \n",
    "    # helper variables\n",
    "    r = rospy.Rate(1)\n",
    "    success = True\n",
    "    \n",
    "    # append the seeds for the fibonacci sequence\n",
    "    self._feedback.sequence = []\n",
    "    self._feedback.sequence.append(0)\n",
    "    self._feedback.sequence.append(1)\n",
    "    \n",
    "    # publish info to the console for the user\n",
    "    rospy.loginfo('\"fibonacci_as\": Executing, creating fibonacci sequence of order %i with seeds %i, %i' % ( goal.order, self._feedback.sequence[0], self._feedback.sequence[1]))\n",
    "    \n",
    "    # starts calculating the Fibonacci sequence\n",
    "    fibonacciOrder = goal.order\n",
    "    for i in xrange(1, fibonacciOrder):\n",
    "    \n",
    "      # check that preempt (cancelation) has not been requested by the action client\n",
    "      if self._as.is_preempt_requested():\n",
    "        rospy.loginfo('The goal has been cancelled/preempted')\n",
    "        # the following line, sets the client in preempted state (goal cancelled)\n",
    "        self._as.set_preempted()\n",
    "        success = False\n",
    "        # we end the calculation of the Fibonacci sequence\n",
    "        break\n",
    "      \n",
    "      # builds the next feedback msg to be sent\n",
    "      self._feedback.sequence.append(self._feedback.sequence[i] + self._feedback.sequence[i-1])\n",
    "      # publish the feedback\n",
    "      self._as.publish_feedback(self._feedback)\n",
    "      # the sequence is computed at 1 Hz frequency\n",
    "      r.sleep()\n",
    "    \n",
    "    # at this point, either the goal has been achieved (success==true)\n",
    "    # or the client preempted the goal (success==false)\n",
    "    # If success, then we publish the final result\n",
    "    # If not success, we do not publish anything in the result\n",
    "    if success:\n",
    "      self._result.sequence = self._feedback.sequence\n",
    "      rospy.loginfo('Succeeded calculating the Fibonacci of order %i' % fibonacciOrder )\n",
    "      self._as.set_succeeded(self._result)\n",
    "      \n",
    "if __name__ == '__main__':\n",
    "  rospy.init_node('fibonacci')\n",
    "  FibonacciClass()\n",
    "  rospy.spin()"
   ]
  },
  {
   "cell_type": "markdown",
   "metadata": {},
   "source": [
    "<p style=\"background:#3B8F10;color:white;\">**Code Explanation Python Program: {4.11a}**</p>"
   ]
  },
  {
   "cell_type": "markdown",
   "metadata": {},
   "source": [
    "该例中，行为服务器使用一个名为**<i>Fibonacci.action</i>** 的行为消息定义。该消息由ROS创建，位于**<i>actionlib_tutorials</i>** 功能包中。"
   ]
  },
  {
   "cell_type": "code",
   "execution_count": null,
   "metadata": {
    "collapsed": true
   },
   "outputs": [],
   "source": [
    "from actionlib_tutorials.msg import FibonacciFeedback, FibonacciResult, FibonacciAction"
   ]
  },
  {
   "cell_type": "markdown",
   "metadata": {},
   "source": [
    "这里我们导入由该**<i>Fibonacci.action</i>** 文件生成的消息对象。"
   ]
  },
  {
   "cell_type": "code",
   "execution_count": null,
   "metadata": {
    "collapsed": true
   },
   "outputs": [],
   "source": [
    "_feedback = FibonacciFeedback()\n",
    "_result   = FibonacciResult()"
   ]
  },
  {
   "cell_type": "markdown",
   "metadata": {},
   "source": [
    "这里，我们创建将被用来发布该行为的 **feedback** 和 **result** 的消息对象。"
   ]
  },
  {
   "cell_type": "code",
   "execution_count": null,
   "metadata": {
    "collapsed": true
   },
   "outputs": [],
   "source": [
    "def __init__(self):\n",
    "    # creates the action server\n",
    "    self._as = actionlib.SimpleActionServer(\"fibonacci_as\", FibonacciAction, self.goal_callback, False)\n",
    "    self._as.start()"
   ]
  },
  {
   "cell_type": "markdown",
   "metadata": {},
   "source": [
    "这是类的构造函数。在构造函数中，我们创建一个名为**\"fibonacci_as\"** 的行为服务器。该行为服务器使用行为消息 **FibonacciAction** ，有一个名为**goal_callback** 的回调函数。每当有一个新的目标到来时，该行为服务器将被激活。"
   ]
  },
  {
   "cell_type": "code",
   "execution_count": null,
   "metadata": {
    "collapsed": true
   },
   "outputs": [],
   "source": [
    "def goal_callback(self, goal):\n",
    "    \n",
    "    r = rospy.Rate(1)\n",
    "    success = True"
   ]
  },
  {
   "cell_type": "markdown",
   "metadata": {},
   "source": [
    "这里定义 **goal callback** 函数。每当一个新的目标发送到该行为服务器，该函数将被调用。"
   ]
  },
  {
   "cell_type": "code",
   "execution_count": null,
   "metadata": {
    "collapsed": true
   },
   "outputs": [],
   "source": [
    "self._feedback.sequence = []\n",
    "self._feedback.sequence.append(0)\n",
    "self._feedback.sequence.append(1)\n",
    "    \n",
    "rospy.loginfo('\"fibonacci_as\": Executing, creating fibonacci sequence of order %i with seeds %i, %i' % ( goal.order, self._feedback.sequence[0], self._feedback.sequence[1]))"
   ]
  },
  {
   "cell_type": "markdown",
   "metadata": {},
   "source": [
    "这里 **初始化**  Fibonacci 序列，并设置它的初始值（种子）。并且，我们为用户打印该行为服务器将要计算的 Fibonacci序列数据。"
   ]
  },
  {
   "cell_type": "code",
   "execution_count": null,
   "metadata": {
    "collapsed": true
   },
   "outputs": [],
   "source": [
    "fibonacciOrder = goal.order\n",
    "for i in xrange(1, fibonacciOrder):"
   ]
  },
  {
   "cell_type": "markdown",
   "metadata": {},
   "source": [
    "这里启动一个循环，该循环在**goal.order** 值到达前一直运行。很显然，该值是用户从行为服务器发送的Fibonacci序列的阶数。"
   ]
  },
  {
   "cell_type": "code",
   "execution_count": null,
   "metadata": {
    "collapsed": true
   },
   "outputs": [],
   "source": [
    "if self._as.is_preempt_requested():\n",
    "    rospy.loginfo('The goal has been cancelled/preempted')\n",
    "    # the following line, sets the client in preempted state (goal cancelled)\n",
    "    self._as.set_preempted()\n",
    "    success = False\n",
    "    # we end the calculation of the Fibonacci sequence\n",
    "    break"
   ]
  },
  {
   "cell_type": "markdown",
   "metadata": {},
   "source": [
    "检查目标是否被取消（preempted）。别忘了，在前面的单元，你已经学习了如何取消一个目标。 "
   ]
  },
  {
   "cell_type": "code",
   "execution_count": null,
   "metadata": {
    "collapsed": true
   },
   "outputs": [],
   "source": [
    "self._feedback.sequence.append(self._feedback.sequence[i] + self._feedback.sequence[i-1])\n",
    "self._as.publish_feedback(self._feedback)\n",
    "r.sleep()"
   ]
  },
  {
   "cell_type": "markdown",
   "metadata": {},
   "source": [
    "这里真正计算Fibonacci序列的值。你可以从这里查看Fibonacci序列是如何计算的： <a href=\"https://en.wikipedia.org/wiki/Fibonacci_number\" target=\"_blank\">Fibonacci sequence</a>。每当一个新的序列值被计算，我们就发布 **feedback** 。 "
   ]
  },
  {
   "cell_type": "code",
   "execution_count": null,
   "metadata": {
    "collapsed": true
   },
   "outputs": [],
   "source": [
    "if success:\n",
    "  self._result.sequence = self._feedback.sequence\n",
    "  rospy.loginfo('Succeeded calculating the Fibonacci of order %i' % fibonacciOrder )\n",
    "  self._as.set_succeeded(self._result)"
   ]
  },
  {
   "cell_type": "markdown",
   "metadata": {},
   "source": [
    "如果一切正常，我们发布 **result** （这是整个Fibonacci序列），同时使用**set_succeeded()** 函数设置该行为为成功（succeeded）。"
   ]
  },
  {
   "cell_type": "markdown",
   "metadata": {},
   "source": [
    "<p style=\"background:#3B8F10;color:white;\">**End Code Explanation Python Program: {4.11a}**</p>"
   ]
  },
  {
   "cell_type": "markdown",
   "metadata": {},
   "source": [
    "<p style=\"background:#EE9023;color:white;\">**练习 4.12a: 查看 Fibonacci 行为消息结构**</p><br>\n",
    "访问 **<i>actionlib_tutorials</i>** 功能包中的 **<i>action</i>** 目录，查看Fibonacci.action消息定义的结构。"
   ]
  },
  {
   "cell_type": "markdown",
   "metadata": {},
   "source": [
    "<p style=\"background:#EE9023;color:white;\">**练习 4.12a结束**</p>"
   ]
  },
  {
   "cell_type": "markdown",
   "metadata": {},
   "source": [
    "<p style=\"background:#EE9023;color:white;\">**练习 4.12b: 观察行为服务器的反馈和结果主题的消息输出**</p><br>\n",
    "\n",
    "重新启动python代码 <a href=\"#prg-4.11a\">{4.11a}</a> ，运行Fibonacci服务器。\n",
    "<br><br>\n",
    "接着，在相应的WebShell执行下面的命令。<br>\n",
    "\n",
    "<table style=\"float:left;background: #407EAF\">\n",
    "<tr>\n",
    "<th>\n",
    "<p class=\"transparent\">在WebShell #1运行: Echo the result topic</p>\n",
    "</th>\n",
    "</tr>\n",
    "</table>"
   ]
  },
  {
   "cell_type": "code",
   "execution_count": null,
   "metadata": {
    "collapsed": true
   },
   "outputs": [],
   "source": [
    "rostopic echo /fibonacci_as/result"
   ]
  },
  {
   "cell_type": "markdown",
   "metadata": {},
   "source": [
    "<table style=\"float:left;background: #407EAF\">\n",
    "<tr>\n",
    "<th>\n",
    "<p class=\"transparent\">在WebShell #2运行: Echo the feedback topic</p>\n",
    "</th>\n",
    "</tr>\n",
    "</table>"
   ]
  },
  {
   "cell_type": "code",
   "execution_count": null,
   "metadata": {
    "collapsed": true
   },
   "outputs": [],
   "source": [
    "rostopic echo /fibonacci_as/feedback"
   ]
  },
  {
   "cell_type": "markdown",
   "metadata": {},
   "source": [
    "<table style=\"float:left;background: #407EAF\">\n",
    "<tr>\n",
    "<th>\n",
    "<p class=\"transparent\">在WebShell #3运行: Manually send the goal to your Fibonacci server, publishing directly to the topic (as you learned in the previous chapter)</p>\n",
    "</th>\n",
    "</tr>\n",
    "</table>"
   ]
  },
  {
   "cell_type": "code",
   "execution_count": null,
   "metadata": {
    "collapsed": true
   },
   "outputs": [],
   "source": [
    "rostopic pub /fibonacci_as/goal actionlib_tutorials/FibonacciActionGoal [TAB][TAB]"
   ]
  },
  {
   "cell_type": "markdown",
   "metadata": {},
   "source": [
    "<p style=\"background:#AE0202;color:white;\">**练习 4.12b预期结果**</p><br>\n",
    "调用一个行为后，反馈主题将发布反馈，并在计算完成后发布结果。\n",
    "\n",
    "<br>\n",
    "\n",
    "<p style=\"background:#3B8F10;color:white;\">**练习 4.12b数据**</p><br>\n",
    "<ul>\n",
    "<li>\n",
    "你必须注意，Python代码中使用的消息（类）名称分别为 **<i>FibonacciGoal</i>**, **<i>FibonacciResult</i>**, 和 **<i>FibonacciFeedback</i>**, 而在主题中使用的消息名称分别为 **<i>FibonacciActionGoal</i>**, **<i>FibonacciActionResult</i>**, 和 **<i>FibonacciActionFeedback</i>**。 \n",
    "<br><br>\n",
    "不用担心这一点，只需记住它并相应地使用它就行。\n",
    "</li>\n",
    "</ul>"
   ]
  },
  {
   "cell_type": "markdown",
   "metadata": {},
   "source": [
    "<p style=\"background:#EE9023;color:white;\">**练习4.12b结束**</p>"
   ]
  },
  {
   "cell_type": "markdown",
   "metadata": {},
   "source": [
    "<p style=\"background:#EE9023;color:white;\" id=\"ex-4-13\">**练习 4.13: 使用行为服务器创建一个控制无人机绕正方形运动的功能包**</p>\n",
    "<br>\n",
    "a) 使用行为服务器创建一个功能包，使无人机在被调用时绕正方形轨迹运动。\n",
    "<br><br>\n",
    "b) 通过主题调用行为服务器，观察结果和反馈。\n",
    "<br><br>\n",
    "c) 使用前面Fibonacci例子中的代码 <a href=\"#prg-4.11a\">{4.11a}</a> 和你在练习 4.6中创建的客户端控制无人机在拍照的同时运动。\n",
    "<br>\n",
    "\n",
    "<p style=\"background:#AE0202;color:white;\">**练习 4.13预期结果**</p><br>\n",
    "如下面动画所示，当行为服务器被调用时，无人机在空中绕正方形飞行。<a href=\"#fig-4.6\">{图:4.6}</a>\n",
    "<br>\n",
    "\n",
    "<p style=\"background:#3B8F10;color:white;\">**练习 4.13数据**</p>\n",
    "<ul>\n",
    "<li>正方形每条边的大小需要在目标消息中指定，需为整数。</li>\n",
    "<li>反馈应发布无人机在绕正方形运动时当前所在的边（以数字的形式）。</li>\n",
    "<li>结果应发布无人机绕正方形运动的总秒数。</li>\n",
    "<li>对于该行为服务器，使用 <span style=\"color: orange\"><i>Test.action</i></span> 消息。使用内核命令 <span style=\"color: orange\"><i>locate Test.action</i></span> 查看消息是在哪里进行定义的。接着，分析msg消息的结构以便了解如何在你的行为服务器中使用它。</li>\n",
    "</ul>"
   ]
  },
  {
   "cell_type": "markdown",
   "metadata": {},
   "source": [
    "<p style=\"background:#EE9023;color:white;\" id=\"ex-4-13\">**练习 4.13结束**</p>"
   ]
  },
  {
   "cell_type": "markdown",
   "metadata": {},
   "source": [
    "<p style=\"background:green;color:white;\">练习 4.13解决方案</p>"
   ]
  },
  {
   "cell_type": "markdown",
   "metadata": {},
   "source": [
    "请尽量独自完成，除非你陷入困境或需要一些灵感。如果每一个练习你都认真对待的话，你会学到更多！"
   ]
  },
  {
   "cell_type": "markdown",
   "metadata": {},
   "source": [
    "<img src=\"img/robotignite_logo_text.png\"/>"
   ]
  },
  {
   "cell_type": "markdown",
   "metadata": {},
   "source": [
    "按照下面的链接打开解决方案笔记本:[Actions Part2 Solutions](extra_files/zh_unit4_basicROS_part2_solutions.ipynb)"
   ]
  },
  {
   "cell_type": "markdown",
   "metadata": {},
   "source": [
    "<p style=\"background:green;color:white;\">练习 4.13解决方案结束</p>"
   ]
  },
  {
   "cell_type": "markdown",
   "metadata": {
    "caption": "Ardrone moved through commands issed by an custom action server Ex 4.13",
    "image": true,
    "name": "drone",
    "width": "10cm"
   },
   "source": [
    "\n",
    "\n",
    "\n",
    "<figure>\n",
    "  <img id=\"fig-4.6\" src=\"img/drone.gif\">\n",
    "  <br>\n",
    "   <center> <figcaption>图.4.6 - 无人机根据一个定制的行为服务器发布的命令进行运动 Ex 4.13</figcaption></center>\n",
    "</figure>"
   ]
  },
  {
   "cell_type": "markdown",
   "metadata": {},
   "source": [
    "## 如何创建你自己的行为服务器消息"
   ]
  },
  {
   "cell_type": "markdown",
   "metadata": {},
   "source": [
    "<b>我们始终推荐你使用ROS提供的行为消息。</b> 这些消息可以在下面的ROS功能包中找到：\n",
    "\n",
    "* actionlib\n",
    "    \n",
    " * Test.action\n",
    " * TestRequest.action \n",
    " * TwoInts.action\n",
    "    \n",
    "* actionlib_tutorials\n",
    "    \n",
    " * Fibonacci.action\n",
    " * Averaging.action\n",
    "    \n",
    "\n",
    "<br>"
   ]
  },
  {
   "cell_type": "markdown",
   "metadata": {},
   "source": [
    "然而，有些时候，你需要创建自己的行为消息。下面将告诉你怎么做。"
   ]
  },
  {
   "cell_type": "markdown",
   "metadata": {},
   "source": [
    "要创建自己的行为消息，需要按照下面的步骤来做："
   ]
  },
  {
   "cell_type": "markdown",
   "metadata": {},
   "source": [
    "1.- 在你的功能包中创建一个 **action** 目录。\n",
    "  \n",
    "2.- 创建你自己的 **Name.action** 行为消息文件。\n",
    "  \n",
    "      \n",
    " * 行为消息文件的名称将决定后面**action server**和/或**action client** 中使用的类的名称。\n",
    "        \n",
    " * 注意Name.action 文件包括三部分，每一部分用三个连字符分开。"
   ]
  },
  {
   "cell_type": "code",
   "execution_count": null,
   "metadata": {
    "collapsed": true
   },
   "outputs": [],
   "source": [
    "#goal\n",
    "package_where_message_is/message_type goal_var_name\n",
    "---\n",
    "#result\n",
    "package_where_message_is/message_type result_var_name\n",
    "---\n",
    "#feedback\n",
    "package_where_message_is/message_type feedback_var_name"
   ]
  },
  {
   "cell_type": "markdown",
   "metadata": {},
   "source": [
    "* 如果你不需要消息中的某一部分 (例如，你不需要提供反馈）, 那么你可以使该项空着。但你 <b>必须指定分隔符</b>。    "
   ]
  },
  {
   "cell_type": "markdown",
   "metadata": {},
   "source": [
    "3.- 修改CMakeLists.txt和package.xml文件，包含行为消息编译。请阅读下面的详细描述。 "
   ]
  },
  {
   "cell_type": "markdown",
   "metadata": {},
   "source": [
    "<div id=\"custom_compilation\"></div>"
   ]
  },
  {
   "cell_type": "markdown",
   "metadata": {},
   "source": [
    "## 如何为定制行为消息编译修改CMakeLists.txt和package.xml 文件？"
   ]
  },
  {
   "cell_type": "markdown",
   "metadata": {},
   "source": [
    "你必须按照我们在主题和服务单元介绍的方式对这两个文件进行编辑：\n",
    "* CMakeLists.txt\n",
    "* package.xml\n"
   ]
  },
  {
   "cell_type": "markdown",
   "metadata": {},
   "source": [
    "### 修改 CMakeLists.txt"
   ]
  },
  {
   "cell_type": "markdown",
   "metadata": {},
   "source": [
    "编辑CMakeLists.txt中的这些函数：\n",
    "\n",
    "* <span class=\"ign_green\"><a href=\"#find_package\">find_package()</a></span>\n",
    "* <span class=\"ign_green\"><a href=\"#add_action_files\">add_action_files()</a></span>\n",
    "* <span class=\"ign_green\"><a href=\"#generate_messages\">generate_messages()</a></span>\n",
    "* <span class=\"ign_green\"><a href=\"#catkin_package\">catkin_package()</a></span>\n",
    "\n"
   ]
  },
  {
   "cell_type": "markdown",
   "metadata": {},
   "source": [
    "### <span style=\"color: green;\" id=\"find_package\">I. find_package()</span>"
   ]
  },
  {
   "cell_type": "markdown",
   "metadata": {},
   "source": [
    "所有编译主题消息、服务消息和行为消息需要的功能包都在这里。\n",
    "<br>\n",
    "In <i>package.xml</i>, you have to state them as built."
   ]
  },
  {
   "cell_type": "code",
   "execution_count": null,
   "metadata": {
    "collapsed": true
   },
   "outputs": [],
   "source": [
    "find_package(catkin REQUIRED COMPONENTS\n",
    "      # 你的功能包在这里列出\n",
    "      actionlib_msgs\n",
    ")"
   ]
  },
  {
   "cell_type": "markdown",
   "metadata": {},
   "source": [
    "### <span style=\"color: green;\" id=\"add_action_files\">II. add_action_files()</span>"
   ]
  },
  {
   "cell_type": "markdown",
   "metadata": {},
   "source": [
    "该函数包含所有来自需要编译的功能包(存储在 <b>action</b> 文件夹中)的行为消息。<br>\n",
    "把它们放置在FILES标签的下面。"
   ]
  },
  {
   "cell_type": "code",
   "execution_count": null,
   "metadata": {
    "collapsed": true
   },
   "outputs": [],
   "source": [
    "add_action_files(\n",
    "      FILES\n",
    "      Name.action\n",
    ")"
   ]
  },
  {
   "cell_type": "markdown",
   "metadata": {},
   "source": [
    "### <span style=\"color: green;\" id=\"generate_messages\">III. generate_messages()</span>"
   ]
  },
  {
   "cell_type": "markdown",
   "metadata": {},
   "source": [
    "行为消息编译需要的功能包导入到这里。把与find_package中相同的内容添加在这里。"
   ]
  },
  {
   "cell_type": "code",
   "execution_count": null,
   "metadata": {
    "collapsed": true
   },
   "outputs": [],
   "source": [
    "generate_messages(\n",
    "      DEPENDENCIES\n",
    "      actionlib_msgs \n",
    "      # Your packages go here\n",
    ")"
   ]
  },
  {
   "cell_type": "markdown",
   "metadata": {},
   "source": [
    "### <span style=\"color: green;\" id=\"catkin_package\">IV. catkin_package()</span>"
   ]
  },
  {
   "cell_type": "markdown",
   "metadata": {},
   "source": [
    "这里给出运行你功能包中的某个程序所需要的所有功能包。 这里给出的所有功能包必须作为 <run_depend> 位于 package.xml 文件中。"
   ]
  },
  {
   "cell_type": "code",
   "execution_count": null,
   "metadata": {
    "collapsed": true
   },
   "outputs": [],
   "source": [
    "catkin_package(\n",
    "      CATKIN_DEPENDS\n",
    "      rospy\n",
    "      # 你的功能包依赖项\n",
    ")"
   ]
  },
  {
   "cell_type": "markdown",
   "metadata": {},
   "source": [
    "完成后的代码应该是这样的："
   ]
  },
  {
   "cell_type": "code",
   "execution_count": null,
   "metadata": {
    "collapsed": true
   },
   "outputs": [],
   "source": [
    "cmake_minimum_required(VERSION 2.8.3)\n",
    "project(my_custom_action_msg_pkg)\n",
    "\n",
    "## Find catkin macros and libraries\n",
    "## if COMPONENTS list like find_package(catkin REQUIRED COMPONENTS xyz)\n",
    "## is used, also find other catkin packages\n",
    "find_package(catkin REQUIRED COMPONENTS\n",
    "  std_msgs \n",
    "  actionlib_msgs\n",
    ")\n",
    "\n",
    "## Generate actions in the 'action' folder\n",
    "add_action_files(\n",
    "   FILES\n",
    "   Name.action\n",
    " )\n",
    "\n",
    "## Generate added messages and services with any dependencies listed here\n",
    "generate_messages(\n",
    "   DEPENDENCIES\n",
    "   std_msgs actionlib_msgs\n",
    " )\n",
    "\n",
    "catkin_package(\n",
    " CATKIN_DEPENDS rospy\n",
    ")\n",
    "\n",
    "## Specify additional locations of header files\n",
    "## Your package locations should be listed before other locations\n",
    "# include_directories(include)\n",
    "include_directories(\n",
    "  ${catkin_INCLUDE_DIRS}\n",
    ")"
   ]
  },
  {
   "cell_type": "markdown",
   "metadata": {},
   "source": [
    "### 修改 package.xml:"
   ]
  },
  {
   "cell_type": "markdown",
   "metadata": {},
   "source": [
    "1.- 添加编译服务消息所需要的所有功能包。\n",
    "\n",
    "如果，**.action** 文件中的一个变量使用一个在std_msgs功能包外定义的消息，例如**nav_msgs/Odometry** ，那么你需要导入它。要这样做，你需要添加如下代码，将**nav_msgs** 功能包导入为 **&lt;build_depend&gt;** ："
   ]
  },
  {
   "cell_type": "code",
   "execution_count": null,
   "metadata": {
    "collapsed": true
   },
   "outputs": [],
   "source": [
    "<build_depend>nav_msgs<build_depend>"
   ]
  },
  {
   "cell_type": "markdown",
   "metadata": {},
   "source": [
    "2.- 另一方面，如果运行功能包中的程序需要一个功能包，你必须将那个需要的功能包导入为 **&lt;run_depend&gt;** 。添加如下代码："
   ]
  },
  {
   "cell_type": "code",
   "execution_count": null,
   "metadata": {
    "collapsed": true
   },
   "outputs": [],
   "source": [
    "<run_depend>nav_msgs</run_depend>"
   ]
  },
  {
   "cell_type": "markdown",
   "metadata": {},
   "source": [
    "当你编译定制行为消息时，需要**强制** 将**actionlib_msgs** 添加为build_dependency。"
   ]
  },
  {
   "cell_type": "code",
   "execution_count": null,
   "metadata": {
    "collapsed": true
   },
   "outputs": [],
   "source": [
    "<build_depend>actionlib_msgs</build_depend>"
   ]
  },
  {
   "cell_type": "markdown",
   "metadata": {},
   "source": [
    "如果你使用的是Python，需要 **强制** 将 **rospy** 作为 **run_dependency** 。"
   ]
  },
  {
   "cell_type": "code",
   "execution_count": null,
   "metadata": {
    "collapsed": true
   },
   "outputs": [],
   "source": [
    "<run_depend>rospy</run_depend>"
   ]
  },
  {
   "cell_type": "markdown",
   "metadata": {},
   "source": [
    "这是由于运行所有的python ROS代码需要rospy python模块。"
   ]
  },
  {
   "cell_type": "markdown",
   "metadata": {},
   "source": [
    "概括起来，最后的package.xml文件看起来是这样的："
   ]
  },
  {
   "cell_type": "code",
   "execution_count": null,
   "metadata": {
    "collapsed": true
   },
   "outputs": [],
   "source": [
    "<?xml version=\"1.0\"?>\n",
    "<package>\n",
    "  <name>my_custom_action_msg_pkg</name>\n",
    "  <version>0.0.0</version>\n",
    "  <description>The my_custom_action_msg_pkg package</description>\n",
    "  <maintainer email=\"user@todo.todo\">user</maintainer>\n",
    "  <license>TODO</license>\n",
    "\n",
    "  <buildtool_depend>catkin</buildtool_depend>\n",
    "  <build_depend>std_msgs</build_depend>\n",
    "  <build_depend>actionlib_msgs</build_depend>\n",
    "  \n",
    "  <run_depend>rospy</run_depend>\n",
    "\n",
    "  <export>\n",
    "  </export>\n",
    "</package>"
   ]
  },
  {
   "cell_type": "markdown",
   "metadata": {},
   "source": [
    "最后，一切设置正确后，运行下面的命令进行编译："
   ]
  },
  {
   "cell_type": "code",
   "execution_count": null,
   "metadata": {
    "collapsed": true
   },
   "outputs": [],
   "source": [
    "roscd; cd ..\n",
    "catkin_make\n",
    "source devel/setup.bash\n",
    "rosmsg list | grep Name"
   ]
  },
  {
   "cell_type": "markdown",
   "metadata": {},
   "source": [
    "你会得到类似下面的输出："
   ]
  },
  {
   "cell_type": "code",
   "execution_count": null,
   "metadata": {
    "collapsed": true
   },
   "outputs": [],
   "source": [
    "my_custom_action_msg_pkg/NameAction\n",
    "my_custom_action_msg_pkg/NameActionFeedback\n",
    "my_custom_action_msg_pkg/NameActionGoal\n",
    "my_custom_action_msg_pkg/NameActionResult\n",
    "my_custom_action_msg_pkg/NameFeedback\n",
    "my_custom_action_msg_pkg/NameGoal\n",
    "my_custom_action_msg_pkg/NameResult"
   ]
  },
  {
   "cell_type": "markdown",
   "metadata": {},
   "source": [
    "<p style=\"background:green;color:white;\">**注**</p><br>\n",
    "注意，你没有在所有的地方都导入<b>std_msgs</b>功能包。但你可以在你的定制行为中使用该功能包中声明的消息。这是由于该功能包是roscore文件系统的一部分， 它嵌入到了编译协议中，因此无需再进行声明。"
   ]
  },
  {
   "cell_type": "markdown",
   "metadata": {},
   "source": [
    "<p style=\"background:#EE9023;color:white;\">**练习 4.14: 使用定制行为消息的行为服务器创建一个移动无人机的功能包**</p>"
   ]
  },
  {
   "cell_type": "markdown",
   "metadata": {},
   "source": [
    "* 在前面的功能包中的，你创建了 <a href=\"#ex-4-13\">[Ex 4.13]</a>, 为四旋翼无人机创建了一个新的行为服务器。\n",
    "* 新的行为服务器将接收两个单词作为目标： UP 或者 DOWN。\n",
    "* 当行为服务器接收到 UP 时, 它将使无人机向上运动1米。\n",
    "* 当行为服务器接收到 DOWN 时, 它将使无人机向下运动1米。\n",
    "* 作为反馈，它每秒反馈一次正在发生的行为（向上或向下）。\n",
    "* 行为结束后，什么都不返回。"
   ]
  },
  {
   "cell_type": "markdown",
   "metadata": {},
   "source": [
    "<p style=\"background:#3B8F10;color:white;\">**练习 4.14数据**</p>"
   ]
  },
  {
   "cell_type": "markdown",
   "metadata": {},
   "source": [
    "* 你需要创建一个类型为<i>String</i>的新行为消息。该类型可以从 <i>std_msgs</i>功能包导入。\n",
    "* 该行为消息的结果部分将是空的。\n",
    "* 由于我们用的是无人机，你可以在三个轴上指定扭转（Twist）速度。这样做可以上下移动无人机。"
   ]
  },
  {
   "cell_type": "markdown",
   "metadata": {},
   "source": [
    "<p style=\"background:#EE9023;color:white;\">**练习 4.14结束**</p>"
   ]
  },
  {
   "cell_type": "markdown",
   "metadata": {},
   "source": [
    "<p style=\"background:green;color:white;\">练习 4.14解决方案</p>"
   ]
  },
  {
   "cell_type": "markdown",
   "metadata": {},
   "source": [
    "请尽量独自完成，除非你陷入困境或需要一些灵感。如果每一个练习你都认真对待的话，你会学到更多！"
   ]
  },
  {
   "cell_type": "markdown",
   "metadata": {},
   "source": [
    "<img src=\"img/robotignite_logo_text.png\"/>"
   ]
  },
  {
   "cell_type": "markdown",
   "metadata": {},
   "source": [
    "按照下面的链接打开解决方案笔记本：[Actions Part2 Solutions](extra_files/unit4_basicROS_part2_solutions.ipynb)"
   ]
  },
  {
   "cell_type": "markdown",
   "metadata": {},
   "source": [
    "<p style=\"background:green;color:white;\">练习 4.14解决方案结束</p>"
   ]
  },
  {
   "cell_type": "markdown",
   "metadata": {},
   "source": [
    "## 更多的学习资料"
   ]
  },
  {
   "cell_type": "markdown",
   "metadata": {},
   "source": [
    "ROS 行为: http://wiki.ros.org/actionlib\n",
    "\n",
    "行为工作机制: http://wiki.ros.org/actionlib/DetailedDescription"
   ]
  }
 ],
 "metadata": {
  "anaconda-cloud": {},
  "kernelspec": {
   "display_name": "Python 3",
   "language": "python",
   "name": "python3"
  },
  "language_info": {
   "codemirror_mode": {
    "name": "ipython",
    "version": 3
   },
   "file_extension": ".py",
   "mimetype": "text/x-python",
   "name": "python",
   "nbconvert_exporter": "python",
   "pygments_lexer": "ipython3",
   "version": "3.6.4"
  },
  "latex_metadata": {
   "chapter": "4 - ROS Actions",
   "chapter_title": "Unit 4. ROS Actions Part 2",
   "course_title": "ROS BASICS IN 5 DAYS"
  }
 },
 "nbformat": 4,
 "nbformat_minor": 1
}
