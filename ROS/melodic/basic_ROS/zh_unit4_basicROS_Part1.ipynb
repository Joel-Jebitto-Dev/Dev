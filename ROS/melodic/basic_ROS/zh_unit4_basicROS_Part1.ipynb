{
 "cells": [
  {
   "cell_type": "markdown",
   "metadata": {},
   "source": [
    "# <font class='ign_color'>5天学ROS</font>"
   ]
  },
  {
   "cell_type": "markdown",
   "metadata": {},
   "source": [
    "# Unit 4: ROS 行为"
   ]
  },
  {
   "cell_type": "markdown",
   "metadata": {
    "caption": "Drone",
    "image": true,
    "name": "drone",
    "width": "8cm"
   },
   "source": [
    "<img src=\"img/drone.jpg\" width=\"450\" />"
   ]
  },
  {
   "cell_type": "markdown",
   "metadata": {},
   "source": [
    "<b>预计完成时间:</b> 3 hours\n",
    "<br><br>\n",
    "<b>从本单元你将学到：</b>\n",
    "\n",
    "* 什么是ROS行为？\n",
    "* 如何管理一个机器人的行为？\n",
    "* 如何调用一个行为服务器？"
   ]
  },
  {
   "cell_type": "markdown",
   "metadata": {},
   "source": [
    "## Part 1"
   ]
  },
  {
   "cell_type": "markdown",
   "metadata": {},
   "source": [
    "1) 你是否已掌握前面学过的主题和服务？<br>\n",
    "2) 它们对你来说已经很清晰了吗？<br>\n",
    "3) 你今天早餐吃得好吗？<br>\n",
    "\n",
    "对于这三个问题，如果你的回答都是“是”的话，那么你已经做好了学习ROS行为的准备。否则，不要开始下面的学习，直到你的答案都是“是”。\n",
    "你需要对这三个问题作出肯定的回答..."
   ]
  },
  {
   "cell_type": "markdown",
   "metadata": {},
   "source": [
    "#### 四旋翼仿真"
   ]
  },
  {
   "cell_type": "markdown",
   "metadata": {},
   "source": [
    "开始学习ROS行为前，让我们先尝试和体验一下四旋翼无人机仿真。<br>\n",
    "使四旋翼无人机起飞，用键盘操控它。<br> \n",
    "你该怎么做？\n",
    "\n",
    "运行下面的命令："
   ]
  },
  {
   "cell_type": "markdown",
   "metadata": {},
   "source": [
    "首先，使四旋翼无人机起飞。"
   ]
  },
  {
   "cell_type": "markdown",
   "metadata": {},
   "source": [
    "<table style=\"float:left;background: #407EAF\">\n",
    "<tr>\n",
    "<th>\n",
    "<p class=\"transparent\">在WebShell #1运行</p>\n",
    "</th>\n",
    "</tr>\n",
    "</table>"
   ]
  },
  {
   "cell_type": "code",
   "execution_count": null,
   "metadata": {
    "collapsed": true
   },
   "outputs": [],
   "source": [
    "rostopic pub /drone/takeoff std_msgs/Empty \"{}\""
   ]
  },
  {
   "cell_type": "markdown",
   "metadata": {},
   "source": [
    "按下 **CTRL+C** 使它停止，然后可以输入更多的命令。在该例中，使用键盘控制该无人机的飞行。"
   ]
  },
  {
   "cell_type": "markdown",
   "metadata": {},
   "source": [
    "\n",
    "<table style=\"float:left;background: #407EAF\">\n",
    "<tr>\n",
    "<th>\n",
    "<p class=\"transparent\">在WebShell #1运行</p>\n",
    "</th>\n",
    "</tr>\n",
    "</table>"
   ]
  },
  {
   "cell_type": "code",
   "execution_count": null,
   "metadata": {
    "collapsed": true
   },
   "outputs": [],
   "source": [
    "rosrun teleop_twist_keyboard teleop_twist_keyboard.py"
   ]
  },
  {
   "cell_type": "markdown",
   "metadata": {},
   "source": [
    "要使无人机无人机着陆，只需向 **/drone/land** 主题发布消息："
   ]
  },
  {
   "cell_type": "markdown",
   "metadata": {},
   "source": [
    "<table style=\"float:left;background: #407EAF\">\n",
    "<tr>\n",
    "<th>\n",
    "<p class=\"transparent\">在WebShell #1运行</p>\n",
    "</th>\n",
    "</tr>\n",
    "</table>"
   ]
  },
  {
   "cell_type": "code",
   "execution_count": null,
   "metadata": {
    "collapsed": true
   },
   "outputs": [],
   "source": [
    "rostopic pub /drone/land std_msgs/Empty \"{}\""
   ]
  },
  {
   "cell_type": "markdown",
   "metadata": {},
   "source": [
    "<p style=\"background:#3B8F10;color:white;\">**代码解释 #1**</p>"
   ]
  },
  {
   "cell_type": "markdown",
   "metadata": {},
   "source": [
    "**\"rosrun\"**: ROS命令，用来在无需创建launch启动文件的情况下运行ROS程序（这是与本课程前面所使用的方法不同的一种方式）。\n",
    "\n",
    "**\"teleop_twist_keyboard\"**: 该ROS程序所在的功能包名称。本例中为python可执行文件所在的那个功能包。\n",
    "\n",
    "**\"teleop_twist_keyboard.py\"**: 将被运行的Python可执行文件。本例中，它是一个用来通过键盘输入运动命令的可执行程序。被执行后，它显示控制该无人机运动的指令。"
   ]
  },
  {
   "cell_type": "markdown",
   "metadata": {},
   "source": [
    "<p style=\"background:#3B8F10;color:white;\">**代码解释 #1结束**</p>"
   ]
  },
  {
   "cell_type": "markdown",
   "metadata": {
    "caption": "Ardrone moved with teleop twist keyboard",
    "image": true,
    "name": "unit4_quadrotor",
    "width": "10cm"
   },
   "source": [
    "<figure>\n",
    "  <img id=\"fig-4.1\" src=\"img/unit4_quadrotor.gif\"></img>\n",
    "   <center> <figcaption>图.4.1 - 使用teleop_twist_keyboard.py控制的无人机</figcaption></center>\n",
    "</figure>"
   ]
  },
  {
   "cell_type": "markdown",
   "metadata": {},
   "source": [
    "<p style=\"background:#EE9023;color:white;\">**练习 4.1**</p><br>\n",
    "如图<a href=\"#fig-4.1\">{Fig:4.1}</a>中所示的那样，使用键盘控制无人机的起飞、飞行和着陆。"
   ]
  },
  {
   "cell_type": "markdown",
   "metadata": {},
   "source": [
    "<p style=\"background:#EE9023;color:white;\">**练习4.1结束**</p>"
   ]
  },
  {
   "cell_type": "markdown",
   "metadata": {},
   "source": [
    "### 什么是行为？"
   ]
  },
  {
   "cell_type": "markdown",
   "metadata": {},
   "source": [
    "#### 行为就像对服务的异步调用。"
   ]
  },
  {
   "cell_type": "markdown",
   "metadata": {},
   "source": [
    "行为与服务非常类似。当你调用一个行为时，你在调用其他节点所提供的某项功能，这一点与服务相同。不同之处在于，当你的节点调用服务时，它必须一直等着，直到服务结束。<b>当你的节点调用一个行为时，它无需必须等待行为完成才能执行其他任务。</b> \n",
    "\n",
    "<b>因此，行为是对其他节点功能的异步调用</b>。"
   ]
  },
  {
   "cell_type": "markdown",
   "metadata": {},
   "source": [
    "\n",
    "\n",
    "* 提供该功能的节点必须包含一个 <b>行为服务器action server</b>。\n",
    "<i>行为服务器</i> 允许其他节点调用它的行为功能。\n",
    "\n",
    "\n",
    "* 调用该功能的节点必须包含一个 <b>行为客户端</b>。\n",
    "<i>行为客户端</i> 允许一个节点连接至其他节点的 <i>行为服务器</i>。\n",
    "\n",
    "\n",
    "\n",
    "\n"
   ]
  },
  {
   "cell_type": "markdown",
   "metadata": {
    "caption": "Action Interface Diagram showing the under-the-hood communication system",
    "image": true,
    "name": "action_interface",
    "width": "10cm"
   },
   "source": [
    "<figure>\n",
    "  <img id=\"fig-4.2\" src=\"img/action_interface.png\"/>\n",
    "  <br>\n",
    "  <center> <figcaption>图.4.2 - 显示底层通信系统的行为界面图</figcaption></center>\n",
    "</figure>"
   ]
  },
  {
   "cell_type": "markdown",
   "metadata": {},
   "source": [
    "现在，让我们看一个行为中的行为（很有趣）！"
   ]
  },
  {
   "cell_type": "markdown",
   "metadata": {},
   "source": [
    "<p style=\"background:#EE9023;color:white;\" id=\"ex-4-2\">**练习 4.2**</p><br>\n",
    "在一个终端通过下面的命令启动无人机行为服务器：<br><br>\n",
    "<span style=\"color:red;\">**重要!!** 保持该程序一直运行，直到本单元课程结束，因为该程序将提供你将要使用的行为服务器。</span>\n",
    "\n",
    "<table style=\"float:left;background: #407EAF\">\n",
    "<tr>\n",
    "<th>\n",
    "<p class=\"transparent\">在WebShell #1运行, <span class=\"ign_red\">使其保持运行</span></p>\n",
    "</th>\n",
    "</tr>\n",
    "</table>"
   ]
  },
  {
   "cell_type": "code",
   "execution_count": null,
   "metadata": {
    "collapsed": true
   },
   "outputs": [],
   "source": [
    "roslaunch ardrone_as action_server.launch"
   ]
  },
  {
   "cell_type": "markdown",
   "metadata": {},
   "source": [
    "<b>问题：</b><br>\n",
    "\n",
    "* 如何获取可用的主题列表？\n"
   ]
  },
  {
   "cell_type": "markdown",
   "metadata": {
    "collapsed": true
   },
   "source": [
    "<table style=\"float:left;background: #407EAF\">\n",
    "<tr>\n",
    "<th>\n",
    "<p class=\"transparent\">在WebShell #2运行</p>\n",
    "</th>\n",
    "</tr>\n",
    "</table>"
   ]
  },
  {
   "cell_type": "code",
   "execution_count": null,
   "metadata": {
    "collapsed": true
   },
   "outputs": [],
   "source": [
    "rostopic list"
   ]
  },
  {
   "cell_type": "markdown",
   "metadata": {},
   "source": [
    "\n",
    "* 如何获取可用的服务列表？\n"
   ]
  },
  {
   "cell_type": "markdown",
   "metadata": {
    "collapsed": true
   },
   "source": [
    "<table style=\"float:left;background: #407EAF\">\n",
    "<tr>\n",
    "<th>\n",
    "<p class=\"transparent\">在WebShell #2运行</p>\n",
    "</th>\n",
    "</tr>\n",
    "</table>"
   ]
  },
  {
   "cell_type": "code",
   "execution_count": null,
   "metadata": {
    "collapsed": true
   },
   "outputs": [],
   "source": [
    "rosservice list"
   ]
  },
  {
   "cell_type": "markdown",
   "metadata": {},
   "source": [
    "\n",
    "* 如何获取可用的行为服务器列表？\n"
   ]
  },
  {
   "cell_type": "markdown",
   "metadata": {
    "collapsed": true
   },
   "source": [
    "<table style=\"float:left;background: #407EAF\">\n",
    "<tr>\n",
    "<th>\n",
    "<p class=\"transparent\">在WebShell #2运行</p>\n",
    "</th>\n",
    "</tr>\n",
    "</table>"
   ]
  },
  {
   "cell_type": "code",
   "execution_count": null,
   "metadata": {
    "collapsed": true
   },
   "outputs": [],
   "source": [
    "rosaction list"
   ]
  },
  {
   "cell_type": "markdown",
   "metadata": {
    "caption": "Did not Say The Magic Word",
    "image": true,
    "name": "giphy",
    "width": "10cm"
   },
   "source": [
    "<br><br><br><br>\n",
    "<center>\n",
    "    <h3>猜错了!!!</h3>\n",
    "    <figure>\n",
    "      <img id=\"fig-4.3\" src=\"img/giphy.gif\" height=\"420\" width=\"420\"/>\n",
    "       <center> <figcaption>图.4.3 - 没有说出最关键的字 </figcaption></center>\n",
    "    </figure>\n",
    "</center>\n",
    "<br><br><br><br>"
   ]
  },
  {
   "cell_type": "markdown",
   "metadata": {},
   "source": [
    "为了查看一个机器人上哪些行为可用，你必须使用 **<i>rostopic list。</i>**"
   ]
  },
  {
   "cell_type": "markdown",
   "metadata": {},
   "source": [
    "<table style=\"float:left;background: #407EAF\">\n",
    "<tr>\n",
    "<th>\n",
    "<p class=\"transparent\">在WebShell #2运行</p>\n",
    "</th>\n",
    "</tr>\n",
    "</table>\n",
    "\n"
   ]
  },
  {
   "cell_type": "code",
   "execution_count": null,
   "metadata": {
    "collapsed": true
   },
   "outputs": [],
   "source": [
    "rostopic list"
   ]
  },
  {
   "cell_type": "markdown",
   "metadata": {},
   "source": [
    "<table style=\"float:left;background: #407EAF\">\n",
    "<tr>\n",
    "<th>\n",
    "<p class=\"transparent\">WebShell #2 输出</p>\n",
    "</th>\n",
    "</tr>\n",
    "</table>"
   ]
  },
  {
   "cell_type": "code",
   "execution_count": null,
   "metadata": {
    "collapsed": true
   },
   "outputs": [],
   "source": [
    "user ~ $ rostopic list\n",
    "...\n",
    "...\n",
    "/ardrone_action_server/cancel\n",
    "/ardrone_action_server/feedback\n",
    "/ardrone_action_server/goal\n",
    "/ardrone_action_server/result\n",
    "/ardrone_action_server/status\n",
    "...\n",
    "..."
   ]
  },
  {
   "cell_type": "markdown",
   "metadata": {},
   "source": [
    "<p style=\"background:#EE9023;color:white;\" id=\"ex-4-2\">**练习 4.2结束**</p>"
   ]
  },
  {
   "cell_type": "markdown",
   "metadata": {},
   "source": [
    "当一个机器人提供行为时，你会做主题列表中看到它。这里有基名称相同的5个主题，子主题名分别为**<i>cancel</i>**, **<i>feedback</i>**, **<i>goal</i>**, **<i>result</i>**, and **<i>status</i>**。 \n",
    "\n",
    "例如，刚才运行rostopic list后, 列出的主题如下："
   ]
  },
  {
   "cell_type": "code",
   "execution_count": null,
   "metadata": {
    "collapsed": true
   },
   "outputs": [],
   "source": [
    "/ardrone_action_server/cancel\n",
    "/ardrone_action_server/feedback\n",
    "/ardrone_action_server/goal\n",
    "/ardrone_action_server/result\n",
    "/ardrone_action_server/status"
   ]
  },
  {
   "cell_type": "markdown",
   "metadata": {},
   "source": [
    "这是由于你刚才使用命令<b>roslaunch ardrone_as action_server.launch</b> <a href=\"#ex-4-2\">( 练习 4.2 )</a>启动了 <b>ardrone_action_server</b>。"
   ]
  },
  {
   "cell_type": "markdown",
   "metadata": {},
   "source": [
    "<b>每个行为服务器都会创建这5个主题，因此当你看到这5个主题时，你可以始终认为行为服务器一直在工作。</b>"
   ]
  },
  {
   "cell_type": "markdown",
   "metadata": {},
   "source": [
    "因此，在上面的例子中：\n",
    "<br>\n",
    "\n",
    "* <span style=\"background: #407EAF; color: white\"><b>ardrone_action_server</b></span>: 是行为服务器的名称。\n",
    "<br><br>\n",
    "* <span style=\"background: #407EAF;color: orange\"><b>cancel, feedback, goal, result and status</b></span>: 是用来与行为服务器交流的消息。</li>\n"
   ]
  },
  {
   "cell_type": "markdown",
   "metadata": {},
   "source": [
    "### 调用一个行为服务器"
   ]
  },
  {
   "cell_type": "markdown",
   "metadata": {},
   "source": [
    "**<i>ardrone_action_server</i>** 行为服务器是一个你可以调用的行为。当你调用它时，它开始用前置摄像头拍照，在调用消息中指定的时间内(一个你在调用中指定的参数)每秒拍一张。"
   ]
  },
  {
   "cell_type": "markdown",
   "metadata": {},
   "source": [
    "<b>调用一个行为服务器意味着向它发送一条消息</b>。 与<i>主题</i> 和 <i>服务</i>相同, 它们均通过来回传送消息进行工作。\n",
    "\n",
    "\n",
    "* 主题消息只有一个部分组成：主题提供的信息。<br>\n",
    "* 服务消息包括两部分：目标和响应。<br>\n",
    "* <b>行为服务器消息包括三部分：目标、结果和反馈。</b>\n"
   ]
  },
  {
   "cell_type": "markdown",
   "metadata": {},
   "source": [
    "所有使用的行为消息定义在它们功能包的 **<i>action</i>** 目录中。<br><br>\n",
    "你可以进入 **<i>ardrone_as</i>** 功能包，查看它的 **<i>action</i>** 目录。在 <i>action</i> 目录中，有一个名为 **<i>Ardrone.action</i>** 的文件。该文件指定了该行为所使用的消息类型。\n",
    "\n",
    "在一个终端输入下面的命令，查看行为消息的结构："
   ]
  },
  {
   "cell_type": "markdown",
   "metadata": {},
   "source": [
    "<p style=\"background:#EE9023;color:white;\">**练习 4.3**</p><br>\n",
    "在一个终端输入下面的命令，查看行为消息的结构：<br>\n",
    "\n",
    "<table style=\"float:left;background: #407EAF\">\n",
    "<tr>\n",
    "<th>\n",
    "<p class=\"transparent\">在WebShell #2运行</p>\n",
    "</th>\n",
    "</tr>\n",
    "</table>"
   ]
  },
  {
   "cell_type": "code",
   "execution_count": null,
   "metadata": {
    "collapsed": true
   },
   "outputs": [],
   "source": [
    "roscd ardrone_as/action; cat Ardrone.action"
   ]
  },
  {
   "cell_type": "markdown",
   "metadata": {},
   "source": [
    "<table style=\"float:left;background: #407EAF\">\n",
    "<tr>\n",
    "<th>\n",
    "<p class=\"transparent\">WebShell #2 输出</p>\n",
    "</th>\n",
    "</tr>\n",
    "</table>"
   ]
  },
  {
   "cell_type": "code",
   "execution_count": null,
   "metadata": {
    "collapsed": true
   },
   "outputs": [],
   "source": [
    "user ~ $ roscd ardrone_as/action; cat Ardrone.action\n",
    "#无人机的目标\n",
    "int32 nseconds  # 无人机拍照的秒数\n",
    "---\n",
    "#结果\n",
    "sensor_msgs/CompressedImage[] allPictures # 包含所有照片的一个数组\n",
    "---\n",
    "#反馈\n",
    "sensor_msgs/CompressedImage lastImage  # 拍摄的最后一张照片"
   ]
  },
  {
   "cell_type": "markdown",
   "metadata": {},
   "source": [
    "<p style=\"background:#EE9023;color:white;\">**练习 4.3结束**</p>"
   ]
  },
  {
   "cell_type": "markdown",
   "metadata": {},
   "source": [
    "从前面你可以看到，行为服务器的消息包括三部分：\n",
    "<br><br>\n",
    "<span style=\"color: orange\"><b>目标</b></span>: 由一个类型为**<i>Int32</i>** 名为 **<i>nseconds</i>** 的变量组成。Int32 是一个标准的ROS消息，因此，你可以在 <a href=\"http://wiki.ros.org/std_msgs\" target=\"Empty\">std_msgs package</a>中找到它。由于它是ROS的一个标准功能包， 因此无需指定该功能包就可以找到 <i>Int32</i> 。 <br>\n",
    "<span style=\"color: orange\"><b>结果</b></span>: 由一个名为 **<i>allPictures</i>** 的变量组成, 它是一个 **<i>CompressedImage[]</i>** 类型的数组, 位于功能包 <a href=\"http://wiki.ros.org/sensor_msgs\" target=\"Empty\">sensor_msgs package</a>中。<br>\n",
    "<span style=\"color: orange\"><b>反馈</b></span>: 由一个名为 **<i>lastImage</i>** 的变量组成，类型为 **<i>CompressedImage[]</i>** 。 该类型位于功能包 <a href=\"http://wiki.ros.org/sensor_msgs\" target=\"Empty\">sensor_msgs package</a>中。<br>\n",
    "\n",
    "在本单元的第二部分你将学习如何创建自己的行为消息。现在，你只需知道，行为消息包括三部分，每一部分包含 <b>不止一个</b>变量。"
   ]
  },
  {
   "cell_type": "markdown",
   "metadata": {},
   "source": [
    "### 行为提供反馈"
   ]
  },
  {
   "cell_type": "markdown",
   "metadata": {},
   "source": [
    "调用一个行为服务器不会打断你的线程。行为服务器提供一个名为<b><i>the feedback</i></b>的消息。\n",
    "反馈是一个消息。行为服务器每隔一段时间生成一个反馈，告诉调用者被请求行为的状态。反馈是在行为正在进行的时候产生的。"
   ]
  },
  {
   "cell_type": "markdown",
   "metadata": {},
   "source": [
    "### 如何调用一个行为服务器？"
   ]
  },
  {
   "cell_type": "markdown",
   "metadata": {},
   "source": [
    "调用行为服务器是通过一个 <i><b>行为客户端</b></i>来进行的。\n",
    "\n",
    "下面的例子解释了如何通过一个行为客户端来调用ardrone_action_server进行拍照（10秒钟）。"
   ]
  },
  {
   "cell_type": "markdown",
   "metadata": {},
   "source": [
    "<p style=\"background:#EE9023;color:white;\">**练习 4.4**</p><br>\n",
    "点击IPython notebook右上角的“play”按钮运行Python代码 <a href=\"#prg-4-4a\">ardone_action_client.py</a> 。\n",
    "<br><br> \n",
    "<div class='white_bg'><img src=\"img/font-awesome_step-forward.png\" style=\"float:left\"/><br><br></div>\n",
    "<br>\n",
    "你也可以按下 **<i>[CTRL]+[Enter]</i>** 组合键运行它。<br><br>\n",
    "观察如何接受反馈消息 (打印在代码下面)。<br>\n",
    "\n",
    "<font style=\"color:red;\">**重要!!** 记住，你必须使 **<i>roslaunch ardrone_as action_server.launch</i>** 在运行 (可能在WebShell #1), 否则它会由于没有可以连接的行为服务器而无法工作。</font>"
   ]
  },
  {
   "cell_type": "markdown",
   "metadata": {},
   "source": [
    "<p style=\"background:#EE9023;color:white;\">**练习 4.4**</p>"
   ]
  },
  {
   "cell_type": "markdown",
   "metadata": {},
   "source": [
    "<p style=\"background:#3B8F10;color:white;\" id=\"prg-4-4a\">**Python Program {4.4a}: ardrone_action_client.py** </p>"
   ]
  },
  {
   "cell_type": "code",
   "execution_count": null,
   "metadata": {
    "collapsed": true
   },
   "outputs": [],
   "source": [
    "#! /usr/bin/env python\n",
    "import rospy\n",
    "import time\n",
    "import actionlib\n",
    "from ardrone_as.msg import ArdroneAction, ArdroneGoal, ArdroneResult, ArdroneFeedback\n",
    "\n",
    "nImage = 1\n",
    "\n",
    "# definition of the feedback callback. This will be called when feedback\n",
    "# is received from the action server\n",
    "# it just prints a message indicating a new message has been received\n",
    "def feedback_callback(feedback):\n",
    "    global nImage\n",
    "    print('[Feedback] image n.%d received'%nImage)\n",
    "    nImage += 1\n",
    "\n",
    "# initializes the action client node\n",
    "rospy.init_node('drone_action_client')\n",
    "\n",
    "# create the connection to the action server\n",
    "client = actionlib.SimpleActionClient('/ardrone_action_server', ArdroneAction)\n",
    "# waits until the action server is up and running\n",
    "client.wait_for_server()\n",
    "\n",
    "# creates a goal to send to the action server\n",
    "goal = ArdroneGoal()\n",
    "goal.nseconds = 10 # indicates, take pictures along 10 seconds\n",
    "\n",
    "# sends the goal to the action server, specifying which feedback function\n",
    "# to call when feedback received\n",
    "client.send_goal(goal, feedback_cb=feedback_callback)\n",
    "\n",
    "# Uncomment these lines to test goal preemption:\n",
    "#time.sleep(3.0)\n",
    "#client.cancel_goal()  # would cancel the goal 3 seconds after starting\n",
    "\n",
    "# wait until the result is obtained\n",
    "# you can do other stuff here instead of waiting\n",
    "# and check for status from time to time \n",
    "# status = client.get_state()\n",
    "# check the client API link below for more info\n",
    "\n",
    "client.wait_for_result()\n",
    "\n",
    "print('[Result] State: %d'%(client.get_state()))"
   ]
  },
  {
   "cell_type": "markdown",
   "metadata": {},
   "source": [
    "<p style=\"background:#3B8F10;color:white;\">**Python程序代码解释: {4.4a}**</p>"
   ]
  },
  {
   "cell_type": "markdown",
   "metadata": {},
   "source": [
    "调用行为服务器的代码非常简单：\n",
    "\n",
    "* 首先，创建一个连接到你想连接的行为服务器的客户端:<br><br>    \n",
    "    <center><i>client = actionlib.SimpleActionClient(<span style=\"color:green;\">'/ardrone_action_server'</span>, <span style=\"color:orange\">ArdroneAction</span>)</i></center>    \n",
    "    <center><i>client = actionlib.SimpleActionClient(<span style=\"color:green;\">'/the_action_server_name'</span>, <span style=\"color:orange\">the_action_server_message_python_object</span>)</i></center><br><br>\n",
    "    \n",
    " * <span style=\"color:green;\">First parameter</span> 是你想连接的行为服务器的名称。<br>\n",
    " * <span style=\"color:orange\">Second parameter</span> 是它所使用的行为消息的类型。规则如下：\n",
    "<br><br>\n",
    "如果你的 <b>行为消息文件</b> 叫做 **<i>Ardrone.action</i>**, 那么你必须指定行为消息类型为 **<i>ArdroneAction</i>** 。对其他任何类型(例如**<i>R2.action</i>** 文件的**<i>R2Action</i>** , 或者 **<i>Luke.action</i>** 文件的**<i>LukeAction</i>** )，该规则同样适用。在我们的练习中，它是： \n",
    "<br><br>\n",
    "<center><i>client = actionlib.SimpleAction('/ardrone_action_server', ArdroneAction)</i></center>\n",
    "\n",
    "    \n",
    "\n",
    "* 接着，创建一个目标：\n",
    "<br><br>\n",
    "    <center><i>goal = ArdroneGoal()</i></center>\n",
    "    <br>\n",
    "    同样，规则如下:\n",
    "    <br><br>\n",
    "    如果你的 <b>action message file</b> 叫做 **<i>Ardrone.action</i>**, 那么你必须指定行为消息类型为 **<i>ArdroneGoal()</i>** 。对其他任何类型(例如，**<i>R2.action</i>** 文件的 **<i>R2Goal()</i>** 或者 **<i>Luke.action</i>** 文件的 **<i>LukeGoal()</i>** )。\n",
    "    <br>\n",
    "    由于目标消息要求提供拍摄照片的秒钟数 (在 **<i>nseconds variable</i>** 中), 你必须在目标类实例中设置该参数：<br><br>\n",
    "    <center><i>goal.nseconds = 10</i></center><br>\n",
    "\n",
    "* 下一步，发送目标给行为服务器：\n",
    "<br><br>\n",
    "   <center><i>client.send_goal(goal, feedback_cb=feedback_callback)</i></center>\n",
    "   <br>\n",
    "   该语句调用行为。为了调用它，你必须指定两个东西：\n",
    "   \n",
    " 1. 目标参数\n",
    " 2. 一个可以随时调用的反馈函数，可以通过它了解行为的状态。\n",
    "   <br>\n",
    "   这个时候，行为服务器收到目标并开始运行它（拍摄照片10秒钟）。同时，反馈消息被接收。每接收到一条反馈消息，就运行 **<i>feedback_callback</i>** 函数。\n",
    "<br><br>\n",
    "* 最后，等待结果：\n",
    "<br><br>\n",
    "   <center><i>client.wait_for_result()</i></center>\n",
    "\n",
    "<br>"
   ]
  },
  {
   "cell_type": "markdown",
   "metadata": {},
   "source": [
    "<p style=\"background:#3B8F10;color:white;\">**代码 {4.4a}解释结束**</p>"
   ]
  },
  {
   "cell_type": "markdown",
   "metadata": {},
   "source": [
    "### 如何在行为运行过程中执行其他任务？"
   ]
  },
  {
   "cell_type": "markdown",
   "metadata": {},
   "source": [
    "你已经知道了如何调用一个行为并等待运行结果...这正是一个服务所做的！那么为什么还要学习行为呢？<br>\n",
    "说得好!<br><br>\n",
    "**SimpleActionClient** 对象有两个函数可以用来了解行为运行是否结束，以及如何结束的：<br>\n",
    "\n",
    "1) <b>wait_for_result()</b>: 该函数非常简单。被调用时，它一直等着，直到行为完成并返回一个真值。正如你看到的，如果你想并行执行其他任务是没有用的，因为该程序将会停在那里直到行为完成。<br>\n",
    "。\n",
    "2) <b>get_state()</b>: 该函数非常有趣。被调用时，它返回一个整数，该整数表示SimpleActionClient对象连接到的行为的状态。<br>\n",
    "\n",
    "0 ==> PENDING<br>\n",
    "1 ==> ACTIVE<br>\n",
    "2 ==> DONE<br>\n",
    "3 ==> WARN<br>\n",
    "4 ==> ERROR<br>\n",
    "\n",
    "这使得你能够创建一个while循环来检查get_state()函数返回的值是否是2或者更高。如果不是的话，表明行为仍在运行，你可先做其他事情。"
   ]
  },
  {
   "cell_type": "markdown",
   "metadata": {},
   "source": [
    "<p style=\"background:#EE9023;color:white;\">**练习 4.5**</p><br>\n",
    "点击IPython notebook右上角的“play”按钮分别运行下面的Python代码 {4.5a: wait_for_result_test.py} 和{4.5b: no_wait_for_result_test.py} 。\n",
    "<br><br> \n",
    "<div class='white_bg'><img src=\"img/font-awesome_step-forward.png\" style=\"float:left\"/><br><br></div>\n",
    "<br>\n",
    "你也可以按下 **<i>[CTRL]+[Enter]</i>** 组合键运行它。<br>\n",
    "\n",
    "程序完成后，别忘了 <span class=\"ign_red\">重启该内核</span>。该操作将清除所有ROS通过该python程序生成的节点。这是很必要的，因为python程序只能启动<b>一个</b> rospy 节点。由于该notebook只是一个分割的python脚本，如果你尝试在不重新启动内核的情况下连续执行两个程序，这将给出rospy Exception 错误。\n",
    "你可以按下该图标执行它。\n",
    "<br><br>\n",
    "<div class='white_bg'><img src=\"img/refresh_icon.png\" style=\"float:left\"/><br><br></div>\n",
    "<br>\n",
    "\n",
    "\n",
    "观察两者的不同 (代码打印如下) ，考虑一下为什么会这样。<br><br>\n",
    "\n",
    "<font style=\"color:red;\">**重要!!** 记住，你必须使 **<i>roslaunch ardrone_as action_server.launch</i>** 在运行 (可能在WebShell #1), 否则它会由于没有可以连接的行为服务器而无法工作。</font>"
   ]
  },
  {
   "cell_type": "markdown",
   "metadata": {},
   "source": [
    "<p style=\"background:#EE9023;color:white;\">**练习 4.5结束**</p>"
   ]
  },
  {
   "cell_type": "markdown",
   "metadata": {},
   "source": [
    "<p style=\"background:#3B8F10;color:white;\">**Python Program {4.5a}: wait_for_result_test.py** </p>"
   ]
  },
  {
   "cell_type": "code",
   "execution_count": null,
   "metadata": {
    "collapsed": true
   },
   "outputs": [],
   "source": [
    "#! /usr/bin/env python\n",
    "\n",
    "import rospy\n",
    "import time\n",
    "import actionlib\n",
    "from ardrone_as.msg import ArdroneAction, ArdroneGoal, ArdroneResult, ArdroneFeedback\n",
    "\n",
    "nImage = 1\n",
    "\n",
    "# definition of the feedback callback. This will be called when feedback\n",
    "# is received from the action server\n",
    "# it just prints a message indicating a new message has been received\n",
    "def feedback_callback(feedback):\n",
    "    global nImage\n",
    "    print('[Feedback] image n.%d received'%nImage)\n",
    "    nImage += 1\n",
    "    \n",
    "\n",
    "# initializes the action client node\n",
    "rospy.init_node('example_with_waitforresult_action_client_node')\n",
    "\n",
    "\n",
    "action_server_name = '/ardrone_action_server'\n",
    "client = actionlib.SimpleActionClient(action_server_name, ArdroneAction)\n",
    "\n",
    "# waits until the action server is up and running\n",
    "rospy.loginfo('Waiting for action Server '+action_server_name)\n",
    "client.wait_for_server()\n",
    "rospy.loginfo('Action Server Found...'+action_server_name)\n",
    "\n",
    "\n",
    "# creates a goal to send to the action server\n",
    "goal = ArdroneGoal()\n",
    "goal.nseconds = 10 # indicates, take pictures along 10 seconds\n",
    "\n",
    "client.send_goal(goal, feedback_cb=feedback_callback)\n",
    "rate = rospy.Rate(1)\n",
    "\n",
    "rospy.loginfo(\"Lets Start The Wait for the Action To finish Loop...\")\n",
    "while not client.wait_for_result():\n",
    "    rospy.loginfo(\"Doing Stuff while waiting for the Server to give a result....\")\n",
    "    rate.sleep()\n",
    "\n",
    "rospy.loginfo(\"Example with WaitForResult Finished.\")"
   ]
  },
  {
   "cell_type": "markdown",
   "metadata": {},
   "source": [
    "<p style=\"background:#3B8F10;color:white;\">**Python Program {4.5b}: no_wait_for_result_test.py** </p>"
   ]
  },
  {
   "cell_type": "code",
   "execution_count": null,
   "metadata": {
    "collapsed": true
   },
   "outputs": [],
   "source": [
    "#! /usr/bin/env python\n",
    "\n",
    "import rospy\n",
    "import time\n",
    "import actionlib\n",
    "from ardrone_as.msg import ArdroneAction, ArdroneGoal, ArdroneResult, ArdroneFeedback\n",
    "\n",
    "\"\"\"\n",
    "class SimpleGoalState:\n",
    "    PENDING = 0\n",
    "    ACTIVE = 1\n",
    "    DONE = 2\n",
    "    WARN = 3\n",
    "    ERROR = 4\n",
    "\n",
    "\"\"\"\n",
    "# We create some constants with the corresponing vaules from the SimpleGoalState class\n",
    "PENDING = 0\n",
    "ACTIVE = 1\n",
    "DONE = 2\n",
    "WARN = 3\n",
    "ERROR = 4\n",
    "\n",
    "nImage = 1\n",
    "\n",
    "# definition of the feedback callback. This will be called when feedback\n",
    "# is received from the action server\n",
    "# it just prints a message indicating a new message has been received\n",
    "def feedback_callback(feedback):\n",
    "    \"\"\"\n",
    "    Error that might jump\n",
    "    \n",
    "    self._feedback.lastImage = \n",
    "AttributeError: 'ArdroneAS' obj\n",
    "    \n",
    "    \"\"\"\n",
    "    global nImage\n",
    "    print('[Feedback] image n.%d received'%nImage)\n",
    "    nImage += 1\n",
    "\n",
    "# initializes the action client node\n",
    "rospy.init_node('example_no_waitforresult_action_client_node')\n",
    "\n",
    "action_server_name = '/ardrone_action_server'\n",
    "client = actionlib.SimpleActionClient(action_server_name, ArdroneAction)\n",
    "\n",
    "# waits until the action server is up and running\n",
    "rospy.loginfo('Waiting for action Server '+action_server_name)\n",
    "client.wait_for_server()\n",
    "rospy.loginfo('Action Server Found...'+action_server_name)\n",
    "\n",
    "# creates a goal to send to the action server\n",
    "goal = ArdroneGoal()\n",
    "goal.nseconds = 10 # indicates, take pictures along 10 seconds\n",
    "\n",
    "client.send_goal(goal, feedback_cb=feedback_callback)\n",
    "\n",
    "\n",
    "# You can access the SimpleAction Variable \"simple_state\", that will be 1 if active, and 2 when finished.\n",
    "#Its a variable, better use a function like get_state.\n",
    "#state = client.simple_state\n",
    "# state_result will give the FINAL STATE. Will be 1 when Active, and 2 if NO ERROR, 3 If Any Warning, and 3 if ERROR\n",
    "state_result = client.get_state()\n",
    "\n",
    "rate = rospy.Rate(1)\n",
    "\n",
    "rospy.loginfo(\"state_result: \"+str(state_result))\n",
    "\n",
    "while state_result < DONE:\n",
    "    rospy.loginfo(\"Doing Stuff while waiting for the Server to give a result....\")\n",
    "    rate.sleep()\n",
    "    state_result = client.get_state()\n",
    "    rospy.loginfo(\"state_result: \"+str(state_result))\n",
    "    \n",
    "rospy.loginfo(\"[Result] State: \"+str(state_result))\n",
    "if state_result == ERROR:\n",
    "    rospy.logerr(\"Something went wrong in the Server Side\")\n",
    "if state_result == WARN:\n",
    "    rospy.logwarn(\"There is a warning in the Server Side\")\n",
    "\n",
    "#rospy.loginfo(\"[Result] State: \"+str(client.get_result()))"
   ]
  },
  {
   "cell_type": "markdown",
   "metadata": {},
   "source": [
    "<p style=\"background:#3B8F10;color:white;\">**Code Explanation Python Programs: {4.5a} and {4.5b}**</p>"
   ]
  },
  {
   "cell_type": "markdown",
   "metadata": {},
   "source": [
    "从根本上来说，差别是：在第一个程序中（4.5a），log消息<span style=\"color:green;\"><i>rospy.loginfo(\"在等待服务器给出一个结果时做其他事情...\")</i></span> 从不打印，但在4.5b中它将被打印。<br>\n",
    "\n",
    "这是由于在4.5a中, 程序启动while循环检查<span style=\"color:green;\"><i>client.wait_for_result()</i></span>返回的值是真或假，但它会等待一个只有当行为完成时才返回的值。因此，由于它始终返回真值，它永远进入不了while循环里面。<br>\n",
    "\n",
    "另一方面，在4.5b程序中，它检查 <span style=\"color:green;\"><i>state_result &lt; DONE</i></span>。由于函数 **<i>get_state()</i>** 将立即返回行为的当前状态，它允许并行执行其他任务。即在该例中， <b>在打印行为反馈消息的同时打印log消息 <span style=\"color:red;\"></span> 。</b>"
   ]
  },
  {
   "cell_type": "markdown",
   "metadata": {},
   "source": [
    "<p style=\"background:#3B8F10;color:white;\">**End Code Explanation Python Programs: {4.5a} and {4.5b}**</p>"
   ]
  },
  {
   "cell_type": "markdown",
   "metadata": {},
   "source": [
    "从这里你可以获取更多关于ROS行为客户端（python）的信息 <a href=\"http://docs.ros.org/jade/api/actionlib/html/classactionlib_1_1simple__action__client_1_1SimpleActionClient.html\"><b>client API</b></a>"
   ]
  },
  {
   "cell_type": "markdown",
   "metadata": {},
   "source": [
    "<p style=\"background:#EE9023;color:white;\">**练习 4.6**</p><br>\n",
    "<ul>\n",
    "  <li>创建一个功能包，用一个launch文件包含并行不悖启动练习{4.4a}: <a href=\"#prg-4-4a\">ardrone_action_client.py</a>中的行为客户端。</li>\n",
    "  <li>添加一些代码，使四旋翼无人机在行为服务器被调用时来回运行（为了在无人机运动时拍摄照片）。</li>\n",
    "  <li>最后一张照片拍完后（行为服务器结束后），停止四旋翼无人机的运动。</li>\n",
    "</ul>\n",
    "<br>\n",
    "<p style=\"background:#3B8F10;color:white;\">**练习 4.6数据**</p><br>\n",
    "1) 为了使该四旋翼无人机运动，你可以发送一个Twist命令。这些命令发布在  **<i>/cmd_vel</i>** 主题中。别忘了 **<i>Topics Unit</i>** 的内容。<br><br>\n",
    "2) 在等待结果时你必须发送运动指令，创建一个循环，同时发送命令检查行为是否完成。为了能够在行为运行时发送命令，你需要使用 SimpleActionClient 函数 **<i>get_state()</i>**。"
   ]
  },
  {
   "cell_type": "markdown",
   "metadata": {},
   "source": [
    "<p style=\"background:#EE9023;color:white;\">**练习 4.6结束**</p>"
   ]
  },
  {
   "cell_type": "markdown",
   "metadata": {},
   "source": [
    "<p style=\"background:green;color:white;\">练习 4.6解决方案</p>"
   ]
  },
  {
   "cell_type": "markdown",
   "metadata": {},
   "source": [
    "请尽量独自完成，除非你陷入困境或需要一些灵感。如果每一个练习你都认真对待的话，你会学到更多！"
   ]
  },
  {
   "cell_type": "markdown",
   "metadata": {},
   "source": [
    "<img src=\"img/robotignite_logo_text.png\"/>"
   ]
  },
  {
   "cell_type": "markdown",
   "metadata": {},
   "source": [
    "按照下面的链接打开解决方案笔记本:[Actions Part1 Solutions](extra_files/zh_unit4_basicROS_part1_solutions.ipynb)"
   ]
  },
  {
   "cell_type": "markdown",
   "metadata": {},
   "source": [
    "<p style=\"background:green;color:white;\">练习 4.6解决方案结束</p>"
   ]
  },
  {
   "cell_type": "markdown",
   "metadata": {
    "collapsed": true
   },
   "source": [
    "### 取消目标\n",
    "\n",
    "你可以在一个目标送往行为服务器之前取消它。<br>\n",
    "在被执行之前取消一个目标称为 <b>取消目标</b><br>\n",
    "<br>\n",
    "你可能由于多种原因需要取消一个目标，例如，机器人“发疯了”，出于安全考虑需要在它出现危险或可能对人造成伤害时停止它。\n",
    "<br><br>\n",
    "为了取消一个目标，你需要通过客户端链接向服务器发送cancel_goal。<br>"
   ]
  },
  {
   "cell_type": "code",
   "execution_count": null,
   "metadata": {
    "collapsed": true
   },
   "outputs": [],
   "source": [
    "client.cancel_goal()"
   ]
  },
  {
   "cell_type": "markdown",
   "metadata": {},
   "source": [
    "<p style=\"background:#EE9023;color:white;\">**练习 4.7**</p><br>\n",
    "点击IPython notebook右上角的“play”按钮运行下面的Python代码 {4.6a: cancel_goal_test.py} 。\n",
    "<br><br> \n",
    "<div class='white_bg'><img src=\"img/font-awesome_step-forward.png\" style=\"float:left\"/><br><br></div>\n",
    "<br>\n",
    "你也可以按下 **<i>[CTRL]+[Enter]</i>** 组合键运行它。<br>\n",
    "\n",
    "当程序完成后，别忘了 <span class=\"ign_red\">重启内核</span>。该操作将清除所有ROS通过该python程序生成的节点。这是很必要的，因为python程序只能启动<b>一个</b> rospy 节点。由于该notebook只是一个分割的python脚本，如果你尝试在不重新启动内核的情况下连续执行两个程序，这将给出rospy Exception 错误。\n",
    "你可以按下该图标执行它。\n",
    "<br><br>\n",
    "<div class='white_bg'><img src=\"img/refresh_icon.png\" style=\"float:left\"/><br><br></div>\n",
    "<br>\n",
    "\n",
    "注意查看目标是如何取消的。<br><br>\n",
    "\n",
    "<font style=\"color:red;\">**重要!!** 记住，你必须使 **<i>roslaunch ardrone_as action_server.launch</i>** 在运行 (可能在WebShell #1), 否则它会由于没有可以连接的行为服务器而无法工作。</font>"
   ]
  },
  {
   "cell_type": "markdown",
   "metadata": {},
   "source": [
    "<p style=\"background:#EE9023;color:white;\">**练习 4.7结束**</p>"
   ]
  },
  {
   "cell_type": "markdown",
   "metadata": {},
   "source": [
    "<p style=\"background:#3B8F10;color:white;\">**Python Program {4.6a}: cancel_goal_test.py** </p>"
   ]
  },
  {
   "cell_type": "code",
   "execution_count": null,
   "metadata": {
    "collapsed": true
   },
   "outputs": [],
   "source": [
    "#! /usr/bin/env python\n",
    "\n",
    "import rospy\n",
    "import time\n",
    "import actionlib\n",
    "from ardrone_as.msg import ArdroneAction, ArdroneGoal, ArdroneResult, ArdroneFeedback\n",
    "\n",
    "# We create some constants with the corresponing vaules from the SimpleGoalState class\n",
    "PENDING = 0\n",
    "ACTIVE = 1\n",
    "DONE = 2\n",
    "WARN = 3\n",
    "ERROR = 4\n",
    "\n",
    "nImage = 1\n",
    "\n",
    "# definition of the feedback callback. This will be called when feedback\n",
    "# is received from the action server\n",
    "# it just prints a message indicating a new message has been received\n",
    "def feedback_callback(feedback):\n",
    "    \"\"\"\n",
    "    Error that might jump\n",
    "    \n",
    "    self._feedback.lastImage = \n",
    "AttributeError: 'ArdroneAS' obj\n",
    "    \n",
    "    \"\"\"\n",
    "    global nImage\n",
    "    print('[Feedback] image n.%d received'%nImage)\n",
    "    nImage += 1\n",
    "\n",
    "# initializes the action client node\n",
    "rospy.init_node('example_no_waitforresult_action_client_node')\n",
    "\n",
    "action_server_name = '/ardrone_action_server'\n",
    "client = actionlib.SimpleActionClient(action_server_name, ArdroneAction)\n",
    "\n",
    "# waits until the action server is up and running\n",
    "rospy.loginfo('Waiting for action Server '+action_server_name)\n",
    "client.wait_for_server()\n",
    "rospy.loginfo('Action Server Found...'+action_server_name)\n",
    "\n",
    "# creates a goal to send to the action server\n",
    "goal = ArdroneGoal()\n",
    "goal.nseconds = 10 # indicates, take pictures along 10 seconds\n",
    "\n",
    "client.send_goal(goal, feedback_cb=feedback_callback)\n",
    "\n",
    "\n",
    "# You can access the SimpleAction Variable \"simple_state\", that will be 1 if active, and 2 when finished.\n",
    "#Its a variable, better use a function like get_state.\n",
    "#state = client.simple_state\n",
    "# state_result will give the FINAL STATE. Will be 1 when Active, and 2 if NO ERROR, 3 If Any Warning, and 3 if ERROR\n",
    "state_result = client.get_state()\n",
    "\n",
    "rate = rospy.Rate(1)\n",
    "\n",
    "rospy.loginfo(\"state_result: \"+str(state_result))\n",
    "counter = 0\n",
    "while state_result < DONE:\n",
    "    rospy.loginfo(\"Doing Stuff while waiting for the Server to give a result....\")\n",
    "    counter += 1\n",
    "    rate.sleep()\n",
    "    state_result = client.get_state()\n",
    "    rospy.loginfo(\"state_result: \"+str(state_result)+\", counter =\"+str(counter))\n",
    "    if counter == 2:\n",
    "        rospy.logwarn(\"Canceling Goal...\")\n",
    "        client.cancel_goal()\n",
    "        rospy.logwarn(\"Goal Canceled\")\n",
    "        state_result = client.get_state()\n",
    "        rospy.loginfo(\"Update state_result after Cancel : \"+str(state_result)+\", counter =\"+str(counter))"
   ]
  },
  {
   "cell_type": "markdown",
   "metadata": {},
   "source": [
    "<p style=\"background:#3B8F10;color:white;\">**Python 程序: {4.6a}代码解释**</p><br>\n",
    "除了*<i>cancel_goal()</i>** 函数，其他代码与{4.5b}中完全相同。<br><br>\n",
    "该程序计数到2，然后取消该目标。它触发服务器完成目标，因此函数 **<i>get_state()</i>** 返回值 DONE ( 2 ).<br><br>\n",
    "<p style=\"background:#3B8F10;color:white;\">**Python程序: {4.6a}代码解释结束**</p>"
   ]
  },
  {
   "cell_type": "markdown",
   "metadata": {},
   "source": [
    "关于行为，有一个已知的ROS问题。当连接建立时，它会发布一个警告信息。这种情况通常在你取消一个目标或者你刚刚终止一个包含客户端对象的程序时出现。警告信息出现在服务器端。<br><br>\n",
    "<span style=\"color:red;\"><i>[WARN] Inbound TCP/IP connection failed: connection from sender terminated before handshake header received. 0 bytes were received. Please check sender for additional details.</i></span>\n",
    "<br><br>\n",
    "不要害怕，它对你的程序没有影响。"
   ]
  },
  {
   "cell_type": "markdown",
   "metadata": {},
   "source": [
    "### 所有这一切是如何工作的?"
   ]
  },
  {
   "cell_type": "markdown",
   "metadata": {
    "collapsed": true
   },
   "source": [
    "你需要理解行为内部通信是如何进行的。这并不是说你要用它来编程。如你所见，编写一个行为客户端是非常简单的。然而，你的代码会出现bug，你必须得对它进行调试。为了进行正确的调试，你需要理解<i>行为服务器</i>和<i>行为客户端</i>之间的通信机制。"
   ]
  },
  {
   "cell_type": "markdown",
   "metadata": {},
   "source": [
    "你已经知道，一个行为服务器消息包括三部分：<br>\n",
    "\n",
    "* 目标\n",
    "* 结果\n",
    "* 反馈\n",
    "\n",
    "<br>\n",
    "每一部分对应一个主题和一个消息类型。<br>\n",
    "例如，对于 <b>ardrone_action_server</b>, 涉及到的主题包括：<br>\n",
    "\n",
    "* 目标主题: <span class=\"ign_green\">/ardrone_action_server/goal</span>\n",
    "* 结果主题: <span class=\"ign_green\">/ardrone_action_server/result</span>\n",
    "* 反馈主题: <span class=\"ign_green\">/ardrone_action_server/feedback</span>\n",
    "\n",
    "<br>\n",
    "再看一下ActionClient+ActionServer 通信图。"
   ]
  },
  {
   "cell_type": "markdown",
   "metadata": {
    "caption": "Action Interface Diagram",
    "image": true,
    "name": "action_interface",
    "width": "12cm"
   },
   "source": [
    "<figure>\n",
    "  <img id=\"fig-4.4\" src=\"img/action_interface.png\"/>\n",
    "   <center> <figcaption>图.4.4 - 行为接口图</figcaption></center>\n",
    "</figure>"
   ]
  },
  {
   "cell_type": "markdown",
   "metadata": {},
   "source": [
    "因此，每当一个行为服务器被调用时，步骤如下：\n",
    "\n",
    "1. 当 **<i>action client</i>** <span style=\"color:orange\">从一个节点调用</span> an **<i>action server</i>** 时, 实际发生的是 **<i>action client</i>** 通过<i><span style=\"color:green;\">/ardrone_action_server/goal</span></i> 主题向 **<i>action server</i>** 发送请求的<span style=\"color:orange\">目标</span>。\n",
    "\n",
    "2. 当 **<i>action server</i>** <span style=\"color:orange\">开始</span> 执行该目标时, 它通过<i><span style=\"color:green;\">/ardrone_action_server/feedback</span></i>主题向 **<i>action client</i>** 发送 <span style=\"color:orange\">feedback</span>。\n",
    "\n",
    "3. 最后，当 **<i>action server</i>**  <span style=\"color:orange\">完成</span> 该目标时，它通过 <i><span style=\"color:green;\">/ardrone_action_server/result</span></i> 主题向 **<i>action client</i>** 发送 <span style=\"color:orange\">result</span>。"
   ]
  },
  {
   "cell_type": "markdown",
   "metadata": {},
   "source": [
    "现在，让我们做一个练习，看一下所有这些是如何在你的程序幕后运行的。"
   ]
  },
  {
   "cell_type": "markdown",
   "metadata": {},
   "source": [
    "<p style=\"background:#EE9023;color:white;\">**练习 4.8**</p><br>\n",
    "在运行之前，先仔细读一下整个练习，因为你必须确保在开始运行之前一切设置正确。<br>\n",
    "\n",
    "<table style=\"float:left;background: #407EAF\">\n",
    "<tr>\n",
    "<th>\n",
    "<p class=\"transparent\">在 WebShell #1运行: Demonize action_server and echo the goal topic</p><br>\n",
    "(按下 [CTRL]+[C] 结束 ardrone_as action_server.launch，如果它还在运行的话)\n",
    "</th>\n",
    "</tr>\n",
    "</table>"
   ]
  },
  {
   "cell_type": "code",
   "execution_count": null,
   "metadata": {
    "collapsed": true
   },
   "outputs": [],
   "source": [
    "roslaunch ardrone_as action_server.launch &"
   ]
  },
  {
   "cell_type": "markdown",
   "metadata": {},
   "source": [
    "(完成后使用命令 **<i>rosnode kill /ardrone_as</i>** 结束它)"
   ]
  },
  {
   "cell_type": "code",
   "execution_count": null,
   "metadata": {
    "collapsed": true
   },
   "outputs": [],
   "source": [
    "rostopic echo /ardrone_action_server/goal"
   ]
  },
  {
   "cell_type": "markdown",
   "metadata": {},
   "source": [
    "<table style=\"float:left;background: #407EAF\">\n",
    "<tr>\n",
    "<th>\n",
    "<p class=\"transparent\">Execute in WebShell #2: echo the feedback topic</span></p>\n",
    "</th>\n",
    "</tr>\n",
    "</table>"
   ]
  },
  {
   "cell_type": "code",
   "execution_count": null,
   "metadata": {
    "collapsed": true
   },
   "outputs": [],
   "source": [
    "rostopic echo /ardrone_action_server/feedback"
   ]
  },
  {
   "cell_type": "markdown",
   "metadata": {},
   "source": [
    "<table style=\"float:left;background: #407EAF\">\n",
    "<tr>\n",
    "<th>\n",
    "<p class=\"transparent\">Execute in WebShell #3: echo the result topic</span></p>\n",
    "</th>\n",
    "</tr>\n",
    "</table>"
   ]
  },
  {
   "cell_type": "code",
   "execution_count": null,
   "metadata": {
    "collapsed": true
   },
   "outputs": [],
   "source": [
    "rostopic echo /ardrone_action_server/result"
   ]
  },
  {
   "cell_type": "markdown",
   "metadata": {},
   "source": [
    "<table style=\"float:left;background: #407EAF\">\n",
    "<tr>\n",
    "<th>\n",
    "<p class=\"transparent\">Execute in WebShell #4: Launch the action server client</span></p><br>\n",
    "(运行你在练习4.6中创建的launch文件，使无人机启动拍照和运动。)<br>\n",
    "</th>\n",
    "</tr>\n",
    "</table>"
   ]
  },
  {
   "cell_type": "markdown",
   "metadata": {},
   "source": [
    "进行下面的操作："
   ]
  },
  {
   "cell_type": "markdown",
   "metadata": {},
   "source": [
    "* 快速访问包含目标echo的终端 (WebShell #1)，该终端会出现一条表示你发送目标（拍照10秒钟）的消息。\n",
    "* 快速访问包含反馈echo的终端 (WebShell #2)，该终端每秒会出现一条新消息，该消息是**action server** 发往**action client** 的反馈。\n",
    "* 快速访问包含结果echo的终端 (WebShell #3)。如果从你启动**action client** 后10秒钟还没到，那么将不会出现任何消息。10秒钟后，你会看到 **action server** 发往**action client** 的结果消息。"
   ]
  },
  {
   "cell_type": "markdown",
   "metadata": {},
   "source": [
    "<p style=\"background:#3B8F10;color:white;\"> 练习 4.8数据</p>"
   ]
  },
  {
   "cell_type": "markdown",
   "metadata": {},
   "source": [
    "这三个主题都有自己的消息类型。消息类型是由ROS从**.action** 文件自动构建的。\n",
    "\n",
    "例如，对于 **ardrone_action_server**，  **行为文件** 叫做 **Ardrone.action** 。\n",
    "\n",
    "当你使用**catkin_make** 编译你的功能包时，ROS将从**Ardrone.action** 文件生成下面的消息类型："
   ]
  },
  {
   "cell_type": "markdown",
   "metadata": {},
   "source": [
    "* ArdroneActionGoal\n",
    "* ArdroneActionFeedback\n",
    "* ArdroneActionResult"
   ]
  },
  {
   "cell_type": "markdown",
   "metadata": {},
   "source": [
    "行为服务器的每一主题使用响应的消息类型。"
   ]
  },
  {
   "cell_type": "markdown",
   "metadata": {},
   "source": [
    "<p style=\"background:#EE9023;color:white;\">**练习 4.8结束**</p>"
   ]
  },
  {
   "cell_type": "markdown",
   "metadata": {},
   "source": [
    "<p style=\"background:#EE9023;color:white;\">**练习 4.9**</p><br>\n",
    "使用 <i>rostopic info</i>命令，查看上面的任何一个主题，看一下主题和消息类型是否对应。"
   ]
  },
  {
   "cell_type": "markdown",
   "metadata": {},
   "source": [
    "<p style=\"background:#EE9023;color:white;\">**练习 4.9结束**</p>"
   ]
  },
  {
   "cell_type": "markdown",
   "metadata": {},
   "source": [
    "<p style=\"background:#EE9023;color:white;\">**练习 4.10**</p><br>\n",
    "鉴于行为的工作方式，你可直接调用主题中发布的 <i>ardrone_action_server action server</i> (通过仿真了解Python代码行为服务器正在做什么）。理解这一点很重要，你需要用它来调试你的程序。<br>\n",
    "\n",
    "\n",
    "<table style=\"float:left;background: #407EAF\">\n",
    "<tr>\n",
    "<th>\n",
    "<p class=\"transparent\">在WebShell #1运行： Run the action server</p><br>\n",
    "(如果ardrone_as action_server.launch仍在运行，按下 [CTRL]+[C] 结束它。如果无法结束，使用命令： <i>rosnode kill /ardrone_as</i> )<br>\n",
    "roslaunch ardrone_as action_server.launch<br>"
   ]
  },
  {
   "cell_type": "code",
   "execution_count": null,
   "metadata": {},
   "outputs": [],
   "source": [
    "roslaunch ardrone_as action_server.launch"
   ]
  },
  {
   "cell_type": "markdown",
   "metadata": {},
   "source": [
    "在下面的练习中，我们通过主题激活 <i>ardrone_action_server</i> 行为服务器。\n",
    "<br><br>\n",
    "使用WebShell向 <i>/ardrone_action_server</i> 发送一个行为服务器，观察<i>result</i> 和 <i>feedback</i> 主题中发生了什么。\n",
    "<br>\n",
    "\n",
    "<table style=\"float:left;background: #407EAF\">\n",
    "<tr>\n",
    "<th>\n",
    "<p class=\"transparent\">在WebShell #2 运行: 向行为服务器发送目标</p>\n",
    "</th>\n",
    "</tr>\n",
    "</table>"
   ]
  },
  {
   "cell_type": "code",
   "execution_count": null,
   "metadata": {
    "collapsed": true
   },
   "outputs": [],
   "source": [
    "rostopic pub /[name_of_action_server]/goal /[type_of_the_message_used_by_the_topic] [TAB][TAB]"
   ]
  },
  {
   "cell_type": "markdown",
   "metadata": {},
   "source": [
    "<p style=\"background:#AE0202;color:white;\">**练习 4.10预期结果**</p>"
   ]
  },
  {
   "cell_type": "markdown",
   "metadata": {},
   "source": [
    "你应看到与练习4.8中相同的结果，不同之处在于：目标是手动发送的，直接发布到目标主题中，而非通过Python程序发布的。"
   ]
  },
  {
   "cell_type": "markdown",
   "metadata": {},
   "source": [
    "<p style=\"background:#3B8F10;color:white;\">**练习 4.10数据**</p>"
   ]
  },
  {
   "cell_type": "markdown",
   "metadata": {},
   "source": [
    "* 你不一定必须手动输入消息。别忘了使用TAB-TAB使ROS自动补全你的命令（或供你选择）。\n",
    "\n",
    "\n",
    "* 通过这种方式，ROS自动完成你必需发送的消息，你需要修改参数**nseconds** ，因为默认值为0（该参数表示拍摄照片的秒数）。使用键盘移动到消息的正确位置。"
   ]
  },
  {
   "cell_type": "markdown",
   "metadata": {},
   "source": [
    "<p style=\"background:#EE9023;color:white;\">**练习 4.10结束**</p>"
   ]
  },
  {
   "cell_type": "markdown",
   "metadata": {},
   "source": [
    "### The axclient"
   ]
  },
  {
   "cell_type": "markdown",
   "metadata": {},
   "source": [
    "到现在为止，你已经学了两种向行为服务器发送目标的方法：\n",
    "\n",
    "* 直接向行为服务器的 /goal 主题发布消息\n",
    "* 使用Python代码发布目标\n",
    "\n",
    "<br>\n",
    "但是，我要告诉你的是，还有另外一种向一个行为服务器发送目标的方法，并且这种方法比前面两种方法更加简单快捷。这种方法使用<b>axclient</b>。But, let me tell you that there's still one more method you can use in order to send goals to an Action Server, which is much easier and faster than the 2 methods you've learnt: using the <b>axclient</b>.\n",
    "\n",
    "Axclient是actionlib功能包提供的一个GUI工具，它允许你以一种简单且可视化的方法与一个行为服务器进行交互。启动axclient的命令如下："
   ]
  },
  {
   "cell_type": "code",
   "execution_count": null,
   "metadata": {
    "collapsed": true
   },
   "outputs": [],
   "source": [
    "rosrun actionlib axclient.py /<name_of_action_server>"
   ]
  },
  {
   "cell_type": "markdown",
   "metadata": {},
   "source": [
    "你想试一下吗？那么开始吧！"
   ]
  },
  {
   "cell_type": "markdown",
   "metadata": {},
   "source": [
    "<p style=\"background:#EE9023;color:white;\">**练习 4.11**</p><br>\n",
    "开始该练习前，确保你的行为服务器在运行。如果没有，axclient将无法工作。<br>\n",
    "\n",
    "\n",
    "<table style=\"float:left;background: #407EAF\">\n",
    "<tr>\n",
    "<th>\n",
    "<p class=\"transparent\">在WebShell #1运行: 运行行为服务器</p><br>\n",
    "(如果ardrone_as action_server.launch仍在运行，按下 [CTRL]+[C] 结束它。如果无法结束，使用命令<i>rosnode kill /ardrone_as</i> )\n",
    "</th>\n",
    "</tr>\n",
    "</table>"
   ]
  },
  {
   "cell_type": "code",
   "execution_count": null,
   "metadata": {
    "collapsed": true
   },
   "outputs": [],
   "source": [
    "roslaunch ardrone_as action_server.launch"
   ]
  },
  {
   "cell_type": "markdown",
   "metadata": {},
   "source": [
    "现在，让我们启动axclient向行为服务器发送目标。\n",
    "<br>\n",
    "\n",
    "<table style=\"float:left;background: #407EAF\">\n",
    "<tr>\n",
    "<th>\n",
    "<p class=\"transparent\">在WebShell #2: 启动 axclient</p>\n",
    "</th>\n",
    "</tr>\n",
    "</table>"
   ]
  },
  {
   "cell_type": "code",
   "execution_count": null,
   "metadata": {
    "collapsed": true
   },
   "outputs": [],
   "source": [
    "rosrun actionlib axclient.py /ardrone_action_server"
   ]
  },
  {
   "cell_type": "markdown",
   "metadata": {},
   "source": [
    "为了能够可视化axclient, 你需要打开图形用户界面窗口。要打开这个图形用户界面窗口，点击IDE中的屏幕图标，一个新的标签将打开。\n",
    "\n",
    "<br><br>\n",
    "<div class='white_bg'><img src=\"img/font-awesome_desktop.png\"/><br></div>\n",
    "现在，你会在你的新标签中看到类似下面的："
   ]
  },
  {
   "cell_type": "markdown",
   "metadata": {
    "caption": "Axclient GUI",
    "image": true,
    "name": "axclient",
    "width": "10cm"
   },
   "source": [
    "<img src=\"img/axclient.png\" width=\"500\">"
   ]
  },
  {
   "cell_type": "markdown",
   "metadata": {},
   "source": [
    "现在一切就绪，你可以使用axclient了！例如，你可以向行为服务器发送目标，可视化一个行为中的不同主题（这些主题你在本单元学过）。\n",
    "\n",
    "<p style=\"background:#AE0202;color:white;\">**练习 4.11预期结果**</p><br>\n",
    "Action in process:"
   ]
  },
  {
   "cell_type": "markdown",
   "metadata": {
    "caption": "Action in progress",
    "image": true,
    "name": "axclient_in_process",
    "width": "10cm"
   },
   "source": [
    "<img src=\"img/axclient_in_process.png\" width=\"500\">"
   ]
  },
  {
   "cell_type": "markdown",
   "metadata": {},
   "source": [
    "Action succeeded:"
   ]
  },
  {
   "cell_type": "markdown",
   "metadata": {
    "caption": "Action Succeeded",
    "image": true,
    "name": "axclient_succeeded",
    "width": "10cm"
   },
   "source": [
    "<img src=\"img/axclient_succeeded.png\" width=\"500\">"
   ]
  },
  {
   "cell_type": "markdown",
   "metadata": {},
   "source": [
    "<p style=\"background:#3B8F10;color:white;\">**练习 4.11数据**</p>"
   ]
  },
  {
   "cell_type": "markdown",
   "metadata": {},
   "source": [
    "* 有时，你会发现，当你点击SEND GOAL按钮时，或者当你试图改变你想发送的目标值时，你无法与axclient屏幕交互。如果出现那样的情况，只需进入另外一个标签，然后再返回axclient所在的标签，一切恢复正常。"
   ]
  },
  {
   "cell_type": "markdown",
   "metadata": {},
   "source": [
    "<p style=\"background:#EE9023;color:white;\">**练习 4.11**</p>"
   ]
  },
  {
   "cell_type": "markdown",
   "metadata": {},
   "source": [
    "也许你对我们有些恼火，这么好的工具为什么不早点告诉我！\n",
    "千万别！\n",
    "<br><br>\n",
    "我们不早点告诉你该工具的原因是由于我们希望你了解行为内部是如何工作的。只有具备了这些知识，你才做好了使用这个简单工具的准备。"
   ]
  }
 ],
 "metadata": {
  "anaconda-cloud": {},
  "kernelspec": {
   "display_name": "Python 3",
   "language": "python",
   "name": "python3"
  },
  "language_info": {
   "codemirror_mode": {
    "name": "ipython",
    "version": 3
   },
   "file_extension": ".py",
   "mimetype": "text/x-python",
   "name": "python",
   "nbconvert_exporter": "python",
   "pygments_lexer": "ipython3",
   "version": "3.6.4"
  },
  "latex_metadata": {
   "chapter": "4 - ROS Actions",
   "chapter_title": "Unit 4. ROS Actions Part1",
   "course_title": "ROS BASICS IN 5 DAYS"
  }
 },
 "nbformat": 4,
 "nbformat_minor": 1
}
