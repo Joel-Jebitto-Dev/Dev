{
 "cells": [
  {
   "cell_type": "markdown",
   "metadata": {},
   "source": [
    "# <font class='ign_color'>5天学ROS </font>"
   ]
  },
  {
   "cell_type": "markdown",
   "metadata": {},
   "source": [
    "# Unit 1: 基本概念"
   ]
  },
  {
   "cell_type": "markdown",
   "metadata": {
    "caption": "Kobuki",
    "image": true,
    "name": "kobuki_wall",
    "width": "15cm"
   },
   "source": [
    "<img src=\"img/kobuki_wall.png\" width=\"800\"/>"
   ]
  },
  {
   "cell_type": "markdown",
   "metadata": {},
   "source": [
    "<b>预计完成时间:</b> 1.5 小时\n",
    "<br><br>\n",
    "<b>仿真机器人:</b> Turtlebot\n",
    "<br><br>\n",
    "<b>本单元你将学到：</b>\n",
    "\n",
    "* 如何构建和启动ROS程序（功能包和launch文件）\n",
    "* 如何创建ROS程序(使用Python语言)\n",
    "* ROS基本概念：节点，参数服务器，环境变量，Roscore"
   ]
  },
  {
   "cell_type": "markdown",
   "metadata": {
    "caption": "Kobuki Robot",
    "image": true,
    "name": "kobuki",
    "width": "7cm"
   },
   "source": [
    "<img src=\"img/kobuki.jpg\" width=\"212\" height=\"236\" />"
   ]
  },
  {
   "cell_type": "markdown",
   "metadata": {},
   "source": [
    "## 什么是ROS？\n",
    "这个问题可能是促使你来到这里的原因。\n",
    "那么，我要告诉你的是，目前你还不具备理解该问题的条件...因此，让我们首先做些准备工作。"
   ]
  },
  {
   "cell_type": "markdown",
   "metadata": {},
   "source": [
    "## 使用ROS移动一台机器人"
   ]
  },
  {
   "cell_type": "markdown",
   "metadata": {},
   "source": [
    "在你屏幕的右上角，你会看到你的第一个仿真机器人：站在一大堵墙前面的TurtleBot 2机器人。"
   ]
  },
  {
   "cell_type": "markdown",
   "metadata": {
    "caption": "Robot Ignite Environment",
    "image": true,
    "name": "screen_1",
    "width": "15cm"
   },
   "source": [
    "<img src=\"img/screen_1.jpg\"/>"
   ]
  },
  {
   "cell_type": "markdown",
   "metadata": {},
   "source": [
    "<h3>**让该机器人动起来**</h3>\n",
    "<br>\n",
    "如何使TurtleBot动起来？<br>\n",
    "最简单的方法是运行现有的ROS程序控制该机器人。一个ROS程序通过使用一些称为<b>launch 文件</b>的特殊文件来执行。<br><br>\n",
    "由于先前已构建好一个通过键盘控制该机器人移动的ROS程序，所以这里我们只需要启动（launch）这个程序，就可以远程操控该机器人。"
   ]
  },
  {
   "cell_type": "markdown",
   "metadata": {},
   "source": [
    "<p style=\"background:#407EAF;color:white;\">**例1.1**</p>"
   ]
  },
  {
   "cell_type": "markdown",
   "metadata": {},
   "source": [
    "在WebShell number #1运行下面的指令<br>\n",
    "\n",
    "<table style=\"float:left;background: #407EAF\">\n",
    "<tr>\n",
    "<th>\n",
    "<p class=\"transparent\">在WebShell #1运行</p>\n",
    "</th>\n",
    "</tr>\n",
    "</table>\n",
    "<br>"
   ]
  },
  {
   "cell_type": "code",
   "execution_count": null,
   "metadata": {
    "collapsed": true
   },
   "outputs": [],
   "source": [
    "roslaunch turtlebot_teleop keyboard_teleop.launch"
   ]
  },
  {
   "cell_type": "markdown",
   "metadata": {},
   "source": [
    "<table style=\"float:left;background: #407EAF\">\n",
    "<tr>\n",
    "<th>\n",
    "<p style=\"background: #407EAF; color:white\">WebShell #1 Output</p>\n",
    "</th>\n",
    "</tr>\n",
    "</table>"
   ]
  },
  {
   "cell_type": "code",
   "execution_count": null,
   "metadata": {
    "collapsed": true
   },
   "outputs": [],
   "source": [
    "Control Your Turtlebot!\n",
    "---------------------------\n",
    "Moving around:\n",
    "   u    i    o\n",
    "   j    k    l\n",
    "   m    ,    .\n",
    "\n",
    "q/z : increase/decrease max speeds by 10%\n",
    "w/x : increase/decrease only linear speed by 10%\n",
    "e/c : increase/decrease only angular speed by 10%\n",
    "space key, k : force stop\n",
    "anything else : stop smoothly\n",
    "\n",
    "CTRL-C to quit"
   ]
  },
  {
   "cell_type": "markdown",
   "metadata": {},
   "source": [
    "现在，你可以使用WebShell输出中显示的键使机器人四处移动。各按键功能如下："
   ]
  },
  {
   "cell_type": "markdown",
   "metadata": {},
   "source": [
    "<table style=\"width:100%\">\n",
    "  \n",
    "  <tr>\n",
    "    <th>\n",
    "    <figure>\n",
    "        <img src=\"img/key_i.png\"width=\"40\"></img>\n",
    "        \n",
    "    </figure>\n",
    "    </th>\n",
    "    <th>\n",
    "    <p style=\"text-align: center;\">向前运动</p>\n",
    "    </th> \n",
    "  </tr>\n",
    "  <tr>\n",
    "    <th>\n",
    "    <figure>\n",
    "        <img src=\"img/key_comma.png\"width=\"40\"></img>\n",
    "        \n",
    "    </figure>\n",
    "    </th>\n",
    "    <th>\n",
    "    <p style=\"text-align: center;\">向后运动</p>\n",
    "    </th> \n",
    "  </tr>\n",
    "  <tr>\n",
    "    <th>\n",
    "    <figure>\n",
    "        <img src=\"img/key_j.png\"width=\"40\"></img>\n",
    "        \n",
    "    </figure>\n",
    "    </th>\n",
    "    <th>\n",
    "    <p style=\"text-align: center;\">左转</p>\n",
    "    </th> \n",
    "  </tr>\n",
    "  <tr>\n",
    "    <th>\n",
    "    <figure>\n",
    "        <img src=\"img/key_l.png\"width=\"40\"></img>\n",
    "        \n",
    "    </figure>\n",
    "    </th>\n",
    "    <th>\n",
    "    <p style=\"text-align: center;\">右转</p>\n",
    "    </th> \n",
    "  </tr>\n",
    "  <tr>\n",
    "    <th>\n",
    "    <figure>\n",
    "        <img src=\"img/key_k.png\"width=\"40\"></img>\n",
    "        \n",
    "    </figure>\n",
    "    </th>\n",
    "    <th>\n",
    "    <p style=\"text-align: center;\">停止</p>\n",
    "    </th> \n",
    "  </tr>\n",
    "  <tr>\n",
    "    <th>\n",
    "    <figure>\n",
    "        <img src=\"img/key_q.png\"width=\"40\"></img>\n",
    "        <img src=\"img/key_z.png\"width=\"40\"></img>\n",
    "        \n",
    "    </figure>\n",
    "    </th>\n",
    "    <th>\n",
    "    <p style=\"text-align: center;\">加速 / 减速</p>\n",
    "    </th> \n",
    "  </tr>\n",
    "  \n",
    "</table>"
   ]
  },
  {
   "cell_type": "markdown",
   "metadata": {},
   "source": [
    "自己动手试一下!试完后，按下 **Ctrl+C**停止该程序的运行。 "
   ]
  },
  {
   "cell_type": "markdown",
   "metadata": {},
   "source": [
    "**<i class=\"ign_green\">roslaunch</i>** 是启动ROS程序的命令。用法如下："
   ]
  },
  {
   "cell_type": "code",
   "execution_count": null,
   "metadata": {
    "collapsed": true
   },
   "outputs": [],
   "source": [
    "roslaunch <package_name> <launch_file>"
   ]
  },
  {
   "cell_type": "markdown",
   "metadata": {},
   "source": [
    "该命令有两个参数：第一个是包含launch文件的 <b>功能包名称</b> ，第二个是<b>launch文件的名称</b> 本身（位于该功能包内）。"
   ]
  },
  {
   "cell_type": "markdown",
   "metadata": {},
   "source": [
    "<p style=\"background:#407EAF;color:white;\">**例1.1**结束</p><br>"
   ]
  },
  {
   "cell_type": "markdown",
   "metadata": {},
   "source": [
    "## 什么是功能包？"
   ]
  },
  {
   "cell_type": "markdown",
   "metadata": {},
   "source": [
    "ROS使用 <b>功能包</b>组织其程序。你可以把一个功能包想象成<b>一个特定的ROS程序所包含的所有文件</b>：所有cpp文件，python文件，配置文件，编译文件，启动文件和参数文件。\n",
    "\n",
    "\n",
    "所有这些文件按照下面的结构组织到一个功能包中："
   ]
  },
  {
   "cell_type": "markdown",
   "metadata": {},
   "source": [
    "* **launch** 文件夹：包含launch文件\n",
    "* **src** 文件夹：源文件 (cpp, python)\n",
    "* **CMakeLists.txt**: 用于编译的cmake规则列表\n",
    "* **package.xml**: 功能包信息和依赖项"
   ]
  },
  {
   "cell_type": "markdown",
   "metadata": {},
   "source": [
    "要进入某个功能包，可使用ROS命令 <i class=\"ign_green\">roscd</i>。输入："
   ]
  },
  {
   "cell_type": "code",
   "execution_count": null,
   "metadata": {
    "collapsed": true
   },
   "outputs": [],
   "source": [
    " roscd <package_name>"
   ]
  },
  {
   "cell_type": "markdown",
   "metadata": {},
   "source": [
    "它将把你带到功能包 <i>package_name</i> 所处的路径。<br>"
   ]
  },
  {
   "cell_type": "markdown",
   "metadata": {},
   "source": [
    "<p style=\"background:#407EAF;color:white;\">**例1.2**</p><br>"
   ]
  },
  {
   "cell_type": "markdown",
   "metadata": {},
   "source": [
    "在WebShell #1, 导航到turtlebot_teleop功能包,查看一下它是否具有这样的结构。<br>\n",
    "\n",
    "<table style=\"float:left;background: #407EAF\">\n",
    "<tr>\n",
    "<th>\n",
    "<p class=\"transparent\">在WebShell #1运行</p>\n",
    "</th>\n",
    "</tr>\n",
    "</table>\n",
    "<br>"
   ]
  },
  {
   "cell_type": "code",
   "execution_count": null,
   "metadata": {
    "collapsed": true
   },
   "outputs": [],
   "source": [
    "roscd turtlebot_teleop\n",
    "ls"
   ]
  },
  {
   "cell_type": "markdown",
   "metadata": {},
   "source": [
    "<img src=\"img/turtlebot_teleop_contents.png\" width=\"800\" />"
   ]
  },
  {
   "cell_type": "markdown",
   "metadata": {},
   "source": [
    "你想运行的每一个ROS程序都组织在一个功能包中。<br>\n",
    "你所创建的每一个ROS程序都必须组织在一个功能包中。<br>\n",
    "功能包是ROS程序的主要组织系统。"
   ]
  },
  {
   "cell_type": "markdown",
   "metadata": {},
   "source": [
    "<p style=\"background:#407EAF;color:white;\"> **例1.2**结束</p><br>"
   ]
  },
  {
   "cell_type": "markdown",
   "metadata": {},
   "source": [
    "## 什么是launch文件?"
   ]
  },
  {
   "cell_type": "markdown",
   "metadata": {},
   "source": [
    "我们已经看到，ROS使用launch文件来运行程序。但是，它们是如何工作的？\n",
    "请继续！\n"
   ]
  },
  {
   "cell_type": "markdown",
   "metadata": {},
   "source": [
    "<p id=\"example-1.3\" style=\"background:#407EAF;color:white;\">**例1.3**</p><br>"
   ]
  },
  {
   "cell_type": "markdown",
   "metadata": {},
   "source": [
    "打开**turtlebot_teleop**功能包中的 **launch** 文件夹，查看**keyboard_teleop.launch 文件**。<br>\n",
    "\n",
    "<table style=\"float:left;background: #407EAF\">\n",
    "<tr>\n",
    "<th>\n",
    "<p class=\"transparent\">在WebShell #1运行</p>\n",
    "</th>\n",
    "</tr>\n",
    "</table>\n",
    "<br>"
   ]
  },
  {
   "cell_type": "code",
   "execution_count": null,
   "metadata": {
    "collapsed": true
   },
   "outputs": [],
   "source": [
    "roscd turtlebot_teleop\n",
    "cd launch\n",
    "cat keyboard_teleop.launch"
   ]
  },
  {
   "cell_type": "markdown",
   "metadata": {},
   "source": [
    "<table style=\"float:left;background: #407EAF\">\n",
    "<tr>\n",
    "<th>\n",
    "<p style=\"background: #407EAF; color:white\">WebShell #1 Output</p>\n",
    "</th>\n",
    "</tr>\n",
    "</table>"
   ]
  },
  {
   "cell_type": "code",
   "execution_count": null,
   "metadata": {
    "collapsed": true
   },
   "outputs": [],
   "source": [
    "<launch>\n",
    "  <!-- turtlebot_teleop_key already has its own built in velocity smoother -->\n",
    "  <node pkg=\"turtlebot_teleop\" type=\"turtlebot_teleop_key.py\" name=\"turtlebot_teleop_keyboard\"  output=\"screen\">\n",
    "    <param name=\"scale_linear\" value=\"0.5\" type=\"double\"/>\n",
    "    <param name=\"scale_angular\" value=\"1.5\" type=\"double\"/>\n",
    "    <remap from=\"turtlebot_teleop_keyboard/cmd_vel\" to=\"/cmd_vel\"/>   <!-- cmd_vel_mux/input/teleop\"/-->\n",
    "  </node>\n",
    "</launch>"
   ]
  },
  {
   "cell_type": "markdown",
   "metadata": {},
   "source": [
    "<font class='ign_red'>在launch文件中，有一些参数设置和重新映射的额外标签。现在，不要担心那些标签，我们只需要关注节点标签。</font>"
   ]
  },
  {
   "cell_type": "markdown",
   "metadata": {},
   "source": [
    "所有的launch文件包含在一个**&lt;launch&gt;** 标签中。在该标签中，你会看到一个 **&lt;node&gt;** 标签，在这里我们指定了如下参数："
   ]
  },
  {
   "cell_type": "markdown",
   "metadata": {},
   "source": [
    "\n",
    "1. **pkg=\"package_name\"** # 包含所要执行的ROS程序代码的功能包名称 \n",
    "2. **type=\"python_file_name.py\"** # 我们要执行的程序文件的名称 \n",
    "3. **name=\"node_name\"** # 启动Python文件的节点名称 \n",
    "4. **output=\"type_of_output\"** # 打印Python文件输出的通道"
   ]
  },
  {
   "cell_type": "markdown",
   "metadata": {},
   "source": [
    "<p style=\"background:#407EAF;color:white;\">**例1.3结束**</p>"
   ]
  },
  {
   "cell_type": "markdown",
   "metadata": {},
   "source": [
    "## 创建一个功能包"
   ]
  },
  {
   "cell_type": "markdown",
   "metadata": {},
   "source": [
    "截至目前，我们已对一个构建好的功能包的结构进行了剖析。接下来，让我们创建一个自己的功能包。\n",
    "\n",
    "创建功能包时，我们需要一个ROS工作空间，也即 **<i> catkin 工作空间</i>**. catkin 工作空间是你电脑硬盘上的一个目录，你的**ROS 功能包必须位于其中**以便能够被ROS用到。通常， **<i>catkin 工作空间</i>** 目录简写为 **<i>catkin_ws</i>**。"
   ]
  },
  {
   "cell_type": "markdown",
   "metadata": {},
   "source": [
    "<p id=\"example-1.4\" style=\"background:#407EAF;color:white;\">**例1.4**</p><br>\n",
    "在你的WebShell进入catkin_ws。\n",
    "\n",
    "\n",
    "在 <i>shell</i>中输入**<i>roscd</i>** 进入catkin_ws。你会发现你被带进一个**<i>catkin_ws/devel</i>** 目录中。由于你想进入的是工作空间，所以输入**<i>cd ..</i>** 退回到上一层目录，停在**<i>/home/user/catkin_ws</i>**。<br>\n",
    "\n",
    "\n",
    "<table style=\"float:left;background: #407EAF\">\n",
    "<tr>\n",
    "<th>\n",
    "<p class=\"transparent\">在WebShell #1运行</p>\n",
    "</th>\n",
    "</tr>\n",
    "</table>"
   ]
  },
  {
   "cell_type": "code",
   "execution_count": null,
   "metadata": {
    "collapsed": true
   },
   "outputs": [],
   "source": [
    "roscd\n",
    "cd ..\n",
    "pwd"
   ]
  },
  {
   "cell_type": "markdown",
   "metadata": {},
   "source": [
    "<p style=\"background: #407EAF\">WebShell #1 Output</p>"
   ]
  },
  {
   "cell_type": "code",
   "execution_count": null,
   "metadata": {
    "collapsed": true
   },
   "outputs": [],
   "source": [
    "user ~ $ pwd\n",
    "/home/user/catkin_ws"
   ]
  },
  {
   "cell_type": "markdown",
   "metadata": {},
   "source": [
    "在该工作空间中，有一个目录叫做 **src**。该文件夹将包含创建的所有功能包。每当你想创建一个新的功能包时，你必须在该目录中(**catkin_ws/src**)。在 WebShell输入 **<i>cd src</i>** 进入源目录。<br>\n",
    "\n",
    "<table style=\"float:left;background: #407EAF\">\n",
    "<tr>\n",
    "<th>\n",
    "<p class=\"transparent\">在WebShell #1运行</p>\n",
    "</th>\n",
    "</tr>\n",
    "</table>"
   ]
  },
  {
   "cell_type": "code",
   "execution_count": null,
   "metadata": {
    "collapsed": true
   },
   "outputs": [],
   "source": [
    "cd src"
   ]
  },
  {
   "cell_type": "markdown",
   "metadata": {},
   "source": [
    "现在我们已做好了创建第一个功能包的准备！在WebShell输入:<br>\n",
    "\n",
    "<table style=\"float:left;background: #407EAF\">\n",
    "<tr>\n",
    "<th>\n",
    "<p class=\"transparent\">在WebShell #1运行</p>\n",
    "</th>\n",
    "</tr>\n",
    "</table>"
   ]
  },
  {
   "cell_type": "code",
   "execution_count": null,
   "metadata": {
    "collapsed": true
   },
   "outputs": [],
   "source": [
    "catkin_create_pkg my_package rospy"
   ]
  },
  {
   "cell_type": "markdown",
   "metadata": {},
   "source": [
    "该指令将在 **src** 目录下创建一个包含有几个文件的功能包。我们稍后会查看它。现在，我们先看一下该命令的用法："
   ]
  },
  {
   "cell_type": "code",
   "execution_count": null,
   "metadata": {
    "collapsed": true
   },
   "outputs": [],
   "source": [
    "catkin_create_pkg <package_name> <package_dependecies>"
   ]
  },
  {
   "cell_type": "markdown",
   "metadata": {},
   "source": [
    "**package_name** 是你想要创建的功能包的名称，**package_dependencies** 是该功能包所依赖的其他ROS功能包的名称。"
   ]
  },
  {
   "cell_type": "markdown",
   "metadata": {},
   "source": [
    "<p style=\"background:#407EAF;color:white;\">例1.4结束</p>"
   ]
  },
  {
   "cell_type": "markdown",
   "metadata": {},
   "source": [
    "<p style=\"background:#407EAF;color:white;\">**例1.5**</p>"
   ]
  },
  {
   "cell_type": "markdown",
   "metadata": {},
   "source": [
    "使用功能包相关的命令可以验证功能包是否创建成功。例如，输入：<br>\n",
    "\n",
    "<table style=\"float:left;background: #407EAF\">\n",
    "<tr>\n",
    "<th>\n",
    "<p class=\"transparent\">在WebShell #1运行</p>\n",
    "</th>\n",
    "</tr>\n",
    "</table>"
   ]
  },
  {
   "cell_type": "code",
   "execution_count": null,
   "metadata": {
    "collapsed": true
   },
   "outputs": [],
   "source": [
    "rospack list\n",
    "rospack list | grep my_package\n",
    "roscd my_package "
   ]
  },
  {
   "cell_type": "markdown",
   "metadata": {},
   "source": [
    "<span style=\"color:green;\"><b>rospack list</b></span>: 列出ROS系统中所有的功能包。<br>\n",
    "<span style=\"color:green;\"><b>rospack list | grep my_package</b></span>:从ROS系统所有的功能包中过滤出名为 <i>my_package</i>的功能包。<br>\n",
    "<span style=\"color:green;\"><b>roscd my_package</b></span>: 切换到功能包 <i>my_package</i>所在硬盘上的位置。\n",
    "<br><br>\n",
    "你也可以通过集成开发环境IDE(类似于 <a href=\"#fig-1.1\">{图 1.1}</a>)打开刚创建的功能包，查看其内容。<br>"
   ]
  },
  {
   "cell_type": "markdown",
   "metadata": {
    "caption": "IDE created package",
    "image": true,
    "name": "my_package",
    "width": "5cm"
   },
   "source": [
    "<figure>\n",
    "  <img id=\"fig-1.1\" src=\"img/my_package.png\"><br>\n",
    "   <center> <figcaption>图.1.1 - IDE created package my_package</figcaption></center>\n",
    "</figure>"
   ]
  },
  {
   "cell_type": "markdown",
   "metadata": {},
   "source": [
    "<p style=\"background:#407EAF;color:white;\"> *例1.5结束**</p><br>"
   ]
  },
  {
   "cell_type": "markdown",
   "metadata": {},
   "source": [
    "## 第一个 ROS 程序"
   ]
  },
  {
   "cell_type": "markdown",
   "metadata": {},
   "source": [
    "这时候，你已创建了你的首个功能包..现在，你需要对它进行修改。\n",
    "让我们创建我们的第一个ROS程序！"
   ]
  },
  {
   "cell_type": "markdown",
   "metadata": {},
   "source": [
    "<p style=\"background:#407EAF;color:white;\">**例1.6**</p>"
   ]
  },
  {
   "cell_type": "markdown",
   "metadata": {},
   "source": [
    "1- 在功能包my_package的 **src** 目录下创建一个Python文件。这里，作为练习，只需拷贝简单的python代码 <a href=\"#simple_python\">simple.py</a>。在你的功能包的src目录的IDE中**右击**，选择 <span style=\"color: orange\">New File,</span>并在出现的对话框中输入文件名。"
   ]
  },
  {
   "cell_type": "markdown",
   "metadata": {
    "caption": "New File Creation",
    "image": true,
    "name": "new_file",
    "width": "5cm"
   },
   "source": [
    "<img src=\"img/new_file.png\"/>"
   ]
  },
  {
   "cell_type": "markdown",
   "metadata": {},
   "source": [
    "在IDE中出现一个新的空白标签。\n",
    "接着，将<a href=\"#simple_python\">simple.py</a>的内容拷贝至新文件，按 **Ctrl-S**保存更改。IDE中的标签将从<i>绿色</i>变成<i>无色</i> (如下图）。<br>"
   ]
  },
  {
   "cell_type": "markdown",
   "metadata": {
    "caption": "Unsaved",
    "image": true,
    "name": "non_saved",
    "width": "6cm"
   },
   "source": [
    "<img src=\"img/non_saved.png\" />"
   ]
  },
  {
   "cell_type": "markdown",
   "metadata": {
    "caption": "Saved",
    "image": true,
    "name": "saved",
    "width": "6cm"
   },
   "source": [
    "<img src=\"img/saved.png\" />"
   ]
  },
  {
   "cell_type": "markdown",
   "metadata": {},
   "source": [
    "2- 在功能包 <span class=\"ign_green\">my_package</span>中创建一个<i class=\"ign_green\">launch</i>目录。 <a href=\"#example-1.4\">{例1.4}</a>.<br>\n",
    "<table style=\"float:left;background: #407EAF\">\n",
    "<tr>\n",
    "<th>\n",
    "<p class=\"transparent\">在WebShell #1运行</p>\n",
    "</th>\n",
    "</tr>\n",
    "</table>"
   ]
  },
  {
   "cell_type": "code",
   "execution_count": null,
   "metadata": {
    "collapsed": true
   },
   "outputs": [],
   "source": [
    "roscd my_package\n",
    "mkdir launch"
   ]
  },
  {
   "cell_type": "markdown",
   "metadata": {},
   "source": [
    "你也可以通过IDE创建它。"
   ]
  },
  {
   "cell_type": "markdown",
   "metadata": {},
   "source": [
    "3- 在launch目录中创建一个新的launch文件。<br>\n",
    "<table style=\"float:left;background: #407EAF\">\n",
    "<tr>\n",
    "<th>\n",
    "<p class=\"transparent\">在WebShell #1运行</p>\n",
    "</th>\n",
    "</tr>\n",
    "</table>"
   ]
  },
  {
   "cell_type": "code",
   "execution_count": null,
   "metadata": {
    "collapsed": true
   },
   "outputs": [],
   "source": [
    "touch launch/my_package_launch_file.launch"
   ]
  },
  {
   "cell_type": "markdown",
   "metadata": {},
   "source": [
    "你也可以通过IDE创建它。"
   ]
  },
  {
   "cell_type": "markdown",
   "metadata": {},
   "source": [
    "4- 按照本课程前面所示 <a href=\"#例-1.3\">{例1.3}修改launch文件</a>."
   ]
  },
  {
   "cell_type": "markdown",
   "metadata": {},
   "source": [
    "**提示：你可以从turtlebot_teleop功能包中把keyboard_teleop.launch文件拷贝到这里，然后再进行修改。这样做的话，需要删除参数和映射标签，仅剩下节点标签即可，因为这里不需要那些参数。**</font>"
   ]
  },
  {
   "cell_type": "markdown",
   "metadata": {},
   "source": [
    "最后的launch文件看起来类似于 <a href=\"#my_package_launch_file\">my_package_launch_file.launch</a>.<br><br>"
   ]
  },
  {
   "cell_type": "markdown",
   "metadata": {},
   "source": [
    "5-最后，在WebShell执行roalaunch命令来启动你的程序。"
   ]
  },
  {
   "cell_type": "markdown",
   "metadata": {},
   "source": [
    "<table style=\"float:left;background: #407EAF\">\n",
    "<tr>\n",
    "<th>\n",
    "<p class=\"transparent\">在WebShell #1运行</p>\n",
    "</th>\n",
    "</tr>\n",
    "</table>"
   ]
  },
  {
   "cell_type": "code",
   "execution_count": null,
   "metadata": {
    "collapsed": true
   },
   "outputs": [],
   "source": [
    "roslaunch my_package my_package_launch_file.launch"
   ]
  },
  {
   "cell_type": "markdown",
   "metadata": {},
   "source": [
    "<p style=\"background:#407EAF;color:white;\">**例1.6**结束</p>"
   ]
  },
  {
   "cell_type": "markdown",
   "metadata": {},
   "source": [
    "<p style=\"background:#AE0202;color:white;\">**例1.6运行结果**</p>"
   ]
  },
  {
   "cell_type": "markdown",
   "metadata": {},
   "source": [
    "<p style=\"background: #407EAF\">WebShell #1 输出</p>"
   ]
  },
  {
   "cell_type": "code",
   "execution_count": null,
   "metadata": {
    "collapsed": true
   },
   "outputs": [],
   "source": [
    "user catkin_ws $ roslaunch my_package my_package_launch_file.launch\n",
    "... logging to /home/user/.ros/log/d29014ac-911c-11e6-b306-02f9ff83faab/roslaunch-ip-172-31-30-5-28204.log\n",
    "Checking log directory for disk usage. This may take awhile.\n",
    "Press Ctrl-C to interrupt\n",
    "Done checking log file disk usage. Usage is <1GB.\n",
    "\n",
    "started roslaunch server http://ip-172-31-30-5:40504/\n",
    "\n",
    "SUMMARY\n",
    "========\n",
    "\n",
    "PARAMETERS\n",
    " * /rosdistro: indigo\n",
    " * /rosversion: 1.11.20\n",
    "\n",
    "NODES\n",
    "  /\n",
    "    ObiWan (my_package/simple.py)\n",
    "\n",
    "ROS_MASTER_URI=http://localhost:11311\n",
    "\n",
    "core service [/rosout] found\n",
    "process[ObiWan-1]: started with pid [28228]\n",
    "Help me Obi-Wan Kenobi, you're my only hope\n",
    "[ObiWan-1] process has finished cleanly\n",
    "log file: /home/user/.ros/log/d29014ac-911c-11e6-b306-02f9ff83faab/ObiWan-1*.log\n",
    "all processes on machine have died, roslaunch will exit\n",
    "shutting down processing monitor...\n",
    "... shutting down processing monitor complete\n",
    "done"
   ]
  },
  {
   "cell_type": "markdown",
   "metadata": {},
   "source": [
    "<p style=\"background:#AE0202;color:white;\">**例1.6运行结果**结束</p>"
   ]
  },
  {
   "cell_type": "markdown",
   "metadata": {},
   "source": [
    "有时，ROS检测不到刚创建的功能包，因此你无法通过roslaunch启动它。这种情况下，你可以使用下面的命令强制ROS刷新其功能包列表："
   ]
  },
  {
   "cell_type": "markdown",
   "metadata": {},
   "source": [
    "<table style=\"float:left;background: #407EAF\">\n",
    "<tr>\n",
    "<th>\n",
    "<p class=\"transparent\">在WebShell #1运行</p>\n",
    "</th>\n",
    "</tr>\n",
    "</table>"
   ]
  },
  {
   "cell_type": "code",
   "execution_count": null,
   "metadata": {
    "collapsed": true
   },
   "outputs": [],
   "source": [
    "rospack profile"
   ]
  },
  {
   "cell_type": "markdown",
   "metadata": {},
   "source": [
    "<p style=\"background:#3B8F10;color:white;\" id=\"simple_python\">**Python程序 {1.1a-py}: simple.py** </p>"
   ]
  },
  {
   "cell_type": "code",
   "execution_count": null,
   "metadata": {
    "collapsed": true
   },
   "outputs": [],
   "source": [
    "#! /usr/bin/env python\n",
    "\n",
    "import rospy\n",
    "\n",
    "rospy.init_node('ObiWan')\n",
    "print \"Help me Obi-Wan Kenobi, you're my only hope\""
   ]
  },
  {
   "cell_type": "markdown",
   "metadata": {},
   "source": [
    "你可能不明白这些代码的意思是什么，对不？没关系，下面我们对其逐行进行解释："
   ]
  },
  {
   "cell_type": "code",
   "execution_count": null,
   "metadata": {},
   "outputs": [],
   "source": [
    "#! /usr/bin/env python \n",
    "# 该行语句确保所使用的解释器是你的环境路径中的第一个\n",
    "# 每一个Python文件顶部都需要以这一行语句开始\n",
    "\n",
    "import rospy # 导入rospy——一个ROS的Python库\n",
    "\n",
    "rospy.init_node('ObiWan') # 初始化一个名为ObiWan的节点\n",
    "\n",
    "print \"Help me Obi-Wan Kenobi, you're my only hope\" # 一个简单的Python输出\n"
   ]
  },
  {
   "cell_type": "markdown",
   "metadata": {},
   "source": [
    "<font style=\"color:red;\">**注**: 如果你的Python文件是通过终端创建的，可能会出现没有执行权限的情况。这种情况下，ROS就无法找到它。此时，你可以输入命令 **<i>chmod +x name_of_the_file.py</i>**赋给该文件执行权限。</font>"
   ]
  },
  {
   "cell_type": "markdown",
   "metadata": {},
   "source": [
    "<p style=\"background:#3B8F10;color:white;\">**结束 Python程序 {1.1-py}: simple.py** </p><br>"
   ]
  },
  {
   "cell_type": "markdown",
   "metadata": {},
   "source": [
    "<p style=\"background:#3B8F10;color:white;\" id=\"my_package_launch_file\">**Launch File {1.1-l}: my_package_launch_file.launch** </p>"
   ]
  },
  {
   "cell_type": "markdown",
   "metadata": {},
   "source": [
    "在你的my_package_launch_file.launch中，你会看到类似下面的内容："
   ]
  },
  {
   "cell_type": "markdown",
   "metadata": {},
   "source": [
    "<p style=\"color:red;\"><b>注: </b>记住，在下面的例子中，属性<b>type</b>中的Python文件名为<b>simple.py</b>。因此，如果你的Python文件名不同，这里也会不同。</p> "
   ]
  },
  {
   "cell_type": "code",
   "execution_count": null,
   "metadata": {
    "collapsed": true
   },
   "outputs": [],
   "source": [
    "<launch>\n",
    "    <!-- My Package launch file -->\n",
    "    <node pkg=\"my_package\" type=\"simple.py\" name=\"ObiWan\"  output=\"screen\">\n",
    "    </node>\n",
    "</launch>"
   ]
  },
  {
   "cell_type": "markdown",
   "metadata": {},
   "source": [
    "<p style=\"background:#3B8F10;color:white;\" id=\"my_package_launch_file\">**结束 Launch File {1.1-l}: my_package_launch_file.launch** </p>"
   ]
  },
  {
   "cell_type": "markdown",
   "metadata": {},
   "source": [
    "### 常见问题"
   ]
  },
  {
   "cell_type": "markdown",
   "metadata": {},
   "source": [
    "根据我们的经验，在该课程中一个常见的关于Python脚本的问题是，用户通常会出现类似下面的错误："
   ]
  },
  {
   "cell_type": "markdown",
   "metadata": {},
   "source": [
    "<img src=\"img/cannot_found_err.png\" width=\"1000\" />"
   ]
  },
  {
   "cell_type": "markdown",
   "metadata": {},
   "source": [
    "当Python脚本是从WebShell创建时，该错误通常会出现。该错误出现的原因是，当通过终端创建脚本时，它通常没有执行权限。要检查一个文件的权限，可在它所处的目录中运行下面的命令："
   ]
  },
  {
   "cell_type": "markdown",
   "metadata": {},
   "source": [
    "<table style=\"float:left;background: #407EAF\">\n",
    "<tr>\n",
    "<th>\n",
    "<p class=\"transparent\"在WebShell #1运行</p>\n",
    "</th>\n",
    "</tr>\n",
    "</table>"
   ]
  },
  {
   "cell_type": "code",
   "execution_count": null,
   "metadata": {
    "collapsed": true
   },
   "outputs": [],
   "source": [
    "ls -la"
   ]
  },
  {
   "cell_type": "markdown",
   "metadata": {},
   "source": [
    "<img src=\"img/no_exec.png\" width=\"600\" />"
   ]
  },
  {
   "cell_type": "markdown",
   "metadata": {},
   "source": [
    "左侧的第一行表示该文件的权限，这里是**-rw-rw-r-** 。因此，对该文件，你只有 **读(r)** 和 **写e(w)** 的权限，而没有执行的权限(用 **x** 表示)。"
   ]
  },
  {
   "cell_type": "markdown",
   "metadata": {},
   "source": [
    "要增加执行权限，使用下面的命令："
   ]
  },
  {
   "cell_type": "markdown",
   "metadata": {},
   "source": [
    "<table style=\"float:left;background: #407EAF\">\n",
    "<tr>\n",
    "<th>\n",
    "<p class=\"transparent\">在WebShell #1运行</p>\n",
    "</th>\n",
    "</tr>\n",
    "</table>"
   ]
  },
  {
   "cell_type": "code",
   "execution_count": null,
   "metadata": {
    "collapsed": true
   },
   "outputs": [],
   "source": [
    "chmod +x name_of_file.py"
   ]
  },
  {
   "cell_type": "markdown",
   "metadata": {},
   "source": [
    "运行后，你会看到该文件增加了执行权限。此时，该文件会以绿色出现。"
   ]
  },
  {
   "cell_type": "markdown",
   "metadata": {},
   "source": [
    "<img src=\"img/yes_exec.png\" width=\"600\" />"
   ]
  },
  {
   "cell_type": "markdown",
   "metadata": {},
   "source": [
    "完成后，上面显示的错误信息将会消失。"
   ]
  },
  {
   "cell_type": "markdown",
   "metadata": {},
   "source": [
    "## ROS 节点"
   ]
  },
  {
   "cell_type": "markdown",
   "metadata": {},
   "source": [
    "在刚才的代码中，你初始化了一个ROS节点，但是...，什么是节点？\n",
    "ROS节点就是ROS创建的程序。查看一台电脑上正在运行的节点，可使用ROS命令："
   ]
  },
  {
   "cell_type": "code",
   "execution_count": null,
   "metadata": {
    "collapsed": true
   },
   "outputs": [],
   "source": [
    "rosnode list"
   ]
  },
  {
   "cell_type": "markdown",
   "metadata": {},
   "source": [
    "<p style=\"background:#407EAF;color:white;\">**例1.7**</p>"
   ]
  },
  {
   "cell_type": "markdown",
   "metadata": {},
   "source": [
    "在一个新的终端输入如下命令，查看你刚才初始化的节点（ObiWan）。\n",
    "\n",
    "<table style=\"float:left;background: #407EAF\">\n",
    "<tr>\n",
    "<th>\n",
    "<p class=\"transparent\">在WebShell #1运行</p>\n",
    "</th>\n",
    "</tr>\n",
    "</table>"
   ]
  },
  {
   "cell_type": "code",
   "execution_count": null,
   "metadata": {
    "collapsed": true
   },
   "outputs": [],
   "source": [
    "rosnode list"
   ]
  },
  {
   "cell_type": "markdown",
   "metadata": {},
   "source": [
    "没发现它？我当然知道。这是由于Python程序结束时，节点也就被“kill”掉了。<br>\n",
    "让我们进行一些修改。\n",
    "\n",
    "\n",
    "用下面的代码更新你的Python文件 <a href=\"#simple_python\">simple.py</a> :"
   ]
  },
  {
   "cell_type": "markdown",
   "metadata": {},
   "source": [
    "<p style=\"background:#3B8F10;color:white;\" id=\"simple_loop_python\">**Python 程序 {1.1b-py}: simple_loop.py** </p>"
   ]
  },
  {
   "cell_type": "code",
   "execution_count": null,
   "metadata": {
    "collapsed": true
   },
   "outputs": [],
   "source": [
    "#! /usr/bin/env python\n",
    "\n",
    "import rospy\n",
    "\n",
    "rospy.init_node(\"ObiWan\")\n",
    "rate = rospy.Rate(2)               # We create a Rate object of 2Hz\n",
    "while not rospy.is_shutdown():     # Endless loop until Ctrl + C\n",
    "   print \"Help me Obi-Wan Kenobi, you're my only hope\"\n",
    "   rate.sleep()                    # We sleep the needed time to maintain the Rate fixed above\n",
    "    \n",
    "# This program creates an endless loop that repeats itself 2 times per second (2Hz) until somebody presses Ctrl + C\n",
    "# in the Shell"
   ]
  },
  {
   "cell_type": "markdown",
   "metadata": {},
   "source": [
    "<p style=\"background:#3B8F10;color:white;\">**结束 Python 程序 {1.1b-py}: simple_loop.py** </p>"
   ]
  },
  {
   "cell_type": "markdown",
   "metadata": {},
   "source": [
    "使用roslaunch命令重新启动你的程序。\n",
    "<table style=\"float:left;background: #407EAF\">\n",
    "<tr>\n",
    "<th>\n",
    "<p class=\"transparent\">在WebShell #1运行</p>\n",
    "</th>\n",
    "</tr>\n",
    "</table>"
   ]
  },
  {
   "cell_type": "code",
   "execution_count": null,
   "metadata": {
    "collapsed": true
   },
   "outputs": [],
   "source": [
    "roslaunch my_package my_package_launch_file.launch"
   ]
  },
  {
   "cell_type": "markdown",
   "metadata": {},
   "source": [
    "现在， 在另一个Web Shell试一下:<br>\n",
    "<table style=\"float:left;background: #407EAF\">\n",
    "<tr>\n",
    "<th>\n",
    "<p class=\"transparent\">在WebShell #2运行</p>\n",
    "</th>\n",
    "</tr>\n",
    "</table>"
   ]
  },
  {
   "cell_type": "code",
   "execution_count": null,
   "metadata": {
    "collapsed": true
   },
   "outputs": [],
   "source": [
    "rosnode list"
   ]
  },
  {
   "cell_type": "markdown",
   "metadata": {},
   "source": [
    "看到你的节点了吗？"
   ]
  },
  {
   "cell_type": "markdown",
   "metadata": {},
   "source": [
    "<p style=\"background: #407EAF\">WebShell #2 输出</p>"
   ]
  },
  {
   "cell_type": "code",
   "execution_count": null,
   "metadata": {
    "collapsed": true
   },
   "outputs": [],
   "source": [
    "user ~ $ rosnode list\n",
    "/ObiWan\n",
    "/cmd_vel_mux\n",
    "/gazebo\n",
    "/mobile_base_nodelet_manager\n",
    "/robot_state_publisher\n",
    "/rosout"
   ]
  },
  {
   "cell_type": "markdown",
   "metadata": {},
   "source": [
    "为了查看节点信息，使用下面的命令：\n",
    "    "
   ]
  },
  {
   "cell_type": "code",
   "execution_count": null,
   "metadata": {
    "collapsed": true
   },
   "outputs": [],
   "source": [
    "rosnode info /ObiWan"
   ]
  },
  {
   "cell_type": "markdown",
   "metadata": {},
   "source": [
    "该命令将显示我们节点的所有信息。"
   ]
  },
  {
   "cell_type": "markdown",
   "metadata": {},
   "source": [
    "<table style=\"float:left;background: #407EAF\">\n",
    "<tr>\n",
    "<th>\n",
    "<p class=\"transparent\">在WebShell #2运行</p>\n",
    "</th>\n",
    "</tr>\n",
    "</table>"
   ]
  },
  {
   "cell_type": "code",
   "execution_count": null,
   "metadata": {
    "collapsed": true
   },
   "outputs": [],
   "source": [
    "rosnode info /ObiWan"
   ]
  },
  {
   "cell_type": "markdown",
   "metadata": {},
   "source": [
    "<p style=\"background: #407EAF\">WebShell #2 输出</p>"
   ]
  },
  {
   "cell_type": "code",
   "execution_count": null,
   "metadata": {
    "collapsed": true
   },
   "outputs": [],
   "source": [
    "user ~ $ rosnode info /ObiWan\n",
    "--------------------------------------------------------------------------------\n",
    "Node [/ObiWan]\n",
    "Publications:\n",
    " * /rosout [rosgraph_msgs/Log]\n",
    "\n",
    "Subscriptions:\n",
    " * /clock [rosgraph_msgs/Clock]\n",
    "\n",
    "Services:\n",
    " * /ObiWan/set_logger_level\n",
    " * /ObiWan/get_loggers\n",
    "\n",
    "\n",
    "contacting node http://ip-172-31-30-5:58680/ ...\n",
    "Pid: 1215\n",
    "Connections:\n",
    " * topic: /rosout\n",
    "    * to: /rosout\n",
    "    * direction: outbound\n",
    "    * transport: TCPROS\n",
    " * topic: /clock\n",
    "    * to: /gazebo (http://ip-172-31-30-5:46415/)\n",
    "    * direction: inbound\n",
    "    * transport: TCPROS"
   ]
  },
  {
   "cell_type": "markdown",
   "metadata": {},
   "source": [
    "目前，不要担心该命令的输出。到下一章时，你会理解更多。"
   ]
  },
  {
   "cell_type": "markdown",
   "metadata": {},
   "source": [
    "<p style=\"background:#407EAF;color:white;\">**例1.7结束**</p>"
   ]
  },
  {
   "cell_type": "markdown",
   "metadata": {},
   "source": [
    "## 编译功能包"
   ]
  },
  {
   "cell_type": "markdown",
   "metadata": {},
   "source": [
    "创建功能包时，你通常需要编译它，这样它才能运行。ROS编译功能包的命令是："
   ]
  },
  {
   "cell_type": "code",
   "execution_count": null,
   "metadata": {
    "collapsed": true
   },
   "outputs": [],
   "source": [
    "catkin_make"
   ]
  },
  {
   "cell_type": "markdown",
   "metadata": {},
   "source": [
    "该命令将编译整个 <b>src</b>目录，并且 <b>它需要被发行到你的<i>catkin_ws</i>目录才能工作。这是强制的。 </b>如果你试图从另一个目录编译，行不通。 "
   ]
  },
  {
   "cell_type": "markdown",
   "metadata": {},
   "source": [
    "<p style=\"background:#407EAF;color:white;\">**例1.8**</p>"
   ]
  },
  {
   "cell_type": "markdown",
   "metadata": {},
   "source": [
    "切换到你的catkin_ws目录，编译你的源文件夹。"
   ]
  },
  {
   "cell_type": "markdown",
   "metadata": {},
   "source": [
    "<table style=\"float:left;background: #407EAF\">\n",
    "<tr>\n",
    "<th>\n",
    "<p class=\"transparent\">在WebShell #1运行</p>\n",
    "</th>\n",
    "</tr>\n",
    "</table>"
   ]
  },
  {
   "cell_type": "code",
   "execution_count": null,
   "metadata": {
    "collapsed": true
   },
   "outputs": [],
   "source": [
    "roscd; cd ..\n",
    "catkin_make"
   ]
  },
  {
   "cell_type": "markdown",
   "metadata": {},
   "source": [
    "有时 (例如, 在大的项目中) 你不希望编译所有的功能包，而只想编译修改过的那个（那些）。下面的命令可实现该目的："
   ]
  },
  {
   "cell_type": "code",
   "execution_count": null,
   "metadata": {
    "collapsed": true
   },
   "outputs": [],
   "source": [
    "catkin_make --only-pkg-with-deps <package_name>"
   ]
  },
  {
   "cell_type": "markdown",
   "metadata": {},
   "source": [
    "该命令只编译指定的功能包及其依赖项。"
   ]
  },
  {
   "cell_type": "markdown",
   "metadata": {},
   "source": [
    "尝试同下面的命令编译你的名为 <span class=\"ign_green\">my_package</span>的功能包。"
   ]
  },
  {
   "cell_type": "markdown",
   "metadata": {},
   "source": [
    "<table style=\"float:left;background: #407EAF\">\n",
    "<tr>\n",
    "<th>\n",
    "<p class=\"transparent\">在WebShell #1运行</p>\n",
    "</th>\n",
    "</tr>\n",
    "</table>"
   ]
  },
  {
   "cell_type": "code",
   "execution_count": null,
   "metadata": {
    "collapsed": true
   },
   "outputs": [],
   "source": [
    "catkin_make --only-pkg-with-deps my_package"
   ]
  },
  {
   "cell_type": "markdown",
   "metadata": {},
   "source": [
    "<p style=\"background:#407EAF;color:white;\">**例1.8结束**</p>"
   ]
  },
  {
   "cell_type": "markdown",
   "metadata": {},
   "source": [
    "## 参数服务器"
   ]
  },
  {
   "cell_type": "markdown",
   "metadata": {},
   "source": [
    "参数服务器是ROS用来存储参数的一个 **词典**。这些参数供节点在运行时使用，通常用于静态数据，例如配置参数。 "
   ]
  },
  {
   "cell_type": "markdown",
   "metadata": {},
   "source": [
    "获取参数列表，运行："
   ]
  },
  {
   "cell_type": "code",
   "execution_count": null,
   "metadata": {
    "collapsed": true
   },
   "outputs": [],
   "source": [
    "rosparam list"
   ]
  },
  {
   "cell_type": "markdown",
   "metadata": {},
   "source": [
    "获取特定参数的值，输入："
   ]
  },
  {
   "cell_type": "code",
   "execution_count": null,
   "metadata": {
    "collapsed": true
   },
   "outputs": [],
   "source": [
    "rosparam get <parameter_name>"
   ]
  },
  {
   "cell_type": "markdown",
   "metadata": {},
   "source": [
    "设置一个参数的值，输入："
   ]
  },
  {
   "cell_type": "code",
   "execution_count": null,
   "metadata": {
    "collapsed": true
   },
   "outputs": [],
   "source": [
    "rosparam set <parameter_name> <value>"
   ]
  },
  {
   "cell_type": "markdown",
   "metadata": {},
   "source": [
    "<p style=\"background:#407EAF;color:white;\">**例1.9**</p>"
   ]
  },
  {
   "cell_type": "markdown",
   "metadata": {},
   "source": [
    "获取参数 '/camera/imager_rate' 的值，并将其改为 '4.0,'，运行下面的指令：\n",
    "<table style=\"float:left;background: #407EAF\">\n",
    "<tr>\n",
    "<th>\n",
    "<p class=\"transparent\">在WebShell #1运行</p>\n",
    "</th>\n",
    "</tr>\n",
    "</table>"
   ]
  },
  {
   "cell_type": "code",
   "execution_count": null,
   "metadata": {
    "collapsed": true
   },
   "outputs": [],
   "source": [
    "rosparam get /camera/imager_rate\n",
    "rosparam set /camera/imager_rate 4.0\n",
    "rosparam get /camera/imager_rate"
   ]
  },
  {
   "cell_type": "markdown",
   "metadata": {},
   "source": [
    "<p style=\"background:#407EAF;color:white;\">**例1.9结束**</p>"
   ]
  },
  {
   "cell_type": "markdown",
   "metadata": {},
   "source": [
    "可根据自己需要创建和删除参数，但目前不需要考虑这一点。在高级的教程中，你会学到这些的。"
   ]
  },
  {
   "cell_type": "markdown",
   "metadata": {},
   "source": [
    "## Roscore"
   ]
  },
  {
   "cell_type": "markdown",
   "metadata": {},
   "source": [
    "要想使一切工作，我们需要运行一个roscore。roscore是管理整个ROS系统的**主进程** 。为了使ROS能够正常工作，始终需要先运行roscore。启动roscore的命令是："
   ]
  },
  {
   "cell_type": "code",
   "execution_count": null,
   "metadata": {
    "collapsed": true
   },
   "outputs": [],
   "source": [
    "roscore"
   ]
  },
  {
   "cell_type": "markdown",
   "metadata": {
    "caption": "ROS Core Diagram",
    "image": true,
    "name": "roscore",
    "width": "10cm"
   },
   "source": [
    "<figure>\n",
    "  <img id=\"fig-1.2\" src=\"img/roscore.jpg\"></img>\n",
    "   <center> <figcaption>图.1.2 - ROS Core Diagram</figcaption></center>\n",
    "</figure>"
   ]
  },
  {
   "cell_type": "markdown",
   "metadata": {},
   "source": [
    "<font style=\"color:green;\">**注**: 在该课程的学习平台上，当你进入一个课程时，它自动为你启动了一个roscore，因此你不需要再启动roscore。</font>"
   ]
  },
  {
   "cell_type": "markdown",
   "metadata": {},
   "source": [
    "## 环境变量"
   ]
  },
  {
   "cell_type": "markdown",
   "metadata": {},
   "source": [
    "为了正常工作，ROS使用了一套Linux系统环境变量。你可以输入如下命令查看这些变量："
   ]
  },
  {
   "cell_type": "code",
   "execution_count": null,
   "metadata": {
    "collapsed": true
   },
   "outputs": [],
   "source": [
    "export | grep ROS"
   ]
  },
  {
   "cell_type": "markdown",
   "metadata": {},
   "source": [
    "<font style=\"color:green;\">**注 1**: 取决于你的电脑，可能会出现无法在你的WebShell输入**|** 符号的情况。如果出现了这种情况，可在WebShell上 **右击**，选择**<i>Paste from Browser</i>**来 **copy/paste** 该命令。用这种方法你可以在你的WebShell输入任何符号，无论你的电脑配置怎样。</font>"
   ]
  },
  {
   "cell_type": "code",
   "execution_count": null,
   "metadata": {
    "collapsed": true
   },
   "outputs": [],
   "source": [
    "user ~ $ export | grep ROS\n",
    "declare -x ROSLISP_PACKAGE_DIRECTORIES=\"/home/user/catkin_ws/devel/share/common-lisp\"\n",
    "declare -x ROS_DISTRO=\"indigo\"\n",
    "declare -x ROS_ETC_DIR=\"/opt/ros/indigo/etc/ros\"\n",
    "declare -x ROS_MASTER_URI=\"http://localhost:11311\"\n",
    "declare -x ROS_PACKAGE_PATH=\"/home/user/catkin_ws/src:/opt/ros/indigo/share:/opt/ros/indigo/stacks\"\n",
    "declare -x ROS_ROOT=\"/opt/ros/indigo/share/ros\""
   ]
  },
  {
   "cell_type": "markdown",
   "metadata": {},
   "source": [
    "最重要的变量是 **ROS_MASTER_URI** 和 **ROS_PACKAGE_PATH**。"
   ]
  },
  {
   "cell_type": "code",
   "execution_count": null,
   "metadata": {
    "collapsed": true
   },
   "outputs": [],
   "source": [
    "ROS_MASTER_URI -> 包含被执行的ROS核心的url。通常为你的电脑 (localhost)。\n",
    "ROS_PACKAGE_PATH -> 包含你硬盘上存放ROS功能包的路径。"
   ]
  },
  {
   "cell_type": "markdown",
   "metadata": {},
   "source": [
    "<font style=\"color:green;\">**注 2**: 在该课程的学习平台上，我们创建了一个别名来显示ROS环境变量。该别名为 **<i>rosenv</i>**。在你的终端输入它，你会得到一个ROS环境变量列表。请注意，这不是一个 *官方ROS命令**,只能在该学习平台上使用。</font>"
   ]
  },
  {
   "cell_type": "markdown",
   "metadata": {},
   "source": [
    "## 现在... 什么是ROS？"
   ]
  },
  {
   "cell_type": "markdown",
   "metadata": {},
   "source": [
    "ROS是一个可以使我们做本章所介绍的所有内容的一个框架。它用来管理所有的进程以及它们之间的通信...，还有很多，很多很多！ \n",
    "在本单元，你只是走马观花地学习了ROS的几个基本概念。\n",
    "ROS是一个极其强大的工具。如果你深入学习我们的课程，你将会学到许多关于ROS的知识和技能，最终你会发现你几乎能用ROS来进行所有有关机器人的工作！"
   ]
  },
  {
   "cell_type": "markdown",
   "metadata": {},
   "source": [
    "## 更多的学习资料，请访问:"
   ]
  },
  {
   "cell_type": "markdown",
   "metadata": {},
   "source": [
    "ROS 功能包: http://wiki.ros.org/Packages\n",
    "\n",
    "Ros 节点: http://wiki.ros.org/Nodes\n",
    "\n",
    "参数服务器: http://wiki.ros.org/Parameter%20Server\n",
    "\n",
    "Roscore: http://wiki.ros.org/roscore\n",
    "\n",
    "ROS 环境变量: http://wiki.ros.org/ROS/EnvironmentVariables"
   ]
  }
 ],
 "metadata": {
  "anaconda-cloud": {},
  "kernelspec": {
   "display_name": "Python 3",
   "language": "python",
   "name": "python3"
  },
  "language_info": {
   "codemirror_mode": {
    "name": "ipython",
    "version": 3
   },
   "file_extension": ".py",
   "mimetype": "text/x-python",
   "name": "python",
   "nbconvert_exporter": "python",
   "pygments_lexer": "ipython3",
   "version": "3.6.4"
  },
  "latex_metadata": {
   "chapter": "1 - Basic Concepts",
   "chapter_title": "Unit 1. Basic Concepts",
   "course_title": "ROS BASICS IN 5 DAYS"
  },
  "nbpresent": {
   "slides": {},
   "themes": {
    "default": "31006857-3e5b-4c40-a94d-8ea8ade74bc7",
    "theme": {
     "31006857-3e5b-4c40-a94d-8ea8ade74bc7": {
      "backgrounds": {
       "backgroundColor": {
        "background-color": "backgroundColor",
        "id": "backgroundColor"
       }
      },
      "id": "31006857-3e5b-4c40-a94d-8ea8ade74bc7",
      "palette": {
       "backgroundColor": {
        "id": "backgroundColor",
        "rgb": [
         34,
         34,
         34
        ]
       },
       "headingColor": {
        "id": "headingColor",
        "rgb": [
         238,
         238,
         238
        ]
       },
       "linkColor": {
        "id": "linkColor",
        "rgb": [
         170,
         34,
         51
        ]
       },
       "mainColor": {
        "id": "mainColor",
        "rgb": [
         238,
         238,
         238
        ]
       }
      },
      "rules": {
       "a": {
        "color": "linkColor"
       },
       "h1": {
        "color": "headingColor",
        "font-family": "Ubuntu",
        "font-size": 7
       },
       "h2": {
        "color": "headingColor",
        "font-family": "Ubuntu",
        "font-size": 5
       },
       "h3": {
        "color": "headingColor",
        "font-family": "Ubuntu",
        "font-size": 3.75
       },
       "h4": {
        "color": "headingColor",
        "font-family": "Ubuntu",
        "font-size": 3
       },
       "h5": {
        "color": "headingColor",
        "font-family": "Ubuntu"
       },
       "h6": {
        "color": "headingColor",
        "font-family": "Ubuntu"
       },
       "h7": {
        "color": "headingColor",
        "font-family": "Ubuntu"
       },
       "li": {
        "color": "mainColor",
        "font-family": "Ubuntu",
        "font-size": 5
       },
       "p": {
        "color": "mainColor",
        "font-family": "Ubuntu",
        "font-size": 5
       }
      },
      "text-base": {
       "color": "mainColor",
       "font-family": "Ubuntu",
       "font-size": 5
      }
     }
    }
   }
  }
 },
 "nbformat": 4,
 "nbformat_minor": 1
}
