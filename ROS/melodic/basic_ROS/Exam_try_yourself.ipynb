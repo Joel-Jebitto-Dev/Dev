{
 "cells": [
  {
   "cell_type": "markdown",
   "metadata": {},
   "source": [
    "# ROS IN 5 DAYS"
   ]
  },
  {
   "cell_type": "markdown",
   "metadata": {},
   "source": [
    "# Exam"
   ]
  },
  {
   "cell_type": "markdown",
   "metadata": {},
   "source": [
    "The exam is based on the Husky robot by Clearpath.\n",
    "The robot is inside a structure and must figure its way out of there. You can use any of the sensors the robot has to detect the environment, and use the actuators to move the robot.\n",
    "Check the graphic below to see what the approximate behavior of the robot must be."
   ]
  },
  {
   "cell_type": "markdown",
   "metadata": {
    "caption": "Fig.ex.1 - Husky exiting the room",
    "image": true,
    "name": "fig-ex.1 husky_solves",
    "width": "15cm"
   },
   "source": [
    "<figure>\n",
    "  <img id=\"fig-ex.1\" src=\"img/husky_solves.gif\"/>\n",
    "   <center> <figcaption>Fig.ex.1 - Husky exiting the room</figcaption></center>\n",
    "</figure>"
   ]
  },
  {
   "cell_type": "markdown",
   "metadata": {},
   "source": [
    "For passing the exam, we will ask you to perform different tasks with the simulated drone. For each task, very **specific instructions** will be provided: name of the package, names of the launch files and Python scripts, topic names to use, etc. \n",
    "\n",
    "It is **VERY IMPORTANT** that you strictly follow these instructions, since they will allow our automated correction system to properly test your exam, and assign a score to it. If the names you use are different from the ones specified in the exam instructions, your exercise will be marked as **FAILED**, even though it works correctly."
   ]
  },
  {
   "cell_type": "markdown",
   "metadata": {},
   "source": [
    "Before starting with the Exam, please make sure that you read and understand the <a href=\"#important-notes\">**Important Notes**</a> and <a href=\"#proceed\">**How to proceed**</a> sections.\n",
    "\n",
    "Good luck!"
   ]
  },
  {
   "cell_type": "markdown",
   "metadata": {},
   "source": [
    "### Task 0"
   ]
  },
  {
   "cell_type": "markdown",
   "metadata": {},
   "source": [
    "Inside your workspace (**~/catkin_ws/src/**), create a new folder named **basics_exam**. Inside this folder you will place all the files required for the exam. The full path has to be like this:"
   ]
  },
  {
   "cell_type": "code",
   "execution_count": null,
   "metadata": {
    "collapsed": true
   },
   "outputs": [],
   "source": [
    "/home/user/catkin_ws/src/basics_exam"
   ]
  },
  {
   "cell_type": "markdown",
   "metadata": {},
   "source": [
    "### Task 1"
   ]
  },
  {
   "cell_type": "markdown",
   "metadata": {},
   "source": [
    "Inside the **basics_exam** folder, create a new Python script named **exam_service_server.py**. This program will contain a Service Server that, when called, must provide the direction to move in."
   ]
  },
  {
   "cell_type": "markdown",
   "metadata": {},
   "source": [
    "#### Specifications"
   ]
  },
  {
   "cell_type": "markdown",
   "metadata": {},
   "source": [
    "* The service will be named **/crash_direction_service**.\n",
    "\n",
    "\n",
    "* The service will use the **Trigger** service message.\n",
    "\n",
    "\n",
    "* The service response will return one of the following words: **front**, **left** or **right**."
   ]
  },
  {
   "cell_type": "markdown",
   "metadata": {},
   "source": [
    "### Task 2"
   ]
  },
  {
   "cell_type": "markdown",
   "metadata": {},
   "source": [
    "Inside the **basics_exam** folder, create a new Python script named **exam_action_server.py**. This program will contain a Action Server that, when called, will start recording all of the odometry positions the robot is visiting, every second."
   ]
  },
  {
   "cell_type": "markdown",
   "metadata": {},
   "source": [
    "#### Specifications"
   ]
  },
  {
   "cell_type": "markdown",
   "metadata": {},
   "source": [
    "* The name of the Action Server has to be **/rec_odom_as**.\n",
    "\n",
    "\n",
    "* The name of the custom Action message you create has to be **record_odom.action**.\n",
    "\n",
    "\n",
    "* **Goal**: No goal is sent, just an empty message indicating that the action server must start.\n",
    "\n",
    "\n",
    "* **Feedback**: No feedback must be provided.\n",
    "\n",
    "\n",
    "* **Result**: After 60 seconds, it will provide the whole list of positions."
   ]
  },
  {
   "cell_type": "markdown",
   "metadata": {},
   "source": [
    "### Task 3"
   ]
  },
  {
   "cell_type": "markdown",
   "metadata": {},
   "source": [
    "Inside the **basics_exam** folder, create a new Python script named **main_program.py**. This program will contain a node that coordinates everything. It must:\n",
    "    \n",
    "1. Call the action server when the robot starts trying to get out of the room, in order to start storing all of the positions that the robot has visited.\n",
    "\n",
    "2. Call the service in order to know which is the next direction it has to move in.\n",
    "\n",
    "3. Move the robot in the specified direction.\n",
    "\n",
    "4. When the minute has passed, the robot must stop and end everything.\n",
    "\n",
    "5. If the robot is out of the room, it must print a message indicating it has gone out."
   ]
  },
  {
   "cell_type": "markdown",
   "metadata": {},
   "source": [
    "Create a launch file, named **main_launch.launch**, that starts everything needed for the robot to go out of the room. When this launch file is executed, the whole process will start."
   ]
  },
  {
   "cell_type": "markdown",
   "metadata": {},
   "source": [
    "<div id=\"important-notes\"></div>"
   ]
  },
  {
   "cell_type": "markdown",
   "metadata": {},
   "source": [
    "### Important Notes"
   ]
  },
  {
   "cell_type": "markdown",
   "metadata": {},
   "source": [
    "* The exam can only be done **ONCE**.\n",
    "* You must complete the exam within **TWO** hours. Please pay attention to the time and organize yourself so that you finish before the time ends.\n",
    "* The exam accounts for 50% of the final grade.\n",
    "* In order to correct the exams, we use an automated system that tests the files you create. For this automated system, it is **VERY IMPORTANT** that you follow all the instructions given in the Exercises regarding the names of the files, services, etc. Don't forget to have a look at the **Specifications** section of each Exercise.\n",
    "* Before correcting your Exam, make sure that all your Python scripts are executalbe. They need to have full execution permissions in order to be executed by our autocorrection system. You can give them full execution permissions with the following command:"
   ]
  },
  {
   "cell_type": "code",
   "execution_count": null,
   "metadata": {
    "collapsed": false
   },
   "outputs": [],
   "source": [
    "chmod +x my_script.py"
   ]
  },
  {
   "cell_type": "markdown",
   "metadata": {},
   "source": [
    "* When you have finished the Exam, you can correct it in order to get a Mark. For that, just click on the following button at the top of this Notebook.\n",
    "<br>\n",
    "<img src=\"img/correct_quiz_btn.png\" width=\"100\"/>"
   ]
  },
  {
   "cell_type": "markdown",
   "metadata": {},
   "source": [
    "<div id=\"proceed\"></div>"
   ]
  },
  {
   "cell_type": "markdown",
   "metadata": {},
   "source": [
    "### How to proceed with the exam"
   ]
  },
  {
   "cell_type": "markdown",
   "metadata": {},
   "source": [
    "\n",
    "* You can use the learning environment to develop and test your code.\n",
    "* You can recover the previous lessons or consult the internet to search for information.\n",
    "* You have two hours to finish the exam."
   ]
  },
  {
   "cell_type": "markdown",
   "metadata": {},
   "source": [
    "<!--* Once you have your code done and working, use the IDE to download all of the packages and send them in a zip file to the email <i>certification@theconstructsim.com</i>, indicating the level that you are accessing to (in this case, Level 2, Yellow Turtle Belt). Please send it before the two hours have passed.\n",
    "* We will send you your results and certificate (if applicable) next week.-->\n",
    "\n"
   ]
  },
  {
   "cell_type": "markdown",
   "metadata": {},
   "source": [
    "### Scoring"
   ]
  },
  {
   "cell_type": "markdown",
   "metadata": {},
   "source": [
    "Scoring is based on how many of the following phases you have achieved:\n",
    "\n",
    "* Phase 1. <b>You can read from the relevant topics</b> (topics that are required for solving the problem): 0.5 points\n",
    "* Phase 2. <b>You can write into the relevant topics</b>: 0.5 points\n",
    "* Phase 3. <b>You created a proper service</b>: 1 point\n",
    "* Phase 4. <b>You are properly calling the service</b>: 1 point\n",
    "* Phase 5. <b>You created a proper action server</b>: 1.5 points\n",
    "* Phase 6. <b>You are properly calling the action server</b>: 1.5 points\n",
    "* Phase 7. <b>The robot is trying to solve the problem while reading and writing from/to topics, calling services, and calling actions</b>: 2 points\n",
    "* Phase 8. <b>The robot solved the problem and got out of the environment, starting from a random place and orientation</b>: 2 points\n",
    "\n",
    "<br>\n",
    "<b>Only those with an 8 out of 10 will get a certificate</b>. This means, you have correctly understood the concepts and know how to use them to solve a robotics problem.\n",
    "\n",
    "Having a 10 out of 10 means that you also know how to apply the concepts in order to accomplish a task. This should be your goal."
   ]
  }
 ],
 "metadata": {
  "anaconda-cloud": {},
  "kernelspec": {
   "display_name": "Python [Root]",
   "language": "python",
   "name": "Python [Root]"
  },
  "language_info": {
   "codemirror_mode": {
    "name": "ipython",
    "version": 2
   },
   "file_extension": ".py",
   "mimetype": "text/x-python",
   "name": "python",
   "nbconvert_exporter": "python",
   "pygments_lexer": "ipython2",
   "version": "2.7.12"
  },
  "latex_metadata": {
   "chapter": "Exam",
   "chapter_title": "Exam",
   "course_title": "ROS BASICS IN 5 DAYS"
  }
 },
 "nbformat": 4,
 "nbformat_minor": 1
}
