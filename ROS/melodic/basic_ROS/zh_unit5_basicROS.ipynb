{
 "cells": [
  {
   "cell_type": "markdown",
   "metadata": {},
   "source": [
    "<h1><font class='ign_color'>5天学ROS</font></h1>"
   ]
  },
  {
   "cell_type": "markdown",
   "metadata": {},
   "source": [
    "# Unit 5: 调试工具"
   ]
  },
  {
   "cell_type": "markdown",
   "metadata": {
    "caption": "Iri Wam Robot",
    "image": true,
    "name": "iri_wam",
    "width": "8cm"
   },
   "source": [
    "<img src=\"img/iri_wam.jpg\" width=\"500\" />"
   ]
  },
  {
   "cell_type": "markdown",
   "metadata": {},
   "source": [
    "<b>预计完成时间:</b> 1.5 小时\n",
    "<br><br>\n",
    "<b>从本单元你将学到：</b>\n",
    "\n",
    "* ROS怎样帮你调试\n",
    "* 添加调试ROS日志\n",
    "* 过滤ROS日志\n",
    "* 记录和回放传感器数据\n",
    "* 绘制主题数据\n",
    "* 在系统不同节点间绘制连接\n",
    "* RViz调试工具的基本用法"
   ]
  },
  {
   "cell_type": "markdown",
   "metadata": {},
   "source": [
    "机器人最难但最重要的其中一个部分是：**知道怎样把你的想法和知识转化成真正的项目**。 在机器人项目中有个常识: **一切都跟理论中的不一样**。 实际情况更复杂，因此，你需要一些工具来发现正在发生的事情，并找出问题所在。\n",
    "这就是调试和显示工具在机器人领域特别重要的原因，特别是有复杂数据格式例如 **images**, **laser-scans**, **pointclouds** 或 **kinematic data**时。 <a href=\"#fig-5.i\">{Fig-5.i}</a> 和 <a href=\"#fig-5.ii\">{Fig-5.ii}</a><i>给出了两个例子."
   ]
  },
  {
   "cell_type": "markdown",
   "metadata": {
    "caption": "Rviz Example 1",
    "image": true,
    "name": "rviz_example1",
    "width": "15cm"
   },
   "source": [
    "<figure>\n",
    "    <img id=\"fig-5.i\" src=\"img/rviz_example1.jpg\"></img>\n",
    "    <center> <figcaption>Fig.5.i - Atlas Laser</figcaption></center>\n",
    "</figure>"
   ]
  },
  {
   "cell_type": "markdown",
   "metadata": {
    "caption": "Rviz Example 2",
    "image": true,
    "name": "rviz_example2",
    "width": "15cm"
   },
   "source": [
    "<figure>\n",
    "    <img id=\"fig-5.ii\" src=\"img/rviz_example2.jpg\"></img>\n",
    "    <center> <figcaption>Fig.5.ii - PR2 Laser 和 PointCloud</figcaption></center>\n",
    "</figure>"
   ]
  },
  {
   "cell_type": "markdown",
   "metadata": {},
   "source": [
    "因此我们向你介绍可以用于调试代码和显示机器人系统当前实际情况的最重要的工具。"
   ]
  },
  {
   "cell_type": "markdown",
   "metadata": {},
   "source": [
    "### ROS"
   ]
  },
  {
   "cell_type": "markdown",
   "metadata": {},
   "source": [
    "看起来像个笑话，但其实并不是！当你真的不知道从哪里入手解决问题的时候， <b><i>Roswtf</i></b>是一个很棒的工具。"
   ]
  },
  {
   "cell_type": "markdown",
   "metadata": {},
   "source": [
    "<table style=\"float:left;\">\n",
    "<tr>\n",
    "<th>\n",
    "打开WebShell，输入以下命令:<br>\n",
    "</th>\n",
    "</tr>\n",
    "</table>"
   ]
  },
  {
   "cell_type": "markdown",
   "metadata": {},
   "source": [
    "<table style=\"float:left;background: #407EAF\">\n",
    "<tr>\n",
    "<th>\n",
    "<p class=\"transparent\">在WebShell #1中运行</p>\n",
    "</th>\n",
    "</tr>\n",
    "</table>"
   ]
  },
  {
   "cell_type": "code",
   "execution_count": null,
   "metadata": {
    "collapsed": true
   },
   "outputs": [],
   "source": [
    "roswtf"
   ]
  },
  {
   "cell_type": "markdown",
   "metadata": {},
   "source": [
    "<p style=\"background: #407EAF\">WebShell #1 输出</p>"
   ]
  },
  {
   "cell_type": "code",
   "execution_count": null,
   "metadata": {
    "collapsed": true
   },
   "outputs": [],
   "source": [
    "user ~ $ roswtf\n",
    "the rosdep view is empty: call 'sudo rosdep init' and 'rosdep update'\n",
    "No package or stack in context\n",
    "================================================================================\n",
    "Static checks summary:\n",
    "\n",
    "Found 1 error(s).\n",
    "\n",
    "ERROR ROS Dep database not initialized: Please initialize rosdep database with sudo rosdep init.\n",
    "================================================================================\n",
    "Beginning tests of your ROS graph. These may take awhile...\n",
    "analyzing graph...\n",
    "... done analyzing graph\n",
    "running graph rules...\n",
    "... done running graph rules\n",
    "\n",
    "Online checks summary:\n",
    "\n",
    "Found 2 warning(s).\n",
    "Warnings are things that may be just fine, but are sometimes at fault\n",
    "\n",
    "WARNING The following node subscriptions are unconnected:\n",
    " * /gazebo:\n",
    "   * /gazebo/set_model_state\n",
    "   * /gazebo/set_link_state\n",
    "   * /iri_wam/iri_wam_controller/follow_joint_trajectory/cancel\n",
    "   * /iri_wam/iri_wam_controller/follow_joint_trajectory/goal\n",
    "   * /iri_wam/e_stop\n",
    "   * /iri_wam/iri_wam_controller/command\n",
    "\n",
    "WARNING These nodes have died:\n",
    " * urdf_spawner-4"
   ]
  },
  {
   "cell_type": "markdown",
   "metadata": {},
   "source": [
    "在这种特殊情况下，它告诉你<a href=\"#webshell-out-5.1\">{webshell-out-5.1}</a> 包<i>rosdep</i> 没有被初始化，所以你可能在安装来自网络的新ROS包时遇到问题。 这种情况没有任何问题，因为你正在使用的系统 (Robot Ignite Academy system) 并不适用于安装任何东西。\n",
    "<br><br>\n",
    "这就引出了我们的问题： <b><i>roswtf</i>是做什么的?</b>"
   ]
  },
  {
   "cell_type": "markdown",
   "metadata": {},
   "source": [
    "默认情况下，它会检查 <b>两个</b>ROS字段：\n",
    "    \n",
    "* <b>File-system issues:</b> 检查环境变量、软件包、启动文件等。它会排查所有不一致是否为错误。 你可以单独使用 <i>roswtf</i>命令来获取系统全局变量。 也可以在使用前，用它来检查特定的<i>启动文件<i>。\n",
    "    \n"
   ]
  },
  {
   "cell_type": "markdown",
   "metadata": {},
   "source": [
    "<table style=\"float:left;\">\n",
    "<tr>\n",
    "<th>\n",
    "打开WebShell，输入以下命令:<br>\n",
    "</th>\n",
    "</tr>\n",
    "</table>\n",
    "\n"
   ]
  },
  {
   "cell_type": "markdown",
   "metadata": {},
   "source": [
    "<table style=\"float:left;background: #407EAF\">\n",
    "<tr>\n",
    "<th>\n",
    "<p class=\"transparent\">WebShell #1中运行</p>\n",
    "</th>\n",
    "</tr>\n",
    "</table>"
   ]
  },
  {
   "cell_type": "code",
   "execution_count": null,
   "metadata": {
    "collapsed": true
   },
   "outputs": [],
   "source": [
    "roslaunch iri_wam_aff_demo false_start_demo.launch"
   ]
  },
  {
   "cell_type": "markdown",
   "metadata": {},
   "source": [
    "<p style=\"background: #407EAF\">WebShell #1 输出</p>"
   ]
  },
  {
   "cell_type": "code",
   "execution_count": null,
   "metadata": {
    "collapsed": true
   },
   "outputs": [],
   "source": [
    "user ~ $ roslaunch iri_wam_aff_demo false_start_demo.launch\n",
    "... logging to /home/user/.ros/log/fd58c97c-9068-11e6-9889-02c6d37ebbf9/roslaunch-ip-172-31-20-234-12087.log\n",
    "Checking log directory for disk usage. This may take awhile.\n",
    "Press Ctrl-C to interrupt\n",
    "Done checking log file disk usage. Usage is <1GB.\n",
    "\n",
    "started roslaunch server http://ip-172-31-20-234:38217/\n",
    "\n",
    "SUMMARY\n",
    "========\n",
    "\n",
    "PARAMETERS\n",
    " * /rosdistro: indigo\n",
    " * /rosversion: 1.11.20\n",
    "\n",
    "NODES\n",
    "  /\n",
    "    iri_wam_aff_demo (iri_wam_reproduce_trajectory/iri_wam_aff_demo_node)\n",
    "    iri_wam_reproduce_trajectory (iri_wam_reproduce_trajectory/iri_wam_reproduce_trajectory_node)\n",
    "\n",
    "ROS_MASTER_URI=http://localhost:11311\n",
    "\n",
    "core service [/rosout] found\n",
    "\n",
    "\n",
    "process[iri_wam_reproduce_trajectory-1]: started with pid [12111]\n",
    "ERROR: cannot launch node of type [iri_wam_reproduce_trajectory/iri_wam_aff_demo_node]: can't locate node[iri_wam_aff_demo_node] in package [iri_wam_reproduce_trajectory]"
   ]
  },
  {
   "cell_type": "markdown",
   "metadata": {},
   "source": [
    "能明白吗？ 它只是告诉你，它找不到你的 <i>iri_wam_aff_demo_node</i>。 现在尝试在该启动文件上使用 <b>roswtf</b>以获取与可能存在的问题有关的更多信息："
   ]
  },
  {
   "cell_type": "markdown",
   "metadata": {},
   "source": [
    "<table style=\"float:left;\">\n",
    "<tr>\n",
    "<th>\n",
    "打开WebShell，输入以下命令:<br>\n",
    "</th>\n",
    "</tr>\n",
    "</table>"
   ]
  },
  {
   "cell_type": "markdown",
   "metadata": {},
   "source": [
    "<table style=\"float:left;background: #407EAF\">\n",
    "<tr>\n",
    "<th>\n",
    "<p class=\"transparent\">在WebShell #1中运行</p>\n",
    "</th>\n",
    "</tr>\n",
    "</table>"
   ]
  },
  {
   "cell_type": "code",
   "execution_count": null,
   "metadata": {
    "collapsed": true
   },
   "outputs": [],
   "source": [
    "roscd iri_wam_aff_demo/launch\n",
    "roswtf false_start_demo.launch"
   ]
  },
  {
   "cell_type": "markdown",
   "metadata": {},
   "source": [
    "<p style=\"background: #407EAF\">WebShell #1 输出</p>"
   ]
  },
  {
   "cell_type": "code",
   "execution_count": null,
   "metadata": {
    "collapsed": true
   },
   "outputs": [],
   "source": [
    "user launch $ roswtf false_start_demo.launch\n",
    "the rosdep view is empty: call 'sudo rosdep init' and 'rosdep update'\n",
    "[rospack] Error: the rosdep view is empty: call 'sudo rosdep init' and 'rosdep update'\n",
    "================================================================================\n",
    "Static checks summary:\n",
    "\n",
    "Found 2 error(s).\n",
    "\n",
    "ERROR ROS Dep database not initialized: Please initialize rosdep database with sudo rosdep init.\n",
    "ERROR Several nodes in your launch file could not be located. These are either typed incorrectly or need to be built:\n",
    " * node [iri_wam_aff_demo_node] in package [iri_wam_reproduce_trajectory]"
   ]
  },
  {
   "cell_type": "markdown",
   "metadata": {},
   "source": [
    "要让**<i>roswtf yourlaunchfile.launch</i>** 运行, 你需要找到文件路径。 因此你需要使用 **<i>roscd</i>** 命令。<br>\n",
    "上面显示的错误是告诉你**<i>roswtf</i>**找不到**<i>iri_wam_aff_demo_node</i>**。它指出，因为它是一个二进制文件，可能因为你还没有编译它，或者出现了拼写错误。 实际上它告诉你在 **<i>iri_wam_reproduce_trajectory</i>**包中没有 **<i>iri_wam_aff_demo_node</i>**节点。<br>"
   ]
  },
  {
   "cell_type": "markdown",
   "metadata": {},
   "source": [
    "\n",
    "* **Online/graph issues**: **roswtf** 还会检查节点、主题、行为等之间的连接是否存在任何不一致。 它会警告你是否有东西未连接，或连接了不应该连接的地方。**这些警告不一定是错误**。 只是ROS发现它们有些奇怪。 由你自己来确定这是个错误还是它只是你的连接方式而已。"
   ]
  },
  {
   "cell_type": "markdown",
   "metadata": {},
   "source": [
    "<table style=\"float:left;\">\n",
    "<tr>\n",
    "<th>\n",
    "打开WebShell，输入以下命令:<br>\n",
    "</th>\n",
    "</tr>\n",
    "</table>"
   ]
  },
  {
   "cell_type": "markdown",
   "metadata": {},
   "source": [
    "<table style=\"float:left;background: #407EAF\">\n",
    "<tr>\n",
    "<th>\n",
    "<p class=\"transparent\">在WebShell #1中运行</p>\n",
    "</th>\n",
    "</tr>\n",
    "</table>"
   ]
  },
  {
   "cell_type": "code",
   "execution_count": null,
   "metadata": {
    "collapsed": true
   },
   "outputs": [],
   "source": [
    "roswtf"
   ]
  },
  {
   "cell_type": "markdown",
   "metadata": {},
   "source": [
    "<p style=\"background: #407EAF\">WebShell #1 输出</p>"
   ]
  },
  {
   "cell_type": "code",
   "execution_count": null,
   "metadata": {
    "collapsed": true
   },
   "outputs": [],
   "source": [
    "user ~ $ roswtf\n",
    "the rosdep view is empty: call 'sudo rosdep init' and 'rosdep update'\n",
    "No package or stack in context\n",
    "================================================================================\n",
    "Static checks summary:\n",
    "\n",
    "Found 1 error(s).\n",
    "\n",
    "ERROR ROS Dep database not initialized: Please initialize rosdep database with sudo rosdep init.\n",
    "================================================================================\n",
    "Beginning tests of your ROS graph. These may take awhile...\n",
    "analyzing graph...\n",
    "... done analyzing graph\n",
    "running graph rules...\n",
    "... done running graph rules\n",
    "\n",
    "Online checks summary:\n",
    "\n",
    "Found 2 warning(s).\n",
    "Warnings are things that may be just fine, but are sometimes at fault\n",
    "\n",
    "WARNING The following node subscriptions are unconnected:\n",
    " * /gazebo:\n",
    "   * /gazebo/set_model_state\n",
    "   * /gazebo/set_link_state\n",
    "   * /iri_wam/iri_wam_controller/follow_joint_trajectory/cancel\n",
    "   * /iri_wam/iri_wam_controller/follow_joint_trajectory/goal\n",
    "   * /iri_wam/e_stop\n",
    "   * /iri_wam/iri_wam_controller/command\n",
    "\n",
    "WARNING These nodes have died:\n",
    " * urdf_spawner-4"
   ]
  },
  {
   "cell_type": "markdown",
   "metadata": {},
   "source": [
    "您在开始时执行了此命令，但您没有注意到下半部分的警告。 这些警告是 <i>图形问题</i>。\n",
    "\n",
    "* 它指出有些订阅器没有连接到应该连接的主题：这其实很正常，这些节点可能只在开始时或特殊时刻时才连接。此处没有错误。\n",
    "* 第二个警告指出有一个节点已死亡：这对节点来说也很正常，比如在这里它们只有在生成目标时才会运行，用过以后就死了。 但是ROS非常友好，它要让你知道这一点，万一不应该这样运行呢。"
   ]
  },
  {
   "cell_type": "markdown",
   "metadata": {},
   "source": [
    "### ROS调试消息和 Rqt-Console"
   ]
  },
  {
   "cell_type": "markdown",
   "metadata": {},
   "source": [
    "在本课程中，你已经使用了<i>print()</i>来打印关于程序如何执行的信息。<b>打印s</b> 是<i>Dark Side of the Force黑暗面</i>，所以从现在开始，你会采用更加<i>Jedi光明磊落</i>的做事方式。 这就是<b>LOGS</b>。 日志允许你在屏幕上打印它们，但也可以将它们存储在ROS框架中来分类、排序、过滤等。"
   ]
  },
  {
   "cell_type": "markdown",
   "metadata": {},
   "source": [
    "日志系统中存在日志级别，如 <a href=\"#fig-5.1\">{Fig-5.1}</a>所示。 在 ROS 日志中共有<b>五个</b>级别。每个级别还包含有更深层的级别。例如，如果你使用的是 <b>Error错误</b>级别，会显示所有 <b>Error错误</b> 和 <b>Fatal致命</b>的消息。如果你的级别是<b>Warning警告</b>，那么会显示 <b>Warning警告</b>、 <b>Error错误</b> 及 <b>Fatal致命</b>所有级别的消息。 "
   ]
  },
  {
   "cell_type": "markdown",
   "metadata": {
    "caption": "LOG Levels",
    "image": true,
    "name": "log_level",
    "width": "8cm"
   },
   "source": [
    "<table style=\"width:100%\">\n",
    "  <tr>\n",
    "    <th>\n",
    "    <figure>\n",
    "        <img id=\"fig-5.1\" src=\"img/log_level.png\"></img>\n",
    "        <center> <figcaption>Fig.5.1 - LOG 级别</figcaption></center>\n",
    "    </figure>\n",
    "    </th>\n",
    "    <th>\n",
    "   使用Python 的 <i>rospy</i>模块访问Python中的日志功能。<br>\n",
    "    \n",
    "    DEBUG ==> rospy.logdebug(msg, *args)<br>\n",
    "    INFO ==> rospy.loginfo(msg, *args)<br>\n",
    "    WARNING ==> rospy.logwarn(msg, *args)<br>\n",
    "    ERROR ==> rospy.logerr(msg, *args)<br>\n",
    "    FATAL ==> rospy.logfatal(msg, *args)<br>\n",
    "    </th> \n",
    "  </tr>\n",
    "</table>\n",
    "\n"
   ]
  },
  {
   "cell_type": "markdown",
   "metadata": {},
   "source": [
    "<table style=\"float:left;\">\n",
    "<tr>\n",
    "<th>\n",
    "运行以下 Python代码:<br>\n",
    "</th>\n",
    "</tr>\n",
    "</table>"
   ]
  },
  {
   "cell_type": "markdown",
   "metadata": {},
   "source": [
    "<p style=\"background:#407EAF;color:white;\">**例 5.1**</p><br>"
   ]
  },
  {
   "cell_type": "markdown",
   "metadata": {},
   "source": [
    "点击<a href=\"#example-5.1\">logger_example.py</a>运行Python代码，点击IPython笔记本右上角的播放按钮。\n",
    "<br><br> \n",
    "<div class='white_bg'><img src=\"img/font-awesome_step-forward.png\" style=\"float:left\"/><br><br></div>\n",
    "<br>\n",
    "你也可以使用<i>[CTRL]+[Enter]</i>来运行它。"
   ]
  },
  {
   "cell_type": "markdown",
   "metadata": {},
   "source": [
    "<p style=\"background:#3B8F10;color:white;\" id=\"example-5.1\">**Python Program {5.1}:  logger_example.py** </p><br>"
   ]
  },
  {
   "cell_type": "code",
   "execution_count": null,
   "metadata": {
    "collapsed": true
   },
   "outputs": [],
   "source": [
    "#! /usr/bin/env python\n",
    "\n",
    "import rospy\n",
    "import random\n",
    "import time\n",
    "\n",
    "# 选项: DEBUG调试, INFO信息, WARN警告, ERROR错误, FATAL致命\n",
    "rospy.init_node('log_demo', log_level=rospy.DEBUG)\n",
    "rate = rospy.Rate(0.5)\n",
    "\n",
    "# 在Kinetic ROS中，您可以使用此定期日志发布。 我们在这里使用Indigo，所以还没有用。\n",
    "#rospy.loginfo_throttle(120, \"DeathStars Minute info: \"+str(time.time()))\n",
    "\n",
    "while not rospy.is_shutdown():\n",
    "    rospy.logdebug(\"There is a missing droid\")\n",
    "    rospy.loginfo(\"The Emperors Capuchino is done\")\n",
    "    rospy.logwarn(\"The Revels are coming time \"+str(time.time()))\n",
    "    exhaust_number = random.randint(1,100)\n",
    "    port_number = random.randint(1,100)\n",
    "    rospy.logerr(\" The thermal exhaust port %s, right below the main port %s\", exhaust_number, port_number)\n",
    "    rospy.logfatal(\"The DeathStar Is EXPLODING\")\n",
    "    rate.sleep()\n",
    "    rospy.logfatal(\"END\")"
   ]
  },
  {
   "cell_type": "markdown",
   "metadata": {},
   "source": [
    "<p style=\"background:#3B8F10;color:white;\">**END Python Program {5.1}:  logger_example.py** </p><br>"
   ]
  },
  {
   "cell_type": "markdown",
   "metadata": {},
   "source": [
    "阅读所有ROS系统发布的所有日志的最佳位置是: <i>/rosout</i>"
   ]
  },
  {
   "cell_type": "markdown",
   "metadata": {},
   "source": [
    "<table style=\"float:left;\">\n",
    "<tr>\n",
    "<th>\n",
    "打开WebShell，输入以下命令:<br>\n",
    "</th>\n",
    "</tr>\n",
    "</table>"
   ]
  },
  {
   "cell_type": "markdown",
   "metadata": {},
   "source": [
    "<table style=\"float:left;background: #407EAF\">\n",
    "<tr>\n",
    "<th>\n",
    "<p class=\"transparent\">在WebShell #1中运行</p>\n",
    "</th>\n",
    "</tr>\n",
    "</table>"
   ]
  },
  {
   "cell_type": "code",
   "execution_count": null,
   "metadata": {
    "collapsed": true
   },
   "outputs": [],
   "source": [
    "rostopic echo /rosout"
   ]
  },
  {
   "cell_type": "markdown",
   "metadata": {},
   "source": [
    "你会在当前节点中看到所有的ROS日志，正在系统中运行。"
   ]
  },
  {
   "cell_type": "markdown",
   "metadata": {},
   "source": [
    "<p style=\"background:#407EAF;color:white;\">END **例 5.1**</p><br>"
   ]
  },
  {
   "cell_type": "markdown",
   "metadata": {},
   "source": [
    "<p style=\"background:#EE9023;color:white;\" id=\"ex-5.1\">**习题5.1**</p>"
   ]
  },
  {
   "cell_type": "markdown",
   "metadata": {},
   "source": [
    "1- 创建一个启动包，用以前的代码 <a href=\"#example-5.1\">{logger_example.py}</a>启动一个python文件。\n",
    "\n",
    "2- 更改rospy.init_node中的LOG级别，并根据所选的级别查看不同消息在/rosout主题中的打印方式。"
   ]
  },
  {
   "cell_type": "markdown",
   "metadata": {},
   "source": [
    "<p style=\"background:#EE9023;color:white;\" id=\"ex-5.1\">END **Exercise 5.1**</p>"
   ]
  },
  {
   "cell_type": "markdown",
   "metadata": {},
   "source": [
    "如你所见，每2秒只发布一个节点，数据量已经非常大了。 现在想象一下，使用<b>10<b>个节点发布图像数据、激光数据，使用行为、服务，发布DeepLearning节点的调试数据。 获取你想要的日志数据非常困难。\n",
    "<br><br>\n",
    "这时 <b>rqt_console</b> 就来拯救我们了。"
   ]
  },
  {
   "cell_type": "markdown",
   "metadata": {},
   "source": [
    "<table style=\"float:left;\">\n",
    "<tr>\n",
    "<th>\n",
    "在WebShell #1中输入roslaunch命令，启动 <a href=\"#ex-5.1\">习题 5.1</a> .<br> \n",
    "进入图形界面窗口 (点击IDE中的屏幕标识) \n",
    "<br><br>\n",
    "<div class='white_bg'><img src=\"img/font-awesome_desktop.png\"/><br></div>\n",
    "在 WebShell #2 中输入: <i>rqt_console</i>, 来激活GUI日志打印机。 \n",
    "</th>\n",
    "</tr>\n",
    "</table>"
   ]
  },
  {
   "cell_type": "markdown",
   "metadata": {},
   "source": [
    "<table style=\"float:left;background: #407EAF\">\n",
    "<tr>\n",
    "<th>\n",
    "<p class=\"transparent\">在WebShell #1中运行</p>\n",
    "</th>\n",
    "</tr>\n",
    "</table>"
   ]
  },
  {
   "cell_type": "code",
   "execution_count": null,
   "metadata": {
    "collapsed": true
   },
   "outputs": [],
   "source": [
    "roslaunch package_exercise_5p1 exercise_5p1.launch"
   ]
  },
  {
   "cell_type": "markdown",
   "metadata": {},
   "source": [
    "<table style=\"float:left;background: #407EAF\">\n",
    "<tr>\n",
    "<th>\n",
    "<p class=\"transparent\">在WebShell #2中运行</p>\n",
    "</th>\n",
    "</tr>\n",
    "</table>"
   ]
  },
  {
   "cell_type": "code",
   "execution_count": null,
   "metadata": {
    "collapsed": true
   },
   "outputs": [],
   "source": [
    "rqt_console"
   ]
  },
  {
   "cell_type": "markdown",
   "metadata": {},
   "source": [
    "点击图标，打开的浏览器选项卡中会出现类似于 <a href=\"#fig-5.2\">{Fig-5.2}</a> 的窗口："
   ]
  },
  {
   "cell_type": "markdown",
   "metadata": {
    "caption": "",
    "image": true,
    "name": "font-awesome_desktop",
    "width": "1.3cm"
   },
   "source": [
    "<img src=\"img/font-awesome_desktop.png\"/> "
   ]
  },
  {
   "cell_type": "markdown",
   "metadata": {
    "caption": "Rqt Console",
    "image": true,
    "name": "rqt_console_init",
    "width": "10cm"
   },
   "source": [
    "<figure>\n",
    "  <img id=\"fig-5.2\" src=\"img/rqt_console_init.jpg\"></img>\n",
    "  <br>\n",
    "   <center> <figcaption>Fig.5.2 - Rqt Console</figcaption></center>\n",
    "</figure>"
   ]
  },
  {
   "cell_type": "markdown",
   "metadata": {},
   "source": [
    "rqt_console 窗口可分为三个子面板。\n",
    "\n",
    "\n",
    "* 第一个面板输出日志。它包含关于消息、 严重/级别、生成消息的节点等数据，以及一些其他的数据。你可以在这里提取所有日志数据。\n",
    "\n",
    "\n",
    "* 第二个面板允许你过滤第一个面板上发布的消息，根据标准（如节点、严重性级别或包含某个单词）来排除它们。 要添加过滤器，只需按下加号并选择你需要的那个。\n",
    "\n",
    "* 第三个面板允许你在显示其他消息的同时，强调一些特殊的消息。\n",
    "    \n",
    "\n",
    "\n",
    "你还要知道，单击右上角的白色小齿轮可以更改显示的消息数量。 保持它尽可能得少，以避免系统性能受到影响。"
   ]
  },
  {
   "cell_type": "markdown",
   "metadata": {},
   "source": [
    "<table style=\"float:left;\">\n",
    "<tr>\n",
    "<th>\n",
    "过滤日志，使你只能看到来自习题5.1的节点警告和致命消息\n",
    "</th>\n",
    "</tr>\n",
    "</table>"
   ]
  },
  {
   "cell_type": "markdown",
   "metadata": {},
   "source": [
    "你看到的应该类似 <a href=\"#fig-5.3\">{Fig-5.3}</a>:"
   ]
  },
  {
   "cell_type": "markdown",
   "metadata": {
    "caption": "Rqt Console Filter",
    "image": true,
    "name": "rqt_console_filter",
    "width": "10cm"
   },
   "source": [
    "<figure>\n",
    "  <img id=\"fig-5.3\" src=\"img/rqt_console_filter.jpg\"></img>\n",
    "  <br>\n",
    "   <center> <figcaption>Fig.5.3 - Rqt Console 过滤器</figcaption></center>\n",
    "</figure>"
   ]
  },
  {
   "cell_type": "markdown",
   "metadata": {},
   "source": [
    "### 绘制主题数据和 Rqt绘图"
   ]
  },
  {
   "cell_type": "markdown",
   "metadata": {},
   "source": [
    "这是所有科学学科中非常普遍的需求，但在机器人领域尤其重要。 你要知道你的倾斜度是否正确，你的速度是否正确，臂关节的扭矩读数是否高于正常值，或者激光器是否有异常读数。 对于所有这些类型的数据，你需要一个图形工具以快速、实时的方式了解收到的所有数据。 这是 <b>rqt_plot</b> 派上用场的地方。<br>"
   ]
  },
  {
   "cell_type": "markdown",
   "metadata": {},
   "source": [
    "<font class=\"ign_red\"><b>要继续的话，你应该停止在WebShell #1中启动的<a href=\"#ex-5.1\"> Exercises 5.1 </a>节点</i></b></font><br>。"
   ]
  },
  {
   "cell_type": "markdown",
   "metadata": {},
   "source": [
    "* **打开WebShell键入下列命令，开始移动机器人手臂。**"
   ]
  },
  {
   "cell_type": "markdown",
   "metadata": {},
   "source": [
    "<table style=\"float:left;background: #407EAF\">\n",
    "<tr>\n",
    "<th>\n",
    "<p class=\"transparent\">在WebShell #1中运行</p>\n",
    "</th>\n",
    "</tr>\n",
    "</table>"
   ]
  },
  {
   "cell_type": "code",
   "execution_count": null,
   "metadata": {
    "collapsed": true
   },
   "outputs": [],
   "source": [
    "roslaunch iri_wam_aff_demo start_demo.launch"
   ]
  },
  {
   "cell_type": "markdown",
   "metadata": {},
   "source": [
    "* **转到另一个Webshell并输入以下命令以查看机器人手臂每个关节的位置和力：**"
   ]
  },
  {
   "cell_type": "markdown",
   "metadata": {},
   "source": [
    "<table style=\"float:left;background: #407EAF\">\n",
    "<tr>\n",
    "<th>\n",
    "<p class=\"transparent\">在WebShell #2中运行</p>\n",
    "</th>\n",
    "</tr>\n",
    "</table>"
   ]
  },
  {
   "cell_type": "code",
   "execution_count": null,
   "metadata": {
    "collapsed": true
   },
   "outputs": [],
   "source": [
    "rostopic echo /joint_states -n1"
   ]
  },
  {
   "cell_type": "markdown",
   "metadata": {},
   "source": [
    "正如你可能看到的，只用数字数组去感知机器人关节发生的事情是相当困难的。<br><br>\n",
    "\n",
    "所以，咱们使用<b><i>rqt_plot</i></b> 命令来绘制机器人关节数据数组。\n"
   ]
  },
  {
   "cell_type": "markdown",
   "metadata": {},
   "source": [
    "**进入图形界面并在终端中输入以下命令以打开rqt_plot GUI：**\n",
    "\n",
    "**记住点击[CTRL] + [C]停止rostopic回声**"
   ]
  },
  {
   "cell_type": "markdown",
   "metadata": {},
   "source": [
    "<table style=\"float:left;background: #407EAF\">\n",
    "<tr>\n",
    "<th>\n",
    "<p class=\"transparent\">在WebShell #2中运行</p>\n",
    "</th>\n",
    "</tr>\n",
    "</table>"
   ]
  },
  {
   "cell_type": "code",
   "execution_count": null,
   "metadata": {
    "collapsed": true
   },
   "outputs": [],
   "source": [
    "rqt_plot"
   ]
  },
  {
   "cell_type": "markdown",
   "metadata": {},
   "source": [
    "你会看到类似<a href=\"#fig-5.4\">{Fig-5.4}</a>的窗口:"
   ]
  },
  {
   "cell_type": "markdown",
   "metadata": {
    "caption": "Rqt Plot",
    "image": true,
    "name": "rqt_plot_init",
    "width": "10cm"
   },
   "source": [
    "<figure>\n",
    "  <img id=\"fig-5.4\" src=\"img/rqt_plot_init.jpg\"></img>\n",
    "  <br>\n",
    "   <center> <figcaption>Fig.5.4 - Rqt 绘图</figcaption></center>\n",
    "</figure>"
   ]
  },
  {
   "cell_type": "markdown",
   "metadata": {},
   "source": [
    "在位于窗口左上角的<i>主题<i>输入中，你必须编写能生成你想要的绘制数据的主题结构。 请记住，为了进行绘制，该主题必须发布一个数字。 写完后，按 <i class=\"ign_green\">PLUS SIGN</i>开始绘制主题。\n",
    "<br><br>\n",
    "要绘制机器人关节时，我们需要绘制<i>/joint_states</i>主题，它具有以下结构（您可以通过<i>rostopic info </i>提取主题消息类型，然后使用<b>Unit 2</b>中的 <i>rosmsg show</i>命令："
   ]
  },
  {
   "cell_type": "code",
   "execution_count": null,
   "metadata": {
    "collapsed": true
   },
   "outputs": [],
   "source": [
    "std_msgs/Header header\n",
    "string[] name\n",
    "float64[] position\n",
    "float64[] velocity\n",
    "float64[] effort                                                                                                        "
   ]
  },
  {
   "cell_type": "markdown",
   "metadata": {},
   "source": [
    "然后，为了绘制机器人第一个关节的速度，我们要输入<i>/joint_states/velocity[0]</i>.\n",
    "<br><br>\n",
    "你可以按“plus加号”按钮添加任意数量的图。"
   ]
  },
  {
   "cell_type": "markdown",
   "metadata": {},
   "source": [
    "<p style=\"background:#EE9023;color:white;\" id=\"ex-5.2\">习题 5.2</p>"
   ]
  },
  {
   "cell_type": "markdown",
   "metadata": {},
   "source": [
    "* 用rqt_plot绘制机器人移动时四个第一关节所做的努力。"
   ]
  },
  {
   "cell_type": "markdown",
   "metadata": {},
   "source": [
    "<p style=\"background:#EE9023;color:white;\" id=\"ex-5.2\">END Exercise 5.2</p>"
   ]
  },
  {
   "cell_type": "markdown",
   "metadata": {},
   "source": [
    "### 节点连接和Rqt图"
   ]
  },
  {
   "cell_type": "markdown",
   "metadata": {},
   "source": [
    "你的节点是否连接在正确的位置？为什么你收不到主题的数据？\n",
    "这些问题很正常，你可能已经在ROS系统中遇到过了。 <b>Rqt_graph</b> 可以用更简单的方式帮助你。\n",
    "它能显示正在ROS中运行的节点的静态图以及他们的主题连接。 要指出的很重要的一点的是有些问题似乎不是主题连接的问题。"
   ]
  },
  {
   "cell_type": "markdown",
   "metadata": {},
   "source": [
    "**转到图形界面并在终端中键入以下命令以打开rqt_graph GUI：**\n",
    "**请记住在WebShell＃1中使用roslaunch iri_wam_aff_demo start_demo.launch**"
   ]
  },
  {
   "cell_type": "markdown",
   "metadata": {},
   "source": [
    "<table style=\"float:left;background: #407EAF\">\n",
    "<tr>\n",
    "<th>\n",
    "<p class=\"transparent\">在WebShell #2中运行</p>\n",
    "</th>\n",
    "</tr>\n",
    "</table>"
   ]
  },
  {
   "cell_type": "code",
   "execution_count": null,
   "metadata": {
    "collapsed": true
   },
   "outputs": [],
   "source": [
    "rqt_graph"
   ]
  },
  {
   "cell_type": "markdown",
   "metadata": {},
   "source": [
    "你将看到的内容与下图类似:"
   ]
  },
  {
   "cell_type": "markdown",
   "metadata": {
    "caption": "Rqt Graph Result",
    "image": true,
    "name": "rqt_graph_init",
    "width": "10cm"
   },
   "source": [
    "<figure>\n",
    "    <img id=\"fig-5.5\" src=\"img/rqt_graph_init.jpg\"/><br>\n",
    "    <center> <figcaption>Fig.5.5 - Rqt-Graph Result</figcaption></center>\n",
    "</figure>"
   ]
  },
  {
   "cell_type": "markdown",
   "metadata": {},
   "source": [
    "在 <a href=\"#fig-5.5\">{Fig-5.5}</a>图表中给你提供了所有正在运行的节点，由用来交流的主题互相连接。有两个主要的元素你要知道如何使用：\n",
    "    \n",
    "*  <b>refresh button刷新按钮</b>: 每次更改正在运行的节点时，都必须按下："
   ]
  },
  {
   "cell_type": "markdown",
   "metadata": {
    "caption": "",
    "image": true,
    "name": "refresh_rqt_graph",
    "width": "1.3cm"
   },
   "source": [
    "<img src=\"img/refresh_rqt_graph.png\"/>"
   ]
  },
  {
   "cell_type": "markdown",
   "metadata": {},
   "source": [
    "* <b>过滤选项<b>：位于刷新按钮旁边的三个框。 第一个元素允许您仅在节点或主题之间进行选择。 第二个框允许您根据节点名称进行过滤。"
   ]
  },
  {
   "cell_type": "markdown",
   "metadata": {
    "caption": "",
    "image": true,
    "name": "filtering_rqt_graph",
    "width": "12cm"
   },
   "source": [
    "<img src=\"img/filtering_rqt_graph.png\"/>"
   ]
  },
  {
   "cell_type": "markdown",
   "metadata": {},
   "source": [
    "这里举个例子，过滤后只显示<i>/gazebo</i>和 <i>/joint_states_relay</i> <a href=\"#fig-5.6\">{Fig-5.6}</a>:"
   ]
  },
  {
   "cell_type": "markdown",
   "metadata": {
    "caption": "Rqt-Graph Result Filtered",
    "image": true,
    "name": "rosgraph_init_filter",
    "width": "10cm"
   },
   "source": [
    "<figure>\n",
    "    <img id=\"fig-5.6\" src=\"img/rosgraph_init_filter.jpg\"/><br>\n",
    "    <center> <figcaption>Fig-5.6 - Rqt-Graph 过滤 /gazebo and /joint_states_relay</figcaption></center>后的结果 \n",
    "</figure>"
   ]
  },
  {
   "cell_type": "markdown",
   "metadata": {},
   "source": [
    "<p style=\"background:#EE9023;color:white;\" id=\"ex-5.3\">**习题 5.3**</p>"
   ]
  },
  {
   "cell_type": "markdown",
   "metadata": {},
   "source": [
    "* 创建一个包，启动简单的主题发布器和订阅器，并过滤ros_graph输出，仅显示两个节点以及你感兴趣的主题。"
   ]
  },
  {
   "cell_type": "markdown",
   "metadata": {},
   "source": [
    "<p style=\"background:#EE9023;color:white;\" id=\"ex-5.3\">END **Exercise 5.3**</p>"
   ]
  },
  {
   "cell_type": "markdown",
   "metadata": {},
   "source": [
    "你将看到的内容与 <a href=\"#fig-5.7\">{Fig-5.7}</a>类似:"
   ]
  },
  {
   "cell_type": "markdown",
   "metadata": {
    "caption": "Rqt-Graph from Exercise 5.7",
    "image": true,
    "name": "rqt_graph_simple",
    "width": "10cm"
   },
   "source": [
    "<figure>\n",
    "    <img id=\"fig-5.7\" src=\"img/rqt_graph_simple.jpg\"/><br>\n",
    "    <center> <figcaption>Fig-5.7 -习题 5.7中的 Rqt-Graph </figcaption></center>\n",
    "</figure>"
   ]
  },
  {
   "cell_type": "markdown",
   "metadata": {},
   "source": [
    "### 记录实验数据和Rosbags"
   ]
  },
  {
   "cell_type": "markdown",
   "metadata": {},
   "source": [
    "机器人中有一个非常常见的情况如下：\n",
    "<br><br>\n",
    "你有一个昂贵的真正的机器人，比如R2-D2，你把它带到了一个很困难的地方，比如死星。在那里执行你的任务，然后回到基地。 现在，你想重现相同的条件来改进R2-D2的算法来打开大门。 但你既没有死星，也没有R2-D2。 你如何得到相同的确切的传感器读数来进行测试？ 对了，你当然要记录下它们！ 这就是<b>rosbag</b>的所有ROS主题所做的事情。 \n",
    "它记录通过ROS主题系统传递的所有数据，并允许你随时通过一个简单的文件来进行回放。"
   ]
  },
  {
   "cell_type": "markdown",
   "metadata": {},
   "source": [
    "与<b>rosbag</b>有关的命令有:\n",
    "\n",
    "    \n",
    "* 要 <b>记录</b> 你想要的主题数据:\n",
    "    <br><br>\n",
    "    <i>rosbag record -O name_bag_file.bag name_topic_to_record1 name_topic_to_record2 ... name_topic_to_recordN</i>\n",
    "\n",
    "    <br>\n",
    "\n",
    "* 要 <b>提取</b> 记录数据生成的信息:\n",
    "    <br><br>\n",
    "    <i>rosbag info name_bag_file.bag</i>\n",
    "\n",
    "    <br>\n",
    "\n",
    "* 要 <b>回放</b> 记录的数据:\n",
    "    <br><br>\n",
    "    <i>rosbag play name_bag_file.bag</i>\n",
    "\n",
    "    <br>\n",
    "   数据回放会在记录数据的同时，用rosbag发布相同数据的相同主题。 \n",
    "</ul>"
   ]
  },
  {
   "cell_type": "markdown",
   "metadata": {},
   "source": [
    "<p style=\"background:#407EAF;color:white;\" id=\"example-5.2\">**例 5.2**</p>"
   ]
  },
  {
   "cell_type": "markdown",
   "metadata": {},
   "source": [
    "1- 若你已准备好，转到WebShell并键入以下命令使机器人开始移动："
   ]
  },
  {
   "cell_type": "markdown",
   "metadata": {},
   "source": [
    "<table id=\"example-cmd-1\" style=\"float:left;background: #407EAF\">\n",
    "<tr>\n",
    "<th>\n",
    "<p class=\"transparent\">在WebShell #1中运行</p>\n",
    "</th>\n",
    "</tr>\n",
    "</table>"
   ]
  },
  {
   "cell_type": "code",
   "execution_count": null,
   "metadata": {
    "collapsed": true
   },
   "outputs": [],
   "source": [
    "roslaunch iri_wam_aff_demo start_demo.launch"
   ]
  },
  {
   "cell_type": "markdown",
   "metadata": {},
   "source": [
    "2- 转到另一个WebShell并转到<i>src</i>目录。 键入以下命令以记录<i>/laser_scan</i>中的数据："
   ]
  },
  {
   "cell_type": "markdown",
   "metadata": {},
   "source": [
    "<table id=\"example-cmd-2\" style=\"float:left;background: #407EAF\">\n",
    "<tr>\n",
    "<th>\n",
    "<p class=\"transparent\">在WebShell #2中运行</p>\n",
    "</th>\n",
    "</tr>\n",
    "</table>"
   ]
  },
  {
   "cell_type": "code",
   "execution_count": null,
   "metadata": {
    "collapsed": true
   },
   "outputs": [],
   "source": [
    "roscd; cd ../src\n",
    "rosbag record -O laser.bag laser_scan"
   ]
  },
  {
   "cell_type": "markdown",
   "metadata": {},
   "source": [
    "最后这行命令将开始记录数据。"
   ]
  },
  {
   "cell_type": "markdown",
   "metadata": {},
   "source": [
    "3- 大约30秒后，录制了大量数据，请在录制 <a href=\"#example-cmd-2\">WebShell #2</a>的录像机中按下 <span class=\"ign_green\">[CTRL]+[C]</span> 停止录制。检查是否生成了laser.bag文件，并输入以下内容以获取相关信息："
   ]
  },
  {
   "cell_type": "markdown",
   "metadata": {},
   "source": [
    "<table style=\"float:left;background: #407EAF\">\n",
    "<tr>\n",
    "<th>\n",
    "<p class=\"transparent\">在WebShell #2中运行</p>\n",
    "</th>\n",
    "</tr>\n",
    "</table>"
   ]
  },
  {
   "cell_type": "code",
   "execution_count": null,
   "metadata": {
    "collapsed": true
   },
   "outputs": [],
   "source": [
    "rosbag info laser.bag"
   ]
  },
  {
   "cell_type": "markdown",
   "metadata": {},
   "source": [
    "4- 检查之后，按下 <span class=\"ign_red\">start_demo.launch</span> <a href=\"#example-cmd-1\">WebShell #1</a>中的 CTRL+C 来停止机器人。<br>"
   ]
  },
  {
   "cell_type": "markdown",
   "metadata": {},
   "source": [
    "5- 机器人停止后，请键入以下命令以重放 <i>laser.bag</i>（<i>-l</i>选项将无限循环<i>rosbag</i>，直到你按下CTRL + C："
   ]
  },
  {
   "cell_type": "markdown",
   "metadata": {},
   "source": [
    "<table id=\"example-cmd-3\" style=\"float:left;background: #407EAF\">\n",
    "<tr>\n",
    "<th>\n",
    "<p class=\"transparent\">在WebShell #2中运行</p>\n",
    "</th>\n",
    "</tr>\n",
    "</table>"
   ]
  },
  {
   "cell_type": "code",
   "execution_count": null,
   "metadata": {
    "collapsed": true
   },
   "outputs": [],
   "source": [
    "rosbag play -l laser.bag"
   ]
  },
  {
   "cell_type": "markdown",
   "metadata": {},
   "source": [
    "6- 转到WebShell #3并键入以下命令以读取 <i>/laser_scan </i>主题的ranges[100]："
   ]
  },
  {
   "cell_type": "markdown",
   "metadata": {},
   "source": [
    "<table id=\"example-cmd-4\" style=\"float:left;background: #407EAF\">\n",
    "<tr>\n",
    "<th>\n",
    "<p class=\"transparent\">在WebShell #3中运行</p>\n",
    "</th>\n",
    "</tr>\n",
    "</table>"
   ]
  },
  {
   "cell_type": "code",
   "execution_count": null,
   "metadata": {
    "collapsed": true
   },
   "outputs": [],
   "source": [
    "rostopic echo /laser_scan/ranges[100]"
   ]
  },
  {
   "cell_type": "markdown",
   "metadata": {},
   "source": [
    "7- 在另一个WebShell中键入以下命令，如WebShell #4。 然后，进入图形界面，看看它如何用rqt_plot绘制给定的数据:"
   ]
  },
  {
   "cell_type": "markdown",
   "metadata": {},
   "source": [
    "<table id=\"example-cmd-5\" style=\"float:left;background: #407EAF\">\n",
    "<tr>\n",
    "<th>\n",
    "<p class=\"transparent\">在WebShell #4中运行</p>\n",
    "</th>\n",
    "</tr>\n",
    "</table>"
   ]
  },
  {
   "cell_type": "code",
   "execution_count": null,
   "metadata": {
    "collapsed": true
   },
   "outputs": [],
   "source": [
    "rqt_plot /laser_scan/ranges[100]"
   ]
  },
  {
   "cell_type": "markdown",
   "metadata": {},
   "source": [
    "<font class=\"ign_green\">它工作了吗？有没有发现奇怪的现象？</font><br>\n",
    "有各种错误，不过重要的是你要记住它。<br>\n",
    "\n",
    "1) 你注意到的第一件事是，当你回应** </> laser_scan </ i> **主题时，你会发现值的突然变化。\n",
    "尝试在WebShell中写入下面的内容来获取谁在发布**<i>/laser_scan</i>** 主题有关的信息:<br>\n",
    "\n",
    "<span class=\"ign_red\">如果有已运行的事物，记得点击 [CTRL]+[C]。</span>"
   ]
  },
  {
   "cell_type": "markdown",
   "metadata": {},
   "source": [
    "<table style=\"float:left;background: #407EAF\">\n",
    "<tr>\n",
    "<th>\n",
    "<p class=\"transparent\">在WebShell #3中运行</p>\n",
    "</th>\n",
    "</tr>\n",
    "</table>"
   ]
  },
  {
   "cell_type": "code",
   "execution_count": null,
   "metadata": {
    "collapsed": true
   },
   "outputs": [],
   "source": [
    "rostopic info /laser_scan"
   ]
  },
  {
   "cell_type": "markdown",
   "metadata": {},
   "source": [
    "你将看到的内容与此类似:"
   ]
  },
  {
   "cell_type": "markdown",
   "metadata": {},
   "source": [
    "<p style=\"background: #407EAF\">WebShell #3 输出</p>"
   ]
  },
  {
   "cell_type": "code",
   "execution_count": null,
   "metadata": {
    "collapsed": true
   },
   "outputs": [],
   "source": [
    "user ~ $ rostopic info /laser_scan\n",
    "Type: sensor_msgs/LaserScan\n",
    "\n",
    "Publishers:\n",
    " * /gazebo (http://ip-172-31-27-126:59384/)\n",
    " * /play_1476284237447256367 (http://ip-172-31-27-126:41011/)\n",
    "\n",
    "Subscribers: None"
   ]
  },
  {
   "cell_type": "markdown",
   "metadata": {},
   "source": [
    "如你所见， 在**/laser_scan** 主题中有**两个** 节点正在发布: **gazebo** (仿真) 和 **play_x** (rosbag播放).\n",
    "\n",
    "这表明不只有rosbag在发布数据，仿真机器人也在发布。"
   ]
  },
  {
   "cell_type": "markdown",
   "metadata": {},
   "source": [
    "所以首先要做的是 **暂停**仿真, 这样 gazebo会停止发布激光器读数."
   ]
  },
  {
   "cell_type": "markdown",
   "metadata": {},
   "source": [
    "为此你必须执行以下命令："
   ]
  },
  {
   "cell_type": "markdown",
   "metadata": {},
   "source": [
    "<table style=\"float:left;background: #407EAF\">\n",
    "<tr>\n",
    "<th>\n",
    "<p class=\"transparent\">在WebShell #3中运行</p>\n",
    "</th>\n",
    "</tr>\n",
    "</table>"
   ]
  },
  {
   "cell_type": "code",
   "execution_count": null,
   "metadata": {
    "collapsed": true
   },
   "outputs": [],
   "source": [
    "rosservice call /gazebo/pause_physics \"{}\""
   ]
  },
  {
   "cell_type": "markdown",
   "metadata": {},
   "source": [
    "要再次 **解除暂停** ,你要知道，只需要:"
   ]
  },
  {
   "cell_type": "markdown",
   "metadata": {},
   "source": [
    "<table style=\"float:left;background: #407EAF\">\n",
    "<tr>\n",
    "<th>\n",
    "<p class=\"transparent\">在WebShell #3中运行</p>\n",
    "</th>\n",
    "</tr>\n",
    "</table>"
   ]
  },
  {
   "cell_type": "code",
   "execution_count": null,
   "metadata": {
    "collapsed": true
   },
   "outputs": [],
   "source": [
    "rosservice call /gazebo/unpause_physics \"{}\""
   ]
  },
  {
   "cell_type": "markdown",
   "metadata": {},
   "source": [
    "这时，你应该已经停止了从仿真机器人部分发布的所有内容，只留下了rosbag发布。"
   ]
  },
  {
   "cell_type": "markdown",
   "metadata": {},
   "source": [
    "现在，你应该能够在rqt_plot中看到正确的 **/laser_scan**绘图了。"
   ]
  },
  {
   "cell_type": "markdown",
   "metadata": {},
   "source": [
    "还是什么都没有？"
   ]
  },
  {
   "cell_type": "markdown",
   "metadata": {},
   "source": [
    "2) 检查rqt_plot里的时间。你有没有发现在某个时刻，时间不会继续？"
   ]
  },
  {
   "cell_type": "markdown",
   "metadata": {},
   "source": [
    "那是因为你停止了仿真，所以除了你正进行的rosbag小时间框架以外，时间不再继续运行。"
   ]
  },
  {
   "cell_type": "markdown",
   "metadata": {},
   "source": [
    "当 rqt_plot 达到最大时间，它会停止。它不会回到开始时间，因此，如果这些值在最后显示的时间段之外进行更改，你将看不到任何内容。"
   ]
  },
  {
   "cell_type": "markdown",
   "metadata": {},
   "source": [
    "**还请看一下当前正在运行的rosbag播放器的rosbag播放信息**"
   ]
  },
  {
   "cell_type": "markdown",
   "metadata": {},
   "source": [
    "<p style=\"background: #407EAF\">WebShell #2 输出</p>"
   ]
  },
  {
   "cell_type": "code",
   "execution_count": null,
   "metadata": {
    "collapsed": true
   },
   "outputs": [],
   "source": [
    "user ~ $ rosbag play -l laser.bag\n",
    "[ INFO ] [1471001445.5575545086]: Opening laser.bag\n",
    "\n",
    "Waiting 0.2 seconds after advertising topics... done.\n",
    "\n",
    "Hit space to toggle paused, or 's' to stop.\n",
    "[RUNNING] Bag Time: 61.676140 Duration: 41.099140 / 41.452000"
   ]
  },
  {
   "cell_type": "markdown",
   "metadata": {},
   "source": [
    "在这个例子中，可以看到当前记录时间是 <b>41.099秒</b>/ <b>41.452秒。 \n",
    "而rosbag时间能达到大约<b>62</b>秒的最大值。\n",
    "<br><br>\n",
    "在这个例子中，<b>62</b> 秒是rqt_plot能显示的最大值，约从20秒左右开始。\n",
    "<br><br>\n",
    "因此，你必须总是用rqt_plot中的<b><b>清除按钮来</b>清除</b>绘图区域。\n",
    "<br><br>\n",
    "用<b>清除</b>，你会得到如<a href=\"#fig-5.8\">{Fig-5.8}</a>所示的内容:"
   ]
  },
  {
   "cell_type": "markdown",
   "metadata": {
    "caption": "Rosbag in Rqt Plot",
    "image": true,
    "name": "rosbag_rqtplot",
    "width": "10cm"
   },
   "source": [
    "<figure>\n",
    "    <img id=\"fig-5.8\" src=\"img/rosbag_rtqplot.gif\"/><br>\n",
    "    <center> <figcaption>Fig-5.8 - RosBag Rqt-Plot</figcaption></center>\n",
    "</figure>"
   ]
  },
  {
   "cell_type": "markdown",
   "metadata": {},
   "source": [
    "<span class=\"ign_blue\">总结:</span>\n",
    "\n",
    "<br><br>\n",
    "要使用rosbag文件，你必须确保原始数据生成器（真实机器人或仿真）不会发布。否则，你将会得到非常奇怪的数据（原始数据和记录数据之间的冲突）。还必须记住，如果你正在读取rosbag，时间是有限的、周期性的，因此你必须清除绘图区以查看所有时间段。"
   ]
  },
  {
   "cell_type": "markdown",
   "metadata": {},
   "source": [
    "当你的系统里什么都没有（既没有真实机器人也没有仿真机器人），并且运行空<b>roscore</b>的时候<b>rosbag</b> 特别有用，那时，如果你确实有仿真或真实机器人的话，你可以用以下命令记录系统所有的主题:<br>"
   ]
  },
  {
   "cell_type": "code",
   "execution_count": null,
   "metadata": {
    "collapsed": true
   },
   "outputs": [],
   "source": [
    "rosbag record -a"
   ]
  },
  {
   "cell_type": "markdown",
   "metadata": {},
   "source": [
    "该命令将记录机器人正在发布的<b>所有</b>主题.然后你可以在空roscore系统进行回放，你会得到所有主题，就好像你有过这个机器人一样。"
   ]
  },
  {
   "cell_type": "markdown",
   "metadata": {},
   "source": [
    "<font class=\"ign_red\">在继续进行之前，请检查您是否完成了以下操作：</font><br>\n",
    "* 您已进入WebShell＃2并用[CTRL] + [C]停止了Rosbag的播放\n",
    "* 你已经解除了仿真的暂停并恢复了它的正常工作。"
   ]
  },
  {
   "cell_type": "markdown",
   "metadata": {},
   "source": [
    "<table style=\"float:left;background: #407EAF\">\n",
    "    <tr>\n",
    "    <th>\n",
    "    <p class=\"transparent\">在WebShell #3中运行</p>\n",
    "    </th>\n",
    "    </tr>\n",
    "</table>"
   ]
  },
  {
   "cell_type": "code",
   "execution_count": null,
   "metadata": {
    "collapsed": true
   },
   "outputs": [],
   "source": [
    "rosservice call /gazebo/unpause_physics \"{}\""
   ]
  },
  {
   "cell_type": "markdown",
   "metadata": {},
   "source": [
    "<p style=\"background:#407EAF;color:white;\" id=\"example-5.2\">END **Example 5.2**</p>"
   ]
  },
  {
   "cell_type": "markdown",
   "metadata": {},
   "source": [
    "### 复杂数据可视化和 Rviz"
   ]
  },
  {
   "cell_type": "markdown",
   "metadata": {},
   "source": [
    "现在你拥有它了！ <b>HollyMolly!</b> ROS调试最重要的工具<b>RVIZ</b>。\n",
    "<br><br>\n",
    "RVIZ这个工具，能让你可视化 <i>图像、PointClouds点云, Lasers激光器, Kinematic Transformations运动转换, RobotModels机器人模型</i>...可无限列举。 你甚至能定义你自己的标记。这是ROS获得如此高度认可的原因之一。 在RVIZ之前，真的很难知道机器人能怎样感知。 这就是主要概念：\n",
    "<br><br>\n",
    "RVIZ <b>不是</b>一个仿真。 重复一遍: 它 <b>不是</b>仿真。\n",
    "<br>\n",
    "RVIZ是仿真或真实机器人在主题中所发布内容的表示。"
   ]
  },
  {
   "cell_type": "markdown",
   "metadata": {},
   "source": [
    "RVIZ是一个相当复杂的工具，它要花掉你一节课的时间来掌握。这里你可以先看一下它能给你什么。"
   ]
  },
  {
   "cell_type": "markdown",
   "metadata": {},
   "source": [
    "**请记住，你应该像rosbag那一部分内容说的那样，解除了仿真的暂停，停止了rosbag。**"
   ]
  },
  {
   "cell_type": "markdown",
   "metadata": {},
   "source": [
    "1- 在WebShell #2中输入以下命令:"
   ]
  },
  {
   "cell_type": "markdown",
   "metadata": {},
   "source": [
    "<table style=\"float:left;background: #407EAF\">\n",
    "<tr>\n",
    "<th>\n",
    "<p class=\"transparent\">在WebShell #2中运行</p>\n",
    "</th>\n",
    "</tr>\n",
    "</table>"
   ]
  },
  {
   "cell_type": "code",
   "execution_count": null,
   "metadata": {
    "collapsed": true
   },
   "outputs": [],
   "source": [
    "rosrun rviz rviz"
   ]
  },
  {
   "cell_type": "markdown",
   "metadata": {},
   "source": [
    "2- 然后转到图形界面查看RVIZ GUI："
   ]
  },
  {
   "cell_type": "markdown",
   "metadata": {},
   "source": [
    "你会看到如 <a href=\"#fig-5.9\">{Fig-5.9}</a>所示的欢迎窗口:"
   ]
  },
  {
   "cell_type": "markdown",
   "metadata": {
    "caption": "RVIZ Starting Window",
    "image": true,
    "name": "rviz_init",
    "width": "10cm"
   },
   "source": [
    "<figure>\n",
    "    <img id=\"fig-5.9\" src=\"img/rviz_init.jpg\"/><br>\n",
    "    <center> <figcaption>Fig-5.9 - RVIZ 启动窗口</figcaption></center>\n",
    "</figure>"
   ]
  },
  {
   "cell_type": "markdown",
   "metadata": {},
   "source": [
    "**注意: 为了以防你看不到下半部分的Rviz (添加按键等), 双击窗口顶端使其最大化。 这样你就能看到了。**"
   ]
  },
  {
   "cell_type": "markdown",
   "metadata": {},
   "source": [
    "开始使用RVIZ之前，你只需关注几个元素。\n",
    "\n",
    "\n",
    "* <b>中央面板</b>: 这是所有魔法发生的地方。这里会显示所有数据。 这是一个3D空间，你可以旋转 (单击左键)、翻译(按下鼠标中心) 、缩小/放大 (单击左键)。 \n",
    "    \n",
    "    \n",
    "* <b>左显示面板</b>:在这里你可以管理/配置中央面板中你想显示的所有元素。你只需要两个元素:\n",
    "    \n",
    "        \n",
    " * 在 **全局选项**中， 你必须选择 <b>固定框架</b> ，适用于数据可视化。它是所有数据将被引用的参考框架。\n",
    "        \n",
    "        \n",
    " *  **添加按钮**。 点击此处可以获得能在RVIZ中表示的所有类型的元素。"
   ]
  },
  {
   "cell_type": "markdown",
   "metadata": {},
   "source": [
    "**在图形界面打开RVIZ并添加一个 <b>TF</b>元素。 点击“添加”并在提供的元素列表中选择TF元素，如 <a href=\"#fig-5.10\">{Fig-5.10}</a>所示。**"
   ]
  },
  {
   "cell_type": "markdown",
   "metadata": {
    "caption": "RVIZ Add element",
    "image": true,
    "name": "rviz_add",
    "width": "10cm"
   },
   "source": [
    "<figure>\n",
    "    <img id=\"fig-5.10\" src=\"img/rviz_add.jpg\"/><br>\n",
    "    <center> <figcaption>Fig-5.10 - RVIZ 添加元素</figcaption></center>\n",
    "</figure>"
   ]
  },
  {
   "cell_type": "markdown",
   "metadata": {},
   "source": [
    "* 打开RVIZ左面板, 选择固定框架**<i>iri_wam_link_footprint</i>**确保**TF**元素的复选框被选中。稍后，你应该会看到中央面板显示所有机器人元素轴。\n",
    "\n",
    "* 现在，转到WebShell #1，输入命令来移动机器人:"
   ]
  },
  {
   "cell_type": "markdown",
   "metadata": {},
   "source": [
    "<table style=\"float:left;background: #407EAF\">\n",
    "<tr>\n",
    "<th>\n",
    "<p class=\"transparent\">在WebShell #1中运行</p>\n",
    "</th>\n",
    "</tr>\n",
    "</table>"
   ]
  },
  {
   "cell_type": "code",
   "execution_count": null,
   "metadata": {
    "collapsed": true
   },
   "outputs": [],
   "source": [
    "roslaunch iri_wam_aff_demo start_demo.launch"
   ]
  },
  {
   "cell_type": "markdown",
   "metadata": {},
   "source": [
    "你将看到的内容与此类似："
   ]
  },
  {
   "cell_type": "markdown",
   "metadata": {
    "caption": "RVIZ TF",
    "image": true,
    "name": "rviz_unit5",
    "width": "10cm"
   },
   "source": [
    "<figure>\n",
    "    <img id=\"fig-5.11\" src=\"img/rviz_unit5.gif\"/><br>\n",
    "    <center> <figcaption>Fig-5.11 - RVIZ TF</figcaption></center>\n",
    "</figure>"
   ]
  },
  {
   "cell_type": "markdown",
   "metadata": {},
   "source": [
    "在 <a href=\"#fig-5.11\">{Fig-5.11}</a>图中，你可以实时看到IRI Wam Simulation的所有转换元素。 这可以让你准确查看发送给机器人手臂的关节转换，以检查它是否正常工作。"
   ]
  },
  {
   "cell_type": "markdown",
   "metadata": {},
   "source": [
    "* 现在按下\"Add添加\" 选择 <i>RobotModel</i>，如 <a href=\"#fig-5.12\">{Fig-5.12}</a>所示<br>"
   ]
  },
  {
   "cell_type": "markdown",
   "metadata": {
    "caption": "RVIZ Add Robot Model",
    "image": true,
    "name": "robotmodel",
    "width": "10cm"
   },
   "source": [
    "<figure>\n",
    "    <img id=\"fig-5.12\" src=\"img/robotmodel.jpg\"/><br>\n",
    "    <center> <figcaption>Fig-5.12 - RVIZ 添加机器人模型</figcaption></center>\n",
    "</figure>"
   ]
  },
  {
   "cell_type": "markdown",
   "metadata": {},
   "source": [
    "现在你应该看到机器人的3D模型了，如<a href=\"#fig-5.13\">{Fig-5.13}</a>所示:"
   ]
  },
  {
   "cell_type": "markdown",
   "metadata": {
    "caption": "RVIZ Robot Model + TF",
    "image": true,
    "name": "robotmodel",
    "width": "10cm"
   },
   "source": [
    "<figure>\n",
    "    <img id=\"fig-5.13\" src=\"img/robotmodel.gif\"/><br>\n",
    "    <center> <figcaption>Fig-5.13 - RVIZ 机器人模型 + TF</figcaption></center>\n",
    "</figure>"
   ]
  },
  {
   "cell_type": "markdown",
   "metadata": {},
   "source": [
    "你为什么看不到桌子？ 或者碗？ 有什么不对？ 完全没有！\n",
    "<br><br>\n",
    "记住: RVIZ <b>不是</b>一个仿真， <b>它表示正在发布的主题</b>。 此时表示的是<i>RobotStatePublisher 节点</i> 正在一些ROS主题中发布的那些模型。没有节点在发布碗或者桌子。\n",
    "<br><br>\n",
    "那你怎么看周围物体？像机器人那样，通过摄像头、激光器及其他主题数据。\n",
    "<br><br>\n",
    "<b>记住: RVIZ表示的是你的机器人所感知到的，没有别的。 </b>"
   ]
  },
  {
   "cell_type": "markdown",
   "metadata": {},
   "source": [
    "<p style=\"background:#EE9023;color:white;\" id=\"ex-5.4\">**习题 5.4**</p>"
   ]
  },
  {
   "cell_type": "markdown",
   "metadata": {},
   "source": [
    "将以下元素可视化添加到RVIZ:\n",
    "\n",
    "* Kinect的RGB相机正在看到的是什么。 **提示：它必须阅读的主题是 /camera/rgb/image_raw。加载图像可能需要一段时间，所以请耐心等待。**\n",
    "\n",
    "* 安装在机器人手臂末端效应器上的激光器正在注册什么。 **提示：您可以通过左侧面板中的元素调整激光点的外观。**\n",
    "\n",
    "* 安装在机器人手臂前部的点云摄像头/ Kinect正在注册什么。 **提示: 你可以通过左侧面板中的元素调整点云点的外观。应该选择点（points）以获得更好的性能。"
   ]
  },
  {
   "cell_type": "markdown",
   "metadata": {},
   "source": [
    "**提示: 你的结果应该与下面的类似**:<br>\n",
    "<font style=\"color:red;\"><b>要注意激活点云对系统性能有很大的影响。这是由于要表示大量的数据。 因此强烈建议仅将其与高端显卡一起使用。</b></font><br><br>\n",
    "尝试调整激光器的类型、尺寸以及点云的配置。"
   ]
  },
  {
   "cell_type": "markdown",
   "metadata": {},
   "source": [
    "<p style=\"background:#EE9023;color:white;\" id=\"ex-5.4\">END **Exercise 5.4**</p>"
   ]
  },
  {
   "cell_type": "markdown",
   "metadata": {
    "collapsed": true
   },
   "source": [
    "<table style=\"width:100%\">\n",
    "  <tr>\n",
    "    \n",
    "    <th>\n",
    "    <figure>\n",
    "    <img id=\"fig-5.14\" src=\"img/rviz_finex.gif\"/><br>\n",
    "    <center> <figcaption>Fig-5.14 - 带摄像头和激光器的RVIZ机器人</figcaption></center>\n",
    "</figure>\n",
    "    </th>\n",
    "    \n",
    "    <th>\n",
    "    <figure>\n",
    "    <img id=\"fig-5.15\" src=\"img/rviz_finex_pointcloud.gif\"/><br>\n",
    "    <center> <figcaption>Fig-5.15 - 带摄像头、激光器和点云的RVIZ机器人</figcaption></center>\n",
    "</figure>\n",
    "    </th> \n",
    "  </tr>\n",
    "</table>"
   ]
  },
  {
   "cell_type": "markdown",
   "metadata": {},
   "source": [
    "恭喜! 现在你可以准备调试任意一台AstroMech了! "
   ]
  },
  {
   "cell_type": "markdown",
   "metadata": {},
   "source": [
    "## 了解更多信息"
   ]
  },
  {
   "cell_type": "markdown",
   "metadata": {},
   "source": [
    "roswtf: http://wiki.ros.org/roswtf\n",
    "\n",
    "Ros Logging System: http://wiki.ros.org/rospy/Overview/Logging\n",
    "\n",
    "rqt_console: http://wiki.ros.org/rqt_console\n",
    "\n",
    "rqt_plot: http://wiki.ros.org/rqt_plot\n",
    "\n",
    "rqt_graph: http://wiki.ros.org/rqt_graph\n",
    "\n",
    "Rosbag: http://wiki.ros.org/rosbag\n",
    "\n",
    "Rviz: http://wiki.ros.org/rviz"
   ]
  }
 ],
 "metadata": {
  "anaconda-cloud": {},
  "kernelspec": {
   "display_name": "Python 3",
   "language": "python",
   "name": "python3"
  },
  "language_info": {
   "codemirror_mode": {
    "name": "ipython",
    "version": 3
   },
   "file_extension": ".py",
   "mimetype": "text/x-python",
   "name": "python",
   "nbconvert_exporter": "python",
   "pygments_lexer": "ipython3",
   "version": "3.6.4"
  },
  "latex_metadata": {
   "chapter": "5 - Debugging Tools",
   "chapter_title": "Unit 5. Debugging Tools",
   "course_title": "ROS BASICS IN 5 DAYS"
  }
 },
 "nbformat": 4,
 "nbformat_minor": 1
}
