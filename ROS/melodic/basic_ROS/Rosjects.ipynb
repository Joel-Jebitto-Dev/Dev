{
 "cells": [
  {
   "cell_type": "markdown",
   "metadata": {},
   "source": [
    "# ROSjects"
   ]
  },
  {
   "cell_type": "markdown",
   "metadata": {},
   "source": [
    "Throughout the whole book, you're going to **find a ROSject at the beginning of each Chapter**. With these ROSjects, you are going to be able to easily have access to all the material you'll need for each Chapter. "
   ]
  },
  {
   "cell_type": "markdown",
   "metadata": {},
   "source": [
    "## What is a ROSject?"
   ]
  },
  {
   "cell_type": "markdown",
   "metadata": {},
   "source": [
    "A ROSject is, basically, a ROS project in the ROS Development Studio (ROSDS). ROSjects can easily be shared using a link. By clicking on the link, or copying it to the URL of your web browser, you will have a copy of the specific ROSject in your ROSDS workspace. This means you will have instant access to the ROSject. Also, you will be able to modify it as you wish."
   ]
  },
  {
   "cell_type": "markdown",
   "metadata": {},
   "source": [
    "## How to open a ROSject?"
   ]
  },
  {
   "cell_type": "markdown",
   "metadata": {},
   "source": [
    "At the beginning of each Chapter, you will see a section like this one:"
   ]
  },
  {
   "cell_type": "markdown",
   "metadata": {
    "caption": "ROSject section",
    "image": true,
    "name": "rosject_chapter",
    "width": "5cm"
   },
   "source": [
    "<img src=\"img/rosject_chapter.png\" width=\"400\" style=\"float:left;\"/>"
   ]
  },
  {
   "cell_type": "markdown",
   "metadata": {},
   "source": [
    "As you can see, it contains 3 things:\n",
    "\n",
    "* **ROSject Link:** Link to get the ROSject\n",
    "\n",
    "\n",
    "* **Package Name:** Name of the ROS package that contains the launch file to start the Gazebo simulation.\n",
    "\n",
    "\n",
    "* **Launch File:** Name of the launch file that will start the Gazebo simulation related to the ROSject."
   ]
  },
  {
   "cell_type": "markdown",
   "metadata": {},
   "source": [
    "### Step 1"
   ]
  },
  {
   "cell_type": "markdown",
   "metadata": {},
   "source": [
    "**Log into the ROSDS platform** at http://rosds.online . If you don’t have an account, you can create one for free. Once you log in, you will see an screen like the below one."
   ]
  },
  {
   "cell_type": "markdown",
   "metadata": {
    "caption": "ROSjects Empty List",
    "image": true,
    "name": "rosjects_empty_list",
    "width": "15cm"
   },
   "source": [
    "<img src=\"img/rosjects_empty_list.png\" width=\"800\" style=\"float:left;\"/>"
   ]
  },
  {
   "cell_type": "markdown",
   "metadata": {},
   "source": [
    "At this point you don't have any ROSject yet. So let's get one!"
   ]
  },
  {
   "cell_type": "markdown",
   "metadata": {},
   "source": [
    "### Step 2"
   ]
  },
  {
   "cell_type": "markdown",
   "metadata": {},
   "source": [
    "**Copy the ROSject Link to your web browser**. Once you have copied the URL to your web browser, you will automatically have that ROSject available in your workspace."
   ]
  },
  {
   "cell_type": "markdown",
   "metadata": {
    "caption": "ROSject Link",
    "image": true,
    "name": "copy_url",
    "width": "10cm"
   },
   "source": [
    "<img src=\"img/copy_url.png\" width=\"600\" style=\"float:left;\"/>"
   ]
  },
  {
   "cell_type": "markdown",
   "metadata": {
    "caption": "",
    "image": true,
    "name": "accept_rosject",
    "width": "15cm"
   },
   "source": [
    "<img src=\"img/accept_rosject.png\" width=\"800\" style=\"float:left;\"/>"
   ]
  },
  {
   "cell_type": "markdown",
   "metadata": {
    "caption": "ROSject in ROSDS workspace",
    "image": true,
    "name": "rosjects_one_list",
    "width": "15cm"
   },
   "source": [
    "<img src=\"img/rosjects_one_list.png\" width=\"800\" style=\"float:left;\"/>"
   ]
  },
  {
   "cell_type": "markdown",
   "metadata": {},
   "source": [
    "### Step 3"
   ]
  },
  {
   "cell_type": "markdown",
   "metadata": {},
   "source": [
    "**Open the ROSject**. You can open the ROSject by clicking on the **Open ROSject** button."
   ]
  },
  {
   "cell_type": "markdown",
   "metadata": {
    "caption": "Open ROSject",
    "image": true,
    "name": "open_rosject",
    "width": "10cm"
   },
   "source": [
    "<img src=\"img/open_rosject.png\" width=\"600\" style=\"float:left;\"/>"
   ]
  },
  {
   "cell_type": "markdown",
   "metadata": {},
   "source": [
    "You will then go to a loading screen like the below one."
   ]
  },
  {
   "cell_type": "markdown",
   "metadata": {
    "caption": "",
    "image": true,
    "name": "loading_rosject",
    "width": "15cm"
   },
   "source": [
    "<img src=\"img/loading_rosject.png\" width=\"800\" style=\"float:left;\"/>"
   ]
  },
  {
   "cell_type": "markdown",
   "metadata": {},
   "source": [
    "After a few seconds, you will get an environment like the below one."
   ]
  },
  {
   "cell_type": "markdown",
   "metadata": {
    "caption": "ROSDS Environment",
    "image": true,
    "name": "rosds_empty",
    "width": "15cm"
   },
   "source": [
    "<img src=\"img/rosds_empty.png\" width=\"800\" style=\"float:left;\"/>"
   ]
  },
  {
   "cell_type": "markdown",
   "metadata": {},
   "source": [
    "## Contents of the ROSjects"
   ]
  },
  {
   "cell_type": "markdown",
   "metadata": {},
   "source": [
    "The ROSjects that are available for each chapter of the book will basically contain 2 things:\n",
    "\n",
    "* The Gazebo simulation used for the Chapter\n",
    "* All the scripts and files used for the Chapter"
   ]
  },
  {
   "cell_type": "markdown",
   "metadata": {},
   "source": [
    "In order to open the simulation, follow the next steps:"
   ]
  },
  {
   "cell_type": "markdown",
   "metadata": {},
   "source": [
    "### Step 1"
   ]
  },
  {
   "cell_type": "markdown",
   "metadata": {},
   "source": [
    "In the **Simulations** menu, click on the **Select launch file...** option. A list with all the packages and launch files available will appear."
   ]
  },
  {
   "cell_type": "markdown",
   "metadata": {
    "caption": "Simulations menu",
    "image": true,
    "name": "rosject2_mod",
    "width": "10cm"
   },
   "source": [
    "<img src=\"img/rosject2_mod.png\" width=\"400\" style=\"float:left;\"/>"
   ]
  },
  {
   "cell_type": "markdown",
   "metadata": {},
   "source": [
    "### Step 2"
   ]
  },
  {
   "cell_type": "markdown",
   "metadata": {},
   "source": [
    "Within the list, select the **package name** and **launch file** specified at the ROSject section of the chapter."
   ]
  },
  {
   "cell_type": "markdown",
   "metadata": {
    "caption": "Launch Files list",
    "image": true,
    "name": "rosject3_mod",
    "width": "10cm"
   },
   "source": [
    "<img src=\"img/rosject3_mod.png\" width=\"400\" style=\"float: left; margin: 0px 0px 15px 15px;\"/>"
   ]
  },
  {
   "cell_type": "markdown",
   "metadata": {},
   "source": [
    "In order to see all the files related to the chapter, follow the next steps:"
   ]
  },
  {
   "cell_type": "markdown",
   "metadata": {},
   "source": [
    "### Step 1"
   ]
  },
  {
   "cell_type": "markdown",
   "metadata": {},
   "source": [
    "In the **Tools** menu, click on the **IDE** option. An IDE will appear in your workspace."
   ]
  },
  {
   "cell_type": "markdown",
   "metadata": {
    "caption": "Tools menu",
    "image": true,
    "name": "rosject4_mod",
    "width": "10cm"
   },
   "source": [
    "<img src=\"img/rosject4_mod.png\" width=\"400\" style=\"float: left; margin: 0px 0px 15px 15px;\"/>"
   ]
  },
  {
   "cell_type": "markdown",
   "metadata": {},
   "source": [
    "### Step 2"
   ]
  },
  {
   "cell_type": "markdown",
   "metadata": {},
   "source": [
    "You will find all the files inside the **catkin_ws** workspace. There, you have a ROS package containing all the files related to the chapter. This package will always follow the following name convention: **&lt;unitX&gt;_scripts**"
   ]
  },
  {
   "cell_type": "markdown",
   "metadata": {
    "caption": "IDE workspace tree",
    "image": true,
    "name": "rosject5",
    "width": "10cm"
   },
   "source": [
    "<img src=\"img/rosject5.png\" width=\"400\" style=\"float: left; margin: 0px 0px 15px 15px;\"/>"
   ]
  },
  {
   "cell_type": "markdown",
   "metadata": {},
   "source": [
    "And that's it! Now just enjoy ROSDS and push your ROS learning.\n",
    "\n",
    "Also, you can find more information and videotutorials about ROSDS here: https://www.youtube.com/watch?v=ELfRmuqgxns&list=PLK0b4e05LnzYGvX6EJN1gOQEl6aa3uyKS\n",
    "\n",
    "If you have any doubt regarding ROSDS, don't hesitate in contacting us to: **feedback@theconstructsim.com**"
   ]
  }
 ],
 "metadata": {
  "anaconda-cloud": {},
  "kernelspec": {
   "display_name": "Python [Root]",
   "language": "python",
   "name": "Python [Root]"
  },
  "language_info": {
   "codemirror_mode": {
    "name": "ipython",
    "version": 2
   },
   "file_extension": ".py",
   "mimetype": "text/x-python",
   "name": "python",
   "nbconvert_exporter": "python",
   "pygments_lexer": "ipython2",
   "version": "2.7.12"
  },
  "latex_metadata": {
   "chapter": "ROSjects",
   "chapter_title": "ROSjects",
   "course_title": "ROS BASICS IN 5 DAYS"
  }
 },
 "nbformat": 4,
 "nbformat_minor": 0
}
