{
 "cells": [
  {
   "cell_type": "markdown",
   "metadata": {},
   "source": [
    "# <font class='ign_color'>5天学ROS</font>"
   ]
  },
  {
   "cell_type": "markdown",
   "metadata": {},
   "source": [
    "# Unit 2: 主题"
   ]
  },
  {
   "cell_type": "markdown",
   "metadata": {
    "caption": "Kobuki",
    "image": true,
    "name": "kobuki_wall",
    "width": "15cm"
   },
   "source": [
    "<img src=\"img/kobuki_wall.png\" width=\"800\"/>"
   ]
  },
  {
   "cell_type": "markdown",
   "metadata": {},
   "source": [
    "<b>预计完成时间:</b> 2.5 小时\n",
    "<br><br>\n",
    "<b>仿真机器人:</b> Turtlebot\n",
    "<br><br>\n",
    "<b>你将从该单元学到：</b>\n",
    "\n",
    "* 什么是ROS主题？如何管理它们？</li>\n",
    "* 什么是发布器？如何创建一个发布器？</li>\n",
    "* 什么是主题消息？它们是如何工作的？</li>"
   ]
  },
  {
   "cell_type": "markdown",
   "metadata": {
    "caption": "Kobuki Robot",
    "image": true,
    "name": "kobuki",
    "width": "7cm"
   },
   "source": [
    "<img src=\"img/kobuki.jpg\" width=\"212\" height=\"236\" />"
   ]
  },
  {
   "cell_type": "markdown",
   "metadata": {},
   "source": [
    "## Part 1: 发布器"
   ]
  },
  {
   "cell_type": "markdown",
   "metadata": {},
   "source": [
    "<p style=\"background:#407EAF;color:white;\">**例2.1**</p><br>\n",
    "点击IPython notebook右上角的“play”按钮，运行下面的Python代码<a href=\"#prg-2-1\">simple_topic_publisher.py </a>。<br> \n",
    "<div class='white_bg'><img src=\"img/font-awesome_step-forward.png\" style=\"float:left\"/><br><br></div>\n",
    "<br>\n",
    "也可以按下 **[CTRL]+[Enter]** 键运行它。"
   ]
  },
  {
   "cell_type": "markdown",
   "metadata": {},
   "source": [
    "<p style=\"background:#407EAF;color:white;\">**例2.1结束**</p>"
   ]
  },
  {
   "cell_type": "markdown",
   "metadata": {},
   "source": [
    "<p style=\"background:#3B8F10;color:white;\" id=\"prg-2-1\">**Python 程序 {2.1}: simple_topic_publisher.py**</p>"
   ]
  },
  {
   "cell_type": "code",
   "execution_count": null,
   "metadata": {
    "collapsed": true
   },
   "outputs": [],
   "source": [
    "#! /usr/bin/env python\n",
    "\n",
    "import rospy\n",
    "from std_msgs.msg import Int32 \n",
    "\n",
    "rospy.init_node('topic_publisher')\n",
    "pub = rospy.Publisher('/counter', Int32, queue_size=1)\n",
    "rate = rospy.Rate(2)\n",
    "count = Int32()\n",
    "count.data = 0\n",
    "\n",
    "while not rospy.is_shutdown(): \n",
    "  pub.publish(count)\n",
    "  count.data += 1\n",
    "  rate.sleep()"
   ]
  },
  {
   "cell_type": "markdown",
   "metadata": {},
   "source": [
    "<p style=\"background:#3B8F10;color:white;\" id=\"prg-2-1\">**Python 程序 {2.1}: simple_topic_publisher.py结束** </p>"
   ]
  },
  {
   "cell_type": "markdown",
   "metadata": {},
   "source": [
    "什么都没发生？事实并非如此！ 你刚创建了一个名为**/counter** 的主题，并通过它发布了一个无限增加的整数。让我们看一下吧。\n",
    "\n",
    "主题就像一个管道。 **节点使用主题向其他节点发布信息** ，以便它们能够通信。\n",
    "<br>\n",
    "在任何时候，你可以使用<i>**rostopic list**</i>查看系统中主题的数量。你也可以查看某个特定的主题。 "
   ]
  },
  {
   "cell_type": "markdown",
   "metadata": {},
   "source": [
    "在你的webshell, 输入<i>**rostopic list**</i>，查看一个名为 '/counter'的主题。"
   ]
  },
  {
   "cell_type": "markdown",
   "metadata": {},
   "source": [
    "<table style=\"float:left;background: #407EAF\">\n",
    "<tr>\n",
    "<th>\n",
    "<p class=\"transparent\">在WebShell #1运行</p>\n",
    "</th>\n",
    "</tr>\n",
    "</table>"
   ]
  },
  {
   "cell_type": "code",
   "execution_count": null,
   "metadata": {
    "collapsed": true
   },
   "outputs": [],
   "source": [
    "rostopic list | grep  '/counter'"
   ]
  },
  {
   "cell_type": "markdown",
   "metadata": {},
   "source": [
    "<table class=\"transparent float_l\">\n",
    "<tr>\n",
    "<th>\n",
    "<p style=\"background: #407EAF\">WebShell #1 输出</p>\n",
    "</th>\n",
    "</tr>\n",
    "</table>"
   ]
  },
  {
   "cell_type": "code",
   "execution_count": null,
   "metadata": {
    "collapsed": true
   },
   "outputs": [],
   "source": [
    "user ~ $ rostopic list | grep '/counter'\n",
    "/counter"
   ]
  },
  {
   "cell_type": "markdown",
   "metadata": {},
   "source": [
    "这里，你列出了所有正在运行的主题，并使用<b>grep</b>命令过滤出包含<i>/counter</i>的那个主题。\n",
    "\n",
    "你可以通过<i>**rostopic info &lt;name_of_topic&gt;**</i>获取一个主题的信息。"
   ]
  },
  {
   "cell_type": "markdown",
   "metadata": {},
   "source": [
    "现在，输入<i>**rostopic info /counter**</i>."
   ]
  },
  {
   "cell_type": "markdown",
   "metadata": {},
   "source": [
    "<table style=\"float:left;background: #407EAF\">\n",
    "<tr>\n",
    "<th>\n",
    "<p class=\"transparent\">在WebShell #1运行</p>\n",
    "</th>\n",
    "</tr>\n",
    "</table>"
   ]
  },
  {
   "cell_type": "code",
   "execution_count": null,
   "metadata": {
    "collapsed": true
   },
   "outputs": [],
   "source": [
    "rostopic info /counter"
   ]
  },
  {
   "cell_type": "markdown",
   "metadata": {},
   "source": [
    "<table class=\"transparent float_l\">\n",
    "<tr>\n",
    "<th>\n",
    "<p style=\"background: #407EAF\">WebShell #1 输出</p>\n",
    "</th>\n",
    "</tr>\n",
    "</table>"
   ]
  },
  {
   "cell_type": "code",
   "execution_count": null,
   "metadata": {
    "collapsed": true
   },
   "outputs": [],
   "source": [
    "user ~ $ rostopic info /counter\n",
    "Type: std_msgs/Int32\n",
    "\n",
    "Publishers:\n",
    " * /topic_publisher (http://ip-172-31-16-133:47971/)\n",
    "\n",
    "Subscribers: None"
   ]
  },
  {
   "cell_type": "markdown",
   "metadata": {},
   "source": [
    "输出表明，发布信息的类型为(**std_msgs/Int32**), 发布该信息的节点为 (**/topic_publisher**)，是否有节点在监听该消息（这里是没有）。"
   ]
  },
  {
   "cell_type": "markdown",
   "metadata": {},
   "source": [
    "现在，输入 **_rostopic echo /counter_** ，查看主题的实时输出。"
   ]
  },
  {
   "cell_type": "markdown",
   "metadata": {},
   "source": [
    "<table style=\"float:left;background: #407EAF\">\n",
    "<tr>\n",
    "<th>\n",
    "<p class=\"transparent\">在WebShell #1运行</p>\n",
    "</th>\n",
    "</tr>\n",
    "</table>\n",
    "<br>"
   ]
  },
  {
   "cell_type": "code",
   "execution_count": null,
   "metadata": {
    "collapsed": true
   },
   "outputs": [],
   "source": [
    "rostopic echo /counter"
   ]
  },
  {
   "cell_type": "markdown",
   "metadata": {},
   "source": [
    "你会看到一连串类似于下面的的相邻数字："
   ]
  },
  {
   "cell_type": "markdown",
   "metadata": {},
   "source": [
    "<table class=\"transparent float_l\">\n",
    "<tr>\n",
    "<th>\n",
    "<p style=\"background: #407EAF\">WebShell #1 输出</p>\n",
    "</th>\n",
    "</tr>\n",
    "</table>"
   ]
  },
  {
   "cell_type": "code",
   "execution_count": null,
   "metadata": {
    "collapsed": true
   },
   "outputs": [],
   "source": [
    "rostopic echo /counter\n",
    "data:\n",
    "985\n",
    "---\n",
    "data:\n",
    "986\n",
    "---\n",
    "data:\n",
    "987\n",
    "---\n",
    "data:\n",
    "988\n",
    "---"
   ]
  },
  {
   "cell_type": "markdown",
   "metadata": {},
   "source": [
    "那么，刚才发生了什么？ 让我们对其进行详细的解释。\n",
    "首先，我们查看一下我们执行的代码，每行代码注释如下：  "
   ]
  },
  {
   "cell_type": "code",
   "execution_count": null,
   "metadata": {
    "collapsed": true
   },
   "outputs": [],
   "source": [
    "#! /usr/bin/env python\n",
    "\n",
    "import rospy                               # 导入ROS的Python库\n",
    "from std_msgs.msg import Int32             # 从std_msgs功能包导入Int32消息\n",
    "\n",
    "rospy.init_node('topic_publisher')         # 初始化一个名为'topic_publisher'的节点\n",
    "pub = rospy.Publisher('counter', Int32)    # 创建一个发布器对象，将在/count主题上发布类型为Int32的消息\n",
    "                                           \n",
    "\n",
    "rate = rospy.Rate(2)                       # 设置发布频率为2 Hz\n",
    "count = Int32()                            # 创建一个类型为Int32的变量\n",
    "count.data = 0                             # 初始化'count' 变量\n",
    "\n",
    "while not rospy.is_shutdown():             # 创建一个循环，当有人停止程序执行时循环结束\n",
    "  pub.publish(count)                       # 发布变量 'count'值\n",
    "  count.data += 1                          # 变量'count' 值增加\n",
    "  rate.sleep()                             # 确保发布频率维持在2 Hz"
   ]
  },
  {
   "cell_type": "markdown",
   "metadata": {},
   "source": [
    "总的来说，这段代码 **初始化一个节点并创建一个发布器，该发布器不停地向'/counter' 主题发布一连串的连续整数**。 \n",
    "因此，**发布器是一个不停地向某一主题发布消息的节点**。\n",
    "那么，什么是主题？\n",
    "\n",
    "**主题是一个ROS节点发布和读取消息的通道**。 \n",
    "下面我们介绍几个与主题相关的命令（有些你已经在前面用过）。"
   ]
  },
  {
   "cell_type": "markdown",
   "metadata": {},
   "source": [
    "<b>获取ROS系统中可用的主题列表</b>，使用："
   ]
  },
  {
   "cell_type": "code",
   "execution_count": null,
   "metadata": {
    "collapsed": true
   },
   "outputs": [],
   "source": [
    "rostopic list"
   ]
  },
  {
   "cell_type": "markdown",
   "metadata": {},
   "source": [
    "<b>读取一个主题中正在发布的消息</b>，使用： "
   ]
  },
  {
   "cell_type": "code",
   "execution_count": null,
   "metadata": {
    "collapsed": true
   },
   "outputs": [],
   "source": [
    "rostopic echo <topic_name>"
   ]
  },
  {
   "cell_type": "markdown",
   "metadata": {},
   "source": [
    "该命令将会输出发布到该主题中的所有消息， 有时这样是很烦人的(例如，当消息很多时，或者消息结构很大时）。在这种情况下，你可以使用下面的命令 <b>读取发布到某一主题上的最后一条消息</b> ："
   ]
  },
  {
   "cell_type": "code",
   "execution_count": null,
   "metadata": {
    "collapsed": true
   },
   "outputs": [],
   "source": [
    "rostopic echo <topic_name> -n1"
   ]
  },
  {
   "cell_type": "markdown",
   "metadata": {},
   "source": [
    " <b>获取某一主题的消息</b>，使用："
   ]
  },
  {
   "cell_type": "code",
   "execution_count": null,
   "metadata": {
    "collapsed": true
   },
   "outputs": [],
   "source": [
    "rostopic info <topic_name>"
   ]
  },
  {
   "cell_type": "markdown",
   "metadata": {},
   "source": [
    "最后，你可以使用下面的命令查看 <i>rostopic</i> 命令的不同选项："
   ]
  },
  {
   "cell_type": "code",
   "execution_count": null,
   "metadata": {
    "collapsed": true
   },
   "outputs": [],
   "source": [
    "rostopic -h"
   ]
  },
  {
   "cell_type": "markdown",
   "metadata": {},
   "source": [
    "<p style=\"background:red;color:white;\">**重要注释**</p>"
   ]
  },
  {
   "cell_type": "markdown",
   "metadata": {},
   "source": [
    "当你完成这一部分内容的学习后，确保点击Notebook右上角的 <b>Interrupt kernel</b>按钮 <b>停止</b> 先前运行的代码。这一点对正常进行下一单元的学习非常重要。"
   ]
  },
  {
   "cell_type": "markdown",
   "metadata": {},
   "source": [
    "<p style=\"background:red;color:white;\">**重要注释**</p>"
   ]
  },
  {
   "cell_type": "markdown",
   "metadata": {},
   "source": [
    "## 消息"
   ]
  },
  {
   "cell_type": "markdown",
   "metadata": {},
   "source": [
    "你可能已经注意到了，主题通过消息处理信息。在ROS中，有许多不同类型的消息。\n",
    "\n",
    "在前面执行的代码中，消息类型为**std_msgs/Int32**。除了ROS提供的标准消息，你也可以创建自定义的消息，但我们推荐使用ROS默认的消息类型。\n",
    "\n",
    "In the case of the code you executed before, the message type was an **std_msgs/Int32**, but ROS provides a lot of different messages. You can even create your own messages, but it is recommended to use ROS default messages when its possible. \n",
    "\n",
    "消息定义在 **.msg** 文件中，它位于一个功能包的**msg**目录中。"
   ]
  },
  {
   "cell_type": "markdown",
   "metadata": {},
   "source": [
    "<b>获取一个消息的信息</b> ，使用："
   ]
  },
  {
   "cell_type": "code",
   "execution_count": null,
   "metadata": {
    "collapsed": true
   },
   "outputs": [],
   "source": [
    "rosmsg show <message>"
   ]
  },
  {
   "cell_type": "markdown",
   "metadata": {},
   "source": [
    "<p style=\"background:#407EAF;color:white;\">**例2.2**</p>"
   ]
  },
  {
   "cell_type": "markdown",
   "metadata": {},
   "source": [
    "例如，为了获取std_msgs/Int32消息的信息，输入："
   ]
  },
  {
   "cell_type": "markdown",
   "metadata": {},
   "source": [
    "<table style=\"float:left;background: #407EAF\">\n",
    "<tr>\n",
    "<th>\n",
    "<p class=\"transparent\">在WebShell #1运行</p>\n",
    "</th>\n",
    "</tr>\n",
    "</table>"
   ]
  },
  {
   "cell_type": "code",
   "execution_count": null,
   "metadata": {
    "collapsed": true
   },
   "outputs": [],
   "source": [
    "rosmsg show std_msgs/Int32"
   ]
  },
  {
   "cell_type": "markdown",
   "metadata": {},
   "source": [
    "<table class=\"transparent float_l\">\n",
    "<tr>\n",
    "<th>\n",
    "<p style=\"background: #407EAF\">WebShell #1 输出</p>\n",
    "</th>\n",
    "</tr>\n",
    "</table>"
   ]
  },
  {
   "cell_type": "code",
   "execution_count": null,
   "metadata": {
    "collapsed": true
   },
   "outputs": [],
   "source": [
    "user ~ $ rosmsg show std_msgs/Int32\n",
    "[std_msgs/Int32]:\n",
    "int32 data"
   ]
  },
  {
   "cell_type": "markdown",
   "metadata": {},
   "source": [
    "该例中，**Int32** 消息只有一个类型为**int32**名为**data**的变量。Int32消息来自于功能包 **std_msgs**，它位于 **msg**目录中。\n",
    "如果你想查看Int32.msg文件的内容，执行下面的命令："
   ]
  },
  {
   "cell_type": "code",
   "execution_count": null,
   "metadata": {
    "collapsed": true
   },
   "outputs": [],
   "source": [
    "roscd std_msgs/msg/"
   ]
  },
  {
   "cell_type": "markdown",
   "metadata": {},
   "source": [
    "<p style=\"background:#407EAF;color:white;\">**例2.2结束**</p>"
   ]
  },
  {
   "cell_type": "markdown",
   "metadata": {},
   "source": [
    "现在你可以创建自己的发布器使你的机器人移动了！我们开始吧。"
   ]
  },
  {
   "cell_type": "markdown",
   "metadata": {},
   "source": [
    "<p style=\"background:#EE9023;color:white;\">**练习 2.1**</p><br>\n",
    "<ul>\n",
    " <li>创建一个带有launch文件的功能包，启动代码 <a href=\"#prg-2-1\">simple_topic_publisher.py</a>。</li>\n",
    " <li>修改先前的代码，发布数据到 /cmd_vel 主题。 </li>\n",
    " <li>启动程序，检查机器人是否运动了。</li>\n",
    "</ul>"
   ]
  },
  {
   "cell_type": "markdown",
   "metadata": {},
   "source": [
    "<p style=\"background:#3B8F10;color:white;\">**练习 2.1数据**</p><br>\n",
    "\n",
    "1.-  /cmd_vel主题用来移动机器人。 使用 <i>**rostopic info /cmd_vel**</i> 获取该主题的信息并识别它所用到的消息。要使用该消息，你需要修改代码。\n",
    "\n",
    "2.- 为了填充Twist消息, 你需要创建一个消息的实例。在Python中，可以这样做：**var = Twist()**\n",
    "\n",
    "3.- 为了了解Twist消息的结构，你需要使用 **_rosmsg show_** 命令，需要给出主题 **/cmd_vel** 所使用的消息类型。\n",
    "\n",
    "4.- 该例中，机器人使用差分驱动器插件进行移动。这意味着，机器人只能在**x** 轴方向线性运动，或者绕**z**进行旋转运动。因此，你唯一需要在Twist消息中填写的值是线速度**x**和角速度 **z**。\n",
    "\n",
    "\n",
    "<img src=\"img/xyz.jpg\" width=\"100\"></img>\n",
    "\n",
    "\n",
    "5.- Twist消息的取值以m/s为单位，因此推荐使用介于0到1之间的值。例如，0.5m/s。"
   ]
  },
  {
   "cell_type": "markdown",
   "metadata": {},
   "source": [
    "<p style=\"background:#EE9023;color:white;\">**练习2.1结束**</p>"
   ]
  },
  {
   "cell_type": "markdown",
   "metadata": {},
   "source": [
    "<p style=\"background:green;color:white;\"> 练习2.1解决方案</p>"
   ]
  },
  {
   "cell_type": "markdown",
   "metadata": {},
   "source": [
    "请尽量独自完成，除非你陷入困境或需要一些灵感。如果每一个练习你都认真对待的话，你会学到更多！"
   ]
  },
  {
   "cell_type": "markdown",
   "metadata": {},
   "source": [
    "<img src=\"img/robotignite_logo_text.png\"/>"
   ]
  },
  {
   "cell_type": "markdown",
   "metadata": {},
   "source": [
    "按照下面的链接打开解决方案笔记本:[Topics Part1 Solutions](extra_files/zh_unit2_topics_part1_solutions.ipynb)"
   ]
  },
  {
   "cell_type": "markdown",
   "metadata": {},
   "source": [
    "<p style=\"background:green;color:white;\">练习 2.1解决方案结束</p>"
   ]
  }
 ],
 "metadata": {
  "anaconda-cloud": {},
  "kernelspec": {
   "display_name": "Python 3",
   "language": "python",
   "name": "python3"
  },
  "language_info": {
   "codemirror_mode": {
    "name": "ipython",
    "version": 3
   },
   "file_extension": ".py",
   "mimetype": "text/x-python",
   "name": "python",
   "nbconvert_exporter": "python",
   "pygments_lexer": "ipython3",
   "version": "3.6.4"
  },
  "latex_metadata": {
   "chapter": "2 - Topics",
   "chapter_title": "Unit 2. Topics Part1",
   "course_title": "ROS BASICS IN 5 DAYS"
  }
 },
 "nbformat": 4,
 "nbformat_minor": 1
}
