{
 "cells": [
  {
   "cell_type": "markdown",
   "metadata": {},
   "source": [
    "# <font class='ign_color'>5天学ROS</font>"
   ]
  },
  {
   "cell_type": "markdown",
   "metadata": {},
   "source": [
    "# Unit 3: 服务"
   ]
  },
  {
   "cell_type": "markdown",
   "metadata": {
    "caption": "BB8 Robot",
    "image": true,
    "name": "bb8",
    "width": "8cm"
   },
   "source": [
    "<img src=\"img/bb8.jpg\" width=\"500\" />"
   ]
  },
  {
   "cell_type": "markdown",
   "metadata": {},
   "source": [
    "<b>预计完成时间:</b> 3 hours\n",
    "<br><br>\n",
    "<b>从本单元你将学到：</b>\n",
    "\n",
    "* <a href=\"#how_to_give_a_service\">如何提供一个服务？</a>\n",
    "* <a href=\"#create_your_own_service_server_message\">创建自己的服务消息</a>"
   ]
  },
  {
   "cell_type": "markdown",
   "metadata": {},
   "source": [
    "## Part 2: 如何提供一个服务？ <p id=\"how_to_give_a_service\"></p>"
   ]
  },
  {
   "cell_type": "markdown",
   "metadata": {},
   "source": [
    "通过前面的学习，你已经知道了如何调用其他节点提供的服务。现在，你将学习如何创建你自己的服务！"
   ]
  },
  {
   "cell_type": "markdown",
   "metadata": {},
   "source": [
    "<p style=\"background:#407EAF;color:white;\">**例 3.7**</p>"
   ]
  },
  {
   "cell_type": "markdown",
   "metadata": {},
   "source": [
    "点击IPython notebook右上角的“play”按钮运行下面的Python代码 <a href=\"#prg-3-7\">simple_service_server.py</a> 。<br> \n",
    "<div class='white_bg'><img src=\"img/font-awesome_step-forward.png\" style=\"float:left\"/><br><br></div>\n",
    "<br><br>\n",
    "你也可以按下 **<i>[CTRL]+[Enter]</i>** 组合件运行它。<br>"
   ]
  },
  {
   "cell_type": "markdown",
   "metadata": {},
   "source": [
    "<p style=\"background:#3B8F10;color:white;\" id=\"prg-3-7\">**Python 程序 {3.7}: simple_service_server.py** </p><br>"
   ]
  },
  {
   "cell_type": "code",
   "execution_count": null,
   "metadata": {
    "collapsed": true
   },
   "outputs": [],
   "source": [
    "#! /usr/bin/env python\n",
    "\n",
    "import rospy\n",
    "from std_srvs.srv import Empty, EmptyResponse # 导入Empty.srv生成的服务消息python类\n",
    "\n",
    "def my_callback(request):\n",
    "    print \"My_callback has been called\"\n",
    "    return EmptyResponse() # 服务响应类，这里为EmptyResponse\n",
    "    #返回 MyServiceResponse(len(request.words.split())) \n",
    "\n",
    "rospy.init_node('service_server') \n",
    "my_service = rospy.Service('/my_service', Empty , my_callback) # 调用名为my_service的服务\n",
    "rospy.spin() # 使服务保持打开状态"
   ]
  },
  {
   "cell_type": "markdown",
   "metadata": {},
   "source": [
    "<p style=\"background:#3B8F10;color:white;\">**END Python Program {3.7}: simple_service_server.py** </p>"
   ]
  },
  {
   "cell_type": "markdown",
   "metadata": {},
   "source": [
    "发生了什么？\n",
    "\n",
    "当然什么都没发生！目前，你只是创建并启动了提供服务的服务器。 也就是说，你只是使该服务做好了被调用的准备。"
   ]
  },
  {
   "cell_type": "markdown",
   "metadata": {},
   "source": [
    "这意味着，如果此时你运行 **<i>rosservice list</i>**, 你将可以从可用的服务列表中看到该服务。"
   ]
  },
  {
   "cell_type": "markdown",
   "metadata": {},
   "source": [
    "<table style=\"float:left;background: #407EAF\">\n",
    "<tr>\n",
    "<th>\n",
    "<p class=\"transparent\">在WebShell #1 运行</p>\n",
    "</th>\n",
    "</tr>\n",
    "</table>"
   ]
  },
  {
   "cell_type": "code",
   "execution_count": null,
   "metadata": {
    "collapsed": true
   },
   "outputs": [],
   "source": [
    "rosservice list"
   ]
  },
  {
   "cell_type": "markdown",
   "metadata": {},
   "source": [
    "在所有可用的服务列表中，你会看到 **/my_service** 服务。"
   ]
  },
  {
   "cell_type": "code",
   "execution_count": null,
   "metadata": {
    "collapsed": true
   },
   "outputs": [],
   "source": [
    "/base_controller/command_select\n",
    "/bb8/camera1/image_raw/compressed/set_parameters\n",
    "/bb8/camera1/image_raw/compressedDepth/set_parameters\n",
    "/bb8/camera1/image_raw/theora/set_parameters\n",
    "...\n",
    "/my_service\n",
    "..."
   ]
  },
  {
   "cell_type": "markdown",
   "metadata": {},
   "source": [
    "现在，你必须实际 **调用** 它。我们这里手动调用 **/my_service** 服务。别忘了前面讨论过的调用结构，也别忘了使用TAB-TAB自动补全服务消息的结构。"
   ]
  },
  {
   "cell_type": "markdown",
   "metadata": {},
   "source": [
    "<table style=\"float:left;background: #407EAF\">\n",
    "<tr>\n",
    "<th>\n",
    "<p class=\"transparent\">在WebShell #1运行</p>\n",
    "</th>\n",
    "</tr>\n",
    "</table>\n",
    "<br>"
   ]
  },
  {
   "cell_type": "code",
   "execution_count": null,
   "metadata": {
    "collapsed": true
   },
   "outputs": [],
   "source": [
    "rosservice call /my_service [TAB]+[TAB]"
   ]
  },
  {
   "cell_type": "markdown",
   "metadata": {},
   "source": [
    "看到了什么？你应该看到消息 **'My callback has been called'** 输出在运行Python代码的那个终端。"
   ]
  },
  {
   "cell_type": "markdown",
   "metadata": {},
   "source": [
    "<img src=\"img/my_service_called.png\" width=\"400\" />"
   ]
  },
  {
   "cell_type": "markdown",
   "metadata": {},
   "source": [
    "**注意**：该例**my_callback**函数中有一行注释掉的代码。它告诉了我们如何访问你的服务调用者给出的响应。始终是 **响应.<i>variables_in_the_request_part_of_srv_message**."
   ]
  },
  {
   "cell_type": "markdown",
   "metadata": {},
   "source": [
    "让我们简单回顾一下前面所学的内容。还记得例3.5吗？该例中，为了在仿真中删除一个对象，你必须调用一个服务。对于那个例子，你通过一个名为**model_name** 的变量向提供服务的服务器传递要删除的对象的名称。因此，如果你想在提供服务的服务器中访问**model_name**变量的值，你需要这样做： "
   ]
  },
  {
   "cell_type": "code",
   "execution_count": null,
   "metadata": {
    "collapsed": true
   },
   "outputs": [],
   "source": [
    "request.model_name"
   ]
  },
  {
   "cell_type": "markdown",
   "metadata": {},
   "source": [
    "相当简单，对不?"
   ]
  },
  {
   "cell_type": "markdown",
   "metadata": {},
   "source": [
    "注释掉的代码告诉你应该返回的对象类型。通常情况下使用Python **Response** 类。它具有 **name_of_the_messageResponse()** 结构。这就是为什么在上面的代码中，虽然它使用了**Empty** 服务消息，返回的对象类型却为 **EmptyResponse()** 。但是，如果你的服务使用另一类型的消息，比如说**MyServiceMessage**，那么你将返回的对象类型将会是 **MyServiceMessageResponse()**。"
   ]
  },
  {
   "cell_type": "markdown",
   "metadata": {},
   "source": [
    "<p style=\"background:#407EAF;color:white;\"> **例 3.7**结束</p>"
   ]
  },
  {
   "cell_type": "markdown",
   "metadata": {},
   "source": [
    "<p style=\"background:#EE9023;color:white;\">**练习 3.2**</p>"
   ]
  },
  {
   "cell_type": "markdown",
   "metadata": {},
   "source": [
    "* 该练习的目的是创建一个服务，当该服务被调用时，BB-8机器人绕正方形轨迹运动。"
   ]
  },
  {
   "cell_type": "markdown",
   "metadata": {},
   "source": [
    "* 你可以创建一个新的功能包，也可以使用练习3.1中创建的那个名为 **unit_3_services**的功能包。"
   ]
  },
  {
   "cell_type": "markdown",
   "metadata": {},
   "source": [
    "* 创建一个内含一个类的Python文件。该类用来控制BB-8机器人绕正方形轨迹运动 <a href=\"#fig-3.1\">{图-3.1}</a>。该类可以命名为**MoveBB8** 。包含该类的Python代码文件可以命名为 **move_bb8.py**。<br>\n",
    "要使BB-8移动，你需要向 **/cmd_vel** 主题发布消息，如在前一单元做的那样。<br>\n",
    "需要注意的是，虽然这只是仿真，但由于BB-8具有重量，因此由于惯性它不会立即停止。<br>\n",
    "此外，在转弯时，摩擦和惯性将会起作用。因此，当仅通过/cmd_vel使机器人运动时，你没有办法检查它是否按照你期望的路径转向（这就是所谓的开环系统）。\n",
    "当然，如果你找到一个获取位置反馈信息的方法，这另当别论(如果你想试一下的话，可考虑使用 /odom 主题)。<br>\n"
   ]
  },
  {
   "cell_type": "markdown",
   "metadata": {},
   "source": [
    "* 添加一个服务服务器接收一个 <b>Empty</b>服务消息并激活正方形运动。该服务可以命名为 **/move_bb8_in_square**。<br>\n",
    "激活可以通过调用你刚才生成的名为**MoveBB8** 的类来实现。<br>\n",
    "要实现它，你需要创建一个类似<a href=\"#prg-3-7\">simple_service_server.py</a>的Python文件。该文件可以命名为**bb8_move_in_square_service_server.py**。"
   ]
  },
  {
   "cell_type": "markdown",
   "metadata": {},
   "source": [
    "* 创建一个名为 **start_bb8_move_in_square_service_server.launch** 的launch文件。在该文件中，开启一个启动 **bb8_move_in_square_service_server.py** 文件的节点。"
   ]
  },
  {
   "cell_type": "markdown",
   "metadata": {},
   "source": [
    "* 启动 **start_bb8_move_in_square_service_server.launch**并查看运行结果。当被通过WebShell调用时BB-8绕一个正方形轨迹运动。"
   ]
  },
  {
   "cell_type": "markdown",
   "metadata": {},
   "source": [
    "* 现在，你创建了一个名为 **bb8_move_in_square_service_client.py** 的新ython文件，它调用服务 **/move_bb8_in_square**。回顾一下 **Services Part 1** 单元这个过程是如何实现的。<br>\n",
    "接着，生成一个名为 **call_bb8_move_in_square_service_server.launch** 的新launch文件来运行**bb8_move_in_square_service_client.py** 文件中的代码。"
   ]
  },
  {
   "cell_type": "markdown",
   "metadata": {},
   "source": [
    "* 最后，当你启动 **call_bb8_move_in_square_service_server.launch** 文件时，BB-8绕正方形轨迹运动。"
   ]
  },
  {
   "cell_type": "markdown",
   "metadata": {},
   "source": [
    "<p style=\"background:#EE9023;color:white;\"> **练习 3.2**结束</p>"
   ]
  },
  {
   "cell_type": "markdown",
   "metadata": {
    "caption": "Fig.3.1 - BB8 Square Movement Diagram",
    "image": true,
    "name": "bb8_excercice",
    "width": "10cm"
   },
   "source": [
    "<figure>\n",
    "  <img id=\"fig-3.1\" src=\"img/bb8_excercice.png\"></img>\n",
    "   <center> <figcaption>图.3.1 - BB-8 绕正方形轨迹运动</figcaption></center>\n",
    "</figure>"
   ]
  },
  {
   "cell_type": "markdown",
   "metadata": {},
   "source": [
    "<p style=\"background:green;color:white;\">练习 3.2 解决方案</p>"
   ]
  },
  {
   "cell_type": "markdown",
   "metadata": {},
   "source": [
    "请尽量独自完成，除非你陷入困境或需要一些灵感。如果每一个练习你都认真对待的话，你会学到更多！"
   ]
  },
  {
   "cell_type": "markdown",
   "metadata": {},
   "source": [
    "<img src=\"img/robotignite_logo_text.png\"/>"
   ]
  },
  {
   "cell_type": "markdown",
   "metadata": {},
   "source": [
    "按照下面的链接打开解决方案笔记本: [solutions_unit3_services_part2](extra_files/zh_solutions_unit3_services_part2.ipynb)"
   ]
  },
  {
   "cell_type": "markdown",
   "metadata": {},
   "source": [
    "<p style=\"background:green;color:white;\">练习 3.2解决方案结束</p>"
   ]
  },
  {
   "cell_type": "markdown",
   "metadata": {},
   "source": [
    "## 如何创建自己的服务消息？<p id=\"create_your_own_service_server_message\"></p>"
   ]
  },
  {
   "cell_type": "markdown",
   "metadata": {
    "collapsed": true
   },
   "source": [
    "当ROS中没有一个可用的服务消息满足你的要求时，怎么办？办法是，创建你自己的服务消息，就像创建主题消息那样。<br><br>\n",
    "按照下面的步骤创建一个服务消息："
   ]
  },
  {
   "cell_type": "markdown",
   "metadata": {},
   "source": [
    "<p style=\"background:#407EAF;color:white;\">**例 3.8**</p>"
   ]
  },
  {
   "cell_type": "markdown",
   "metadata": {},
   "source": [
    "1) 创建一个功能包：\n"
   ]
  },
  {
   "cell_type": "markdown",
   "metadata": {},
   "source": [
    "<table style=\"float:left;background: #407EAF\">\n",
    "<tr>\n",
    "<th>\n",
    "<p class=\"transparent\">在WebShell #1运行</p>\n",
    "</th>\n",
    "</tr>\n",
    "</table>\n",
    "<br>"
   ]
  },
  {
   "cell_type": "code",
   "execution_count": null,
   "metadata": {
    "collapsed": true
   },
   "outputs": [],
   "source": [
    "roscd;cd ..;cd src\n",
    "catkin_create_pkg my_custom_srv_msg_pkg rospy"
   ]
  },
  {
   "cell_type": "markdown",
   "metadata": {},
   "source": [
    "2) 创建自己的服务消息。在该消息中你可添加任意个所需要的变量，变量的类型可以是任何一个ROS所支持的类型<a href=\"http://wiki.ros.org/msg\">ROS Message Types</a>。如创建主题**<i>msg</i>文件夹类似，在你的功能包中创建一个 **<i>srv</i>** 文件夹。然后，在 **<i>srv</i>** 文件夹内，创建一个名为 **<i>MyCustomServiceMessage.srv</i>** 的文件。当然，你也可以使用IDE或WebShell创建。"
   ]
  },
  {
   "cell_type": "markdown",
   "metadata": {},
   "source": [
    "<table style=\"float:left;background: #407EAF\">\n",
    "<tr>\n",
    "<th>\n",
    "<p class=\"transparent\">在WebShell #1运行</p>\n",
    "</th>\n",
    "</tr>\n",
    "</table>\n",
    "<br>"
   ]
  },
  {
   "cell_type": "code",
   "execution_count": null,
   "metadata": {
    "collapsed": true
   },
   "outputs": [],
   "source": [
    "roscd my_custom_srv_msg_pkg/\n",
    "mkdir srv\n",
    "vim srv/MyCustomServiceMessage.srv"
   ]
  },
  {
   "cell_type": "markdown",
   "metadata": {},
   "source": [
    "如果你不习惯使用vim的话，你也可以通过IDE创建 **<i>MyCustomServiceMessage.srv</i>** 。"
   ]
  },
  {
   "cell_type": "markdown",
   "metadata": {},
   "source": [
    "<b>MyCustomServiceMessage.srv</b> 看起来是这样的："
   ]
  },
  {
   "cell_type": "code",
   "execution_count": null,
   "metadata": {
    "collapsed": true
   },
   "outputs": [],
   "source": [
    "float64 radius       # 正方形两条边之间的距离\n",
    "int32 repetitions    # 服务被调用时，BB-8绕正方形运动的次数\n",
    "---\n",
    "bool success         # 是否成功？"
   ]
  },
  {
   "cell_type": "markdown",
   "metadata": {},
   "source": [
    "## 如何为定制服务的编译修改CMakeLists.txt 和 package.xml ？"
   ]
  },
  {
   "cell_type": "markdown",
   "metadata": {},
   "source": [
    "你需要对该功能包中的这两个文件进行编辑，编辑方法和主题那一单元中的方法类似：\n",
    "\n",
    "* CMakeLists.txt\n",
    "* package.xml\n"
   ]
  },
  {
   "cell_type": "markdown",
   "metadata": {},
   "source": [
    "### 修改CMakeLists.txt"
   ]
  },
  {
   "cell_type": "markdown",
   "metadata": {},
   "source": [
    "编辑CMakeLists.txt中的四个函数：\n",
    "\n",
    "* <span class=\"ign_green\"><a href=\"#find_package\">find_package()</a></span>\n",
    "* <span class=\"ign_green\"><a href=\"#add_service_files\">add_service_files()</a></span>\n",
    "* <span class=\"ign_green\"><a href=\"#generate_messages\">generate_messages()</a></span>\n",
    "* <span class=\"ign_green\"><a href=\"#catkin_package\">catkin_package()</a></span>\n",
    "\n"
   ]
  },
  {
   "cell_type": "markdown",
   "metadata": {},
   "source": [
    "### <span style=\"color: green;\" id=\"find_package\">I. find_package()</span>"
   ]
  },
  {
   "cell_type": "markdown",
   "metadata": {},
   "source": [
    "所有编译主题、服务和行为消息需要的功能包都在这里。这里只获取路径，并不真正导入它们进行编译。 \n",
    "<br>\n"
   ]
  },
  {
   "cell_type": "code",
   "execution_count": null,
   "metadata": {
    "collapsed": true
   },
   "outputs": [],
   "source": [
    "find_package(catkin REQUIRED COMPONENTS\n",
    "  std_msgs\n",
    "  message_generation\n",
    ")"
   ]
  },
  {
   "cell_type": "markdown",
   "metadata": {},
   "source": [
    "### <span style=\"color: green;\" id=\"add_service_files\">II. add_service_files()</span>"
   ]
  },
  {
   "cell_type": "markdown",
   "metadata": {},
   "source": [
    "该函数包含该功能包中定义的所有服务消息列表(定义在srv文件夹中)。 <br>\n",
    "对于我们的例子："
   ]
  },
  {
   "cell_type": "code",
   "execution_count": null,
   "metadata": {
    "collapsed": true
   },
   "outputs": [],
   "source": [
    "add_service_files(\n",
    "  FILES\n",
    "  MyCustomServiceMessage.srv\n",
    ")"
   ]
  },
  {
   "cell_type": "markdown",
   "metadata": {},
   "source": [
    "### <span style=\"color: green;\" id=\"generate_messages\">III. generate_messages()</span>"
   ]
  },
  {
   "cell_type": "markdown",
   "metadata": {},
   "source": [
    "这里导入服务消息编译所需要的功能包。"
   ]
  },
  {
   "cell_type": "code",
   "execution_count": null,
   "metadata": {
    "collapsed": true
   },
   "outputs": [],
   "source": [
    "generate_messages(\n",
    "  DEPENDENCIES\n",
    "  std_msgs\n",
    ")"
   ]
  },
  {
   "cell_type": "markdown",
   "metadata": {},
   "source": [
    "### <span style=\"color: green;\" id=\"catkin_package\">IV. catkin_package()</span>"
   ]
  },
  {
   "cell_type": "markdown",
   "metadata": {},
   "source": [
    "这里给出运行你功能包中的某个程序所需要的所有功能包。\n",
    "这里给出的所有功能包必须作为 **&lt;run_depend&gt;** 位于 **package.xml** 文件中。"
   ]
  },
  {
   "cell_type": "code",
   "execution_count": null,
   "metadata": {
    "collapsed": true
   },
   "outputs": [],
   "source": [
    "catkin_package(\n",
    "      CATKIN_DEPENDS\n",
    "      rospy\n",
    ")"
   ]
  },
  {
   "cell_type": "markdown",
   "metadata": {},
   "source": [
    "完成后的代码应该是这样的："
   ]
  },
  {
   "cell_type": "code",
   "execution_count": null,
   "metadata": {
    "collapsed": true
   },
   "outputs": [],
   "source": [
    "cmake_minimum_required(VERSION 2.8.3)\n",
    "project(my_custom_srv_msg_pkg)\n",
    "\n",
    "\n",
    "## Here go all the packages needed to COMPILE the messages of topic, services and actions.\n",
    "## Its only geting its paths, and not really importing them to be used in the compilation.\n",
    "## Its only for further functions in CMakeLists.txt to be able to find those packages.\n",
    "## In package.xml you have to state them as build\n",
    "find_package(catkin REQUIRED COMPONENTS\n",
    "  std_msgs\n",
    "  message_generation\n",
    ")\n",
    "\n",
    "## Generate services in the 'srv' folder\n",
    "## In this function will be all the action messages of this package ( in the action folder ) to be compiled.\n",
    "## You can state that it gets all the actions inside the action directory: DIRECTORY action\n",
    "## Or just the action messages stated explicitly: FILES my_custom_action.action\n",
    "## In your case you only need to do one of two things, as you wish.\n",
    "add_service_files(\n",
    "  FILES\n",
    "  MyCustomServiceMessage.srv\n",
    ")\n",
    "\n",
    "## Here is where the packages needed for the action messages compilation are imported.\n",
    "generate_messages(\n",
    "  DEPENDENCIES\n",
    "  std_msgs\n",
    ")\n",
    "\n",
    "## State here all the packages that will be needed by someone that executes something from your package.\n",
    "## All the packages stated here must be in the package.xml as run_depend\n",
    "catkin_package(\n",
    "  CATKIN_DEPENDS rospy\n",
    ")\n",
    "\n",
    "\n",
    "include_directories(\n",
    "  ${catkin_INCLUDE_DIRS}\n",
    ")"
   ]
  },
  {
   "cell_type": "markdown",
   "metadata": {},
   "source": [
    "### 修改package.xml:"
   ]
  },
  {
   "cell_type": "markdown",
   "metadata": {},
   "source": [
    "1. 添加编译服务消息所需要的所有功能包。<br>\n",
    "该例中，你只需添加 **<i>message_generation</i>** 。<br>\n",
    "你需要把那些功能包导入为 **&lt;build_depend&gt;** 。\n",
    "<br><br>\n",
    "2. 另一方面，如果运行功能包中的程序需要一个功能包，你必须将那个需要的功能包导入为 **&lt;run_depend&gt;**。"
   ]
  },
  {
   "cell_type": "markdown",
   "metadata": {},
   "source": [
    "该例中，你只需在 **package.xml** 文件中添加如下的两行："
   ]
  },
  {
   "cell_type": "code",
   "execution_count": null,
   "metadata": {
    "collapsed": true,
    "raw_mimetype": "text/html"
   },
   "outputs": [],
   "source": [
    "<build_depend>message_generation</build_depend>\n",
    "<run_depend>message_runtime</run_depend>"
   ]
  },
  {
   "cell_type": "markdown",
   "metadata": {},
   "source": [
    "最后的**package.xml** 文件看起来这样的："
   ]
  },
  {
   "cell_type": "code",
   "execution_count": null,
   "metadata": {
    "collapsed": true
   },
   "outputs": [],
   "source": [
    "<?xml version=\"1.0\"?>\n",
    "<package>\n",
    "  <name>my_custom_srv_msg_pkg</name>\n",
    "  <version>0.0.0</version>\n",
    "  <description>The my_custom_srv_msg_pkg package</description>\n",
    "\n",
    "  <maintainer email=\"user@todo.todo\">user</maintainer>\n",
    "\n",
    "  <license>TODO</license>\n",
    "\n",
    "  <buildtool_depend>catkin</buildtool_depend>\n",
    "  <build_depend>rospy</build_depend>\n",
    "  <build_depend>message_generation</build_depend>\n",
    "  <run_depend>rospy</run_depend>\n",
    "  <run_depend>message_runtime</run_depend>\n",
    "\n",
    "  <export>\n",
    "  </export>\n",
    "</package>"
   ]
  },
  {
   "cell_type": "markdown",
   "metadata": {},
   "source": [
    "修改完成后，编译你的功能包，source 新生成的消息："
   ]
  },
  {
   "cell_type": "code",
   "execution_count": null,
   "metadata": {
    "collapsed": true
   },
   "outputs": [],
   "source": [
    "roscd;cd ..\n",
    "catkin_make\n",
    "source devel/setup.bash"
   ]
  },
  {
   "cell_type": "markdown",
   "metadata": {},
   "source": [
    "<span style=\"color:red;\">\n",
    "**重要!!** 当使用catkin_make编译新的消息时，有一个额外的步骤需要进行。你必须在WebShell中切换到 **catkin_ws** 目录，并输入下面的命令 **<i>source devel/setup.bash</i>**.<br><br>\n",
    "该命令执行bash文件，设置使用<i>catkin_make</i>*创建生成的新消息。 <br>\n",
    "如果不这样做，将会出现Python导入错误，告诉我们它找不到生成的服务消息。\n",
    "</span>"
   ]
  },
  {
   "cell_type": "markdown",
   "metadata": {},
   "source": [
    "在所有的消息中，你会看到类似下面的信息：\n",
    "\n",
    "**<i>Generating Python code from SRV my_custom_srv_msg_pkg/MyCustomServiceMessage</i>**\n",
    "\n",
    "要验证你的系统中已有该服务消息并且可以被使用，输入："
   ]
  },
  {
   "cell_type": "markdown",
   "metadata": {},
   "source": [
    "<table style=\"float:left;background: #407EAF\">\n",
    "<tr>\n",
    "<th>\n",
    "<p class=\"transparent\">在WebShell #1运行</p>\n",
    "</th>\n",
    "</tr>\n",
    "</table>"
   ]
  },
  {
   "cell_type": "code",
   "execution_count": null,
   "metadata": {
    "collapsed": true
   },
   "outputs": [],
   "source": [
    "rossrv list | grep MyCustomServiceMessage"
   ]
  },
  {
   "cell_type": "markdown",
   "metadata": {},
   "source": [
    "输出如下："
   ]
  },
  {
   "cell_type": "markdown",
   "metadata": {},
   "source": [
    "<p style=\"background: #407EAF\">WebShell #1 输出</p>"
   ]
  },
  {
   "cell_type": "code",
   "execution_count": null,
   "metadata": {
    "collapsed": true
   },
   "outputs": [],
   "source": [
    "user ~ $ rossrv list | grep MyCustomServiceMessage\n",
    "my_custom_srv_msg_pkg/MyCustomServiceMessage"
   ]
  },
  {
   "cell_type": "markdown",
   "metadata": {},
   "source": [
    "这就是了！你创建了自己的服务消息。现在创建一个服务服务器来使用该消息类型。\n",
    "\n",
    "它看起来是下面这个样子的："
   ]
  },
  {
   "cell_type": "markdown",
   "metadata": {},
   "source": [
    "<p style=\"background:#3B8F10;color:white;\" id=\"prg-3-3\">**Python 程序 {3.3}: custom_service_server.py** </p><br>"
   ]
  },
  {
   "cell_type": "code",
   "execution_count": null,
   "metadata": {
    "collapsed": true
   },
   "outputs": [],
   "source": [
    "#! /usr/bin/env python\n",
    "\n",
    "import rospy\n",
    "from my_custom_srv_msg.srv import MyCustomServiceMessage, MyCustomServiceMessageResponse # you import the service message python classes \n",
    "                                                                                         # generated from MyCustomServiceMessage.srv.\n",
    "\n",
    "\n",
    "def my_callback(request):\n",
    "    \n",
    "    print \"Request Data==> radius=\"+str(request.radius)+\", repetitions = \"+str(request.repetitions)\n",
    "    my_response = MyCustomServiceMessageResponse()\n",
    "    if request.radius > 5.0:\n",
    "        my_response.success = True\n",
    "    else:\n",
    "        my_response.success = False\n",
    "    return  my_response # the service Response class, in this case MyCustomServiceMessageResponse\n",
    "\n",
    "rospy.init_node('service_client') \n",
    "my_service = rospy.Service('/my_service', MyCustomServiceMessage , my_callback) # create the Service called my_service with the defined callback\n",
    "rospy.spin() # mantain the service open."
   ]
  },
  {
   "cell_type": "markdown",
   "metadata": {},
   "source": [
    "<p style=\"background:#3B8F10;color:white;\">**结束 Python程序 {3.3}: custom_service_server.py** </p><br>"
   ]
  },
  {
   "cell_type": "markdown",
   "metadata": {},
   "source": [
    "<p style=\"background:#407EAF;color:white;\"> **例 3.8** 结束</p>"
   ]
  },
  {
   "cell_type": "markdown",
   "metadata": {},
   "source": [
    "<p style=\"background:#EE9023;color:white;\">**练习 3.3**</p>"
   ]
  },
  {
   "cell_type": "markdown",
   "metadata": {},
   "source": [
    "* 更新Python文件 **move_bb8.py**, 以便它能够使BB-8绕某个大小的正方形轨迹运动。"
   ]
  },
  {
   "cell_type": "markdown",
   "metadata": {},
   "source": [
    "* 创建一个名为 **bb8_move_custom_service_server.py** 的Python文件。在该文件中，更改 **练习 3.2** 中使用的程序代码。这个新的服务可以命名为 **/move_bb8_in_square_custom**，它使用类型为**BB8CustomServiceMessage** 的服务消息。 **BB8CustomServiceMessage** 定义如下："
   ]
  },
  {
   "cell_type": "markdown",
   "metadata": {},
   "source": [
    "<b>BB8CustomServiceMessage.srv</b> 看起来是这样的："
   ]
  },
  {
   "cell_type": "code",
   "execution_count": null,
   "metadata": {},
   "outputs": [],
   "source": [
    "float64 side       # 正方形两条边之间的距离\n",
    "int32 repetitions    # 该服务被调用时，BB-8进行正方形运动的次数\n",
    "---\n",
    "bool success         # 是否成功？"
   ]
  },
  {
   "cell_type": "markdown",
   "metadata": {},
   "source": [
    "* 使用传递给新 **/move_bb8_in_square_custom** 的数据改变BB-8运动的路径。<br>\n",
    "根据 **side** 值, 该服务移动BB-8机器人绕正方形轨迹运动。<br>\n",
    "同时，BB-8必须按照消息中**repetitions** 变量的值重复绕正方形轨迹运动的次数。<br> 最后，如果一切正常，它必须返回**True** 给变量 **success**。"
   ]
  },
  {
   "cell_type": "markdown",
   "metadata": {},
   "source": [
    "* 创建一个名为**start_bb8_move_custom_service_server.launch** 的新launch文件，启动新的**bb8_move_custom_service_server.py** 文件。"
   ]
  },
  {
   "cell_type": "markdown",
   "metadata": {},
   "source": [
    "* 验证一下，当调用新的 **/move_bb8_in_square_custom** 服务时，BB-8相应地运动。这意味着，绕正方形运动是根据**side** 和 **repetitions** 值进行的。"
   ]
  },
  {
   "cell_type": "markdown",
   "metadata": {},
   "source": [
    "* 创建一个新的服务客户端调用服务 **/move_bb8_in_square_custom**，并使BB-8在一个小的正方形内运动**两次** ，在一个大的正方形内运动**一次**。 该客户端文件可以命名为 **bb8_move_custom_service_client.py**。启动它的launch文件可以命名为 **call_bb8_move_in_square_custom_service_server.launch**。"
   ]
  },
  {
   "cell_type": "markdown",
   "metadata": {
    "caption": "BB8 Dynamic Square/Circle Movement Diagram",
    "image": true,
    "name": "bb8_exercice_extra",
    "width": "12cm"
   },
   "source": [
    "<figure>\n",
    "  <img id=\"fig-3.2\" src=\"img/basic_unit3_variable_square.png\"></img>\n",
    "   <center> <figcaption>图.3.2 - BB8 动态正方形运动</figcaption></center>\n",
    "</figure>"
   ]
  },
  {
   "cell_type": "markdown",
   "metadata": {},
   "source": [
    "<p style=\"background:#EE9023;color:white;\"> **练习 3.3**结束</p>"
   ]
  },
  {
   "cell_type": "markdown",
   "metadata": {},
   "source": [
    "<p style=\"background:green;color:white;\">练习 3.3解决方案</p>"
   ]
  },
  {
   "cell_type": "markdown",
   "metadata": {},
   "source": [
    "请尽量独自完成，除非你陷入困境或需要一些灵感。如果每一个练习你都认真对待的话，你会学到更多！"
   ]
  },
  {
   "cell_type": "markdown",
   "metadata": {},
   "source": [
    "<img src=\"img/robotignite_logo_text.png\"/>"
   ]
  },
  {
   "cell_type": "markdown",
   "metadata": {},
   "source": [
    "按照下面的链接打开解决方案笔记本: [solutions_unit3_services_part2](extra_files/solutions_unit3_services_part2.ipynb)"
   ]
  },
  {
   "cell_type": "markdown",
   "metadata": {},
   "source": [
    "<p style=\"background:green;color:white;\">练习 3.3解决方案结束</p>"
   ]
  },
  {
   "cell_type": "markdown",
   "metadata": {},
   "source": [
    "恭喜你!现在你可以向你的宇航技工机器人添加任何你需要的服务了！ "
   ]
  },
  {
   "cell_type": "markdown",
   "metadata": {},
   "source": [
    "## 更多的学习资料"
   ]
  },
  {
   "cell_type": "markdown",
   "metadata": {},
   "source": [
    "ROS 服务: http://wiki.ros.org/Services\n",
    "\n",
    "简单的服务和客户端 (Python): http://wiki.ros.org/ROS/Tutorials/WritingServiceClient%28python%29\n",
    "\n",
    "srv 文件: http://wiki.ros.org/srv"
   ]
  }
 ],
 "metadata": {
  "anaconda-cloud": {},
  "kernelspec": {
   "display_name": "Python 3",
   "language": "python",
   "name": "python3"
  },
  "language_info": {
   "codemirror_mode": {
    "name": "ipython",
    "version": 3
   },
   "file_extension": ".py",
   "mimetype": "text/x-python",
   "name": "python",
   "nbconvert_exporter": "python",
   "pygments_lexer": "ipython3",
   "version": "3.6.4"
  },
  "latex_metadata": {
   "chapter": "3 - Services in ROS",
   "chapter_title": "Unit 3. Services in ROS Part 2",
   "course_title": "ROS BASICS IN 5 DAYS"
  }
 },
 "nbformat": 4,
 "nbformat_minor": 1
}
