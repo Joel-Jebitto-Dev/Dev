{
 "cells": [
  {
   "cell_type": "markdown",
   "metadata": {},
   "source": [
    "# I'm finished, now what?"
   ]
  },
  {
   "cell_type": "markdown",
   "metadata": {},
   "source": [
    "## ROS Development Studio (ROSDS)"
   ]
  },
  {
   "cell_type": "markdown",
   "metadata": {
    "caption": "ROSDS logo",
    "image": true,
    "name": "RDS_logo",
    "width": "10cm"
   },
   "source": [
    "<img src=\"img/RDS_logo.png\" width=\"500\"/>"
   ]
  },
  {
   "cell_type": "markdown",
   "metadata": {},
   "source": [
    "**ROSDS** is the The Construct web based tool to program ROS robots online. It requires no installation in your computer. Hence, you can use any type of computer to work on it (Windows, Linux or Mac). Additionally, a **free account** has already been created for you to try it out. So... what are you waiting for? You can access ROSDS here: http://rosds.online\n",
    "\n",
    "You can use any of the many ROSjects available in order to apply all the things you've learned during the Course.\n",
    "You just need to paste the ROSject link to your browser's URL, and you will automatically have the simulation prepared in your ROSDS workspace."
   ]
  },
  {
   "cell_type": "markdown",
   "metadata": {},
   "source": [
    "Down below you can check some examples of the Public Rosjects we provide:"
   ]
  },
  {
   "cell_type": "markdown",
   "metadata": {},
   "source": [
    "### ARIAC Competition"
   ]
  },
  {
   "cell_type": "markdown",
   "metadata": {
    "caption": "",
    "image": true,
    "name": "ariac_rosject",
    "width": "6cm"
   },
   "source": [
    "<img src=\"img/ariac_rosject.jpg\" width=\"400\" style=\"float:left;\"/>"
   ]
  },
  {
   "cell_type": "markdown",
   "metadata": {
    "caption": "",
    "image": true,
    "name": "rosject",
    "width": "4cm"
   },
   "source": [
    "<img src=\"img/rosject.png\" width=\"200\" style=\"float:left;\" />"
   ]
  },
  {
   "cell_type": "markdown",
   "metadata": {},
   "source": [
    "* ROSject Link: https://bit.ly/2t2px0t"
   ]
  },
  {
   "cell_type": "markdown",
   "metadata": {},
   "source": [
    "### Cartpole Reinforcement Learning "
   ]
  },
  {
   "cell_type": "markdown",
   "metadata": {
    "caption": "",
    "image": true,
    "name": "cartpole_rosject",
    "width": "6cm"
   },
   "source": [
    "<img src=\"img/cartpole_rosject.png\" width=\"400\" style=\"float:left;\"/>"
   ]
  },
  {
   "cell_type": "markdown",
   "metadata": {
    "caption": "",
    "image": true,
    "name": "rosject",
    "width": "4cm"
   },
   "source": [
    "<img src=\"img/rosject.png\" width=\"200\" style=\"float:left;\" />"
   ]
  },
  {
   "cell_type": "markdown",
   "metadata": {},
   "source": [
    "* ROSject Link: https://bit.ly/2t2uGWr"
   ]
  },
  {
   "cell_type": "markdown",
   "metadata": {},
   "source": [
    "### RobotX Challenge"
   ]
  },
  {
   "cell_type": "markdown",
   "metadata": {
    "caption": "",
    "image": true,
    "name": "robotx_rosject",
    "width": "6cm"
   },
   "source": [
    "<img src=\"img/robotx_rosject.png\" width=\"400\" style=\"float:left;\"/>"
   ]
  },
  {
   "cell_type": "markdown",
   "metadata": {
    "caption": "",
    "image": true,
    "name": "rosject",
    "width": "4cm"
   },
   "source": [
    "<img src=\"img/rosject.png\" width=\"200\" style=\"float:left;\" />"
   ]
  },
  {
   "cell_type": "markdown",
   "metadata": {},
   "source": [
    "* ROSject Link: https://bit.ly/2Tt4lw8"
   ]
  },
  {
   "cell_type": "markdown",
   "metadata": {},
   "source": [
    "# Want to learn more?"
   ]
  },
  {
   "cell_type": "markdown",
   "metadata": {
    "caption": "Robot Ignite Logo",
    "image": true,
    "name": "robotignite_logo_text",
    "width": "10cm"
   },
   "source": [
    "<img src=\"img/robotignite_logo_text.png\" width=\"500\"/>"
   ]
  },
  {
   "cell_type": "markdown",
   "metadata": {},
   "source": [
    "Once you have finished the course, you can still learn a lot of interesting ROS subjects.\n",
    "\n",
    "* Take more advanced courses that we offer at the <a href=\"http://www.robotigniteacademy.com/\"> Robot Ignite Academy</a>, like  Perception or Navigation. Access the Academy here: http://www.robotigniteacademy.com\n",
    "\n",
    "* Or, you can go to the <a href=\"http://wiki.ros.org/\">ROS Wiki</a> and check the official documentation of ROS, now with new eyes."
   ]
  },
  {
   "cell_type": "markdown",
   "metadata": {
    "collapsed": true
   },
   "source": [
    "# Thank You and hope to see you soon! "
   ]
  }
 ],
 "metadata": {
  "anaconda-cloud": {},
  "kernelspec": {
   "display_name": "Python [Root]",
   "language": "python",
   "name": "Python [Root]"
  },
  "language_info": {
   "codemirror_mode": {
    "name": "ipython",
    "version": 2
   },
   "file_extension": ".py",
   "mimetype": "text/x-python",
   "name": "python",
   "nbconvert_exporter": "python",
   "pygments_lexer": "ipython2",
   "version": "2.7.12"
  },
  "latex_metadata": {
   "chapter": "Final Recommendations",
   "chapter_title": "Final Recommendations",
   "course_title": "ROS BASICS IN 5 DAYS"
  }
 },
 "nbformat": 4,
 "nbformat_minor": 1
}
