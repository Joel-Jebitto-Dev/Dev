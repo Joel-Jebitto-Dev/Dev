{
 "cells": [
  {
   "cell_type": "markdown",
   "metadata": {},
   "source": [
    "# <font class='ign_color'>5天学ROS </font>"
   ]
  },
  {
   "cell_type": "markdown",
   "metadata": {},
   "source": [
    "## 5天学ROS 引言"
   ]
  },
  {
   "cell_type": "markdown",
   "metadata": {
    "caption": "RViz Robot Model plus TF",
    "image": true,
    "name": "robotmodel",
    "width": "10cm"
   },
   "source": [
    "<img src=\"img/robotmodel.gif\" />"
   ]
  },
  {
   "cell_type": "markdown",
   "metadata": {},
   "source": [
    "## 5天学ROS，我不相信！"
   ]
  },
  {
   "cell_type": "markdown",
   "metadata": {},
   "source": [
    "你可能听说过ROS，还可能听说过学习它需要花很长时间。你可能在想，5天学ROS是不可能的...\n",
    "我想说的是，没有什么是不可能的！"
   ]
  },
  {
   "cell_type": "markdown",
   "metadata": {},
   "source": [
    "<center><b><h2>如果方法正确，快速掌握ROS是可能的！</h2></b></center>"
   ]
  },
  {
   "cell_type": "markdown",
   "metadata": {
    "caption": "Learn ROS fast if you have the proper method",
    "image": true,
    "name": "200",
    "width": "10cm"
   },
   "source": [
    "<img src=\"img/200.gif\" />"
   ]
  },
  {
   "cell_type": "markdown",
   "metadata": {},
   "source": [
    "### 为什么可以?\n",
    "\n",
    "我们创建了一套学习方法，根据该方法你可以在最短的时间内掌握ROS的大部分内容。我们的方法包括4部分：\n",
    "\n",
    "1. **解构**: 我们精选出的学习内容是ROS中最重要的部分，掌握这些内容后你可以读懂80%的ROS程序。你将集中精力深入地学习这些内容。\n",
    "   \n",
    "2. **精简**: 我们删除了很多不必要并且会影响你学习的内容。\n",
    "   \n",
    "3. **学习**: 我们指导你你一步一步地学习那些重要的部分，每次都从一个能做事情的机器人开始。\n",
    "   \n",
    "4. **实践**: 在学习过程中，每一单元都有相应的实践。"
   ]
  },
  {
   "cell_type": "markdown",
   "metadata": {},
   "source": [
    "* 想了解更多关于这种方法的内容吗？请阅读这本书： <a target=\"_blank\" href=\"https://www.amazon.com/gp/product/1591846943/ref=as_li_tl?ie=UTF8&camp=1789&creative=9325&creativeASIN=1591846943&linkCode=as2&tag=theconsim-20&linkId=88feac086be2a46c28909cb9909a6860\">The First 20 Hours: How to Learn Anything . . . Fast!</a><img src=\"//ir-na.amazon-adsystem.com/e/ir?t=theconsim-20&l=am2&o=1&a=1591846943\" width=\"1\" height=\"1\" border=\"0\" alt=\"\" style=\"border:none !important; margin:0px !important;\" />\n",
    "\n",
    "* 想了解该方法的科学证据吗？请阅读这篇论文： <a href=\"https://pdfs.semanticscholar.org/6ce5/af5973ecec36eb9c699e7cae739743c8b4b5.pdf\">Cognitive Skill Acquisition</a>.\n"
   ]
  },
  {
   "cell_type": "markdown",
   "metadata": {},
   "source": [
    "### 该课程中你将使用哪个机器人？\n",
    "\n",
    "在该课程中，你将对几种不同类型的机器人进行编程。因此，你将反复用到相同的概念，不同之处在于机器人的配置和风格。对不同的机器人使用相同的概念，将使这些概念融入你的大脑。"
   ]
  },
  {
   "cell_type": "markdown",
   "metadata": {},
   "source": [
    "该课程中将用到下面的机器人："
   ]
  },
  {
   "cell_type": "markdown",
   "metadata": {
    "caption": "",
    "image": true,
    "name": "drone",
    "width": "7cm"
   },
   "source": [
    "<img src=\"img/drone.jpg\" width=\"212\" height=\"236\" />"
   ]
  },
  {
   "cell_type": "raw",
   "metadata": {},
   "source": [
    "<center><h2>**Parrot 无人机**</h2></center>"
   ]
  },
  {
   "cell_type": "markdown",
   "metadata": {
    "caption": "",
    "image": true,
    "name": "kobuki",
    "width": "7cm"
   },
   "source": [
    "<img src=\"img/kobuki.jpg\" width=\"212\" height=\"236\"/>"
   ]
  },
  {
   "cell_type": "markdown",
   "metadata": {},
   "source": [
    "<center><h2>**Kobuki**</h2></center>"
   ]
  },
  {
   "cell_type": "markdown",
   "metadata": {
    "caption": "",
    "image": true,
    "name": "husky",
    "width": "7cm"
   },
   "source": [
    "<img src=\"img/husky.png\" width=\"212\" height=\"236\" />"
   ]
  },
  {
   "cell_type": "markdown",
   "metadata": {},
   "source": [
    "<center><h2>**Husky**</h2></center>"
   ]
  },
  {
   "cell_type": "markdown",
   "metadata": {
    "caption": "",
    "image": true,
    "name": "sphero",
    "width": "7cm"
   },
   "source": [
    "<img src=\"img/sphero.png\" width=\"212\" height=\"236\"/>"
   ]
  },
  {
   "cell_type": "markdown",
   "metadata": {},
   "source": [
    "<center><h2>**Sphero**</h2></center>"
   ]
  },
  {
   "cell_type": "markdown",
   "metadata": {
    "caption": "",
    "image": true,
    "name": "bb8",
    "width": "7cm"
   },
   "source": [
    "<img src=\"img/bb8.jpg\" width=\"212\" height=\"236\"/>"
   ]
  },
  {
   "cell_type": "markdown",
   "metadata": {},
   "source": [
    "<center><h2>**BB-8**</h2></center>"
   ]
  },
  {
   "cell_type": "markdown",
   "metadata": {
    "caption": "",
    "image": true,
    "name": "iri_wam",
    "width": "7cm"
   },
   "source": [
    "<img src=\"img/iri_wam.jpg\" width=\"212\" height=\"236\"/>"
   ]
  },
  {
   "cell_type": "markdown",
   "metadata": {},
   "source": [
    "<center><h2>**Wam Arm**</h2></center>"
   ]
  },
  {
   "cell_type": "markdown",
   "metadata": {},
   "source": [
    "## 该课程的主要目的："
   ]
  },
  {
   "cell_type": "markdown",
   "metadata": {},
   "source": [
    "1. 该课程的目的是为你提供理解和创建任何基本的与ROS相关的项目所需要的工具和知识。你将学会 **移动机器人, 读取机器人传感器数据，使机器人执行智能任务，查看复杂数据（如点云、程序中的调试错误等）的可视化表示。** \n",
    "\n",
    "2. 该课程将使你 **理解其他人创建的功能包**。因此，你可以使用别人编写的ROS代码并理解它们是如何工作的，如何根据自己的需要对这些代码进行修改。\n",
    "\n",
    "3. 该课程是你理解更复杂ROS功能包（如对象识别、文本语音转换、导航等）的前提和基础。"
   ]
  },
  {
   "cell_type": "markdown",
   "metadata": {},
   "source": [
    "## 学习ROS：两种方式"
   ]
  },
  {
   "cell_type": "markdown",
   "metadata": {},
   "source": [
    "该课程用<span class=\"ign_red\">两种不同方式</span>提供教学：<br>\n",
    "    \n",
    "1.  <span class=\"ign_green\"><b>学习用ROS对不同的机器人进行编程</b></span>: 这部分包括那些每一单元教你一个ROS主题的单元。从这里你可以学习到使用不同的机器人（如上所示）创建和运行ROS代码。<span class=\"ign_blue\">亲身体验理论</span>。\n",
    "2. <span class=\"ign_green\"><b>综合运用所学知识开发一个机器人项目</b></span>: 这里你将运用前面单元所学的开发一个 <span class=\"ign_blue\">控制Sphero机器人的完整项目</span>。目的是使Sphero机器人利用IMU和测距仪数据走出迷宫。"
   ]
  },
  {
   "cell_type": "markdown",
   "metadata": {
    "caption": "Sphero in the Maze",
    "image": true,
    "name": "sphero_maze",
    "width": "12cm"
   },
   "source": [
    "<img src=\"img/sphero_maze.png\" />"
   ]
  },
  {
   "cell_type": "markdown",
   "metadata": {},
   "source": [
    "### 学习用ROS对不同的机器人进行编程："
   ]
  },
  {
   "cell_type": "markdown",
   "metadata": {},
   "source": [
    "我们将教你主要的ROS概念，这些概念组成了ROS的核心。这些是你必须要掌握的最重要的概念。一旦你掌握了它们，后面的学习就变得简单很多。\n",
    "\n",
    "该课程包括以下单元:\n",
    "\n",
    "* Unit 1:  **ROS 基本结构** 是如何工作的？\n",
    "* Units 2 and 3: 什么是 **ROS 主题** ，如何使用它们？\n",
    "* Units 4 and 5: 什么是 **ROS 服务** ，如何使用它们？\n",
    "* Units 7 and 8: 什么是 **ROS 行为** ，如何使用它们？\n",
    "* Unit 9: 如何使用 **ROS 调试工具** （主要是Rviz）查找程序中的错误？\n"
   ]
  },
  {
   "cell_type": "markdown",
   "metadata": {},
   "source": [
    "每一单元大约需要 <span class=\"ign_green\"> 4-5 小时</span> 完成。 我们使用Python语言对机器人编程。"
   ]
  },
  {
   "cell_type": "markdown",
   "metadata": {},
   "source": [
    "### 综合运用所学知识开发一个机器人项目："
   ]
  },
  {
   "cell_type": "markdown",
   "metadata": {},
   "source": [
    "当你掌握了ROS的基本概念后，你需要综合运用它们开发一个完整的机器人项目。\n",
    "我们建议你把课程的学习与项目的进展结合起来。这也是为什么我们把项目分成了4个阶段的原因：<br>\n",
    "\n",
    "* 阶段 1: 创建一个主题发布器和订阅器来移动sphero机器人，读取其IMU和测距仪数据。\n",
    "* 阶段 2: 创建一个服务，被调用时，读取IMU数据，告诉你朝哪个方向走。\n",
    "* 阶段 3: 创建一个行为，被调用时，记录测距仪的数据，告诉你Sphero移动了多少距离。\n",
    "* 阶段 4: 创建一个全局程序，使用你创建的服务和行为读/写主题，使机器人走出迷宫。\n"
   ]
  },
  {
   "cell_type": "markdown",
   "metadata": {},
   "source": [
    "### <span id=\"how_to_proceed\" >如何学习整个课程?</span>"
   ]
  },
  {
   "cell_type": "markdown",
   "metadata": {},
   "source": [
    "该课程被设计为可以在5天完成，每天需要6个小时。\n",
    "\n",
    "然而，<b>你无需一定要在5天内学完该课程！</b> 你想用多少天学完都可以，因为 <b>这是一个自定进度的课程</b>，在使用时你不会受到时间限制。\n",
    "\n",
    "如果你决定采取我们的5天学习方案，我们推荐你按照下面的顺序进行：<br>"
   ]
  },
  {
   "cell_type": "markdown",
   "metadata": {},
   "source": [
    "* **第1天**\n",
    "\n",
    "  * Unit 1: ROS 基本结构, <span style=\"color:blue;\">Time: 1'5h</span>\n",
    "  * <span style=\"color:green;\">开始</span> Unit 2: ROS 主题,<span style=\"color:blue;\">Time: 2'5h</span>\n",
    "  * 项目阶段1, <span style=\"color:blue;\">Time: 2h</span>\n",
    "\n",
    "\n",
    "* **第2天**\n",
    "\n",
    "  * <span style=\"color:red;\">完成 </span>Unit 2: ROS 主题, <span style=\"color:blue;\">Time: 2'5h</span>\n",
    "  * Unit 5: ROS 调试工具, <span style=\"color:blue;\">Time: 1'5h</span>\n",
    "  * 完成项目阶段 1, <span style=\"color:blue;\">Time: 2h</span>\n",
    "\n",
    "\n",
    "* **第3天**\n",
    "\n",
    "  * <span style=\"color:green;\"开始 </span>Unit 3: ROS 服务, <span style=\"color:blue;\">Time: 4h</span>\n",
    "  * 完成项目阶段 2, <span style=\"color:blue;\">Time: 2h</span>\n",
    "\n",
    "\n",
    "* **第4天**\n",
    "\n",
    "  * <span style=\"color:red;\">完成 </span>Unit 3: ROS 服务, <span style=\"color:blue;\">Time: 1'5h</span>\n",
    "  * <span style=\"color:green;\">开始 </span>Unit 4: ROS 行为, <span style=\"color:blue;\">Time: 2'5h</span>\n",
    "  * 完成项目阶段 3, <span style=\"color:blue;\">Time: 2h</span>\n",
    "\n",
    "\n",
    "* **第5天**\n",
    "\n",
    "  * <span style=\"color:red;\">完成 </span>Unit 4: ROS 行为, <span style=\"color:blue;\">Time: 3h</span>\n",
    "  * 完成项目阶段 4, <span style=\"color:blue;\">Time: 3h</span>\n",
    "\n",
    "\n",
    "必须要考虑的最重要的事情是：<br><p style=\"color:red;\" align=\"center\">**不要跳过练习。**</p>\n",
    "\n",
    "练习是该教学方法的核心 (切记, 实践, 实践, 再实践)。如果跳过它们，你将错过所有。\n"
   ]
  },
  {
   "cell_type": "markdown",
   "metadata": {},
   "source": [
    "### 其他选择"
   ]
  },
  {
   "cell_type": "markdown",
   "metadata": {},
   "source": [
    "如果你对我们这种简单、快速学习ROS的方法感到兴奋，但是你又想按照自己的步骤学习...不用担心！我们为你提供有其他选择。\n",
    "<br><br>\n",
    "我们提供 <b>该课程的配套教材</b>, 因此你仍可以按照自己喜欢的方式学习该课程。 你可以通过下面的链接订阅这本书 <a href=\"http://www.theconstructsim.com/ros-in-5-days-book-page\"></a>。"
   ]
  },
  {
   "cell_type": "markdown",
   "metadata": {
    "caption": "ROS in 5 Days Book",
    "image": true,
    "name": "ros_book",
    "width": "8cm"
   },
   "source": [
    "<img src=\"img/ros_book.png\" width=\"300\"/>"
   ]
  },
  {
   "cell_type": "markdown",
   "metadata": {},
   "source": [
    "# 课程学完后，下一步学什么？"
   ]
  },
  {
   "cell_type": "markdown",
   "metadata": {},
   "source": [
    "学完该课程后，你仍可以继续学习ROS的其他有趣的内容。\n",
    "\n",
    "* 参加我们提供的更高级课程 <a href=\"http://www.robotigniteacademy.com/\">Ignite Academy</a>, 比如导航、感知和操作。\n",
    "* 你可以在免费的仿真环境 <a href=\"http://www.theconstructsim.com/the-construct-new-homepage/\">The Construct</a> 中运用你所学到的一切，为基于ROS的机器人创建你自己的程序。\n",
    "* 你可以从 <a href=\"http://www.theconstructsim.com/shop-landing-page-default/\">Robository</a>下载仿真机器人模型，在一个本地安装的ROS中进行实践。\n",
    "* 或者，你可以访问 <a href=\"http://wiki.ros.org/\">ROS Wiki</a> ，查看ROS的官方文档。"
   ]
  }
 ],
 "metadata": {
  "anaconda-cloud": {},
  "kernelspec": {
   "display_name": "Python 3",
   "language": "python",
   "name": "python3"
  },
  "language_info": {
   "codemirror_mode": {
    "name": "ipython",
    "version": 3
   },
   "file_extension": ".py",
   "mimetype": "text/x-python",
   "name": "python",
   "nbconvert_exporter": "python",
   "pygments_lexer": "ipython3",
   "version": "3.6.4"
  },
  "latex_metadata": {
   "chapter": "0 - A guide for ROS in 5 days",
   "chapter_title": "Chapter 0. A guide for ROS in 5 days",
   "course_title": "ROS BASICS IN 5 DAYS"
  }
 },
 "nbformat": 4,
 "nbformat_minor": 1
}
